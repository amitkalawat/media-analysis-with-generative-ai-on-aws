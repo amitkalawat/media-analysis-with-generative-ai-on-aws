{
 "cells": [
  {
   "cell_type": "markdown",
   "id": "6416fcdf-75c5-49fc-a9ec-adb8018df284",
   "metadata": {
    "editable": true,
    "slideshow": {
     "slide_type": ""
    },
    "tags": []
   },
   "source": [
    "# Audio segments using speech to text"
   ]
  },
  {
   "cell_type": "markdown",
   "id": "fe197858",
   "metadata": {
    "editable": true,
    "slideshow": {
     "slide_type": ""
    },
    "tags": []
   },
   "source": [
    "\n",
    "The audio part of a video provides numerous clues about the structure and narrative of a video. Audio contains:\n",
    "\n",
    "\n",
    "\n",
    "* Speech, which can be further broken down into different language segments such as words, punctuation, sentences or subtitles\n",
    "* Sounds such as crowd noise at a sporting event, foley effects or background music\n",
    "* Sound levels including silences\n",
    "\n",
    "Figure 1, below, shows a clip of Meridian with the audio waveform that corresponds the sound levels at different points in time in the video.\n",
    "\n",
    "![Video with audio waveform](./static/images/01-meridian-audio-wide.png)\n",
    "**Figure 1. Video with audio waveform**\n",
    "\n"
   ]
  },
  {
   "cell_type": "markdown",
   "id": "c2545f85-1a23-4923-8577-f471f0293ce2",
   "metadata": {
    "editable": true,
    "slideshow": {
     "slide_type": ""
    },
    "tags": []
   },
   "source": [
    "\n",
    "In this notebook, you'll continue to explore techniques to decompose a video into segments using audio, focusing on the speech in the video. Specifically, you'll:\n",
    "\n",
    "* Use Amazon Transcribe to extract the audio transcript and identify words, sentences, subtitles, and speech segments.\n",
    "* Use a Foundation Model to identify segments of video that contain different conversation topics.\n",
    "* Combine conversation topics with visual scenes to identify chapters in the video.\n",
    "\n",
    "The outputs of this notebook will be used in the use case sections later on in this workshop.  For example, Ad Break Detection and Contextual Ad Placement, Video Summarization, and more.\n"
   ]
  },
  {
   "cell_type": "markdown",
   "id": "c0182508-2fb3-4ad5-a154-02d94b92b493",
   "metadata": {
    "editable": true,
    "slideshow": {
     "slide_type": ""
    },
    "tags": []
   },
   "source": [
    "### Key terms and definitions\n",
    "\n",
    "You can refer back to this section if you want the definition the terms used in the notebook.\n",
    "\n",
    "- **Transcript** - continuous sequence of words and punctuation representing the speech content of the audio track in a video.\n",
    "- **Subtitle** - a segment of text representing the speech in a video that is meant to be displayed for viewers as they watch the video.\n",
    "- **Speech Segement** - speech segements are an output of Amazon Transcribe that  \n",
    "- **Conversation topic (aka topic)** - A summarization of a group of sentences that contain discussion about a similar topic.\n",
    "- **WebVTT** - a file format used to store timed text track data, such as subtitles or captions, for video content on the web."
   ]
  },
  {
   "cell_type": "markdown",
   "id": "54483bf9-04f4-44c6-92b9-9bf2d7047882",
   "metadata": {
    "editable": true,
    "jp-MarkdownHeadingCollapsed": true,
    "slideshow": {
     "slide_type": ""
    },
    "tags": []
   },
   "source": [
    "### Workflow\n",
    "\n",
    "The purpose of this lab is to give hands-on practice working with the audio elements of video using speech to text and to practice prompt engineering with timed text derived from audio.  You will execute AWS service APIs from SageMaker Studio.  The workflow takes a video as input and produces a transcript, sentence segments, WebVTT format subtitles, and conversation topics outputs.\n",
    "\n",
    "![Audio Workflow](./static/images/01-audio-workflow.png)\n",
    "\n",
    "<div class=\"alert alert-block alert-info\">\n",
    "💡 Click on the list icon in the left navigation panel in this Jupyter notebook to see the outline of the notebook and where you currently are.\n",
    "</div>"
   ]
  },
  {
   "cell_type": "markdown",
   "id": "b6ed3f92-e7fd-4e2f-a8df-8646718e00ee",
   "metadata": {
    "editable": true,
    "slideshow": {
     "slide_type": ""
    },
    "tags": []
   },
   "source": [
    "## Prerequisites"
   ]
  },
  {
   "cell_type": "markdown",
   "id": "1488c3b7-2901-497e-8a1e-10d768f31943",
   "metadata": {
    "editable": true,
    "slideshow": {
     "slide_type": ""
    },
    "tags": []
   },
   "source": [
    "### Import python packages"
   ]
  },
  {
   "cell_type": "code",
   "execution_count": 6,
   "id": "a453ab94-9b8a-42fe-a0e5-2b2e742d71fb",
   "metadata": {
    "editable": true,
    "slideshow": {
     "slide_type": ""
    },
    "tags": []
   },
   "outputs": [],
   "source": [
    "from pathlib import Path\n",
    "import os\n",
    "import json\n",
    "import boto3\n",
    "import json_repair\n",
    "from termcolor import colored\n",
    "from IPython.display import JSON\n",
    "from IPython.display import Video\n",
    "from IPython.display import Pretty\n",
    "from IPython.display import Image as DisplayImage\n",
    "from lib.frames import VideoFrames\n",
    "from lib.shots import Shots\n",
    "from lib.scenes import Scenes\n",
    "from lib.transcript import Transcript\n",
    "from lib import util\n",
    "import requests\n",
    "from pathlib import Path\n",
    "from tqdm import tqdm\n",
    "from typing import Tuple\n",
    "import time"
   ]
  },
  {
   "cell_type": "markdown",
   "id": "3022f442-6ef9-4621-8c15-09eab7d82398",
   "metadata": {
    "editable": true,
    "slideshow": {
     "slide_type": ""
    },
    "tags": []
   },
   "source": [
    "### Retrieve saved values from previous notebooks\n",
    "\n",
    "To run this notebook, you need to have run the previous notebook: [01A-visual-segments-frames-shots-scenes.ipynb](01A-visual-segments-frames-shots-scenes.ipynb)."
   ]
  },
  {
   "cell_type": "code",
   "execution_count": 7,
   "id": "501ad005-d406-404e-9d6a-ef4d673980d6",
   "metadata": {
    "editable": true,
    "slideshow": {
     "slide_type": ""
    },
    "tags": []
   },
   "outputs": [],
   "source": [
    "# Get variables from the previous notebook\n",
    "%store -r"
   ]
  },
  {
   "cell_type": "code",
   "execution_count": 8,
   "id": "aa577b6f-b260-42a1-be85-ed71b9cc91f3",
   "metadata": {
    "editable": true,
    "slideshow": {
     "slide_type": ""
    },
    "tags": []
   },
   "outputs": [
    {
     "name": "stdout",
     "output_type": "stream",
     "text": [
      "Stored variables and their in-db values:\n",
      "sagemaker_resources             -> {'bucket': 'sagemaker-us-west-2-376678947624', 'ro\n",
      "session                         -> {'bucket': 'sagemaker-us-west-2-376678947624', 'Me\n",
      "video                           -> {'path': 'Netflix_Open_Content_Meridian.mp4', 'url\n"
     ]
    }
   ],
   "source": [
    "%store"
   ]
  },
  {
   "cell_type": "markdown",
   "id": "d1b31731-37cd-44ac-bedf-901103b280a7",
   "metadata": {
    "editable": true,
    "slideshow": {
     "slide_type": ""
    },
    "tags": []
   },
   "source": [
    "# Generate a transcript, audio segments and WebVTT subtitles using Amazon Transcribe\n"
   ]
  },
  {
   "cell_type": "markdown",
   "id": "7c2244ca-bc6c-4af3-bb69-3dd4f78fbfcd",
   "metadata": {
    "editable": true,
    "slideshow": {
     "slide_type": ""
    },
    "tags": []
   },
   "source": [
    "## Transcript library\n",
    "\n",
    "<div class=\"alert alert-block alert-info\">\n",
    "<b>Note</b>: The code for Transcript library is located in the <b>lib</b> folder of this project if you want to dive deeper, but the objective of this exercise is to understand the concept of a transcript.    \n",
    "</div>\n",
    "\n",
    "Click the link to open [lib/transcript.py](lib/transcript.py)"
   ]
  },
  {
   "cell_type": "markdown",
   "id": "05138c47-4707-44ac-88ee-8cc98e5a8e7d",
   "metadata": {
    "editable": true,
    "slideshow": {
     "slide_type": ""
    },
    "tags": []
   },
   "source": [
    "## Generate the transcript and other derived outputs"
   ]
  },
  {
   "cell_type": "code",
   "execution_count": 9,
   "id": "b7f75f1b-2ce4-4b9c-a870-b5bfd56ce4ff",
   "metadata": {
    "editable": true,
    "slideshow": {
     "slide_type": ""
    },
    "tags": []
   },
   "outputs": [
    {
     "name": "stdout",
     "output_type": "stream",
     "text": [
      "wait_for_transcription_job: status = IN_PROGRESS\n",
      "wait_for_transcription_job: status = IN_PROGRESS\n",
      "wait_for_transcription_job: status = IN_PROGRESS\n",
      "wait_for_transcription_job: status = IN_PROGRESS\n",
      "wait_for_transcription_job: status = IN_PROGRESS\n",
      "wait_for_transcription_job: status = IN_PROGRESS\n",
      "wait_for_transcription_job: status = COMPLETED\n"
     ]
    }
   ],
   "source": [
    "video['transcript'] = Transcript(video[\"path\"], session['bucket'])"
   ]
  },
  {
   "cell_type": "markdown",
   "id": "4f0353ce-7f0d-43a1-9681-de6f10c34a99",
   "metadata": {
    "editable": true,
    "slideshow": {
     "slide_type": ""
    },
    "tags": []
   },
   "source": [
    "## Examine the results from Amazon Transcribe\n",
    "The response from Amazon Transcribe contains a results dictionary with a transcript that contains a text-only transcript and a collection of items which contain each word and punctuation in the transcript along with a confidence score and timestamp for the item. The response also contains the same transcript formatted as subtitles in either WebVTT or SRT format. Let's take a look at these outputs.\n"
   ]
  },
  {
   "cell_type": "markdown",
   "id": "dcbc0b01-a3e4-46a3-8385-d29d0672f1ca",
   "metadata": {
    "editable": true,
    "slideshow": {
     "slide_type": ""
    },
    "tags": []
   },
   "source": [
    "##### Transcript JSON output\n",
    "\n",
    "The transcript `results` attribute contains several interesting and useful outputs:\n",
    "* **transcripts** - are a list of alternative text only transcripts for the video.  Our results is only configured to generate 1 alternative, but you can configure Amazon Transcribe to produce more, if needed.  Alternatives are just different semantic interpretations of the speech in the video.\n",
    "* **items** - items is a time series of `pronunciations` (aka words) and `punctuation` that Amazon Transcribe inferred from the speech in the video.  Because this is AI inference, there is a _confidence score_ for each item. In Amazon Transcribe, confidence scores represent how confident the service is in the accuracy of each transcribed word.  Finally, there is a start and end time for each item, which can use to align timing of the items with other timestamped elements of the video.\n",
    "* **audio_segments** - audio segments contains a list of distinct speech segments detected by Amazon Transcribe.  Segment boundaries are determined by:\n",
    "    * Natural speech pauses\n",
    "    * Speaker changes\n",
    "    * Maximum segment duration limits\n",
    "    * Punctuation\n",
    "\n",
    "<div class=\"alert alert-block alert-info\">\n",
    "    ❓ <b>Ask Amazon Q Developer</b>: What are the attributes of items returned from Amazon Transcribe?\n",
    "<br></br>\n",
    "    ❓ <b>Ask Amazon Q Developer</b>: What are confidence scores in Amazon Transcribe?\n",
    "</div>\n",
    "\n",
    "Take a moment to examine each of these attributes from the `results` in the sample video below."
   ]
  },
  {
   "cell_type": "code",
   "execution_count": 10,
   "id": "2a331b9e-cc86-4ed8-a8de-bf03829b73dc",
   "metadata": {
    "editable": true,
    "slideshow": {
     "slide_type": ""
    },
    "tags": []
   },
   "outputs": [
    {
     "data": {
      "application/json": {
       "accountId": "376678947624",
       "jobName": "Netflix_Open_Content_Meridian-d5616861",
       "results": {
        "audio_segments": [
         {
          "end_time": "29.59",
          "id": 0,
          "items": [
           0,
           1,
           2,
           3,
           4,
           5
          ],
          "start_time": "26.85",
          "transcript": "So these guys just disappeared."
         },
         {
          "end_time": "34.27",
          "id": 1,
          "items": [
           6,
           7,
           8,
           9,
           10,
           11,
           12,
           13,
           14,
           15,
           16,
           17
          ],
          "start_time": "30.93",
          "transcript": "Yeah, on that stretch of road right above El Matador."
         },
         {
          "end_time": "35.959",
          "id": 2,
          "items": [
           18,
           19,
           20,
           21
          ],
          "start_time": "35.099",
          "transcript": "You know it."
         },
         {
          "end_time": "39.029",
          "id": 3,
          "items": [
           22,
           23,
           24,
           25,
           26,
           27,
           28,
           29,
           30,
           31
          ],
          "start_time": "36.49",
          "transcript": "With the big rock, that's right, yeah."
         },
         {
          "end_time": "54.61",
          "id": 4,
          "items": [
           32,
           33,
           34,
           35,
           36,
           37,
           38,
           39,
           40,
           41,
           42,
           43,
           44,
           45,
           46,
           47,
           48,
           49,
           50,
           51,
           52,
           53,
           54,
           55,
           56,
           57,
           58,
           59,
           60,
           61,
           62,
           63,
           64,
           65,
           66,
           67,
           68,
           69,
           70,
           71,
           72,
           73,
           74,
           75,
           76,
           77,
           78,
           79,
           80,
           81,
           82,
           83,
           84
          ],
          "start_time": "40.229",
          "transcript": "You know, Mickey Cohen used to take his associates out there, get him a bond voyage. Mob heads? No, not this time. One of these guys was a school teacher. Next guy, he sold insurance, and the last guy, he was retired."
         },
         {
          "end_time": "56.409",
          "id": 5,
          "items": [
           85,
           86,
           87
          ],
          "start_time": "55.61",
          "transcript": "Any connection?"
         },
         {
          "end_time": "57.689",
          "id": 6,
          "items": [
           88,
           89
          ],
          "start_time": "56.979",
          "transcript": "Mm."
         },
         {
          "end_time": "60.0",
          "id": 7,
          "items": [
           90,
           91,
           92,
           93,
           94,
           95,
           96,
           97,
           98
          ],
          "start_time": "58.59",
          "transcript": "I mean, I checked them all out."
         },
         {
          "end_time": "67.879",
          "id": 8,
          "items": [
           99,
           100,
           101,
           102,
           103,
           104,
           105,
           106,
           107,
           108,
           109,
           110,
           111,
           112,
           113,
           114,
           115,
           116,
           117,
           118,
           119,
           120,
           121,
           122,
           123,
           124
          ],
          "start_time": "60.52",
          "transcript": "There's no criminal records, no association in any criminal organizations. One of the guys was arrested for drunk driving a long time ago."
         },
         {
          "end_time": "71.91",
          "id": 9,
          "items": [
           125,
           126,
           127,
           128,
           129
          ],
          "start_time": "69.62",
          "transcript": "They were all divorced."
         },
         {
          "end_time": "87.139",
          "id": 10,
          "items": [
           130,
           131,
           132,
           133,
           134,
           135,
           136,
           137,
           138,
           139,
           140,
           141,
           142,
           143,
           144,
           145,
           146,
           147,
           148,
           149,
           150,
           151,
           152,
           153,
           154,
           155,
           156,
           157,
           158,
           159,
           160,
           161,
           162,
           163,
           164,
           165,
           166,
           167,
           168,
           169,
           170,
           171,
           172,
           173,
           174,
           175,
           176,
           177,
           178,
           179,
           180,
           181,
           182,
           183,
           184,
           185,
           186,
           187,
           188,
           189,
           190,
           191,
           192,
           193,
           194,
           195,
           196,
           197,
           198,
           199,
           200
          ],
          "start_time": "72.769",
          "transcript": "Well, in that case, maybe you don't want to go out there, boss. What are you, a comedian? If that's the case, you sure don't want to go out there. Yeah, look, I know what happened, all right? They go out to the rock, they take that long, cold, slow swim to China. Suicide."
         },
         {
          "end_time": "95.059",
          "id": 11,
          "items": [
           201,
           202,
           203,
           204,
           205,
           206,
           207,
           208,
           209,
           210,
           211,
           212,
           213,
           214,
           215,
           216,
           217,
           218,
           219,
           220,
           221,
           222,
           223,
           224,
           225,
           226,
           227,
           228,
           229,
           230
          ],
          "start_time": "87.73",
          "transcript": "It's been known to happen out there. Uh, not this time. What do you mean? Well, for one thing, there's no bodies, and"
         },
         {
          "end_time": "99.94",
          "id": 12,
          "items": [
           231,
           232,
           233,
           234,
           235,
           236,
           237,
           238,
           239,
           240,
           241
          ],
          "start_time": "96.43",
          "transcript": "Somebody was out there the day the last guy disappeared."
         },
         {
          "end_time": "108.22",
          "id": 13,
          "items": [
           242,
           243,
           244,
           245,
           246,
           247,
           248,
           249,
           250,
           251,
           252,
           253,
           254,
           255,
           256,
           257,
           258,
           259,
           260,
           261,
           262,
           263,
           264,
           265,
           266,
           267,
           268,
           269,
           270,
           271
          ],
          "start_time": "100.48",
          "transcript": "A witness, yeah, a witness. Why didn't you say that in the first place? Because I thought the guy was nuts, what he said."
         },
         {
          "end_time": "110.19",
          "id": 14,
          "items": [
           272,
           273,
           274,
           275,
           276,
           277
          ],
          "start_time": "109.239",
          "transcript": "But now you believe him."
         },
         {
          "end_time": "118.98",
          "id": 15,
          "items": [
           278,
           279,
           280,
           281,
           282,
           283,
           284,
           285,
           286,
           287,
           288,
           289,
           290,
           291,
           292,
           293,
           294,
           295,
           296,
           297,
           298,
           299,
           300,
           301,
           302,
           303,
           304,
           305,
           306,
           307,
           308,
           309,
           310,
           311
          ],
          "start_time": "111.349",
          "transcript": "I had him checked out too. The guy's a goddamn Eagle Scout. So now, now I don't know what to believe. I know I don't want to believe him."
         },
         {
          "end_time": "124.559",
          "id": 16,
          "items": [
           312,
           313,
           314,
           315,
           316,
           317,
           318,
           319,
           320,
           321,
           322,
           323,
           324,
           325,
           326,
           327,
           328,
           329,
           330,
           331,
           332,
           333,
           334
          ],
          "start_time": "119.8",
          "transcript": "What did he say? He said he was out there walking his dog along the bluffs above El Matador, right?"
         },
         {
          "end_time": "152.509",
          "id": 17,
          "items": [
           335,
           336,
           337,
           338,
           339,
           340,
           341,
           342,
           343,
           344,
           345,
           346,
           347,
           348,
           349,
           350,
           351,
           352,
           353,
           354,
           355,
           356,
           357,
           358,
           359,
           360,
           361,
           362,
           363,
           364,
           365,
           366,
           367,
           368,
           369,
           370,
           371,
           372,
           373,
           374,
           375,
           376,
           377,
           378,
           379,
           380,
           381,
           382,
           383,
           384,
           385,
           386,
           387,
           388,
           389,
           390,
           391,
           392,
           393,
           394,
           395,
           396,
           397,
           398,
           399,
           400,
           401,
           402,
           403,
           404,
           405,
           406,
           407,
           408,
           409,
           410,
           411,
           412,
           413,
           414,
           415,
           416,
           417,
           418,
           419,
           420,
           421,
           422,
           423,
           424,
           425,
           426,
           427,
           428,
           429,
           430,
           431,
           432,
           433,
           434,
           435,
           436,
           437,
           438,
           439,
           440,
           441,
           442,
           443,
           444,
           445,
           446,
           447
          ],
          "start_time": "125.12",
          "transcript": "And he looks down at the beach at that huge rock, you know, the one that's separated from the mainland right where the ocean meets the shore. His words looks like a, like a mythic sea creature, you know that one. Anyway, he looks down there and there's a guy who's on top of that rock, and he's thinking to himself, how the hell do you get up there? You gotta be a goddamn mountain climber. But more importantly, he says the guy's acting really funny. He's looking all over that rock like he's looking for something or someone."
         },
         {
          "end_time": "165.729",
          "id": 18,
          "items": [
           448,
           449,
           450,
           451,
           452,
           453,
           454,
           455,
           456,
           457,
           458,
           459,
           460,
           461,
           462,
           463,
           464,
           465,
           466,
           467,
           468,
           469,
           470,
           471,
           472,
           473,
           474,
           475,
           476,
           477,
           478,
           479,
           480,
           481,
           482,
           483,
           484,
           485,
           486,
           487,
           488,
           489,
           490
          ],
          "start_time": "153.619",
          "transcript": "At that very moment, he says it got really, really dark, really fast, and bombs start going off in the air, thunder and lightning, weather like he'd never seen before coming from he didn't know where."
         },
         {
          "end_time": "169.41",
          "id": 19,
          "items": [
           491,
           492,
           493,
           494,
           495,
           496,
           497,
           498,
           499,
           500,
           501,
           502
          ],
          "start_time": "166.55",
          "transcript": "When he looks back at the rock, the guy's gone."
         },
         {
          "end_time": "178.36",
          "id": 20,
          "items": [
           503,
           504,
           505,
           506,
           507,
           508,
           509,
           510,
           511,
           512,
           513,
           514,
           515,
           516,
           517,
           518,
           519,
           520,
           521,
           522,
           523,
           524,
           525,
           526,
           527,
           528,
           529,
           530
          ],
          "start_time": "170.1",
          "transcript": "But there's a woman there. She's in a white dress, alabaster skin, his words, and he says she's staring right up at him."
         },
         {
          "end_time": "182.63",
          "id": 21,
          "items": [
           531,
           532,
           533,
           534,
           535,
           536,
           537
          ],
          "start_time": "179.55",
          "transcript": "He sees her, she's beautiful."
         },
         {
          "end_time": "186.229",
          "id": 22,
          "items": [
           538,
           539,
           540,
           541,
           542,
           543,
           544,
           545,
           546,
           547,
           548,
           549
          ],
          "start_time": "183.139",
          "transcript": "But like she's from some other time, some other place."
         },
         {
          "end_time": "192.36",
          "id": 23,
          "items": [
           550,
           551,
           552,
           553,
           554,
           555,
           556,
           557,
           558,
           559,
           560,
           561,
           562,
           563,
           564,
           565,
           566,
           567,
           568,
           569,
           570,
           571
          ],
          "start_time": "186.839",
          "transcript": "He looks back at the weather cause it's getting worse and worse. He decides to hightail it out of there."
         },
         {
          "end_time": "197.02",
          "id": 24,
          "items": [
           572,
           573,
           574,
           575,
           576,
           577,
           578,
           579,
           580,
           581,
           582,
           583
          ],
          "start_time": "194.419",
          "transcript": "And that was it. That was his story, right?"
         },
         {
          "end_time": "199.57",
          "id": 25,
          "items": [
           584,
           585
          ],
          "start_time": "198.33",
          "transcript": "So now"
         },
         {
          "end_time": "201.13",
          "id": 26,
          "items": [
           586
          ],
          "start_time": "200.479",
          "transcript": "Now"
         },
         {
          "end_time": "203.75",
          "id": 27,
          "items": [
           587,
           588,
           589,
           590,
           591,
           592,
           593,
           594,
           595,
           596,
           597,
           598
          ],
          "start_time": "201.77",
          "transcript": "I need you to go up there and find that woman."
         },
         {
          "end_time": "209.75",
          "id": 28,
          "items": [
           599,
           600,
           601,
           602,
           603,
           604
          ],
          "start_time": "206.979",
          "transcript": "So these guys just disappear."
         },
         {
          "end_time": "230.41",
          "id": 29,
          "items": [
           605,
           606,
           607,
           608,
           609,
           610,
           611,
           612,
           613,
           614,
           615,
           616,
           617,
           618,
           619,
           620,
           621,
           622,
           623,
           624,
           625,
           626,
           627,
           628,
           629,
           630,
           631,
           632,
           633,
           634,
           635,
           636,
           637,
           638,
           639,
           640,
           641,
           642,
           643,
           644,
           645,
           646,
           647,
           648,
           649,
           650,
           651,
           652,
           653,
           654,
           655,
           656,
           657,
           658,
           659,
           660,
           661,
           662,
           663,
           664,
           665,
           666,
           667,
           668,
           669,
           670,
           671,
           672,
           673,
           674
          ],
          "start_time": "210.66",
          "transcript": "No, not this time. Somebody was out there the day the last guy disappeared. A witness, yeah, a witness. He said that he was up there walking his dog along those bluffs above El Matador, and there's a guy who's on top of that rock. He's just like looking all over the rock as if he's looking for someone or something."
         },
         {
          "end_time": "236.72",
          "id": 30,
          "items": [
           675,
           676,
           677,
           678,
           679,
           680,
           681,
           682,
           683,
           684,
           685,
           686
          ],
          "start_time": "232.91",
          "transcript": "Then it gets dark all of a sudden, really fast."
         },
         {
          "end_time": "240.509",
          "id": 31,
          "items": [
           687,
           688,
           689,
           690,
           691,
           692,
           693,
           694,
           695,
           696,
           697
          ],
          "start_time": "237.3",
          "transcript": "Like thunder and lightning from everywhere, all this weather."
         },
         {
          "end_time": "249.86",
          "id": 32,
          "items": [
           698,
           699,
           700,
           701,
           702,
           703,
           704,
           705,
           706,
           707,
           708,
           709,
           710,
           711,
           712,
           713,
           714,
           715,
           716,
           717,
           718,
           719,
           720,
           721,
           722,
           723
          ],
          "start_time": "242.16",
          "transcript": "When he looks back at the rock, the guy's gone, but there's a woman there in a long white dress with alabaster skin."
         },
         {
          "end_time": "253.419",
          "id": 33,
          "items": [
           724,
           725,
           726,
           727,
           728,
           729,
           730,
           731,
           732,
           733,
           734
          ],
          "start_time": "250.429",
          "transcript": "And she's staring right up at him, not moving."
         },
         {
          "end_time": "256.45",
          "id": 34,
          "items": [
           735,
           736,
           737,
           738,
           739,
           740,
           741,
           742
          ],
          "start_time": "255.07",
          "transcript": "Now I don't know what to believe."
         },
         {
          "end_time": "259.6",
          "id": 35,
          "items": [
           743,
           744,
           745,
           746,
           747,
           748,
           749,
           750,
           751,
           752
          ],
          "start_time": "257.829",
          "transcript": "I know I sure don't want to believe him."
         },
         {
          "end_time": "313.829",
          "id": 36,
          "items": [
           753,
           754,
           755,
           756,
           757,
           758,
           759,
           760,
           761
          ],
          "start_time": "311.829",
          "transcript": "Yeah, dispatch. This is Captain Foster."
         },
         {
          "end_time": "318.32",
          "id": 37,
          "items": [
           762,
           763,
           764,
           765,
           766,
           767,
           768,
           769,
           770,
           771,
           772,
           773,
           774,
           775,
           776,
           777
          ],
          "start_time": "314.559",
          "transcript": "I'm out here at the El Matador location. There's no sign of Detective Sullivan."
         },
         {
          "end_time": "321.07",
          "id": 38,
          "items": [
           778,
           779,
           780,
           781,
           782
          ],
          "start_time": "319.64",
          "transcript": "Now what's this car."
         },
         {
          "end_time": "325.079",
          "id": 39,
          "items": [
           783,
           784,
           785,
           786,
           787,
           788,
           789,
           790,
           791,
           792,
           793,
           794,
           795,
           796,
           797,
           798,
           799
          ],
          "start_time": "322.23",
          "transcript": "Listen, I'm gonna take a look around before you send anybody out here, so."
         },
         {
          "end_time": "331.85",
          "id": 40,
          "items": [
           800,
           801,
           802,
           803,
           804
          ],
          "start_time": "330.89",
          "transcript": "Hang on a minute."
         },
         {
          "end_time": "337.64",
          "id": 41,
          "items": [
           805,
           806,
           807,
           808,
           809,
           810,
           811,
           812
          ],
          "start_time": "335.57",
          "transcript": "Captain Foster, you come in please."
         },
         {
          "end_time": "342.779",
          "id": 42,
          "items": [
           813,
           814
          ],
          "start_time": "341.769",
          "transcript": "Captain Foster"
         },
         {
          "end_time": "345.869",
          "id": 43,
          "items": [
           815,
           816
          ],
          "start_time": "344.339",
          "transcript": "I."
         },
         {
          "end_time": "531.369",
          "id": 44,
          "items": [
           817,
           818,
           819,
           820,
           821,
           822,
           823,
           824,
           825
          ],
          "start_time": "529.309",
          "transcript": "LAPD, put your hands in the air."
         },
         {
          "end_time": "534.57",
          "id": 45,
          "items": [
           826,
           827,
           828,
           829,
           830,
           831
          ],
          "start_time": "533.0",
          "transcript": "Put your hands up now."
         },
         {
          "end_time": "561.619",
          "id": 46,
          "items": [
           832
          ],
          "start_time": "561.099",
          "transcript": "Hm"
         }
        ],
        "items": [
         {
          "alternatives": [
           {
            "confidence": "0.997",
            "content": "So"
           }
          ],
          "end_time": "27.129",
          "id": 0,
          "start_time": "27.01",
          "type": "pronunciation"
         },
         {
          "alternatives": [
           {
            "confidence": "0.998",
            "content": "these"
           }
          ],
          "end_time": "27.409",
          "id": 1,
          "start_time": "27.129",
          "type": "pronunciation"
         },
         {
          "alternatives": [
           {
            "confidence": "0.999",
            "content": "guys"
           }
          ],
          "end_time": "27.85",
          "id": 2,
          "start_time": "27.409",
          "type": "pronunciation"
         },
         {
          "alternatives": [
           {
            "confidence": "0.999",
            "content": "just"
           }
          ],
          "end_time": "28.44",
          "id": 3,
          "start_time": "27.85",
          "type": "pronunciation"
         },
         {
          "alternatives": [
           {
            "confidence": "0.995",
            "content": "disappeared"
           }
          ],
          "end_time": "29.53",
          "id": 4,
          "start_time": "28.889",
          "type": "pronunciation"
         },
         {
          "alternatives": [
           {
            "confidence": "0.0",
            "content": "."
           }
          ],
          "id": 5,
          "type": "punctuation"
         },
         {
          "alternatives": [
           {
            "confidence": "0.997",
            "content": "Yeah"
           }
          ],
          "end_time": "31.45",
          "id": 6,
          "start_time": "30.94",
          "type": "pronunciation"
         },
         {
          "alternatives": [
           {
            "confidence": "0.0",
            "content": ","
           }
          ],
          "id": 7,
          "type": "punctuation"
         },
         {
          "alternatives": [
           {
            "confidence": "0.997",
            "content": "on"
           }
          ],
          "end_time": "31.889",
          "id": 8,
          "start_time": "31.649",
          "type": "pronunciation"
         },
         {
          "alternatives": [
           {
            "confidence": "0.998",
            "content": "that"
           }
          ],
          "end_time": "32.13",
          "id": 9,
          "start_time": "31.889",
          "type": "pronunciation"
         },
         {
          "alternatives": [
           {
            "confidence": "0.997",
            "content": "stretch"
           }
          ],
          "end_time": "32.529",
          "id": 10,
          "start_time": "32.13",
          "type": "pronunciation"
         },
         {
          "alternatives": [
           {
            "confidence": "0.998",
            "content": "of"
           }
          ],
          "end_time": "32.689",
          "id": 11,
          "start_time": "32.529",
          "type": "pronunciation"
         },
         {
          "alternatives": [
           {
            "confidence": "0.999",
            "content": "road"
           }
          ],
          "end_time": "33.009",
          "id": 12,
          "start_time": "32.689",
          "type": "pronunciation"
         },
         {
          "alternatives": [
           {
            "confidence": "0.997",
            "content": "right"
           }
          ],
          "end_time": "33.169",
          "id": 13,
          "start_time": "33.009",
          "type": "pronunciation"
         },
         {
          "alternatives": [
           {
            "confidence": "0.997",
            "content": "above"
           }
          ],
          "end_time": "33.369",
          "id": 14,
          "start_time": "33.169",
          "type": "pronunciation"
         },
         {
          "alternatives": [
           {
            "confidence": "0.993",
            "content": "El"
           }
          ],
          "end_time": "33.59",
          "id": 15,
          "start_time": "33.369",
          "type": "pronunciation"
         },
         {
          "alternatives": [
           {
            "confidence": "0.994",
            "content": "Matador"
           }
          ],
          "end_time": "34.13",
          "id": 16,
          "start_time": "33.59",
          "type": "pronunciation"
         },
         {
          "alternatives": [
           {
            "confidence": "0.0",
            "content": "."
           }
          ],
          "id": 17,
          "type": "punctuation"
         },
         {
          "alternatives": [
           {
            "confidence": "0.996",
            "content": "You"
           }
          ],
          "end_time": "35.299",
          "id": 18,
          "start_time": "35.11",
          "type": "pronunciation"
         },
         {
          "alternatives": [
           {
            "confidence": "0.998",
            "content": "know"
           }
          ],
          "end_time": "35.419",
          "id": 19,
          "start_time": "35.299",
          "type": "pronunciation"
         },
         {
          "alternatives": [
           {
            "confidence": "0.996",
            "content": "it"
           }
          ],
          "end_time": "35.74",
          "id": 20,
          "start_time": "35.419",
          "type": "pronunciation"
         },
         {
          "alternatives": [
           {
            "confidence": "0.0",
            "content": "."
           }
          ],
          "id": 21,
          "type": "punctuation"
         },
         {
          "alternatives": [
           {
            "confidence": "0.996",
            "content": "With"
           }
          ],
          "end_time": "36.689",
          "id": 22,
          "start_time": "36.5",
          "type": "pronunciation"
         },
         {
          "alternatives": [
           {
            "confidence": "0.996",
            "content": "the"
           }
          ],
          "end_time": "36.81",
          "id": 23,
          "start_time": "36.689",
          "type": "pronunciation"
         },
         {
          "alternatives": [
           {
            "confidence": "0.997",
            "content": "big"
           }
          ],
          "end_time": "37.009",
          "id": 24,
          "start_time": "36.81",
          "type": "pronunciation"
         },
         {
          "alternatives": [
           {
            "confidence": "0.997",
            "content": "rock"
           }
          ],
          "end_time": "37.529",
          "id": 25,
          "start_time": "37.009",
          "type": "pronunciation"
         },
         {
          "alternatives": [
           {
            "confidence": "0.0",
            "content": ","
           }
          ],
          "id": 26,
          "type": "punctuation"
         },
         {
          "alternatives": [
           {
            "confidence": "0.952",
            "content": "that's"
           }
          ],
          "end_time": "38.13",
          "id": 27,
          "start_time": "37.889",
          "type": "pronunciation"
         },
         {
          "alternatives": [
           {
            "confidence": "0.997",
            "content": "right"
           }
          ],
          "end_time": "38.419",
          "id": 28,
          "start_time": "38.13",
          "type": "pronunciation"
         },
         {
          "alternatives": [
           {
            "confidence": "0.0",
            "content": ","
           }
          ],
          "id": 29,
          "type": "punctuation"
         },
         {
          "alternatives": [
           {
            "confidence": "0.995",
            "content": "yeah"
           }
          ],
          "end_time": "38.759",
          "id": 30,
          "start_time": "38.569",
          "type": "pronunciation"
         },
         {
          "alternatives": [
           {
            "confidence": "0.0",
            "content": "."
           }
          ],
          "id": 31,
          "type": "punctuation"
         },
         {
          "alternatives": [
           {
            "confidence": "0.872",
            "content": "You"
           }
          ],
          "end_time": "40.75",
          "id": 32,
          "start_time": "40.669",
          "type": "pronunciation"
         },
         {
          "alternatives": [
           {
            "confidence": "0.796",
            "content": "know"
           }
          ],
          "end_time": "40.79",
          "id": 33,
          "start_time": "40.75",
          "type": "pronunciation"
         },
         {
          "alternatives": [
           {
            "confidence": "0.0",
            "content": ","
           }
          ],
          "id": 34,
          "type": "punctuation"
         },
         {
          "alternatives": [
           {
            "confidence": "0.988",
            "content": "Mickey"
           }
          ],
          "end_time": "41.15",
          "id": 35,
          "start_time": "40.869",
          "type": "pronunciation"
         },
         {
          "alternatives": [
           {
            "confidence": "0.993",
            "content": "Cohen"
           }
          ],
          "end_time": "41.389",
          "id": 36,
          "start_time": "41.15",
          "type": "pronunciation"
         },
         {
          "alternatives": [
           {
            "confidence": "0.999",
            "content": "used"
           }
          ],
          "end_time": "41.47",
          "id": 37,
          "start_time": "41.389",
          "type": "pronunciation"
         },
         {
          "alternatives": [
           {
            "confidence": "0.999",
            "content": "to"
           }
          ],
          "end_time": "41.59",
          "id": 38,
          "start_time": "41.47",
          "type": "pronunciation"
         },
         {
          "alternatives": [
           {
            "confidence": "0.999",
            "content": "take"
           }
          ],
          "end_time": "41.75",
          "id": 39,
          "start_time": "41.59",
          "type": "pronunciation"
         },
         {
          "alternatives": [
           {
            "confidence": "0.999",
            "content": "his"
           }
          ],
          "end_time": "41.909",
          "id": 40,
          "start_time": "41.75",
          "type": "pronunciation"
         },
         {
          "alternatives": [
           {
            "confidence": "0.998",
            "content": "associates"
           }
          ],
          "end_time": "42.43",
          "id": 41,
          "start_time": "41.909",
          "type": "pronunciation"
         },
         {
          "alternatives": [
           {
            "confidence": "0.999",
            "content": "out"
           }
          ],
          "end_time": "42.59",
          "id": 42,
          "start_time": "42.43",
          "type": "pronunciation"
         },
         {
          "alternatives": [
           {
            "confidence": "0.999",
            "content": "there"
           }
          ],
          "end_time": "43.009",
          "id": 43,
          "start_time": "42.59",
          "type": "pronunciation"
         },
         {
          "alternatives": [
           {
            "confidence": "0.0",
            "content": ","
           }
          ],
          "id": 44,
          "type": "punctuation"
         },
         {
          "alternatives": [
           {
            "confidence": "0.569",
            "content": "get"
           }
          ],
          "end_time": "43.63",
          "id": 45,
          "start_time": "43.549",
          "type": "pronunciation"
         },
         {
          "alternatives": [
           {
            "confidence": "0.996",
            "content": "him"
           }
          ],
          "end_time": "43.779",
          "id": 46,
          "start_time": "43.63",
          "type": "pronunciation"
         },
         {
          "alternatives": [
           {
            "confidence": "0.997",
            "content": "a"
           }
          ],
          "end_time": "43.84",
          "id": 47,
          "start_time": "43.779",
          "type": "pronunciation"
         },
         {
          "alternatives": [
           {
            "confidence": "0.99",
            "content": "bond"
           }
          ],
          "end_time": "44.11",
          "id": 48,
          "start_time": "43.84",
          "type": "pronunciation"
         },
         {
          "alternatives": [
           {
            "confidence": "0.988",
            "content": "voyage"
           }
          ],
          "end_time": "44.86",
          "id": 49,
          "start_time": "44.11",
          "type": "pronunciation"
         },
         {
          "alternatives": [
           {
            "confidence": "0.0",
            "content": "."
           }
          ],
          "id": 50,
          "type": "punctuation"
         },
         {
          "alternatives": [
           {
            "confidence": "0.971",
            "content": "Mob"
           }
          ],
          "end_time": "45.79",
          "id": 51,
          "start_time": "45.509",
          "type": "pronunciation"
         },
         {
          "alternatives": [
           {
            "confidence": "0.953",
            "content": "heads"
           }
          ],
          "end_time": "46.299",
          "id": 52,
          "start_time": "45.79",
          "type": "pronunciation"
         },
         {
          "alternatives": [
           {
            "confidence": "0.0",
            "content": "?"
           }
          ],
          "id": 53,
          "type": "punctuation"
         },
         {
          "alternatives": [
           {
            "confidence": "0.727",
            "content": "No"
           }
          ],
          "end_time": "46.659",
          "id": 54,
          "start_time": "46.56",
          "type": "pronunciation"
         },
         {
          "alternatives": [
           {
            "confidence": "0.0",
            "content": ","
           }
          ],
          "id": 55,
          "type": "punctuation"
         },
         {
          "alternatives": [
           {
            "confidence": "0.997",
            "content": "not"
           }
          ],
          "end_time": "46.95",
          "id": 56,
          "start_time": "46.79",
          "type": "pronunciation"
         },
         {
          "alternatives": [
           {
            "confidence": "0.999",
            "content": "this"
           }
          ],
          "end_time": "47.189",
          "id": 57,
          "start_time": "46.95",
          "type": "pronunciation"
         },
         {
          "alternatives": [
           {
            "confidence": "0.999",
            "content": "time"
           }
          ],
          "end_time": "47.7",
          "id": 58,
          "start_time": "47.189",
          "type": "pronunciation"
         },
         {
          "alternatives": [
           {
            "confidence": "0.0",
            "content": "."
           }
          ],
          "id": 59,
          "type": "punctuation"
         },
         {
          "alternatives": [
           {
            "confidence": "0.997",
            "content": "One"
           }
          ],
          "end_time": "48.189",
          "id": 60,
          "start_time": "48.069",
          "type": "pronunciation"
         },
         {
          "alternatives": [
           {
            "confidence": "0.999",
            "content": "of"
           }
          ],
          "end_time": "48.27",
          "id": 61,
          "start_time": "48.189",
          "type": "pronunciation"
         },
         {
          "alternatives": [
           {
            "confidence": "0.999",
            "content": "these"
           }
          ],
          "end_time": "48.509",
          "id": 62,
          "start_time": "48.27",
          "type": "pronunciation"
         },
         {
          "alternatives": [
           {
            "confidence": "0.999",
            "content": "guys"
           }
          ],
          "end_time": "48.75",
          "id": 63,
          "start_time": "48.509",
          "type": "pronunciation"
         },
         {
          "alternatives": [
           {
            "confidence": "0.996",
            "content": "was"
           }
          ],
          "end_time": "48.869",
          "id": 64,
          "start_time": "48.75",
          "type": "pronunciation"
         },
         {
          "alternatives": [
           {
            "confidence": "0.998",
            "content": "a"
           }
          ],
          "end_time": "49.15",
          "id": 65,
          "start_time": "48.869",
          "type": "pronunciation"
         },
         {
          "alternatives": [
           {
            "confidence": "0.999",
            "content": "school"
           }
          ],
          "end_time": "49.47",
          "id": 66,
          "start_time": "49.15",
          "type": "pronunciation"
         },
         {
          "alternatives": [
           {
            "confidence": "0.996",
            "content": "teacher"
           }
          ],
          "end_time": "50.139",
          "id": 67,
          "start_time": "49.47",
          "type": "pronunciation"
         },
         {
          "alternatives": [
           {
            "confidence": "0.0",
            "content": "."
           }
          ],
          "id": 68,
          "type": "punctuation"
         },
         {
          "alternatives": [
           {
            "confidence": "0.971",
            "content": "Next"
           }
          ],
          "end_time": "51.069",
          "id": 69,
          "start_time": "50.819",
          "type": "pronunciation"
         },
         {
          "alternatives": [
           {
            "confidence": "0.999",
            "content": "guy"
           }
          ],
          "end_time": "51.189",
          "id": 70,
          "start_time": "51.069",
          "type": "pronunciation"
         },
         {
          "alternatives": [
           {
            "confidence": "0.0",
            "content": ","
           }
          ],
          "id": 71,
          "type": "punctuation"
         },
         {
          "alternatives": [
           {
            "confidence": "0.999",
            "content": "he"
           }
          ],
          "end_time": "51.389",
          "id": 72,
          "start_time": "51.27",
          "type": "pronunciation"
         },
         {
          "alternatives": [
           {
            "confidence": "0.999",
            "content": "sold"
           }
          ],
          "end_time": "51.95",
          "id": 73,
          "start_time": "51.389",
          "type": "pronunciation"
         },
         {
          "alternatives": [
           {
            "confidence": "0.999",
            "content": "insurance"
           }
          ],
          "end_time": "52.459",
          "id": 74,
          "start_time": "51.95",
          "type": "pronunciation"
         },
         {
          "alternatives": [
           {
            "confidence": "0.0",
            "content": ","
           }
          ],
          "id": 75,
          "type": "punctuation"
         },
         {
          "alternatives": [
           {
            "confidence": "0.993",
            "content": "and"
           }
          ],
          "end_time": "52.59",
          "id": 76,
          "start_time": "52.549",
          "type": "pronunciation"
         },
         {
          "alternatives": [
           {
            "confidence": "0.895",
            "content": "the"
           }
          ],
          "end_time": "52.709",
          "id": 77,
          "start_time": "52.59",
          "type": "pronunciation"
         },
         {
          "alternatives": [
           {
            "confidence": "0.997",
            "content": "last"
           }
          ],
          "end_time": "53.029",
          "id": 78,
          "start_time": "52.709",
          "type": "pronunciation"
         },
         {
          "alternatives": [
           {
            "confidence": "0.999",
            "content": "guy"
           }
          ],
          "end_time": "53.189",
          "id": 79,
          "start_time": "53.029",
          "type": "pronunciation"
         },
         {
          "alternatives": [
           {
            "confidence": "0.0",
            "content": ","
           }
          ],
          "id": 80,
          "type": "punctuation"
         },
         {
          "alternatives": [
           {
            "confidence": "0.998",
            "content": "he"
           }
          ],
          "end_time": "53.349",
          "id": 81,
          "start_time": "53.229",
          "type": "pronunciation"
         },
         {
          "alternatives": [
           {
            "confidence": "0.998",
            "content": "was"
           }
          ],
          "end_time": "53.47",
          "id": 82,
          "start_time": "53.349",
          "type": "pronunciation"
         },
         {
          "alternatives": [
           {
            "confidence": "0.999",
            "content": "retired"
           }
          ],
          "end_time": "54.31",
          "id": 83,
          "start_time": "53.47",
          "type": "pronunciation"
         },
         {
          "alternatives": [
           {
            "confidence": "0.0",
            "content": "."
           }
          ],
          "id": 84,
          "type": "punctuation"
         },
         {
          "alternatives": [
           {
            "confidence": "0.996",
            "content": "Any"
           }
          ],
          "end_time": "55.889",
          "id": 85,
          "start_time": "55.619",
          "type": "pronunciation"
         },
         {
          "alternatives": [
           {
            "confidence": "0.997",
            "content": "connection"
           }
          ],
          "end_time": "56.319",
          "id": 86,
          "start_time": "55.889",
          "type": "pronunciation"
         },
         {
          "alternatives": [
           {
            "confidence": "0.0",
            "content": "?"
           }
          ],
          "id": 87,
          "type": "punctuation"
         },
         {
          "alternatives": [
           {
            "confidence": "0.834",
            "content": "Mm"
           }
          ],
          "end_time": "57.58",
          "id": 88,
          "start_time": "56.99",
          "type": "pronunciation"
         },
         {
          "alternatives": [
           {
            "confidence": "0.0",
            "content": "."
           }
          ],
          "id": 89,
          "type": "punctuation"
         },
         {
          "alternatives": [
           {
            "confidence": "0.997",
            "content": "I"
           }
          ],
          "end_time": "58.75",
          "id": 90,
          "start_time": "58.599",
          "type": "pronunciation"
         },
         {
          "alternatives": [
           {
            "confidence": "0.997",
            "content": "mean"
           }
          ],
          "end_time": "58.83",
          "id": 91,
          "start_time": "58.75",
          "type": "pronunciation"
         },
         {
          "alternatives": [
           {
            "confidence": "0.0",
            "content": ","
           }
          ],
          "id": 92,
          "type": "punctuation"
         },
         {
          "alternatives": [
           {
            "confidence": "0.998",
            "content": "I"
           }
          ],
          "end_time": "59.029",
          "id": 93,
          "start_time": "58.869",
          "type": "pronunciation"
         },
         {
          "alternatives": [
           {
            "confidence": "0.996",
            "content": "checked"
           }
          ],
          "end_time": "59.209",
          "id": 94,
          "start_time": "59.029",
          "type": "pronunciation"
         },
         {
          "alternatives": [
           {
            "confidence": "0.996",
            "content": "them"
           }
          ],
          "end_time": "59.349",
          "id": 95,
          "start_time": "59.209",
          "type": "pronunciation"
         },
         {
          "alternatives": [
           {
            "confidence": "0.998",
            "content": "all"
           }
          ],
          "end_time": "59.509",
          "id": 96,
          "start_time": "59.349",
          "type": "pronunciation"
         },
         {
          "alternatives": [
           {
            "confidence": "0.998",
            "content": "out"
           }
          ],
          "end_time": "59.86",
          "id": 97,
          "start_time": "59.509",
          "type": "pronunciation"
         },
         {
          "alternatives": [
           {
            "confidence": "0.0",
            "content": "."
           }
          ],
          "id": 98,
          "type": "punctuation"
         },
         {
          "alternatives": [
           {
            "confidence": "0.99",
            "content": "There's"
           }
          ],
          "end_time": "60.799",
          "id": 99,
          "start_time": "60.529",
          "type": "pronunciation"
         },
         {
          "alternatives": [
           {
            "confidence": "0.997",
            "content": "no"
           }
          ],
          "end_time": "61.24",
          "id": 100,
          "start_time": "60.799",
          "type": "pronunciation"
         },
         {
          "alternatives": [
           {
            "confidence": "0.999",
            "content": "criminal"
           }
          ],
          "end_time": "61.599",
          "id": 101,
          "start_time": "61.24",
          "type": "pronunciation"
         },
         {
          "alternatives": [
           {
            "confidence": "0.999",
            "content": "records"
           }
          ],
          "end_time": "62.4",
          "id": 102,
          "start_time": "61.599",
          "type": "pronunciation"
         },
         {
          "alternatives": [
           {
            "confidence": "0.0",
            "content": ","
           }
          ],
          "id": 103,
          "type": "punctuation"
         },
         {
          "alternatives": [
           {
            "confidence": "0.996",
            "content": "no"
           }
          ],
          "end_time": "62.68",
          "id": 104,
          "start_time": "62.52",
          "type": "pronunciation"
         },
         {
          "alternatives": [
           {
            "confidence": "0.997",
            "content": "association"
           }
          ],
          "end_time": "63.2",
          "id": 105,
          "start_time": "62.68",
          "type": "pronunciation"
         },
         {
          "alternatives": [
           {
            "confidence": "0.886",
            "content": "in"
           }
          ],
          "end_time": "63.279",
          "id": 106,
          "start_time": "63.2",
          "type": "pronunciation"
         },
         {
          "alternatives": [
           {
            "confidence": "0.996",
            "content": "any"
           }
          ],
          "end_time": "63.479",
          "id": 107,
          "start_time": "63.279",
          "type": "pronunciation"
         },
         {
          "alternatives": [
           {
            "confidence": "0.999",
            "content": "criminal"
           }
          ],
          "end_time": "63.95",
          "id": 108,
          "start_time": "63.479",
          "type": "pronunciation"
         },
         {
          "alternatives": [
           {
            "confidence": "0.998",
            "content": "organizations"
           }
          ],
          "end_time": "64.75",
          "id": 109,
          "start_time": "63.95",
          "type": "pronunciation"
         },
         {
          "alternatives": [
           {
            "confidence": "0.0",
            "content": "."
           }
          ],
          "id": 110,
          "type": "punctuation"
         },
         {
          "alternatives": [
           {
            "confidence": "0.996",
            "content": "One"
           }
          ],
          "end_time": "65.04",
          "id": 111,
          "start_time": "64.959",
          "type": "pronunciation"
         },
         {
          "alternatives": [
           {
            "confidence": "0.998",
            "content": "of"
           }
          ],
          "end_time": "65.12",
          "id": 112,
          "start_time": "65.04",
          "type": "pronunciation"
         },
         {
          "alternatives": [
           {
            "confidence": "0.997",
            "content": "the"
           }
          ],
          "end_time": "65.279",
          "id": 113,
          "start_time": "65.12",
          "type": "pronunciation"
         },
         {
          "alternatives": [
           {
            "confidence": "0.999",
            "content": "guys"
           }
          ],
          "end_time": "65.68",
          "id": 114,
          "start_time": "65.279",
          "type": "pronunciation"
         },
         {
          "alternatives": [
           {
            "confidence": "0.998",
            "content": "was"
           }
          ],
          "end_time": "65.959",
          "id": 115,
          "start_time": "65.68",
          "type": "pronunciation"
         },
         {
          "alternatives": [
           {
            "confidence": "0.999",
            "content": "arrested"
           }
          ],
          "end_time": "66.239",
          "id": 116,
          "start_time": "65.959",
          "type": "pronunciation"
         },
         {
          "alternatives": [
           {
            "confidence": "0.999",
            "content": "for"
           }
          ],
          "end_time": "66.319",
          "id": 117,
          "start_time": "66.239",
          "type": "pronunciation"
         },
         {
          "alternatives": [
           {
            "confidence": "0.998",
            "content": "drunk"
           }
          ],
          "end_time": "66.68",
          "id": 118,
          "start_time": "66.319",
          "type": "pronunciation"
         },
         {
          "alternatives": [
           {
            "confidence": "0.999",
            "content": "driving"
           }
          ],
          "end_time": "67.0",
          "id": 119,
          "start_time": "66.68",
          "type": "pronunciation"
         },
         {
          "alternatives": [
           {
            "confidence": "0.998",
            "content": "a"
           }
          ],
          "end_time": "67.08",
          "id": 120,
          "start_time": "67.0",
          "type": "pronunciation"
         },
         {
          "alternatives": [
           {
            "confidence": "0.998",
            "content": "long"
           }
          ],
          "end_time": "67.29",
          "id": 121,
          "start_time": "67.08",
          "type": "pronunciation"
         },
         {
          "alternatives": [
           {
            "confidence": "0.999",
            "content": "time"
           }
          ],
          "end_time": "67.519",
          "id": 122,
          "start_time": "67.29",
          "type": "pronunciation"
         },
         {
          "alternatives": [
           {
            "confidence": "0.999",
            "content": "ago"
           }
          ],
          "end_time": "67.76",
          "id": 123,
          "start_time": "67.519",
          "type": "pronunciation"
         },
         {
          "alternatives": [
           {
            "confidence": "0.0",
            "content": "."
           }
          ],
          "id": 124,
          "type": "punctuation"
         },
         {
          "alternatives": [
           {
            "confidence": "0.996",
            "content": "They"
           }
          ],
          "end_time": "69.86",
          "id": 125,
          "start_time": "69.629",
          "type": "pronunciation"
         },
         {
          "alternatives": [
           {
            "confidence": "0.999",
            "content": "were"
           }
          ],
          "end_time": "70.059",
          "id": 126,
          "start_time": "69.86",
          "type": "pronunciation"
         },
         {
          "alternatives": [
           {
            "confidence": "0.999",
            "content": "all"
           }
          ],
          "end_time": "70.26",
          "id": 127,
          "start_time": "70.059",
          "type": "pronunciation"
         },
         {
          "alternatives": [
           {
            "confidence": "0.998",
            "content": "divorced"
           }
          ],
          "end_time": "71.05",
          "id": 128,
          "start_time": "70.26",
          "type": "pronunciation"
         },
         {
          "alternatives": [
           {
            "confidence": "0.0",
            "content": "."
           }
          ],
          "id": 129,
          "type": "punctuation"
         },
         {
          "alternatives": [
           {
            "confidence": "0.997",
            "content": "Well"
           }
          ],
          "end_time": "72.97",
          "id": 130,
          "start_time": "72.779",
          "type": "pronunciation"
         },
         {
          "alternatives": [
           {
            "confidence": "0.0",
            "content": ","
           }
          ],
          "id": 131,
          "type": "punctuation"
         },
         {
          "alternatives": [
           {
            "confidence": "0.997",
            "content": "in"
           }
          ],
          "end_time": "73.129",
          "id": 132,
          "start_time": "73.01",
          "type": "pronunciation"
         },
         {
          "alternatives": [
           {
            "confidence": "0.999",
            "content": "that"
           }
          ],
          "end_time": "73.33",
          "id": 133,
          "start_time": "73.129",
          "type": "pronunciation"
         },
         {
          "alternatives": [
           {
            "confidence": "0.999",
            "content": "case"
           }
          ],
          "end_time": "73.489",
          "id": 134,
          "start_time": "73.33",
          "type": "pronunciation"
         },
         {
          "alternatives": [
           {
            "confidence": "0.0",
            "content": ","
           }
          ],
          "id": 135,
          "type": "punctuation"
         },
         {
          "alternatives": [
           {
            "confidence": "0.998",
            "content": "maybe"
           }
          ],
          "end_time": "73.76",
          "id": 136,
          "start_time": "73.58",
          "type": "pronunciation"
         },
         {
          "alternatives": [
           {
            "confidence": "0.999",
            "content": "you"
           }
          ],
          "end_time": "73.889",
          "id": 137,
          "start_time": "73.76",
          "type": "pronunciation"
         },
         {
          "alternatives": [
           {
            "confidence": "0.998",
            "content": "don't"
           }
          ],
          "end_time": "74.05",
          "id": 138,
          "start_time": "73.889",
          "type": "pronunciation"
         },
         {
          "alternatives": [
           {
            "confidence": "0.989",
            "content": "want"
           }
          ],
          "end_time": "74.129",
          "id": 139,
          "start_time": "74.05",
          "type": "pronunciation"
         },
         {
          "alternatives": [
           {
            "confidence": "0.994",
            "content": "to"
           }
          ],
          "end_time": "74.209",
          "id": 140,
          "start_time": "74.129",
          "type": "pronunciation"
         },
         {
          "alternatives": [
           {
            "confidence": "0.999",
            "content": "go"
           }
          ],
          "end_time": "74.33",
          "id": 141,
          "start_time": "74.209",
          "type": "pronunciation"
         },
         {
          "alternatives": [
           {
            "confidence": "0.999",
            "content": "out"
           }
          ],
          "end_time": "74.529",
          "id": 142,
          "start_time": "74.33",
          "type": "pronunciation"
         },
         {
          "alternatives": [
           {
            "confidence": "0.999",
            "content": "there"
           }
          ],
          "end_time": "74.589",
          "id": 143,
          "start_time": "74.529",
          "type": "pronunciation"
         },
         {
          "alternatives": [
           {
            "confidence": "0.0",
            "content": ","
           }
          ],
          "id": 144,
          "type": "punctuation"
         },
         {
          "alternatives": [
           {
            "confidence": "0.992",
            "content": "boss"
           }
          ],
          "end_time": "75.83",
          "id": 145,
          "start_time": "74.61",
          "type": "pronunciation"
         },
         {
          "alternatives": [
           {
            "confidence": "0.0",
            "content": "."
           }
          ],
          "id": 146,
          "type": "punctuation"
         },
         {
          "alternatives": [
           {
            "confidence": "0.997",
            "content": "What"
           }
          ],
          "end_time": "76.83",
          "id": 147,
          "start_time": "76.73",
          "type": "pronunciation"
         },
         {
          "alternatives": [
           {
            "confidence": "0.997",
            "content": "are"
           }
          ],
          "end_time": "76.839",
          "id": 148,
          "start_time": "76.83",
          "type": "pronunciation"
         },
         {
          "alternatives": [
           {
            "confidence": "0.998",
            "content": "you"
           }
          ],
          "end_time": "77.029",
          "id": 149,
          "start_time": "76.839",
          "type": "pronunciation"
         },
         {
          "alternatives": [
           {
            "confidence": "0.0",
            "content": ","
           }
          ],
          "id": 150,
          "type": "punctuation"
         },
         {
          "alternatives": [
           {
            "confidence": "0.862",
            "content": "a"
           }
          ],
          "end_time": "77.05",
          "id": 151,
          "start_time": "77.04",
          "type": "pronunciation"
         },
         {
          "alternatives": [
           {
            "confidence": "0.995",
            "content": "comedian"
           }
          ],
          "end_time": "77.779",
          "id": 152,
          "start_time": "77.05",
          "type": "pronunciation"
         },
         {
          "alternatives": [
           {
            "confidence": "0.0",
            "content": "?"
           }
          ],
          "id": 153,
          "type": "punctuation"
         },
         {
          "alternatives": [
           {
            "confidence": "0.996",
            "content": "If"
           }
          ],
          "end_time": "78.05",
          "id": 154,
          "start_time": "77.97",
          "type": "pronunciation"
         },
         {
          "alternatives": [
           {
            "confidence": "0.995",
            "content": "that's"
           }
          ],
          "end_time": "78.25",
          "id": 155,
          "start_time": "78.05",
          "type": "pronunciation"
         },
         {
          "alternatives": [
           {
            "confidence": "0.997",
            "content": "the"
           }
          ],
          "end_time": "78.41",
          "id": 156,
          "start_time": "78.25",
          "type": "pronunciation"
         },
         {
          "alternatives": [
           {
            "confidence": "0.999",
            "content": "case"
           }
          ],
          "end_time": "78.61",
          "id": 157,
          "start_time": "78.41",
          "type": "pronunciation"
         },
         {
          "alternatives": [
           {
            "confidence": "0.0",
            "content": ","
           }
          ],
          "id": 158,
          "type": "punctuation"
         },
         {
          "alternatives": [
           {
            "confidence": "0.997",
            "content": "you"
           }
          ],
          "end_time": "79.05",
          "id": 159,
          "start_time": "78.69",
          "type": "pronunciation"
         },
         {
          "alternatives": [
           {
            "confidence": "0.999",
            "content": "sure"
           }
          ],
          "end_time": "79.25",
          "id": 160,
          "start_time": "79.05",
          "type": "pronunciation"
         },
         {
          "alternatives": [
           {
            "confidence": "0.998",
            "content": "don't"
           }
          ],
          "end_time": "79.449",
          "id": 161,
          "start_time": "79.25",
          "type": "pronunciation"
         },
         {
          "alternatives": [
           {
            "confidence": "0.917",
            "content": "want"
           }
          ],
          "end_time": "79.529",
          "id": 162,
          "start_time": "79.449",
          "type": "pronunciation"
         },
         {
          "alternatives": [
           {
            "confidence": "0.956",
            "content": "to"
           }
          ],
          "end_time": "79.65",
          "id": 163,
          "start_time": "79.529",
          "type": "pronunciation"
         },
         {
          "alternatives": [
           {
            "confidence": "0.999",
            "content": "go"
           }
          ],
          "end_time": "79.769",
          "id": 164,
          "start_time": "79.65",
          "type": "pronunciation"
         },
         {
          "alternatives": [
           {
            "confidence": "0.999",
            "content": "out"
           }
          ],
          "end_time": "79.97",
          "id": 165,
          "start_time": "79.769",
          "type": "pronunciation"
         },
         {
          "alternatives": [
           {
            "confidence": "0.999",
            "content": "there"
           }
          ],
          "end_time": "80.36",
          "id": 166,
          "start_time": "79.97",
          "type": "pronunciation"
         },
         {
          "alternatives": [
           {
            "confidence": "0.0",
            "content": "."
           }
          ],
          "id": 167,
          "type": "punctuation"
         },
         {
          "alternatives": [
           {
            "confidence": "0.996",
            "content": "Yeah"
           }
          ],
          "end_time": "80.849",
          "id": 168,
          "start_time": "80.769",
          "type": "pronunciation"
         },
         {
          "alternatives": [
           {
            "confidence": "0.0",
            "content": ","
           }
          ],
          "id": 169,
          "type": "punctuation"
         },
         {
          "alternatives": [
           {
            "confidence": "0.996",
            "content": "look"
           }
          ],
          "end_time": "81.05",
          "id": 170,
          "start_time": "80.97",
          "type": "pronunciation"
         },
         {
          "alternatives": [
           {
            "confidence": "0.0",
            "content": ","
           }
          ],
          "id": 171,
          "type": "punctuation"
         },
         {
          "alternatives": [
           {
            "confidence": "0.998",
            "content": "I"
           }
          ],
          "end_time": "81.25",
          "id": 172,
          "start_time": "81.129",
          "type": "pronunciation"
         },
         {
          "alternatives": [
           {
            "confidence": "0.999",
            "content": "know"
           }
          ],
          "end_time": "81.37",
          "id": 173,
          "start_time": "81.25",
          "type": "pronunciation"
         },
         {
          "alternatives": [
           {
            "confidence": "0.999",
            "content": "what"
           }
          ],
          "end_time": "81.529",
          "id": 174,
          "start_time": "81.37",
          "type": "pronunciation"
         },
         {
          "alternatives": [
           {
            "confidence": "0.999",
            "content": "happened"
           }
          ],
          "end_time": "81.769",
          "id": 175,
          "start_time": "81.529",
          "type": "pronunciation"
         },
         {
          "alternatives": [
           {
            "confidence": "0.0",
            "content": ","
           }
          ],
          "id": 176,
          "type": "punctuation"
         },
         {
          "alternatives": [
           {
            "confidence": "0.954",
            "content": "all"
           }
          ],
          "end_time": "81.93",
          "id": 177,
          "start_time": "81.809",
          "type": "pronunciation"
         },
         {
          "alternatives": [
           {
            "confidence": "0.996",
            "content": "right"
           }
          ],
          "end_time": "82.319",
          "id": 178,
          "start_time": "81.93",
          "type": "pronunciation"
         },
         {
          "alternatives": [
           {
            "confidence": "0.0",
            "content": "?"
           }
          ],
          "id": 179,
          "type": "punctuation"
         },
         {
          "alternatives": [
           {
            "confidence": "0.996",
            "content": "They"
           }
          ],
          "end_time": "82.69",
          "id": 180,
          "start_time": "82.61",
          "type": "pronunciation"
         },
         {
          "alternatives": [
           {
            "confidence": "0.998",
            "content": "go"
           }
          ],
          "end_time": "82.809",
          "id": 181,
          "start_time": "82.69",
          "type": "pronunciation"
         },
         {
          "alternatives": [
           {
            "confidence": "0.997",
            "content": "out"
           }
          ],
          "end_time": "82.849",
          "id": 182,
          "start_time": "82.809",
          "type": "pronunciation"
         },
         {
          "alternatives": [
           {
            "confidence": "0.997",
            "content": "to"
           }
          ],
          "end_time": "82.97",
          "id": 183,
          "start_time": "82.849",
          "type": "pronunciation"
         },
         {
          "alternatives": [
           {
            "confidence": "0.997",
            "content": "the"
           }
          ],
          "end_time": "83.129",
          "id": 184,
          "start_time": "82.97",
          "type": "pronunciation"
         },
         {
          "alternatives": [
           {
            "confidence": "0.996",
            "content": "rock"
           }
          ],
          "end_time": "83.599",
          "id": 185,
          "start_time": "83.129",
          "type": "pronunciation"
         },
         {
          "alternatives": [
           {
            "confidence": "0.0",
            "content": ","
           }
          ],
          "id": 186,
          "type": "punctuation"
         },
         {
          "alternatives": [
           {
            "confidence": "0.974",
            "content": "they"
           }
          ],
          "end_time": "83.93",
          "id": 187,
          "start_time": "83.769",
          "type": "pronunciation"
         },
         {
          "alternatives": [
           {
            "confidence": "0.999",
            "content": "take"
           }
          ],
          "end_time": "84.089",
          "id": 188,
          "start_time": "83.93",
          "type": "pronunciation"
         },
         {
          "alternatives": [
           {
            "confidence": "0.998",
            "content": "that"
           }
          ],
          "end_time": "84.33",
          "id": 189,
          "start_time": "84.089",
          "type": "pronunciation"
         },
         {
          "alternatives": [
           {
            "confidence": "0.999",
            "content": "long"
           }
          ],
          "end_time": "84.559",
          "id": 190,
          "start_time": "84.33",
          "type": "pronunciation"
         },
         {
          "alternatives": [
           {
            "confidence": "0.0",
            "content": ","
           }
          ],
          "id": 191,
          "type": "punctuation"
         },
         {
          "alternatives": [
           {
            "confidence": "0.999",
            "content": "cold"
           }
          ],
          "end_time": "85.01",
          "id": 192,
          "start_time": "84.769",
          "type": "pronunciation"
         },
         {
          "alternatives": [
           {
            "confidence": "0.0",
            "content": ","
           }
          ],
          "id": 193,
          "type": "punctuation"
         },
         {
          "alternatives": [
           {
            "confidence": "0.997",
            "content": "slow"
           }
          ],
          "end_time": "85.339",
          "id": 194,
          "start_time": "85.069",
          "type": "pronunciation"
         },
         {
          "alternatives": [
           {
            "confidence": "0.995",
            "content": "swim"
           }
          ],
          "end_time": "85.65",
          "id": 195,
          "start_time": "85.339",
          "type": "pronunciation"
         },
         {
          "alternatives": [
           {
            "confidence": "0.997",
            "content": "to"
           }
          ],
          "end_time": "85.809",
          "id": 196,
          "start_time": "85.65",
          "type": "pronunciation"
         },
         {
          "alternatives": [
           {
            "confidence": "0.999",
            "content": "China"
           }
          ],
          "end_time": "86.22",
          "id": 197,
          "start_time": "85.809",
          "type": "pronunciation"
         },
         {
          "alternatives": [
           {
            "confidence": "0.0",
            "content": "."
           }
          ],
          "id": 198,
          "type": "punctuation"
         },
         {
          "alternatives": [
           {
            "confidence": "0.992",
            "content": "Suicide"
           }
          ],
          "end_time": "86.919",
          "id": 199,
          "start_time": "86.489",
          "type": "pronunciation"
         },
         {
          "alternatives": [
           {
            "confidence": "0.0",
            "content": "."
           }
          ],
          "id": 200,
          "type": "punctuation"
         },
         {
          "alternatives": [
           {
            "confidence": "0.994",
            "content": "It's"
           }
          ],
          "end_time": "87.93",
          "id": 201,
          "start_time": "87.739",
          "type": "pronunciation"
         },
         {
          "alternatives": [
           {
            "confidence": "0.997",
            "content": "been"
           }
          ],
          "end_time": "88.08",
          "id": 202,
          "start_time": "87.93",
          "type": "pronunciation"
         },
         {
          "alternatives": [
           {
            "confidence": "0.997",
            "content": "known"
           }
          ],
          "end_time": "88.19",
          "id": 203,
          "start_time": "88.08",
          "type": "pronunciation"
         },
         {
          "alternatives": [
           {
            "confidence": "0.998",
            "content": "to"
           }
          ],
          "end_time": "88.3",
          "id": 204,
          "start_time": "88.19",
          "type": "pronunciation"
         },
         {
          "alternatives": [
           {
            "confidence": "0.999",
            "content": "happen"
           }
          ],
          "end_time": "88.529",
          "id": 205,
          "start_time": "88.3",
          "type": "pronunciation"
         },
         {
          "alternatives": [
           {
            "confidence": "0.999",
            "content": "out"
           }
          ],
          "end_time": "88.69",
          "id": 206,
          "start_time": "88.529",
          "type": "pronunciation"
         },
         {
          "alternatives": [
           {
            "confidence": "0.999",
            "content": "there"
           }
          ],
          "end_time": "89.16",
          "id": 207,
          "start_time": "88.69",
          "type": "pronunciation"
         },
         {
          "alternatives": [
           {
            "confidence": "0.0",
            "content": "."
           }
          ],
          "id": 208,
          "type": "punctuation"
         },
         {
          "alternatives": [
           {
            "confidence": "0.527",
            "content": "Uh"
           }
          ],
          "end_time": "89.849",
          "id": 209,
          "start_time": "89.75",
          "type": "pronunciation"
         },
         {
          "alternatives": [
           {
            "confidence": "0.0",
            "content": ","
           }
          ],
          "id": 210,
          "type": "punctuation"
         },
         {
          "alternatives": [
           {
            "confidence": "0.997",
            "content": "not"
           }
          ],
          "end_time": "90.33",
          "id": 211,
          "start_time": "90.129",
          "type": "pronunciation"
         },
         {
          "alternatives": [
           {
            "confidence": "0.999",
            "content": "this"
           }
          ],
          "end_time": "90.569",
          "id": 212,
          "start_time": "90.33",
          "type": "pronunciation"
         },
         {
          "alternatives": [
           {
            "confidence": "0.999",
            "content": "time"
           }
          ],
          "end_time": "91.0",
          "id": 213,
          "start_time": "90.569",
          "type": "pronunciation"
         },
         {
          "alternatives": [
           {
            "confidence": "0.0",
            "content": "."
           }
          ],
          "id": 214,
          "type": "punctuation"
         },
         {
          "alternatives": [
           {
            "confidence": "0.996",
            "content": "What"
           }
          ],
          "end_time": "91.809",
          "id": 215,
          "start_time": "91.73",
          "type": "pronunciation"
         },
         {
          "alternatives": [
           {
            "confidence": "0.99",
            "content": "do"
           }
          ],
          "end_time": "91.86",
          "id": 216,
          "start_time": "91.809",
          "type": "pronunciation"
         },
         {
          "alternatives": [
           {
            "confidence": "0.996",
            "content": "you"
           }
          ],
          "end_time": "91.93",
          "id": 217,
          "start_time": "91.86",
          "type": "pronunciation"
         },
         {
          "alternatives": [
           {
            "confidence": "0.996",
            "content": "mean"
           }
          ],
          "end_time": "92.239",
          "id": 218,
          "start_time": "91.93",
          "type": "pronunciation"
         },
         {
          "alternatives": [
           {
            "confidence": "0.0",
            "content": "?"
           }
          ],
          "id": 219,
          "type": "punctuation"
         },
         {
          "alternatives": [
           {
            "confidence": "0.996",
            "content": "Well"
           }
          ],
          "end_time": "92.529",
          "id": 220,
          "start_time": "92.41",
          "type": "pronunciation"
         },
         {
          "alternatives": [
           {
            "confidence": "0.0",
            "content": ","
           }
          ],
          "id": 221,
          "type": "punctuation"
         },
         {
          "alternatives": [
           {
            "confidence": "0.997",
            "content": "for"
           }
          ],
          "end_time": "92.809",
          "id": 222,
          "start_time": "92.69",
          "type": "pronunciation"
         },
         {
          "alternatives": [
           {
            "confidence": "0.998",
            "content": "one"
           }
          ],
          "end_time": "92.97",
          "id": 223,
          "start_time": "92.809",
          "type": "pronunciation"
         },
         {
          "alternatives": [
           {
            "confidence": "0.999",
            "content": "thing"
           }
          ],
          "end_time": "93.05",
          "id": 224,
          "start_time": "92.97",
          "type": "pronunciation"
         },
         {
          "alternatives": [
           {
            "confidence": "0.0",
            "content": ","
           }
          ],
          "id": 225,
          "type": "punctuation"
         },
         {
          "alternatives": [
           {
            "confidence": "0.994",
            "content": "there's"
           }
          ],
          "end_time": "93.29",
          "id": 226,
          "start_time": "93.11",
          "type": "pronunciation"
         },
         {
          "alternatives": [
           {
            "confidence": "0.999",
            "content": "no"
           }
          ],
          "end_time": "93.449",
          "id": 227,
          "start_time": "93.29",
          "type": "pronunciation"
         },
         {
          "alternatives": [
           {
            "confidence": "0.998",
            "content": "bodies"
           }
          ],
          "end_time": "94.199",
          "id": 228,
          "start_time": "93.449",
          "type": "pronunciation"
         },
         {
          "alternatives": [
           {
            "confidence": "0.0",
            "content": ","
           }
          ],
          "id": 229,
          "type": "punctuation"
         },
         {
          "alternatives": [
           {
            "confidence": "0.997",
            "content": "and"
           }
          ],
          "end_time": "95.029",
          "id": 230,
          "start_time": "94.529",
          "type": "pronunciation"
         },
         {
          "alternatives": [
           {
            "confidence": "0.99",
            "content": "Somebody"
           }
          ],
          "end_time": "96.949",
          "id": 231,
          "start_time": "96.55",
          "type": "pronunciation"
         },
         {
          "alternatives": [
           {
            "confidence": "0.999",
            "content": "was"
           }
          ],
          "end_time": "97.069",
          "id": 232,
          "start_time": "96.949",
          "type": "pronunciation"
         },
         {
          "alternatives": [
           {
            "confidence": "0.998",
            "content": "out"
           }
          ],
          "end_time": "97.389",
          "id": 233,
          "start_time": "97.069",
          "type": "pronunciation"
         },
         {
          "alternatives": [
           {
            "confidence": "0.999",
            "content": "there"
           }
          ],
          "end_time": "97.819",
          "id": 234,
          "start_time": "97.389",
          "type": "pronunciation"
         },
         {
          "alternatives": [
           {
            "confidence": "0.996",
            "content": "the"
           }
          ],
          "end_time": "98.11",
          "id": 235,
          "start_time": "97.989",
          "type": "pronunciation"
         },
         {
          "alternatives": [
           {
            "confidence": "0.998",
            "content": "day"
           }
          ],
          "end_time": "98.309",
          "id": 236,
          "start_time": "98.11",
          "type": "pronunciation"
         },
         {
          "alternatives": [
           {
            "confidence": "0.998",
            "content": "the"
           }
          ],
          "end_time": "98.43",
          "id": 237,
          "start_time": "98.309",
          "type": "pronunciation"
         },
         {
          "alternatives": [
           {
            "confidence": "0.999",
            "content": "last"
           }
          ],
          "end_time": "98.709",
          "id": 238,
          "start_time": "98.43",
          "type": "pronunciation"
         },
         {
          "alternatives": [
           {
            "confidence": "0.999",
            "content": "guy"
           }
          ],
          "end_time": "98.91",
          "id": 239,
          "start_time": "98.709",
          "type": "pronunciation"
         },
         {
          "alternatives": [
           {
            "confidence": "0.998",
            "content": "disappeared"
           }
          ],
          "end_time": "99.739",
          "id": 240,
          "start_time": "98.91",
          "type": "pronunciation"
         },
         {
          "alternatives": [
           {
            "confidence": "0.0",
            "content": "."
           }
          ],
          "id": 241,
          "type": "punctuation"
         },
         {
          "alternatives": [
           {
            "confidence": "0.997",
            "content": "A"
           }
          ],
          "end_time": "100.639",
          "id": 242,
          "start_time": "100.489",
          "type": "pronunciation"
         },
         {
          "alternatives": [
           {
            "confidence": "0.992",
            "content": "witness"
           }
          ],
          "end_time": "101.349",
          "id": 243,
          "start_time": "100.639",
          "type": "pronunciation"
         },
         {
          "alternatives": [
           {
            "confidence": "0.0",
            "content": ","
           }
          ],
          "id": 244,
          "type": "punctuation"
         },
         {
          "alternatives": [
           {
            "confidence": "0.926",
            "content": "yeah"
           }
          ],
          "end_time": "102.22",
          "id": 245,
          "start_time": "102.04",
          "type": "pronunciation"
         },
         {
          "alternatives": [
           {
            "confidence": "0.0",
            "content": ","
           }
          ],
          "id": 246,
          "type": "punctuation"
         },
         {
          "alternatives": [
           {
            "confidence": "0.996",
            "content": "a"
           }
          ],
          "end_time": "102.48",
          "id": 247,
          "start_time": "102.36",
          "type": "pronunciation"
         },
         {
          "alternatives": [
           {
            "confidence": "0.992",
            "content": "witness"
           }
          ],
          "end_time": "103.059",
          "id": 248,
          "start_time": "102.48",
          "type": "pronunciation"
         },
         {
          "alternatives": [
           {
            "confidence": "0.0",
            "content": "."
           }
          ],
          "id": 249,
          "type": "punctuation"
         },
         {
          "alternatives": [
           {
            "confidence": "0.952",
            "content": "Why"
           }
          ],
          "end_time": "103.4",
          "id": 250,
          "start_time": "103.279",
          "type": "pronunciation"
         },
         {
          "alternatives": [
           {
            "confidence": "0.994",
            "content": "didn't"
           }
          ],
          "end_time": "103.559",
          "id": 251,
          "start_time": "103.4",
          "type": "pronunciation"
         },
         {
          "alternatives": [
           {
            "confidence": "0.998",
            "content": "you"
           }
          ],
          "end_time": "103.639",
          "id": 252,
          "start_time": "103.559",
          "type": "pronunciation"
         },
         {
          "alternatives": [
           {
            "confidence": "0.999",
            "content": "say"
           }
          ],
          "end_time": "103.76",
          "id": 253,
          "start_time": "103.639",
          "type": "pronunciation"
         },
         {
          "alternatives": [
           {
            "confidence": "0.999",
            "content": "that"
           }
          ],
          "end_time": "103.839",
          "id": 254,
          "start_time": "103.76",
          "type": "pronunciation"
         },
         {
          "alternatives": [
           {
            "confidence": "0.999",
            "content": "in"
           }
          ],
          "end_time": "103.919",
          "id": 255,
          "start_time": "103.839",
          "type": "pronunciation"
         },
         {
          "alternatives": [
           {
            "confidence": "0.999",
            "content": "the"
           }
          ],
          "end_time": "104.04",
          "id": 256,
          "start_time": "103.919",
          "type": "pronunciation"
         },
         {
          "alternatives": [
           {
            "confidence": "0.999",
            "content": "first"
           }
          ],
          "end_time": "104.239",
          "id": 257,
          "start_time": "104.04",
          "type": "pronunciation"
         },
         {
          "alternatives": [
           {
            "confidence": "0.999",
            "content": "place"
           }
          ],
          "end_time": "105.01",
          "id": 258,
          "start_time": "104.239",
          "type": "pronunciation"
         },
         {
          "alternatives": [
           {
            "confidence": "0.0",
            "content": "?"
           }
          ],
          "id": 259,
          "type": "punctuation"
         },
         {
          "alternatives": [
           {
            "confidence": "0.996",
            "content": "Because"
           }
          ],
          "end_time": "105.639",
          "id": 260,
          "start_time": "105.37",
          "type": "pronunciation"
         },
         {
          "alternatives": [
           {
            "confidence": "0.998",
            "content": "I"
           }
          ],
          "end_time": "105.8",
          "id": 261,
          "start_time": "105.639",
          "type": "pronunciation"
         },
         {
          "alternatives": [
           {
            "confidence": "0.999",
            "content": "thought"
           }
          ],
          "end_time": "105.879",
          "id": 262,
          "start_time": "105.8",
          "type": "pronunciation"
         },
         {
          "alternatives": [
           {
            "confidence": "0.998",
            "content": "the"
           }
          ],
          "end_time": "106.08",
          "id": 263,
          "start_time": "105.879",
          "type": "pronunciation"
         },
         {
          "alternatives": [
           {
            "confidence": "0.999",
            "content": "guy"
           }
          ],
          "end_time": "106.279",
          "id": 264,
          "start_time": "106.08",
          "type": "pronunciation"
         },
         {
          "alternatives": [
           {
            "confidence": "0.999",
            "content": "was"
           }
          ],
          "end_time": "106.48",
          "id": 265,
          "start_time": "106.279",
          "type": "pronunciation"
         },
         {
          "alternatives": [
           {
            "confidence": "0.998",
            "content": "nuts"
           }
          ],
          "end_time": "107.26",
          "id": 266,
          "start_time": "106.48",
          "type": "pronunciation"
         },
         {
          "alternatives": [
           {
            "confidence": "0.0",
            "content": ","
           }
          ],
          "id": 267,
          "type": "punctuation"
         },
         {
          "alternatives": [
           {
            "confidence": "0.997",
            "content": "what"
           }
          ],
          "end_time": "107.569",
          "id": 268,
          "start_time": "107.44",
          "type": "pronunciation"
         },
         {
          "alternatives": [
           {
            "confidence": "0.999",
            "content": "he"
           }
          ],
          "end_time": "107.8",
          "id": 269,
          "start_time": "107.569",
          "type": "pronunciation"
         },
         {
          "alternatives": [
           {
            "confidence": "0.999",
            "content": "said"
           }
          ],
          "end_time": "108.16",
          "id": 270,
          "start_time": "107.8",
          "type": "pronunciation"
         },
         {
          "alternatives": [
           {
            "confidence": "0.0",
            "content": "."
           }
          ],
          "id": 271,
          "type": "punctuation"
         },
         {
          "alternatives": [
           {
            "confidence": "0.996",
            "content": "But"
           }
          ],
          "end_time": "109.48",
          "id": 272,
          "start_time": "109.25",
          "type": "pronunciation"
         },
         {
          "alternatives": [
           {
            "confidence": "0.997",
            "content": "now"
           }
          ],
          "end_time": "109.559",
          "id": 273,
          "start_time": "109.48",
          "type": "pronunciation"
         },
         {
          "alternatives": [
           {
            "confidence": "0.999",
            "content": "you"
           }
          ],
          "end_time": "109.8",
          "id": 274,
          "start_time": "109.559",
          "type": "pronunciation"
         },
         {
          "alternatives": [
           {
            "confidence": "0.999",
            "content": "believe"
           }
          ],
          "end_time": "109.919",
          "id": 275,
          "start_time": "109.8",
          "type": "pronunciation"
         },
         {
          "alternatives": [
           {
            "confidence": "0.977",
            "content": "him"
           }
          ],
          "end_time": "110.089",
          "id": 276,
          "start_time": "109.919",
          "type": "pronunciation"
         },
         {
          "alternatives": [
           {
            "confidence": "0.0",
            "content": "."
           }
          ],
          "id": 277,
          "type": "punctuation"
         },
         {
          "alternatives": [
           {
            "confidence": "0.999",
            "content": "I"
           }
          ],
          "end_time": "111.55",
          "id": 278,
          "start_time": "111.36",
          "type": "pronunciation"
         },
         {
          "alternatives": [
           {
            "confidence": "0.999",
            "content": "had"
           }
          ],
          "end_time": "111.669",
          "id": 279,
          "start_time": "111.55",
          "type": "pronunciation"
         },
         {
          "alternatives": [
           {
            "confidence": "0.999",
            "content": "him"
           }
          ],
          "end_time": "111.91",
          "id": 280,
          "start_time": "111.669",
          "type": "pronunciation"
         },
         {
          "alternatives": [
           {
            "confidence": "0.999",
            "content": "checked"
           }
          ],
          "end_time": "112.12",
          "id": 281,
          "start_time": "111.91",
          "type": "pronunciation"
         },
         {
          "alternatives": [
           {
            "confidence": "0.999",
            "content": "out"
           }
          ],
          "end_time": "112.349",
          "id": 282,
          "start_time": "112.12",
          "type": "pronunciation"
         },
         {
          "alternatives": [
           {
            "confidence": "0.999",
            "content": "too"
           }
          ],
          "end_time": "112.589",
          "id": 283,
          "start_time": "112.349",
          "type": "pronunciation"
         },
         {
          "alternatives": [
           {
            "confidence": "0.0",
            "content": "."
           }
          ],
          "id": 284,
          "type": "punctuation"
         },
         {
          "alternatives": [
           {
            "confidence": "0.53",
            "content": "The"
           }
          ],
          "end_time": "112.79",
          "id": 285,
          "start_time": "112.779",
          "type": "pronunciation"
         },
         {
          "alternatives": [
           {
            "confidence": "0.969",
            "content": "guy's"
           }
          ],
          "end_time": "112.949",
          "id": 286,
          "start_time": "112.79",
          "type": "pronunciation"
         },
         {
          "alternatives": [
           {
            "confidence": "0.997",
            "content": "a"
           }
          ],
          "end_time": "113.069",
          "id": 287,
          "start_time": "112.949",
          "type": "pronunciation"
         },
         {
          "alternatives": [
           {
            "confidence": "0.989",
            "content": "goddamn"
           }
          ],
          "end_time": "113.379",
          "id": 288,
          "start_time": "113.069",
          "type": "pronunciation"
         },
         {
          "alternatives": [
           {
            "confidence": "0.995",
            "content": "Eagle"
           }
          ],
          "end_time": "113.669",
          "id": 289,
          "start_time": "113.379",
          "type": "pronunciation"
         },
         {
          "alternatives": [
           {
            "confidence": "0.995",
            "content": "Scout"
           }
          ],
          "end_time": "114.239",
          "id": 290,
          "start_time": "113.669",
          "type": "pronunciation"
         },
         {
          "alternatives": [
           {
            "confidence": "0.0",
            "content": "."
           }
          ],
          "id": 291,
          "type": "punctuation"
         },
         {
          "alternatives": [
           {
            "confidence": "0.91",
            "content": "So"
           }
          ],
          "end_time": "114.79",
          "id": 292,
          "start_time": "114.629",
          "type": "pronunciation"
         },
         {
          "alternatives": [
           {
            "confidence": "0.999",
            "content": "now"
           }
          ],
          "end_time": "115.339",
          "id": 293,
          "start_time": "114.79",
          "type": "pronunciation"
         },
         {
          "alternatives": [
           {
            "confidence": "0.0",
            "content": ","
           }
          ],
          "id": 294,
          "type": "punctuation"
         },
         {
          "alternatives": [
           {
            "confidence": "0.997",
            "content": "now"
           }
          ],
          "end_time": "116.069",
          "id": 295,
          "start_time": "115.91",
          "type": "pronunciation"
         },
         {
          "alternatives": [
           {
            "confidence": "0.999",
            "content": "I"
           }
          ],
          "end_time": "116.18",
          "id": 296,
          "start_time": "116.069",
          "type": "pronunciation"
         },
         {
          "alternatives": [
           {
            "confidence": "0.999",
            "content": "don't"
           }
          ],
          "end_time": "116.309",
          "id": 297,
          "start_time": "116.18",
          "type": "pronunciation"
         },
         {
          "alternatives": [
           {
            "confidence": "0.999",
            "content": "know"
           }
          ],
          "end_time": "116.389",
          "id": 298,
          "start_time": "116.309",
          "type": "pronunciation"
         },
         {
          "alternatives": [
           {
            "confidence": "0.999",
            "content": "what"
           }
          ],
          "end_time": "116.589",
          "id": 299,
          "start_time": "116.389",
          "type": "pronunciation"
         },
         {
          "alternatives": [
           {
            "confidence": "0.998",
            "content": "to"
           }
          ],
          "end_time": "116.75",
          "id": 300,
          "start_time": "116.589",
          "type": "pronunciation"
         },
         {
          "alternatives": [
           {
            "confidence": "0.999",
            "content": "believe"
           }
          ],
          "end_time": "117.22",
          "id": 301,
          "start_time": "116.75",
          "type": "pronunciation"
         },
         {
          "alternatives": [
           {
            "confidence": "0.0",
            "content": "."
           }
          ],
          "id": 302,
          "type": "punctuation"
         },
         {
          "alternatives": [
           {
            "confidence": "0.998",
            "content": "I"
           }
          ],
          "end_time": "117.75",
          "id": 303,
          "start_time": "117.629",
          "type": "pronunciation"
         },
         {
          "alternatives": [
           {
            "confidence": "0.998",
            "content": "know"
           }
          ],
          "end_time": "117.87",
          "id": 304,
          "start_time": "117.75",
          "type": "pronunciation"
         },
         {
          "alternatives": [
           {
            "confidence": "0.999",
            "content": "I"
           }
          ],
          "end_time": "117.949",
          "id": 305,
          "start_time": "117.87",
          "type": "pronunciation"
         },
         {
          "alternatives": [
           {
            "confidence": "0.998",
            "content": "don't"
           }
          ],
          "end_time": "118.11",
          "id": 306,
          "start_time": "117.949",
          "type": "pronunciation"
         },
         {
          "alternatives": [
           {
            "confidence": "0.945",
            "content": "want"
           }
          ],
          "end_time": "118.19",
          "id": 307,
          "start_time": "118.11",
          "type": "pronunciation"
         },
         {
          "alternatives": [
           {
            "confidence": "0.945",
            "content": "to"
           }
          ],
          "end_time": "118.389",
          "id": 308,
          "start_time": "118.19",
          "type": "pronunciation"
         },
         {
          "alternatives": [
           {
            "confidence": "0.999",
            "content": "believe"
           }
          ],
          "end_time": "118.55",
          "id": 309,
          "start_time": "118.389",
          "type": "pronunciation"
         },
         {
          "alternatives": [
           {
            "confidence": "0.999",
            "content": "him"
           }
          ],
          "end_time": "118.87",
          "id": 310,
          "start_time": "118.55",
          "type": "pronunciation"
         },
         {
          "alternatives": [
           {
            "confidence": "0.0",
            "content": "."
           }
          ],
          "id": 311,
          "type": "punctuation"
         },
         {
          "alternatives": [
           {
            "confidence": "0.996",
            "content": "What"
           }
          ],
          "end_time": "120.04",
          "id": 312,
          "start_time": "119.809",
          "type": "pronunciation"
         },
         {
          "alternatives": [
           {
            "confidence": "0.997",
            "content": "did"
           }
          ],
          "end_time": "120.12",
          "id": 313,
          "start_time": "120.04",
          "type": "pronunciation"
         },
         {
          "alternatives": [
           {
            "confidence": "0.998",
            "content": "he"
           }
          ],
          "end_time": "120.319",
          "id": 314,
          "start_time": "120.12",
          "type": "pronunciation"
         },
         {
          "alternatives": [
           {
            "confidence": "0.998",
            "content": "say"
           }
          ],
          "end_time": "120.68",
          "id": 315,
          "start_time": "120.319",
          "type": "pronunciation"
         },
         {
          "alternatives": [
           {
            "confidence": "0.0",
            "content": "?"
           }
          ],
          "id": 316,
          "type": "punctuation"
         },
         {
          "alternatives": [
           {
            "confidence": "0.996",
            "content": "He"
           }
          ],
          "end_time": "121.0",
          "id": 317,
          "start_time": "120.839",
          "type": "pronunciation"
         },
         {
          "alternatives": [
           {
            "confidence": "0.999",
            "content": "said"
           }
          ],
          "end_time": "121.12",
          "id": 318,
          "start_time": "121.0",
          "type": "pronunciation"
         },
         {
          "alternatives": [
           {
            "confidence": "0.998",
            "content": "he"
           }
          ],
          "end_time": "121.199",
          "id": 319,
          "start_time": "121.12",
          "type": "pronunciation"
         },
         {
          "alternatives": [
           {
            "confidence": "0.999",
            "content": "was"
           }
          ],
          "end_time": "121.319",
          "id": 320,
          "start_time": "121.199",
          "type": "pronunciation"
         },
         {
          "alternatives": [
           {
            "confidence": "0.998",
            "content": "out"
           }
          ],
          "end_time": "121.559",
          "id": 321,
          "start_time": "121.319",
          "type": "pronunciation"
         },
         {
          "alternatives": [
           {
            "confidence": "0.998",
            "content": "there"
           }
          ],
          "end_time": "121.8",
          "id": 322,
          "start_time": "121.559",
          "type": "pronunciation"
         },
         {
          "alternatives": [
           {
            "confidence": "0.996",
            "content": "walking"
           }
          ],
          "end_time": "122.12",
          "id": 323,
          "start_time": "121.8",
          "type": "pronunciation"
         },
         {
          "alternatives": [
           {
            "confidence": "0.998",
            "content": "his"
           }
          ],
          "end_time": "122.319",
          "id": 324,
          "start_time": "122.12",
          "type": "pronunciation"
         },
         {
          "alternatives": [
           {
            "confidence": "0.999",
            "content": "dog"
           }
          ],
          "end_time": "122.639",
          "id": 325,
          "start_time": "122.319",
          "type": "pronunciation"
         },
         {
          "alternatives": [
           {
            "confidence": "0.998",
            "content": "along"
           }
          ],
          "end_time": "122.76",
          "id": 326,
          "start_time": "122.639",
          "type": "pronunciation"
         },
         {
          "alternatives": [
           {
            "confidence": "0.999",
            "content": "the"
           }
          ],
          "end_time": "122.879",
          "id": 327,
          "start_time": "122.76",
          "type": "pronunciation"
         },
         {
          "alternatives": [
           {
            "confidence": "0.995",
            "content": "bluffs"
           }
          ],
          "end_time": "123.239",
          "id": 328,
          "start_time": "122.879",
          "type": "pronunciation"
         },
         {
          "alternatives": [
           {
            "confidence": "0.995",
            "content": "above"
           }
          ],
          "end_time": "123.519",
          "id": 329,
          "start_time": "123.239",
          "type": "pronunciation"
         },
         {
          "alternatives": [
           {
            "confidence": "0.897",
            "content": "El"
           }
          ],
          "end_time": "123.72",
          "id": 330,
          "start_time": "123.519",
          "type": "pronunciation"
         },
         {
          "alternatives": [
           {
            "confidence": "0.892",
            "content": "Matador"
           }
          ],
          "end_time": "124.16",
          "id": 331,
          "start_time": "123.72",
          "type": "pronunciation"
         },
         {
          "alternatives": [
           {
            "confidence": "0.0",
            "content": ","
           }
          ],
          "id": 332,
          "type": "punctuation"
         },
         {
          "alternatives": [
           {
            "confidence": "0.997",
            "content": "right"
           }
          ],
          "end_time": "124.4",
          "id": 333,
          "start_time": "124.199",
          "type": "pronunciation"
         },
         {
          "alternatives": [
           {
            "confidence": "0.0",
            "content": "?"
           }
          ],
          "id": 334,
          "type": "punctuation"
         },
         {
          "alternatives": [
           {
            "confidence": "0.997",
            "content": "And"
           }
          ],
          "end_time": "125.36",
          "id": 335,
          "start_time": "125.129",
          "type": "pronunciation"
         },
         {
          "alternatives": [
           {
            "confidence": "0.998",
            "content": "he"
           }
          ],
          "end_time": "125.519",
          "id": 336,
          "start_time": "125.36",
          "type": "pronunciation"
         },
         {
          "alternatives": [
           {
            "confidence": "0.998",
            "content": "looks"
           }
          ],
          "end_time": "125.72",
          "id": 337,
          "start_time": "125.519",
          "type": "pronunciation"
         },
         {
          "alternatives": [
           {
            "confidence": "0.998",
            "content": "down"
           }
          ],
          "end_time": "125.839",
          "id": 338,
          "start_time": "125.72",
          "type": "pronunciation"
         },
         {
          "alternatives": [
           {
            "confidence": "0.996",
            "content": "at"
           }
          ],
          "end_time": "125.849",
          "id": 339,
          "start_time": "125.839",
          "type": "pronunciation"
         },
         {
          "alternatives": [
           {
            "confidence": "0.999",
            "content": "the"
           }
          ],
          "end_time": "126.08",
          "id": 340,
          "start_time": "125.849",
          "type": "pronunciation"
         },
         {
          "alternatives": [
           {
            "confidence": "0.999",
            "content": "beach"
           }
          ],
          "end_time": "126.319",
          "id": 341,
          "start_time": "126.08",
          "type": "pronunciation"
         },
         {
          "alternatives": [
           {
            "confidence": "0.997",
            "content": "at"
           }
          ],
          "end_time": "126.44",
          "id": 342,
          "start_time": "126.319",
          "type": "pronunciation"
         },
         {
          "alternatives": [
           {
            "confidence": "0.999",
            "content": "that"
           }
          ],
          "end_time": "126.639",
          "id": 343,
          "start_time": "126.44",
          "type": "pronunciation"
         },
         {
          "alternatives": [
           {
            "confidence": "0.999",
            "content": "huge"
           }
          ],
          "end_time": "127.08",
          "id": 344,
          "start_time": "126.639",
          "type": "pronunciation"
         },
         {
          "alternatives": [
           {
            "confidence": "0.999",
            "content": "rock"
           }
          ],
          "end_time": "127.309",
          "id": 345,
          "start_time": "127.08",
          "type": "pronunciation"
         },
         {
          "alternatives": [
           {
            "confidence": "0.0",
            "content": ","
           }
          ],
          "id": 346,
          "type": "punctuation"
         },
         {
          "alternatives": [
           {
            "confidence": "0.997",
            "content": "you"
           }
          ],
          "end_time": "127.48",
          "id": 347,
          "start_time": "127.4",
          "type": "pronunciation"
         },
         {
          "alternatives": [
           {
            "confidence": "0.998",
            "content": "know"
           }
          ],
          "end_time": "127.519",
          "id": 348,
          "start_time": "127.48",
          "type": "pronunciation"
         },
         {
          "alternatives": [
           {
            "confidence": "0.0",
            "content": ","
           }
          ],
          "id": 349,
          "type": "punctuation"
         },
         {
          "alternatives": [
           {
            "confidence": "0.998",
            "content": "the"
           }
          ],
          "end_time": "127.68",
          "id": 350,
          "start_time": "127.599",
          "type": "pronunciation"
         },
         {
          "alternatives": [
           {
            "confidence": "0.999",
            "content": "one"
           }
          ],
          "end_time": "127.839",
          "id": 351,
          "start_time": "127.68",
          "type": "pronunciation"
         },
         {
          "alternatives": [
           {
            "confidence": "0.991",
            "content": "that's"
           }
          ],
          "end_time": "128.039",
          "id": 352,
          "start_time": "127.839",
          "type": "pronunciation"
         },
         {
          "alternatives": [
           {
            "confidence": "0.995",
            "content": "separated"
           }
          ],
          "end_time": "128.399",
          "id": 353,
          "start_time": "128.039",
          "type": "pronunciation"
         },
         {
          "alternatives": [
           {
            "confidence": "0.998",
            "content": "from"
           }
          ],
          "end_time": "128.479",
          "id": 354,
          "start_time": "128.399",
          "type": "pronunciation"
         },
         {
          "alternatives": [
           {
            "confidence": "0.996",
            "content": "the"
           }
          ],
          "end_time": "128.6",
          "id": 355,
          "start_time": "128.479",
          "type": "pronunciation"
         },
         {
          "alternatives": [
           {
            "confidence": "0.998",
            "content": "mainland"
           }
          ],
          "end_time": "129.08",
          "id": 356,
          "start_time": "128.6",
          "type": "pronunciation"
         },
         {
          "alternatives": [
           {
            "confidence": "0.997",
            "content": "right"
           }
          ],
          "end_time": "129.24",
          "id": 357,
          "start_time": "129.08",
          "type": "pronunciation"
         },
         {
          "alternatives": [
           {
            "confidence": "0.998",
            "content": "where"
           }
          ],
          "end_time": "129.32",
          "id": 358,
          "start_time": "129.24",
          "type": "pronunciation"
         },
         {
          "alternatives": [
           {
            "confidence": "0.999",
            "content": "the"
           }
          ],
          "end_time": "129.399",
          "id": 359,
          "start_time": "129.32",
          "type": "pronunciation"
         },
         {
          "alternatives": [
           {
            "confidence": "0.998",
            "content": "ocean"
           }
          ],
          "end_time": "129.72",
          "id": 360,
          "start_time": "129.399",
          "type": "pronunciation"
         },
         {
          "alternatives": [
           {
            "confidence": "0.997",
            "content": "meets"
           }
          ],
          "end_time": "129.919",
          "id": 361,
          "start_time": "129.72",
          "type": "pronunciation"
         },
         {
          "alternatives": [
           {
            "confidence": "0.997",
            "content": "the"
           }
          ],
          "end_time": "129.96",
          "id": 362,
          "start_time": "129.919",
          "type": "pronunciation"
         },
         {
          "alternatives": [
           {
            "confidence": "0.994",
            "content": "shore"
           }
          ],
          "end_time": "130.55",
          "id": 363,
          "start_time": "129.96",
          "type": "pronunciation"
         },
         {
          "alternatives": [
           {
            "confidence": "0.0",
            "content": "."
           }
          ],
          "id": 364,
          "type": "punctuation"
         },
         {
          "alternatives": [
           {
            "confidence": "0.863",
            "content": "His"
           }
          ],
          "end_time": "131.63",
          "id": 365,
          "start_time": "131.399",
          "type": "pronunciation"
         },
         {
          "alternatives": [
           {
            "confidence": "0.999",
            "content": "words"
           }
          ],
          "end_time": "132.429",
          "id": 366,
          "start_time": "131.63",
          "type": "pronunciation"
         },
         {
          "alternatives": [
           {
            "confidence": "0.996",
            "content": "looks"
           }
          ],
          "end_time": "133.08",
          "id": 367,
          "start_time": "132.839",
          "type": "pronunciation"
         },
         {
          "alternatives": [
           {
            "confidence": "0.999",
            "content": "like"
           }
          ],
          "end_time": "133.309",
          "id": 368,
          "start_time": "133.08",
          "type": "pronunciation"
         },
         {
          "alternatives": [
           {
            "confidence": "0.995",
            "content": "a"
           }
          ],
          "end_time": "133.639",
          "id": 369,
          "start_time": "133.309",
          "type": "pronunciation"
         },
         {
          "alternatives": [
           {
            "confidence": "0.0",
            "content": ","
           }
          ],
          "id": 370,
          "type": "punctuation"
         },
         {
          "alternatives": [
           {
            "confidence": "0.998",
            "content": "like"
           }
          ],
          "end_time": "134.0",
          "id": 371,
          "start_time": "133.839",
          "type": "pronunciation"
         },
         {
          "alternatives": [
           {
            "confidence": "0.998",
            "content": "a"
           }
          ],
          "end_time": "134.199",
          "id": 372,
          "start_time": "134.0",
          "type": "pronunciation"
         },
         {
          "alternatives": [
           {
            "confidence": "0.997",
            "content": "mythic"
           }
          ],
          "end_time": "134.809",
          "id": 373,
          "start_time": "134.199",
          "type": "pronunciation"
         },
         {
          "alternatives": [
           {
            "confidence": "0.999",
            "content": "sea"
           }
          ],
          "end_time": "135.1",
          "id": 374,
          "start_time": "134.809",
          "type": "pronunciation"
         },
         {
          "alternatives": [
           {
            "confidence": "0.998",
            "content": "creature"
           }
          ],
          "end_time": "135.44",
          "id": 375,
          "start_time": "135.1",
          "type": "pronunciation"
         },
         {
          "alternatives": [
           {
            "confidence": "0.0",
            "content": ","
           }
          ],
          "id": 376,
          "type": "punctuation"
         },
         {
          "alternatives": [
           {
            "confidence": "0.997",
            "content": "you"
           }
          ],
          "end_time": "135.559",
          "id": 377,
          "start_time": "135.479",
          "type": "pronunciation"
         },
         {
          "alternatives": [
           {
            "confidence": "0.998",
            "content": "know"
           }
          ],
          "end_time": "135.72",
          "id": 378,
          "start_time": "135.559",
          "type": "pronunciation"
         },
         {
          "alternatives": [
           {
            "confidence": "0.998",
            "content": "that"
           }
          ],
          "end_time": "136.0",
          "id": 379,
          "start_time": "135.72",
          "type": "pronunciation"
         },
         {
          "alternatives": [
           {
            "confidence": "0.999",
            "content": "one"
           }
          ],
          "end_time": "136.55",
          "id": 380,
          "start_time": "136.0",
          "type": "pronunciation"
         },
         {
          "alternatives": [
           {
            "confidence": "0.0",
            "content": "."
           }
          ],
          "id": 381,
          "type": "punctuation"
         },
         {
          "alternatives": [
           {
            "confidence": "0.93",
            "content": "Anyway"
           }
          ],
          "end_time": "137.399",
          "id": 382,
          "start_time": "137.22",
          "type": "pronunciation"
         },
         {
          "alternatives": [
           {
            "confidence": "0.0",
            "content": ","
           }
          ],
          "id": 383,
          "type": "punctuation"
         },
         {
          "alternatives": [
           {
            "confidence": "0.997",
            "content": "he"
           }
          ],
          "end_time": "137.6",
          "id": 384,
          "start_time": "137.46",
          "type": "pronunciation"
         },
         {
          "alternatives": [
           {
            "confidence": "0.998",
            "content": "looks"
           }
          ],
          "end_time": "137.839",
          "id": 385,
          "start_time": "137.6",
          "type": "pronunciation"
         },
         {
          "alternatives": [
           {
            "confidence": "0.999",
            "content": "down"
           }
          ],
          "end_time": "138.0",
          "id": 386,
          "start_time": "137.839",
          "type": "pronunciation"
         },
         {
          "alternatives": [
           {
            "confidence": "0.999",
            "content": "there"
           }
          ],
          "end_time": "138.139",
          "id": 387,
          "start_time": "138.0",
          "type": "pronunciation"
         },
         {
          "alternatives": [
           {
            "confidence": "0.998",
            "content": "and"
           }
          ],
          "end_time": "138.279",
          "id": 388,
          "start_time": "138.139",
          "type": "pronunciation"
         },
         {
          "alternatives": [
           {
            "confidence": "0.995",
            "content": "there's"
           }
          ],
          "end_time": "138.479",
          "id": 389,
          "start_time": "138.279",
          "type": "pronunciation"
         },
         {
          "alternatives": [
           {
            "confidence": "0.999",
            "content": "a"
           }
          ],
          "end_time": "138.679",
          "id": 390,
          "start_time": "138.479",
          "type": "pronunciation"
         },
         {
          "alternatives": [
           {
            "confidence": "0.999",
            "content": "guy"
           }
          ],
          "end_time": "139.19",
          "id": 391,
          "start_time": "138.679",
          "type": "pronunciation"
         },
         {
          "alternatives": [
           {
            "confidence": "0.99",
            "content": "who's"
           }
          ],
          "end_time": "139.639",
          "id": 392,
          "start_time": "139.19",
          "type": "pronunciation"
         },
         {
          "alternatives": [
           {
            "confidence": "0.999",
            "content": "on"
           }
          ],
          "end_time": "139.919",
          "id": 393,
          "start_time": "139.639",
          "type": "pronunciation"
         },
         {
          "alternatives": [
           {
            "confidence": "0.999",
            "content": "top"
           }
          ],
          "end_time": "140.08",
          "id": 394,
          "start_time": "139.919",
          "type": "pronunciation"
         },
         {
          "alternatives": [
           {
            "confidence": "0.999",
            "content": "of"
           }
          ],
          "end_time": "140.199",
          "id": 395,
          "start_time": "140.08",
          "type": "pronunciation"
         },
         {
          "alternatives": [
           {
            "confidence": "0.999",
            "content": "that"
           }
          ],
          "end_time": "140.44",
          "id": 396,
          "start_time": "140.199",
          "type": "pronunciation"
         },
         {
          "alternatives": [
           {
            "confidence": "0.999",
            "content": "rock"
           }
          ],
          "end_time": "140.949",
          "id": 397,
          "start_time": "140.44",
          "type": "pronunciation"
         },
         {
          "alternatives": [
           {
            "confidence": "0.0",
            "content": ","
           }
          ],
          "id": 398,
          "type": "punctuation"
         },
         {
          "alternatives": [
           {
            "confidence": "0.998",
            "content": "and"
           }
          ],
          "end_time": "141.72",
          "id": 399,
          "start_time": "141.639",
          "type": "pronunciation"
         },
         {
          "alternatives": [
           {
            "confidence": "0.996",
            "content": "he's"
           }
          ],
          "end_time": "141.919",
          "id": 400,
          "start_time": "141.72",
          "type": "pronunciation"
         },
         {
          "alternatives": [
           {
            "confidence": "0.999",
            "content": "thinking"
           }
          ],
          "end_time": "142.119",
          "id": 401,
          "start_time": "141.919",
          "type": "pronunciation"
         },
         {
          "alternatives": [
           {
            "confidence": "0.998",
            "content": "to"
           }
          ],
          "end_time": "142.32",
          "id": 402,
          "start_time": "142.119",
          "type": "pronunciation"
         },
         {
          "alternatives": [
           {
            "confidence": "0.999",
            "content": "himself"
           }
          ],
          "end_time": "142.55",
          "id": 403,
          "start_time": "142.32",
          "type": "pronunciation"
         },
         {
          "alternatives": [
           {
            "confidence": "0.0",
            "content": ","
           }
          ],
          "id": 404,
          "type": "punctuation"
         },
         {
          "alternatives": [
           {
            "confidence": "0.996",
            "content": "how"
           }
          ],
          "end_time": "142.88",
          "id": 405,
          "start_time": "142.759",
          "type": "pronunciation"
         },
         {
          "alternatives": [
           {
            "confidence": "0.999",
            "content": "the"
           }
          ],
          "end_time": "143.039",
          "id": 406,
          "start_time": "142.88",
          "type": "pronunciation"
         },
         {
          "alternatives": [
           {
            "confidence": "0.999",
            "content": "hell"
           }
          ],
          "end_time": "143.16",
          "id": 407,
          "start_time": "143.039",
          "type": "pronunciation"
         },
         {
          "alternatives": [
           {
            "confidence": "0.997",
            "content": "do"
           }
          ],
          "end_time": "143.24",
          "id": 408,
          "start_time": "143.16",
          "type": "pronunciation"
         },
         {
          "alternatives": [
           {
            "confidence": "0.999",
            "content": "you"
           }
          ],
          "end_time": "143.36",
          "id": 409,
          "start_time": "143.24",
          "type": "pronunciation"
         },
         {
          "alternatives": [
           {
            "confidence": "0.999",
            "content": "get"
           }
          ],
          "end_time": "143.479",
          "id": 410,
          "start_time": "143.36",
          "type": "pronunciation"
         },
         {
          "alternatives": [
           {
            "confidence": "0.999",
            "content": "up"
           }
          ],
          "end_time": "143.6",
          "id": 411,
          "start_time": "143.479",
          "type": "pronunciation"
         },
         {
          "alternatives": [
           {
            "confidence": "0.998",
            "content": "there"
           }
          ],
          "end_time": "143.72",
          "id": 412,
          "start_time": "143.6",
          "type": "pronunciation"
         },
         {
          "alternatives": [
           {
            "confidence": "0.0",
            "content": "?"
           }
          ],
          "id": 413,
          "type": "punctuation"
         },
         {
          "alternatives": [
           {
            "confidence": "0.984",
            "content": "You"
           }
          ],
          "end_time": "143.88",
          "id": 414,
          "start_time": "143.759",
          "type": "pronunciation"
         },
         {
          "alternatives": [
           {
            "confidence": "0.996",
            "content": "gotta"
           }
          ],
          "end_time": "144.039",
          "id": 415,
          "start_time": "143.88",
          "type": "pronunciation"
         },
         {
          "alternatives": [
           {
            "confidence": "0.999",
            "content": "be"
           }
          ],
          "end_time": "144.11",
          "id": 416,
          "start_time": "144.039",
          "type": "pronunciation"
         },
         {
          "alternatives": [
           {
            "confidence": "0.997",
            "content": "a"
           }
          ],
          "end_time": "144.279",
          "id": 417,
          "start_time": "144.11",
          "type": "pronunciation"
         },
         {
          "alternatives": [
           {
            "confidence": "0.99",
            "content": "goddamn"
           }
          ],
          "end_time": "144.72",
          "id": 418,
          "start_time": "144.279",
          "type": "pronunciation"
         },
         {
          "alternatives": [
           {
            "confidence": "0.998",
            "content": "mountain"
           }
          ],
          "end_time": "145.039",
          "id": 419,
          "start_time": "144.72",
          "type": "pronunciation"
         },
         {
          "alternatives": [
           {
            "confidence": "0.996",
            "content": "climber"
           }
          ],
          "end_time": "145.669",
          "id": 420,
          "start_time": "145.039",
          "type": "pronunciation"
         },
         {
          "alternatives": [
           {
            "confidence": "0.0",
            "content": "."
           }
          ],
          "id": 421,
          "type": "punctuation"
         },
         {
          "alternatives": [
           {
            "confidence": "0.855",
            "content": "But"
           }
          ],
          "end_time": "146.119",
          "id": 422,
          "start_time": "146.0",
          "type": "pronunciation"
         },
         {
          "alternatives": [
           {
            "confidence": "0.999",
            "content": "more"
           }
          ],
          "end_time": "146.399",
          "id": 423,
          "start_time": "146.119",
          "type": "pronunciation"
         },
         {
          "alternatives": [
           {
            "confidence": "0.999",
            "content": "importantly"
           }
          ],
          "end_time": "146.72",
          "id": 424,
          "start_time": "146.399",
          "type": "pronunciation"
         },
         {
          "alternatives": [
           {
            "confidence": "0.0",
            "content": ","
           }
          ],
          "id": 425,
          "type": "punctuation"
         },
         {
          "alternatives": [
           {
            "confidence": "0.997",
            "content": "he"
           }
          ],
          "end_time": "146.88",
          "id": 426,
          "start_time": "146.759",
          "type": "pronunciation"
         },
         {
          "alternatives": [
           {
            "confidence": "0.998",
            "content": "says"
           }
          ],
          "end_time": "147.039",
          "id": 427,
          "start_time": "146.88",
          "type": "pronunciation"
         },
         {
          "alternatives": [
           {
            "confidence": "0.997",
            "content": "the"
           }
          ],
          "end_time": "147.16",
          "id": 428,
          "start_time": "147.039",
          "type": "pronunciation"
         },
         {
          "alternatives": [
           {
            "confidence": "0.99",
            "content": "guy's"
           }
          ],
          "end_time": "147.44",
          "id": 429,
          "start_time": "147.16",
          "type": "pronunciation"
         },
         {
          "alternatives": [
           {
            "confidence": "0.998",
            "content": "acting"
           }
          ],
          "end_time": "147.8",
          "id": 430,
          "start_time": "147.44",
          "type": "pronunciation"
         },
         {
          "alternatives": [
           {
            "confidence": "0.999",
            "content": "really"
           }
          ],
          "end_time": "148.119",
          "id": 431,
          "start_time": "147.8",
          "type": "pronunciation"
         },
         {
          "alternatives": [
           {
            "confidence": "0.999",
            "content": "funny"
           }
          ],
          "end_time": "148.509",
          "id": 432,
          "start_time": "148.119",
          "type": "pronunciation"
         },
         {
          "alternatives": [
           {
            "confidence": "0.0",
            "content": "."
           }
          ],
          "id": 433,
          "type": "punctuation"
         },
         {
          "alternatives": [
           {
            "confidence": "0.749",
            "content": "He's"
           }
          ],
          "end_time": "148.8",
          "id": 434,
          "start_time": "148.6",
          "type": "pronunciation"
         },
         {
          "alternatives": [
           {
            "confidence": "0.999",
            "content": "looking"
           }
          ],
          "end_time": "149.279",
          "id": 435,
          "start_time": "148.8",
          "type": "pronunciation"
         },
         {
          "alternatives": [
           {
            "confidence": "0.999",
            "content": "all"
           }
          ],
          "end_time": "149.52",
          "id": 436,
          "start_time": "149.279",
          "type": "pronunciation"
         },
         {
          "alternatives": [
           {
            "confidence": "0.999",
            "content": "over"
           }
          ],
          "end_time": "149.759",
          "id": 437,
          "start_time": "149.52",
          "type": "pronunciation"
         },
         {
          "alternatives": [
           {
            "confidence": "0.999",
            "content": "that"
           }
          ],
          "end_time": "149.96",
          "id": 438,
          "start_time": "149.759",
          "type": "pronunciation"
         },
         {
          "alternatives": [
           {
            "confidence": "0.999",
            "content": "rock"
           }
          ],
          "end_time": "150.19",
          "id": 439,
          "start_time": "149.96",
          "type": "pronunciation"
         },
         {
          "alternatives": [
           {
            "confidence": "0.997",
            "content": "like"
           }
          ],
          "end_time": "150.36",
          "id": 440,
          "start_time": "150.19",
          "type": "pronunciation"
         },
         {
          "alternatives": [
           {
            "confidence": "0.993",
            "content": "he's"
           }
          ],
          "end_time": "150.52",
          "id": 441,
          "start_time": "150.36",
          "type": "pronunciation"
         },
         {
          "alternatives": [
           {
            "confidence": "0.999",
            "content": "looking"
           }
          ],
          "end_time": "150.759",
          "id": 442,
          "start_time": "150.52",
          "type": "pronunciation"
         },
         {
          "alternatives": [
           {
            "confidence": "0.999",
            "content": "for"
           }
          ],
          "end_time": "150.949",
          "id": 443,
          "start_time": "150.759",
          "type": "pronunciation"
         },
         {
          "alternatives": [
           {
            "confidence": "0.999",
            "content": "something"
           }
          ],
          "end_time": "151.559",
          "id": 444,
          "start_time": "150.949",
          "type": "pronunciation"
         },
         {
          "alternatives": [
           {
            "confidence": "0.999",
            "content": "or"
           }
          ],
          "end_time": "151.8",
          "id": 445,
          "start_time": "151.559",
          "type": "pronunciation"
         },
         {
          "alternatives": [
           {
            "confidence": "0.999",
            "content": "someone"
           }
          ],
          "end_time": "152.36",
          "id": 446,
          "start_time": "151.8",
          "type": "pronunciation"
         },
         {
          "alternatives": [
           {
            "confidence": "0.0",
            "content": "."
           }
          ],
          "id": 447,
          "type": "punctuation"
         },
         {
          "alternatives": [
           {
            "confidence": "0.997",
            "content": "At"
           }
          ],
          "end_time": "153.86",
          "id": 448,
          "start_time": "153.63",
          "type": "pronunciation"
         },
         {
          "alternatives": [
           {
            "confidence": "0.999",
            "content": "that"
           }
          ],
          "end_time": "154.059",
          "id": 449,
          "start_time": "153.86",
          "type": "pronunciation"
         },
         {
          "alternatives": [
           {
            "confidence": "0.999",
            "content": "very"
           }
          ],
          "end_time": "154.309",
          "id": 450,
          "start_time": "154.059",
          "type": "pronunciation"
         },
         {
          "alternatives": [
           {
            "confidence": "0.999",
            "content": "moment"
           }
          ],
          "end_time": "155.229",
          "id": 451,
          "start_time": "154.309",
          "type": "pronunciation"
         },
         {
          "alternatives": [
           {
            "confidence": "0.0",
            "content": ","
           }
          ],
          "id": 452,
          "type": "punctuation"
         },
         {
          "alternatives": [
           {
            "confidence": "0.998",
            "content": "he"
           }
          ],
          "end_time": "155.699",
          "id": 453,
          "start_time": "155.539",
          "type": "pronunciation"
         },
         {
          "alternatives": [
           {
            "confidence": "0.998",
            "content": "says"
           }
          ],
          "end_time": "155.85",
          "id": 454,
          "start_time": "155.699",
          "type": "pronunciation"
         },
         {
          "alternatives": [
           {
            "confidence": "0.997",
            "content": "it"
           }
          ],
          "end_time": "155.979",
          "id": 455,
          "start_time": "155.85",
          "type": "pronunciation"
         },
         {
          "alternatives": [
           {
            "confidence": "0.999",
            "content": "got"
           }
          ],
          "end_time": "156.3",
          "id": 456,
          "start_time": "155.979",
          "type": "pronunciation"
         },
         {
          "alternatives": [
           {
            "confidence": "0.999",
            "content": "really"
           }
          ],
          "end_time": "156.529",
          "id": 457,
          "start_time": "156.3",
          "type": "pronunciation"
         },
         {
          "alternatives": [
           {
            "confidence": "0.0",
            "content": ","
           }
          ],
          "id": 458,
          "type": "punctuation"
         },
         {
          "alternatives": [
           {
            "confidence": "0.999",
            "content": "really"
           }
          ],
          "end_time": "156.979",
          "id": 459,
          "start_time": "156.619",
          "type": "pronunciation"
         },
         {
          "alternatives": [
           {
            "confidence": "0.999",
            "content": "dark"
           }
          ],
          "end_time": "157.55",
          "id": 460,
          "start_time": "156.979",
          "type": "pronunciation"
         },
         {
          "alternatives": [
           {
            "confidence": "0.0",
            "content": ","
           }
          ],
          "id": 461,
          "type": "punctuation"
         },
         {
          "alternatives": [
           {
            "confidence": "0.997",
            "content": "really"
           }
          ],
          "end_time": "158.479",
          "id": 462,
          "start_time": "158.139",
          "type": "pronunciation"
         },
         {
          "alternatives": [
           {
            "confidence": "0.999",
            "content": "fast"
           }
          ],
          "end_time": "158.869",
          "id": 463,
          "start_time": "158.479",
          "type": "pronunciation"
         },
         {
          "alternatives": [
           {
            "confidence": "0.0",
            "content": ","
           }
          ],
          "id": 464,
          "type": "punctuation"
         },
         {
          "alternatives": [
           {
            "confidence": "0.997",
            "content": "and"
           }
          ],
          "end_time": "159.179",
          "id": 465,
          "start_time": "158.889",
          "type": "pronunciation"
         },
         {
          "alternatives": [
           {
            "confidence": "0.993",
            "content": "bombs"
           }
          ],
          "end_time": "159.66",
          "id": 466,
          "start_time": "159.179",
          "type": "pronunciation"
         },
         {
          "alternatives": [
           {
            "confidence": "0.997",
            "content": "start"
           }
          ],
          "end_time": "159.86",
          "id": 467,
          "start_time": "159.66",
          "type": "pronunciation"
         },
         {
          "alternatives": [
           {
            "confidence": "0.998",
            "content": "going"
           }
          ],
          "end_time": "160.059",
          "id": 468,
          "start_time": "159.86",
          "type": "pronunciation"
         },
         {
          "alternatives": [
           {
            "confidence": "0.999",
            "content": "off"
           }
          ],
          "end_time": "160.259",
          "id": 469,
          "start_time": "160.059",
          "type": "pronunciation"
         },
         {
          "alternatives": [
           {
            "confidence": "0.998",
            "content": "in"
           }
          ],
          "end_time": "160.339",
          "id": 470,
          "start_time": "160.259",
          "type": "pronunciation"
         },
         {
          "alternatives": [
           {
            "confidence": "0.999",
            "content": "the"
           }
          ],
          "end_time": "160.539",
          "id": 471,
          "start_time": "160.339",
          "type": "pronunciation"
         },
         {
          "alternatives": [
           {
            "confidence": "0.999",
            "content": "air"
           }
          ],
          "end_time": "160.77",
          "id": 472,
          "start_time": "160.539",
          "type": "pronunciation"
         },
         {
          "alternatives": [
           {
            "confidence": "0.0",
            "content": ","
           }
          ],
          "id": 473,
          "type": "punctuation"
         },
         {
          "alternatives": [
           {
            "confidence": "0.99",
            "content": "thunder"
           }
          ],
          "end_time": "161.46",
          "id": 474,
          "start_time": "160.86",
          "type": "pronunciation"
         },
         {
          "alternatives": [
           {
            "confidence": "0.998",
            "content": "and"
           }
          ],
          "end_time": "161.619",
          "id": 475,
          "start_time": "161.46",
          "type": "pronunciation"
         },
         {
          "alternatives": [
           {
            "confidence": "0.997",
            "content": "lightning"
           }
          ],
          "end_time": "162.25",
          "id": 476,
          "start_time": "161.619",
          "type": "pronunciation"
         },
         {
          "alternatives": [
           {
            "confidence": "0.0",
            "content": ","
           }
          ],
          "id": 477,
          "type": "punctuation"
         },
         {
          "alternatives": [
           {
            "confidence": "0.996",
            "content": "weather"
           }
          ],
          "end_time": "162.759",
          "id": 478,
          "start_time": "162.419",
          "type": "pronunciation"
         },
         {
          "alternatives": [
           {
            "confidence": "0.999",
            "content": "like"
           }
          ],
          "end_time": "162.979",
          "id": 479,
          "start_time": "162.759",
          "type": "pronunciation"
         },
         {
          "alternatives": [
           {
            "confidence": "0.991",
            "content": "he'd"
           }
          ],
          "end_time": "163.179",
          "id": 480,
          "start_time": "162.979",
          "type": "pronunciation"
         },
         {
          "alternatives": [
           {
            "confidence": "0.999",
            "content": "never"
           }
          ],
          "end_time": "163.52",
          "id": 481,
          "start_time": "163.179",
          "type": "pronunciation"
         },
         {
          "alternatives": [
           {
            "confidence": "0.999",
            "content": "seen"
           }
          ],
          "end_time": "163.94",
          "id": 482,
          "start_time": "163.52",
          "type": "pronunciation"
         },
         {
          "alternatives": [
           {
            "confidence": "0.999",
            "content": "before"
           }
          ],
          "end_time": "164.339",
          "id": 483,
          "start_time": "163.94",
          "type": "pronunciation"
         },
         {
          "alternatives": [
           {
            "confidence": "0.997",
            "content": "coming"
           }
          ],
          "end_time": "164.619",
          "id": 484,
          "start_time": "164.339",
          "type": "pronunciation"
         },
         {
          "alternatives": [
           {
            "confidence": "0.999",
            "content": "from"
           }
          ],
          "end_time": "164.779",
          "id": 485,
          "start_time": "164.619",
          "type": "pronunciation"
         },
         {
          "alternatives": [
           {
            "confidence": "0.997",
            "content": "he"
           }
          ],
          "end_time": "164.899",
          "id": 486,
          "start_time": "164.779",
          "type": "pronunciation"
         },
         {
          "alternatives": [
           {
            "confidence": "0.989",
            "content": "didn't"
           }
          ],
          "end_time": "165.02",
          "id": 487,
          "start_time": "164.899",
          "type": "pronunciation"
         },
         {
          "alternatives": [
           {
            "confidence": "0.997",
            "content": "know"
           }
          ],
          "end_time": "165.259",
          "id": 488,
          "start_time": "165.02",
          "type": "pronunciation"
         },
         {
          "alternatives": [
           {
            "confidence": "0.997",
            "content": "where"
           }
          ],
          "end_time": "165.539",
          "id": 489,
          "start_time": "165.259",
          "type": "pronunciation"
         },
         {
          "alternatives": [
           {
            "confidence": "0.0",
            "content": "."
           }
          ],
          "id": 490,
          "type": "punctuation"
         },
         {
          "alternatives": [
           {
            "confidence": "0.997",
            "content": "When"
           }
          ],
          "end_time": "166.75",
          "id": 491,
          "start_time": "166.669",
          "type": "pronunciation"
         },
         {
          "alternatives": [
           {
            "confidence": "0.999",
            "content": "he"
           }
          ],
          "end_time": "166.91",
          "id": 492,
          "start_time": "166.75",
          "type": "pronunciation"
         },
         {
          "alternatives": [
           {
            "confidence": "0.999",
            "content": "looks"
           }
          ],
          "end_time": "167.11",
          "id": 493,
          "start_time": "166.91",
          "type": "pronunciation"
         },
         {
          "alternatives": [
           {
            "confidence": "0.999",
            "content": "back"
           }
          ],
          "end_time": "167.309",
          "id": 494,
          "start_time": "167.11",
          "type": "pronunciation"
         },
         {
          "alternatives": [
           {
            "confidence": "0.999",
            "content": "at"
           }
          ],
          "end_time": "167.389",
          "id": 495,
          "start_time": "167.309",
          "type": "pronunciation"
         },
         {
          "alternatives": [
           {
            "confidence": "0.998",
            "content": "the"
           }
          ],
          "end_time": "167.589",
          "id": 496,
          "start_time": "167.389",
          "type": "pronunciation"
         },
         {
          "alternatives": [
           {
            "confidence": "0.997",
            "content": "rock"
           }
          ],
          "end_time": "168.07",
          "id": 497,
          "start_time": "167.589",
          "type": "pronunciation"
         },
         {
          "alternatives": [
           {
            "confidence": "0.0",
            "content": ","
           }
          ],
          "id": 498,
          "type": "punctuation"
         },
         {
          "alternatives": [
           {
            "confidence": "0.966",
            "content": "the"
           }
          ],
          "end_time": "168.589",
          "id": 499,
          "start_time": "168.58",
          "type": "pronunciation"
         },
         {
          "alternatives": [
           {
            "confidence": "0.989",
            "content": "guy's"
           }
          ],
          "end_time": "168.949",
          "id": 500,
          "start_time": "168.589",
          "type": "pronunciation"
         },
         {
          "alternatives": [
           {
            "confidence": "0.999",
            "content": "gone"
           }
          ],
          "end_time": "169.27",
          "id": 501,
          "start_time": "168.949",
          "type": "pronunciation"
         },
         {
          "alternatives": [
           {
            "confidence": "0.0",
            "content": "."
           }
          ],
          "id": 502,
          "type": "punctuation"
         },
         {
          "alternatives": [
           {
            "confidence": "0.996",
            "content": "But"
           }
          ],
          "end_time": "170.3",
          "id": 503,
          "start_time": "170.11",
          "type": "pronunciation"
         },
         {
          "alternatives": [
           {
            "confidence": "0.996",
            "content": "there's"
           }
          ],
          "end_time": "170.5",
          "id": 504,
          "start_time": "170.3",
          "type": "pronunciation"
         },
         {
          "alternatives": [
           {
            "confidence": "0.999",
            "content": "a"
           }
          ],
          "end_time": "170.66",
          "id": 505,
          "start_time": "170.5",
          "type": "pronunciation"
         },
         {
          "alternatives": [
           {
            "confidence": "0.999",
            "content": "woman"
           }
          ],
          "end_time": "170.979",
          "id": 506,
          "start_time": "170.66",
          "type": "pronunciation"
         },
         {
          "alternatives": [
           {
            "confidence": "0.999",
            "content": "there"
           }
          ],
          "end_time": "171.529",
          "id": 507,
          "start_time": "170.979",
          "type": "pronunciation"
         },
         {
          "alternatives": [
           {
            "confidence": "0.0",
            "content": "."
           }
          ],
          "id": 508,
          "type": "punctuation"
         },
         {
          "alternatives": [
           {
            "confidence": "0.992",
            "content": "She's"
           }
          ],
          "end_time": "172.02",
          "id": 509,
          "start_time": "171.889",
          "type": "pronunciation"
         },
         {
          "alternatives": [
           {
            "confidence": "0.999",
            "content": "in"
           }
          ],
          "end_time": "172.1",
          "id": 510,
          "start_time": "172.02",
          "type": "pronunciation"
         },
         {
          "alternatives": [
           {
            "confidence": "0.999",
            "content": "a"
           }
          ],
          "end_time": "172.339",
          "id": 511,
          "start_time": "172.1",
          "type": "pronunciation"
         },
         {
          "alternatives": [
           {
            "confidence": "0.999",
            "content": "white"
           }
          ],
          "end_time": "172.699",
          "id": 512,
          "start_time": "172.339",
          "type": "pronunciation"
         },
         {
          "alternatives": [
           {
            "confidence": "0.999",
            "content": "dress"
           }
          ],
          "end_time": "173.21",
          "id": 513,
          "start_time": "172.699",
          "type": "pronunciation"
         },
         {
          "alternatives": [
           {
            "confidence": "0.0",
            "content": ","
           }
          ],
          "id": 514,
          "type": "punctuation"
         },
         {
          "alternatives": [
           {
            "confidence": "0.996",
            "content": "alabaster"
           }
          ],
          "end_time": "174.179",
          "id": 515,
          "start_time": "173.46",
          "type": "pronunciation"
         },
         {
          "alternatives": [
           {
            "confidence": "0.996",
            "content": "skin"
           }
          ],
          "end_time": "174.69",
          "id": 516,
          "start_time": "174.179",
          "type": "pronunciation"
         },
         {
          "alternatives": [
           {
            "confidence": "0.0",
            "content": ","
           }
          ],
          "id": 517,
          "type": "punctuation"
         },
         {
          "alternatives": [
           {
            "confidence": "0.998",
            "content": "his"
           }
          ],
          "end_time": "175.139",
          "id": 518,
          "start_time": "174.82",
          "type": "pronunciation"
         },
         {
          "alternatives": [
           {
            "confidence": "0.999",
            "content": "words"
           }
          ],
          "end_time": "175.729",
          "id": 519,
          "start_time": "175.139",
          "type": "pronunciation"
         },
         {
          "alternatives": [
           {
            "confidence": "0.0",
            "content": ","
           }
          ],
          "id": 520,
          "type": "punctuation"
         },
         {
          "alternatives": [
           {
            "confidence": "0.996",
            "content": "and"
           }
          ],
          "end_time": "176.179",
          "id": 521,
          "start_time": "176.059",
          "type": "pronunciation"
         },
         {
          "alternatives": [
           {
            "confidence": "0.999",
            "content": "he"
           }
          ],
          "end_time": "176.339",
          "id": 522,
          "start_time": "176.179",
          "type": "pronunciation"
         },
         {
          "alternatives": [
           {
            "confidence": "0.997",
            "content": "says"
           }
          ],
          "end_time": "176.58",
          "id": 523,
          "start_time": "176.339",
          "type": "pronunciation"
         },
         {
          "alternatives": [
           {
            "confidence": "0.995",
            "content": "she's"
           }
          ],
          "end_time": "177.02",
          "id": 524,
          "start_time": "176.58",
          "type": "pronunciation"
         },
         {
          "alternatives": [
           {
            "confidence": "0.999",
            "content": "staring"
           }
          ],
          "end_time": "177.46",
          "id": 525,
          "start_time": "177.02",
          "type": "pronunciation"
         },
         {
          "alternatives": [
           {
            "confidence": "0.999",
            "content": "right"
           }
          ],
          "end_time": "177.649",
          "id": 526,
          "start_time": "177.46",
          "type": "pronunciation"
         },
         {
          "alternatives": [
           {
            "confidence": "0.999",
            "content": "up"
           }
          ],
          "end_time": "177.82",
          "id": 527,
          "start_time": "177.649",
          "type": "pronunciation"
         },
         {
          "alternatives": [
           {
            "confidence": "0.999",
            "content": "at"
           }
          ],
          "end_time": "177.979",
          "id": 528,
          "start_time": "177.82",
          "type": "pronunciation"
         },
         {
          "alternatives": [
           {
            "confidence": "0.998",
            "content": "him"
           }
          ],
          "end_time": "178.259",
          "id": 529,
          "start_time": "177.979",
          "type": "pronunciation"
         },
         {
          "alternatives": [
           {
            "confidence": "0.0",
            "content": "."
           }
          ],
          "id": 530,
          "type": "punctuation"
         },
         {
          "alternatives": [
           {
            "confidence": "0.997",
            "content": "He"
           }
          ],
          "end_time": "180.35",
          "id": 531,
          "start_time": "180.009",
          "type": "pronunciation"
         },
         {
          "alternatives": [
           {
            "confidence": "0.996",
            "content": "sees"
           }
          ],
          "end_time": "180.71",
          "id": 532,
          "start_time": "180.35",
          "type": "pronunciation"
         },
         {
          "alternatives": [
           {
            "confidence": "0.996",
            "content": "her"
           }
          ],
          "end_time": "181.24",
          "id": 533,
          "start_time": "180.71",
          "type": "pronunciation"
         },
         {
          "alternatives": [
           {
            "confidence": "0.0",
            "content": ","
           }
          ],
          "id": 534,
          "type": "punctuation"
         },
         {
          "alternatives": [
           {
            "confidence": "0.989",
            "content": "she's"
           }
          ],
          "end_time": "181.83",
          "id": 535,
          "start_time": "181.47",
          "type": "pronunciation"
         },
         {
          "alternatives": [
           {
            "confidence": "0.999",
            "content": "beautiful"
           }
          ],
          "end_time": "182.5",
          "id": 536,
          "start_time": "181.83",
          "type": "pronunciation"
         },
         {
          "alternatives": [
           {
            "confidence": "0.0",
            "content": "."
           }
          ],
          "id": 537,
          "type": "punctuation"
         },
         {
          "alternatives": [
           {
            "confidence": "0.996",
            "content": "But"
           }
          ],
          "end_time": "183.419",
          "id": 538,
          "start_time": "183.149",
          "type": "pronunciation"
         },
         {
          "alternatives": [
           {
            "confidence": "0.998",
            "content": "like"
           }
          ],
          "end_time": "183.619",
          "id": 539,
          "start_time": "183.419",
          "type": "pronunciation"
         },
         {
          "alternatives": [
           {
            "confidence": "0.997",
            "content": "she's"
           }
          ],
          "end_time": "183.86",
          "id": 540,
          "start_time": "183.619",
          "type": "pronunciation"
         },
         {
          "alternatives": [
           {
            "confidence": "0.999",
            "content": "from"
           }
          ],
          "end_time": "184.05",
          "id": 541,
          "start_time": "183.86",
          "type": "pronunciation"
         },
         {
          "alternatives": [
           {
            "confidence": "0.999",
            "content": "some"
           }
          ],
          "end_time": "184.22",
          "id": 542,
          "start_time": "184.05",
          "type": "pronunciation"
         },
         {
          "alternatives": [
           {
            "confidence": "0.999",
            "content": "other"
           }
          ],
          "end_time": "184.539",
          "id": 543,
          "start_time": "184.22",
          "type": "pronunciation"
         },
         {
          "alternatives": [
           {
            "confidence": "0.998",
            "content": "time"
           }
          ],
          "end_time": "184.86",
          "id": 544,
          "start_time": "184.539",
          "type": "pronunciation"
         },
         {
          "alternatives": [
           {
            "confidence": "0.0",
            "content": ","
           }
          ],
          "id": 545,
          "type": "punctuation"
         },
         {
          "alternatives": [
           {
            "confidence": "0.999",
            "content": "some"
           }
          ],
          "end_time": "185.199",
          "id": 546,
          "start_time": "185.029",
          "type": "pronunciation"
         },
         {
          "alternatives": [
           {
            "confidence": "0.999",
            "content": "other"
           }
          ],
          "end_time": "185.58",
          "id": 547,
          "start_time": "185.199",
          "type": "pronunciation"
         },
         {
          "alternatives": [
           {
            "confidence": "0.999",
            "content": "place"
           }
          ],
          "end_time": "186.089",
          "id": 548,
          "start_time": "185.58",
          "type": "pronunciation"
         },
         {
          "alternatives": [
           {
            "confidence": "0.0",
            "content": "."
           }
          ],
          "id": 549,
          "type": "punctuation"
         },
         {
          "alternatives": [
           {
            "confidence": "0.997",
            "content": "He"
           }
          ],
          "end_time": "187.119",
          "id": 550,
          "start_time": "186.85",
          "type": "pronunciation"
         },
         {
          "alternatives": [
           {
            "confidence": "0.998",
            "content": "looks"
           }
          ],
          "end_time": "187.399",
          "id": 551,
          "start_time": "187.119",
          "type": "pronunciation"
         },
         {
          "alternatives": [
           {
            "confidence": "0.999",
            "content": "back"
           }
          ],
          "end_time": "187.52",
          "id": 552,
          "start_time": "187.399",
          "type": "pronunciation"
         },
         {
          "alternatives": [
           {
            "confidence": "0.999",
            "content": "at"
           }
          ],
          "end_time": "187.649",
          "id": 553,
          "start_time": "187.52",
          "type": "pronunciation"
         },
         {
          "alternatives": [
           {
            "confidence": "0.999",
            "content": "the"
           }
          ],
          "end_time": "187.839",
          "id": 554,
          "start_time": "187.649",
          "type": "pronunciation"
         },
         {
          "alternatives": [
           {
            "confidence": "0.999",
            "content": "weather"
           }
          ],
          "end_time": "188.16",
          "id": 555,
          "start_time": "187.839",
          "type": "pronunciation"
         },
         {
          "alternatives": [
           {
            "confidence": "0.982",
            "content": "cause"
           }
          ],
          "end_time": "188.279",
          "id": 556,
          "start_time": "188.16",
          "type": "pronunciation"
         },
         {
          "alternatives": [
           {
            "confidence": "0.996",
            "content": "it's"
           }
          ],
          "end_time": "188.479",
          "id": 557,
          "start_time": "188.279",
          "type": "pronunciation"
         },
         {
          "alternatives": [
           {
            "confidence": "0.998",
            "content": "getting"
           }
          ],
          "end_time": "188.72",
          "id": 558,
          "start_time": "188.479",
          "type": "pronunciation"
         },
         {
          "alternatives": [
           {
            "confidence": "0.999",
            "content": "worse"
           }
          ],
          "end_time": "188.949",
          "id": 559,
          "start_time": "188.72",
          "type": "pronunciation"
         },
         {
          "alternatives": [
           {
            "confidence": "0.999",
            "content": "and"
           }
          ],
          "end_time": "189.149",
          "id": 560,
          "start_time": "188.949",
          "type": "pronunciation"
         },
         {
          "alternatives": [
           {
            "confidence": "0.999",
            "content": "worse"
           }
          ],
          "end_time": "189.589",
          "id": 561,
          "start_time": "189.149",
          "type": "pronunciation"
         },
         {
          "alternatives": [
           {
            "confidence": "0.0",
            "content": "."
           }
          ],
          "id": 562,
          "type": "punctuation"
         },
         {
          "alternatives": [
           {
            "confidence": "0.962",
            "content": "He"
           }
          ],
          "end_time": "190.0",
          "id": 563,
          "start_time": "189.72",
          "type": "pronunciation"
         },
         {
          "alternatives": [
           {
            "confidence": "0.996",
            "content": "decides"
           }
          ],
          "end_time": "190.21",
          "id": 564,
          "start_time": "190.0",
          "type": "pronunciation"
         },
         {
          "alternatives": [
           {
            "confidence": "0.997",
            "content": "to"
           }
          ],
          "end_time": "190.36",
          "id": 565,
          "start_time": "190.21",
          "type": "pronunciation"
         },
         {
          "alternatives": [
           {
            "confidence": "0.991",
            "content": "hightail"
           }
          ],
          "end_time": "190.8",
          "id": 566,
          "start_time": "190.36",
          "type": "pronunciation"
         },
         {
          "alternatives": [
           {
            "confidence": "0.995",
            "content": "it"
           }
          ],
          "end_time": "190.88",
          "id": 567,
          "start_time": "190.8",
          "type": "pronunciation"
         },
         {
          "alternatives": [
           {
            "confidence": "0.998",
            "content": "out"
           }
          ],
          "end_time": "191.08",
          "id": 568,
          "start_time": "190.88",
          "type": "pronunciation"
         },
         {
          "alternatives": [
           {
            "confidence": "0.997",
            "content": "of"
           }
          ],
          "end_time": "191.199",
          "id": 569,
          "start_time": "191.08",
          "type": "pronunciation"
         },
         {
          "alternatives": [
           {
            "confidence": "0.999",
            "content": "there"
           }
          ],
          "end_time": "191.77",
          "id": 570,
          "start_time": "191.199",
          "type": "pronunciation"
         },
         {
          "alternatives": [
           {
            "confidence": "0.0",
            "content": "."
           }
          ],
          "id": 571,
          "type": "punctuation"
         },
         {
          "alternatives": [
           {
            "confidence": "0.996",
            "content": "And"
           }
          ],
          "end_time": "194.619",
          "id": 572,
          "start_time": "194.429",
          "type": "pronunciation"
         },
         {
          "alternatives": [
           {
            "confidence": "0.998",
            "content": "that"
           }
          ],
          "end_time": "194.779",
          "id": 573,
          "start_time": "194.619",
          "type": "pronunciation"
         },
         {
          "alternatives": [
           {
            "confidence": "0.999",
            "content": "was"
           }
          ],
          "end_time": "194.94",
          "id": 574,
          "start_time": "194.779",
          "type": "pronunciation"
         },
         {
          "alternatives": [
           {
            "confidence": "0.998",
            "content": "it"
           }
          ],
          "end_time": "195.1",
          "id": 575,
          "start_time": "194.94",
          "type": "pronunciation"
         },
         {
          "alternatives": [
           {
            "confidence": "0.0",
            "content": "."
           }
          ],
          "id": 576,
          "type": "punctuation"
         },
         {
          "alternatives": [
           {
            "confidence": "0.955",
            "content": "That"
           }
          ],
          "end_time": "195.3",
          "id": 577,
          "start_time": "195.179",
          "type": "pronunciation"
         },
         {
          "alternatives": [
           {
            "confidence": "0.999",
            "content": "was"
           }
          ],
          "end_time": "195.46",
          "id": 578,
          "start_time": "195.3",
          "type": "pronunciation"
         },
         {
          "alternatives": [
           {
            "confidence": "0.999",
            "content": "his"
           }
          ],
          "end_time": "196.139",
          "id": 579,
          "start_time": "195.46",
          "type": "pronunciation"
         },
         {
          "alternatives": [
           {
            "confidence": "0.999",
            "content": "story"
           }
          ],
          "end_time": "196.52",
          "id": 580,
          "start_time": "196.139",
          "type": "pronunciation"
         },
         {
          "alternatives": [
           {
            "confidence": "0.0",
            "content": ","
           }
          ],
          "id": 581,
          "type": "punctuation"
         },
         {
          "alternatives": [
           {
            "confidence": "0.997",
            "content": "right"
           }
          ],
          "end_time": "196.899",
          "id": 582,
          "start_time": "196.619",
          "type": "pronunciation"
         },
         {
          "alternatives": [
           {
            "confidence": "0.0",
            "content": "?"
           }
          ],
          "id": 583,
          "type": "punctuation"
         },
         {
          "alternatives": [
           {
            "confidence": "0.997",
            "content": "So"
           }
          ],
          "end_time": "199.05",
          "id": 584,
          "start_time": "198.789",
          "type": "pronunciation"
         },
         {
          "alternatives": [
           {
            "confidence": "0.999",
            "content": "now"
           }
          ],
          "end_time": "199.539",
          "id": 585,
          "start_time": "199.05",
          "type": "pronunciation"
         },
         {
          "alternatives": [
           {
            "confidence": "0.996",
            "content": "Now"
           }
          ],
          "end_time": "201.1",
          "id": 586,
          "start_time": "200.619",
          "type": "pronunciation"
         },
         {
          "alternatives": [
           {
            "confidence": "0.998",
            "content": "I"
           }
          ],
          "end_time": "202.05",
          "id": 587,
          "start_time": "201.779",
          "type": "pronunciation"
         },
         {
          "alternatives": [
           {
            "confidence": "0.999",
            "content": "need"
           }
          ],
          "end_time": "202.21",
          "id": 588,
          "start_time": "202.05",
          "type": "pronunciation"
         },
         {
          "alternatives": [
           {
            "confidence": "0.999",
            "content": "you"
           }
          ],
          "end_time": "202.33",
          "id": 589,
          "start_time": "202.21",
          "type": "pronunciation"
         },
         {
          "alternatives": [
           {
            "confidence": "0.999",
            "content": "to"
           }
          ],
          "end_time": "202.41",
          "id": 590,
          "start_time": "202.33",
          "type": "pronunciation"
         },
         {
          "alternatives": [
           {
            "confidence": "0.999",
            "content": "go"
           }
          ],
          "end_time": "202.57",
          "id": 591,
          "start_time": "202.41",
          "type": "pronunciation"
         },
         {
          "alternatives": [
           {
            "confidence": "0.998",
            "content": "up"
           }
          ],
          "end_time": "202.649",
          "id": 592,
          "start_time": "202.57",
          "type": "pronunciation"
         },
         {
          "alternatives": [
           {
            "confidence": "0.998",
            "content": "there"
           }
          ],
          "end_time": "202.85",
          "id": 593,
          "start_time": "202.649",
          "type": "pronunciation"
         },
         {
          "alternatives": [
           {
            "confidence": "0.997",
            "content": "and"
           }
          ],
          "end_time": "202.97",
          "id": 594,
          "start_time": "202.85",
          "type": "pronunciation"
         },
         {
          "alternatives": [
           {
            "confidence": "0.998",
            "content": "find"
           }
          ],
          "end_time": "203.16",
          "id": 595,
          "start_time": "202.97",
          "type": "pronunciation"
         },
         {
          "alternatives": [
           {
            "confidence": "0.997",
            "content": "that"
           }
          ],
          "end_time": "203.41",
          "id": 596,
          "start_time": "203.16",
          "type": "pronunciation"
         },
         {
          "alternatives": [
           {
            "confidence": "0.996",
            "content": "woman"
           }
          ],
          "end_time": "203.69",
          "id": 597,
          "start_time": "203.41",
          "type": "pronunciation"
         },
         {
          "alternatives": [
           {
            "confidence": "0.0",
            "content": "."
           }
          ],
          "id": 598,
          "type": "punctuation"
         },
         {
          "alternatives": [
           {
            "confidence": "0.997",
            "content": "So"
           }
          ],
          "end_time": "207.339",
          "id": 599,
          "start_time": "207.22",
          "type": "pronunciation"
         },
         {
          "alternatives": [
           {
            "confidence": "0.998",
            "content": "these"
           }
          ],
          "end_time": "207.619",
          "id": 600,
          "start_time": "207.339",
          "type": "pronunciation"
         },
         {
          "alternatives": [
           {
            "confidence": "0.999",
            "content": "guys"
           }
          ],
          "end_time": "208.1",
          "id": 601,
          "start_time": "207.619",
          "type": "pronunciation"
         },
         {
          "alternatives": [
           {
            "confidence": "0.999",
            "content": "just"
           }
          ],
          "end_time": "208.789",
          "id": 602,
          "start_time": "208.1",
          "type": "pronunciation"
         },
         {
          "alternatives": [
           {
            "confidence": "0.999",
            "content": "disappear"
           }
          ],
          "end_time": "209.58",
          "id": 603,
          "start_time": "209.1",
          "type": "pronunciation"
         },
         {
          "alternatives": [
           {
            "confidence": "0.0",
            "content": "."
           }
          ],
          "id": 604,
          "type": "punctuation"
         },
         {
          "alternatives": [
           {
            "confidence": "0.639",
            "content": "No"
           }
          ],
          "end_time": "210.979",
          "id": 605,
          "start_time": "210.77",
          "type": "pronunciation"
         },
         {
          "alternatives": [
           {
            "confidence": "0.0",
            "content": ","
           }
          ],
          "id": 606,
          "type": "punctuation"
         },
         {
          "alternatives": [
           {
            "confidence": "0.996",
            "content": "not"
           }
          ],
          "end_time": "211.279",
          "id": 607,
          "start_time": "211.11",
          "type": "pronunciation"
         },
         {
          "alternatives": [
           {
            "confidence": "0.998",
            "content": "this"
           }
          ],
          "end_time": "211.5",
          "id": 608,
          "start_time": "211.279",
          "type": "pronunciation"
         },
         {
          "alternatives": [
           {
            "confidence": "0.998",
            "content": "time"
           }
          ],
          "end_time": "211.99",
          "id": 609,
          "start_time": "211.5",
          "type": "pronunciation"
         },
         {
          "alternatives": [
           {
            "confidence": "0.0",
            "content": "."
           }
          ],
          "id": 610,
          "type": "punctuation"
         },
         {
          "alternatives": [
           {
            "confidence": "0.988",
            "content": "Somebody"
           }
          ],
          "end_time": "212.779",
          "id": 611,
          "start_time": "212.419",
          "type": "pronunciation"
         },
         {
          "alternatives": [
           {
            "confidence": "0.999",
            "content": "was"
           }
          ],
          "end_time": "212.94",
          "id": 612,
          "start_time": "212.779",
          "type": "pronunciation"
         },
         {
          "alternatives": [
           {
            "confidence": "0.999",
            "content": "out"
           }
          ],
          "end_time": "213.179",
          "id": 613,
          "start_time": "212.94",
          "type": "pronunciation"
         },
         {
          "alternatives": [
           {
            "confidence": "0.998",
            "content": "there"
           }
          ],
          "end_time": "213.3",
          "id": 614,
          "start_time": "213.179",
          "type": "pronunciation"
         },
         {
          "alternatives": [
           {
            "confidence": "0.998",
            "content": "the"
           }
          ],
          "end_time": "213.46",
          "id": 615,
          "start_time": "213.3",
          "type": "pronunciation"
         },
         {
          "alternatives": [
           {
            "confidence": "0.999",
            "content": "day"
           }
          ],
          "end_time": "213.619",
          "id": 616,
          "start_time": "213.46",
          "type": "pronunciation"
         },
         {
          "alternatives": [
           {
            "confidence": "0.998",
            "content": "the"
           }
          ],
          "end_time": "213.699",
          "id": 617,
          "start_time": "213.619",
          "type": "pronunciation"
         },
         {
          "alternatives": [
           {
            "confidence": "0.999",
            "content": "last"
           }
          ],
          "end_time": "213.979",
          "id": 618,
          "start_time": "213.699",
          "type": "pronunciation"
         },
         {
          "alternatives": [
           {
            "confidence": "0.999",
            "content": "guy"
           }
          ],
          "end_time": "214.179",
          "id": 619,
          "start_time": "213.979",
          "type": "pronunciation"
         },
         {
          "alternatives": [
           {
            "confidence": "0.998",
            "content": "disappeared"
           }
          ],
          "end_time": "214.809",
          "id": 620,
          "start_time": "214.179",
          "type": "pronunciation"
         },
         {
          "alternatives": [
           {
            "confidence": "0.0",
            "content": "."
           }
          ],
          "id": 621,
          "type": "punctuation"
         },
         {
          "alternatives": [
           {
            "confidence": "0.977",
            "content": "A"
           }
          ],
          "end_time": "215.02",
          "id": 622,
          "start_time": "214.94",
          "type": "pronunciation"
         },
         {
          "alternatives": [
           {
            "confidence": "0.993",
            "content": "witness"
           }
          ],
          "end_time": "215.559",
          "id": 623,
          "start_time": "215.02",
          "type": "pronunciation"
         },
         {
          "alternatives": [
           {
            "confidence": "0.0",
            "content": ","
           }
          ],
          "id": 624,
          "type": "punctuation"
         },
         {
          "alternatives": [
           {
            "confidence": "0.904",
            "content": "yeah"
           }
          ],
          "end_time": "216.22",
          "id": 625,
          "start_time": "216.08",
          "type": "pronunciation"
         },
         {
          "alternatives": [
           {
            "confidence": "0.0",
            "content": ","
           }
          ],
          "id": 626,
          "type": "punctuation"
         },
         {
          "alternatives": [
           {
            "confidence": "0.996",
            "content": "a"
           }
          ],
          "end_time": "216.5",
          "id": 627,
          "start_time": "216.38",
          "type": "pronunciation"
         },
         {
          "alternatives": [
           {
            "confidence": "0.996",
            "content": "witness"
           }
          ],
          "end_time": "217.289",
          "id": 628,
          "start_time": "216.5",
          "type": "pronunciation"
         },
         {
          "alternatives": [
           {
            "confidence": "0.0",
            "content": "."
           }
          ],
          "id": 629,
          "type": "punctuation"
         },
         {
          "alternatives": [
           {
            "confidence": "0.996",
            "content": "He"
           }
          ],
          "end_time": "218.179",
          "id": 630,
          "start_time": "217.979",
          "type": "pronunciation"
         },
         {
          "alternatives": [
           {
            "confidence": "0.999",
            "content": "said"
           }
          ],
          "end_time": "218.3",
          "id": 631,
          "start_time": "218.179",
          "type": "pronunciation"
         },
         {
          "alternatives": [
           {
            "confidence": "0.997",
            "content": "that"
           }
          ],
          "end_time": "218.419",
          "id": 632,
          "start_time": "218.3",
          "type": "pronunciation"
         },
         {
          "alternatives": [
           {
            "confidence": "0.999",
            "content": "he"
           }
          ],
          "end_time": "218.539",
          "id": 633,
          "start_time": "218.419",
          "type": "pronunciation"
         },
         {
          "alternatives": [
           {
            "confidence": "0.999",
            "content": "was"
           }
          ],
          "end_time": "218.66",
          "id": 634,
          "start_time": "218.539",
          "type": "pronunciation"
         },
         {
          "alternatives": [
           {
            "confidence": "0.999",
            "content": "up"
           }
          ],
          "end_time": "218.85",
          "id": 635,
          "start_time": "218.66",
          "type": "pronunciation"
         },
         {
          "alternatives": [
           {
            "confidence": "0.999",
            "content": "there"
           }
          ],
          "end_time": "219.179",
          "id": 636,
          "start_time": "218.85",
          "type": "pronunciation"
         },
         {
          "alternatives": [
           {
            "confidence": "0.998",
            "content": "walking"
           }
          ],
          "end_time": "219.539",
          "id": 637,
          "start_time": "219.179",
          "type": "pronunciation"
         },
         {
          "alternatives": [
           {
            "confidence": "0.999",
            "content": "his"
           }
          ],
          "end_time": "219.74",
          "id": 638,
          "start_time": "219.539",
          "type": "pronunciation"
         },
         {
          "alternatives": [
           {
            "confidence": "0.999",
            "content": "dog"
           }
          ],
          "end_time": "220.1",
          "id": 639,
          "start_time": "219.74",
          "type": "pronunciation"
         },
         {
          "alternatives": [
           {
            "confidence": "0.998",
            "content": "along"
           }
          ],
          "end_time": "220.3",
          "id": 640,
          "start_time": "220.1",
          "type": "pronunciation"
         },
         {
          "alternatives": [
           {
            "confidence": "0.999",
            "content": "those"
           }
          ],
          "end_time": "220.49",
          "id": 641,
          "start_time": "220.3",
          "type": "pronunciation"
         },
         {
          "alternatives": [
           {
            "confidence": "0.996",
            "content": "bluffs"
           }
          ],
          "end_time": "220.899",
          "id": 642,
          "start_time": "220.49",
          "type": "pronunciation"
         },
         {
          "alternatives": [
           {
            "confidence": "0.994",
            "content": "above"
           }
          ],
          "end_time": "221.169",
          "id": 643,
          "start_time": "220.899",
          "type": "pronunciation"
         },
         {
          "alternatives": [
           {
            "confidence": "0.994",
            "content": "El"
           }
          ],
          "end_time": "221.419",
          "id": 644,
          "start_time": "221.169",
          "type": "pronunciation"
         },
         {
          "alternatives": [
           {
            "confidence": "0.996",
            "content": "Matador"
           }
          ],
          "end_time": "222.25",
          "id": 645,
          "start_time": "221.419",
          "type": "pronunciation"
         },
         {
          "alternatives": [
           {
            "confidence": "0.0",
            "content": ","
           }
          ],
          "id": 646,
          "type": "punctuation"
         },
         {
          "alternatives": [
           {
            "confidence": "0.997",
            "content": "and"
           }
          ],
          "end_time": "222.74",
          "id": 647,
          "start_time": "222.539",
          "type": "pronunciation"
         },
         {
          "alternatives": [
           {
            "confidence": "0.995",
            "content": "there's"
           }
          ],
          "end_time": "222.94",
          "id": 648,
          "start_time": "222.74",
          "type": "pronunciation"
         },
         {
          "alternatives": [
           {
            "confidence": "0.999",
            "content": "a"
           }
          ],
          "end_time": "223.11",
          "id": 649,
          "start_time": "222.94",
          "type": "pronunciation"
         },
         {
          "alternatives": [
           {
            "confidence": "0.999",
            "content": "guy"
           }
          ],
          "end_time": "223.77",
          "id": 650,
          "start_time": "223.11",
          "type": "pronunciation"
         },
         {
          "alternatives": [
           {
            "confidence": "0.991",
            "content": "who's"
           }
          ],
          "end_time": "224.059",
          "id": 651,
          "start_time": "223.77",
          "type": "pronunciation"
         },
         {
          "alternatives": [
           {
            "confidence": "0.999",
            "content": "on"
           }
          ],
          "end_time": "224.339",
          "id": 652,
          "start_time": "224.059",
          "type": "pronunciation"
         },
         {
          "alternatives": [
           {
            "confidence": "0.999",
            "content": "top"
           }
          ],
          "end_time": "224.5",
          "id": 653,
          "start_time": "224.339",
          "type": "pronunciation"
         },
         {
          "alternatives": [
           {
            "confidence": "0.999",
            "content": "of"
           }
          ],
          "end_time": "224.619",
          "id": 654,
          "start_time": "224.5",
          "type": "pronunciation"
         },
         {
          "alternatives": [
           {
            "confidence": "0.999",
            "content": "that"
           }
          ],
          "end_time": "224.899",
          "id": 655,
          "start_time": "224.619",
          "type": "pronunciation"
         },
         {
          "alternatives": [
           {
            "confidence": "0.999",
            "content": "rock"
           }
          ],
          "end_time": "225.369",
          "id": 656,
          "start_time": "224.899",
          "type": "pronunciation"
         },
         {
          "alternatives": [
           {
            "confidence": "0.0",
            "content": "."
           }
          ],
          "id": 657,
          "type": "punctuation"
         },
         {
          "alternatives": [
           {
            "confidence": "0.982",
            "content": "He's"
           }
          ],
          "end_time": "225.869",
          "id": 658,
          "start_time": "225.559",
          "type": "pronunciation"
         },
         {
          "alternatives": [
           {
            "confidence": "0.824",
            "content": "just"
           }
          ],
          "end_time": "225.94",
          "id": 659,
          "start_time": "225.869",
          "type": "pronunciation"
         },
         {
          "alternatives": [
           {
            "confidence": "0.998",
            "content": "like"
           }
          ],
          "end_time": "226.179",
          "id": 660,
          "start_time": "225.94",
          "type": "pronunciation"
         },
         {
          "alternatives": [
           {
            "confidence": "0.999",
            "content": "looking"
           }
          ],
          "end_time": "226.5",
          "id": 661,
          "start_time": "226.179",
          "type": "pronunciation"
         },
         {
          "alternatives": [
           {
            "confidence": "0.999",
            "content": "all"
           }
          ],
          "end_time": "226.699",
          "id": 662,
          "start_time": "226.5",
          "type": "pronunciation"
         },
         {
          "alternatives": [
           {
            "confidence": "0.999",
            "content": "over"
           }
          ],
          "end_time": "226.899",
          "id": 663,
          "start_time": "226.699",
          "type": "pronunciation"
         },
         {
          "alternatives": [
           {
            "confidence": "0.999",
            "content": "the"
           }
          ],
          "end_time": "227.1",
          "id": 664,
          "start_time": "226.899",
          "type": "pronunciation"
         },
         {
          "alternatives": [
           {
            "confidence": "0.999",
            "content": "rock"
           }
          ],
          "end_time": "227.729",
          "id": 665,
          "start_time": "227.1",
          "type": "pronunciation"
         },
         {
          "alternatives": [
           {
            "confidence": "0.998",
            "content": "as"
           }
          ],
          "end_time": "227.94",
          "id": 666,
          "start_time": "227.729",
          "type": "pronunciation"
         },
         {
          "alternatives": [
           {
            "confidence": "0.999",
            "content": "if"
           }
          ],
          "end_time": "228.059",
          "id": 667,
          "start_time": "227.94",
          "type": "pronunciation"
         },
         {
          "alternatives": [
           {
            "confidence": "0.996",
            "content": "he's"
           }
          ],
          "end_time": "228.3",
          "id": 668,
          "start_time": "228.059",
          "type": "pronunciation"
         },
         {
          "alternatives": [
           {
            "confidence": "0.999",
            "content": "looking"
           }
          ],
          "end_time": "228.58",
          "id": 669,
          "start_time": "228.3",
          "type": "pronunciation"
         },
         {
          "alternatives": [
           {
            "confidence": "0.999",
            "content": "for"
           }
          ],
          "end_time": "228.729",
          "id": 670,
          "start_time": "228.58",
          "type": "pronunciation"
         },
         {
          "alternatives": [
           {
            "confidence": "0.999",
            "content": "someone"
           }
          ],
          "end_time": "229.38",
          "id": 671,
          "start_time": "228.729",
          "type": "pronunciation"
         },
         {
          "alternatives": [
           {
            "confidence": "0.999",
            "content": "or"
           }
          ],
          "end_time": "229.619",
          "id": 672,
          "start_time": "229.38",
          "type": "pronunciation"
         },
         {
          "alternatives": [
           {
            "confidence": "0.999",
            "content": "something"
           }
          ],
          "end_time": "230.27",
          "id": 673,
          "start_time": "229.619",
          "type": "pronunciation"
         },
         {
          "alternatives": [
           {
            "confidence": "0.0",
            "content": "."
           }
          ],
          "id": 674,
          "type": "punctuation"
         },
         {
          "alternatives": [
           {
            "confidence": "0.996",
            "content": "Then"
           }
          ],
          "end_time": "233.339",
          "id": 675,
          "start_time": "233.05",
          "type": "pronunciation"
         },
         {
          "alternatives": [
           {
            "confidence": "0.997",
            "content": "it"
           }
          ],
          "end_time": "233.63",
          "id": 676,
          "start_time": "233.339",
          "type": "pronunciation"
         },
         {
          "alternatives": [
           {
            "confidence": "0.998",
            "content": "gets"
           }
          ],
          "end_time": "234.029",
          "id": 677,
          "start_time": "233.63",
          "type": "pronunciation"
         },
         {
          "alternatives": [
           {
            "confidence": "0.999",
            "content": "dark"
           }
          ],
          "end_time": "234.6",
          "id": 678,
          "start_time": "234.029",
          "type": "pronunciation"
         },
         {
          "alternatives": [
           {
            "confidence": "0.999",
            "content": "all"
           }
          ],
          "end_time": "234.8",
          "id": 679,
          "start_time": "234.6",
          "type": "pronunciation"
         },
         {
          "alternatives": [
           {
            "confidence": "0.997",
            "content": "of"
           }
          ],
          "end_time": "234.869",
          "id": 680,
          "start_time": "234.8",
          "type": "pronunciation"
         },
         {
          "alternatives": [
           {
            "confidence": "0.997",
            "content": "a"
           }
          ],
          "end_time": "235.07",
          "id": 681,
          "start_time": "234.869",
          "type": "pronunciation"
         },
         {
          "alternatives": [
           {
            "confidence": "0.999",
            "content": "sudden"
           }
          ],
          "end_time": "235.479",
          "id": 682,
          "start_time": "235.07",
          "type": "pronunciation"
         },
         {
          "alternatives": [
           {
            "confidence": "0.0",
            "content": ","
           }
          ],
          "id": 683,
          "type": "punctuation"
         },
         {
          "alternatives": [
           {
            "confidence": "0.998",
            "content": "really"
           }
          ],
          "end_time": "236.029",
          "id": 684,
          "start_time": "235.55",
          "type": "pronunciation"
         },
         {
          "alternatives": [
           {
            "confidence": "0.999",
            "content": "fast"
           }
          ],
          "end_time": "236.58",
          "id": 685,
          "start_time": "236.029",
          "type": "pronunciation"
         },
         {
          "alternatives": [
           {
            "confidence": "0.0",
            "content": "."
           }
          ],
          "id": 686,
          "type": "punctuation"
         },
         {
          "alternatives": [
           {
            "confidence": "0.996",
            "content": "Like"
           }
          ],
          "end_time": "237.619",
          "id": 687,
          "start_time": "237.419",
          "type": "pronunciation"
         },
         {
          "alternatives": [
           {
            "confidence": "0.993",
            "content": "thunder"
           }
          ],
          "end_time": "238.1",
          "id": 688,
          "start_time": "237.619",
          "type": "pronunciation"
         },
         {
          "alternatives": [
           {
            "confidence": "0.998",
            "content": "and"
           }
          ],
          "end_time": "238.3",
          "id": 689,
          "start_time": "238.1",
          "type": "pronunciation"
         },
         {
          "alternatives": [
           {
            "confidence": "0.993",
            "content": "lightning"
           }
          ],
          "end_time": "238.82",
          "id": 690,
          "start_time": "238.3",
          "type": "pronunciation"
         },
         {
          "alternatives": [
           {
            "confidence": "0.998",
            "content": "from"
           }
          ],
          "end_time": "239.02",
          "id": 691,
          "start_time": "238.82",
          "type": "pronunciation"
         },
         {
          "alternatives": [
           {
            "confidence": "0.995",
            "content": "everywhere"
           }
          ],
          "end_time": "239.35",
          "id": 692,
          "start_time": "239.02",
          "type": "pronunciation"
         },
         {
          "alternatives": [
           {
            "confidence": "0.0",
            "content": ","
           }
          ],
          "id": 693,
          "type": "punctuation"
         },
         {
          "alternatives": [
           {
            "confidence": "0.996",
            "content": "all"
           }
          ],
          "end_time": "239.669",
          "id": 694,
          "start_time": "239.46",
          "type": "pronunciation"
         },
         {
          "alternatives": [
           {
            "confidence": "0.998",
            "content": "this"
           }
          ],
          "end_time": "239.94",
          "id": 695,
          "start_time": "239.669",
          "type": "pronunciation"
         },
         {
          "alternatives": [
           {
            "confidence": "0.999",
            "content": "weather"
           }
          ],
          "end_time": "240.339",
          "id": 696,
          "start_time": "239.94",
          "type": "pronunciation"
         },
         {
          "alternatives": [
           {
            "confidence": "0.0",
            "content": "."
           }
          ],
          "id": 697,
          "type": "punctuation"
         },
         {
          "alternatives": [
           {
            "confidence": "0.997",
            "content": "When"
           }
          ],
          "end_time": "242.44",
          "id": 698,
          "start_time": "242.32",
          "type": "pronunciation"
         },
         {
          "alternatives": [
           {
            "confidence": "0.999",
            "content": "he"
           }
          ],
          "end_time": "242.559",
          "id": 699,
          "start_time": "242.44",
          "type": "pronunciation"
         },
         {
          "alternatives": [
           {
            "confidence": "0.998",
            "content": "looks"
           }
          ],
          "end_time": "242.729",
          "id": 700,
          "start_time": "242.559",
          "type": "pronunciation"
         },
         {
          "alternatives": [
           {
            "confidence": "0.999",
            "content": "back"
           }
          ],
          "end_time": "242.919",
          "id": 701,
          "start_time": "242.729",
          "type": "pronunciation"
         },
         {
          "alternatives": [
           {
            "confidence": "0.996",
            "content": "at"
           }
          ],
          "end_time": "243.0",
          "id": 702,
          "start_time": "242.919",
          "type": "pronunciation"
         },
         {
          "alternatives": [
           {
            "confidence": "0.998",
            "content": "the"
           }
          ],
          "end_time": "243.16",
          "id": 703,
          "start_time": "243.0",
          "type": "pronunciation"
         },
         {
          "alternatives": [
           {
            "confidence": "0.997",
            "content": "rock"
           }
          ],
          "end_time": "243.429",
          "id": 704,
          "start_time": "243.16",
          "type": "pronunciation"
         },
         {
          "alternatives": [
           {
            "confidence": "0.0",
            "content": ","
           }
          ],
          "id": 705,
          "type": "punctuation"
         },
         {
          "alternatives": [
           {
            "confidence": "0.993",
            "content": "the"
           }
          ],
          "end_time": "244.399",
          "id": 706,
          "start_time": "244.369",
          "type": "pronunciation"
         },
         {
          "alternatives": [
           {
            "confidence": "0.98",
            "content": "guy's"
           }
          ],
          "end_time": "244.759",
          "id": 707,
          "start_time": "244.399",
          "type": "pronunciation"
         },
         {
          "alternatives": [
           {
            "confidence": "0.999",
            "content": "gone"
           }
          ],
          "end_time": "245.309",
          "id": 708,
          "start_time": "244.759",
          "type": "pronunciation"
         },
         {
          "alternatives": [
           {
            "confidence": "0.0",
            "content": ","
           }
          ],
          "id": 709,
          "type": "punctuation"
         },
         {
          "alternatives": [
           {
            "confidence": "0.996",
            "content": "but"
           }
          ],
          "end_time": "245.919",
          "id": 710,
          "start_time": "245.8",
          "type": "pronunciation"
         },
         {
          "alternatives": [
           {
            "confidence": "0.996",
            "content": "there's"
           }
          ],
          "end_time": "246.08",
          "id": 711,
          "start_time": "245.919",
          "type": "pronunciation"
         },
         {
          "alternatives": [
           {
            "confidence": "0.999",
            "content": "a"
           }
          ],
          "end_time": "246.24",
          "id": 712,
          "start_time": "246.08",
          "type": "pronunciation"
         },
         {
          "alternatives": [
           {
            "confidence": "0.999",
            "content": "woman"
           }
          ],
          "end_time": "246.52",
          "id": 713,
          "start_time": "246.24",
          "type": "pronunciation"
         },
         {
          "alternatives": [
           {
            "confidence": "0.999",
            "content": "there"
           }
          ],
          "end_time": "246.99",
          "id": 714,
          "start_time": "246.52",
          "type": "pronunciation"
         },
         {
          "alternatives": [
           {
            "confidence": "0.997",
            "content": "in"
           }
          ],
          "end_time": "247.479",
          "id": 715,
          "start_time": "247.36",
          "type": "pronunciation"
         },
         {
          "alternatives": [
           {
            "confidence": "0.998",
            "content": "a"
           }
          ],
          "end_time": "247.639",
          "id": 716,
          "start_time": "247.479",
          "type": "pronunciation"
         },
         {
          "alternatives": [
           {
            "confidence": "0.998",
            "content": "long"
           }
          ],
          "end_time": "247.919",
          "id": 717,
          "start_time": "247.639",
          "type": "pronunciation"
         },
         {
          "alternatives": [
           {
            "confidence": "0.997",
            "content": "white"
           }
          ],
          "end_time": "248.199",
          "id": 718,
          "start_time": "247.919",
          "type": "pronunciation"
         },
         {
          "alternatives": [
           {
            "confidence": "0.999",
            "content": "dress"
           }
          ],
          "end_time": "248.479",
          "id": 719,
          "start_time": "248.199",
          "type": "pronunciation"
         },
         {
          "alternatives": [
           {
            "confidence": "0.999",
            "content": "with"
           }
          ],
          "end_time": "248.6",
          "id": 720,
          "start_time": "248.479",
          "type": "pronunciation"
         },
         {
          "alternatives": [
           {
            "confidence": "0.994",
            "content": "alabaster"
           }
          ],
          "end_time": "249.279",
          "id": 721,
          "start_time": "248.6",
          "type": "pronunciation"
         },
         {
          "alternatives": [
           {
            "confidence": "0.999",
            "content": "skin"
           }
          ],
          "end_time": "249.759",
          "id": 722,
          "start_time": "249.279",
          "type": "pronunciation"
         },
         {
          "alternatives": [
           {
            "confidence": "0.0",
            "content": "."
           }
          ],
          "id": 723,
          "type": "punctuation"
         },
         {
          "alternatives": [
           {
            "confidence": "0.996",
            "content": "And"
           }
          ],
          "end_time": "250.75",
          "id": 724,
          "start_time": "250.44",
          "type": "pronunciation"
         },
         {
          "alternatives": [
           {
            "confidence": "0.996",
            "content": "she's"
           }
          ],
          "end_time": "251.07",
          "id": 725,
          "start_time": "250.75",
          "type": "pronunciation"
         },
         {
          "alternatives": [
           {
            "confidence": "0.999",
            "content": "staring"
           }
          ],
          "end_time": "251.75",
          "id": 726,
          "start_time": "251.07",
          "type": "pronunciation"
         },
         {
          "alternatives": [
           {
            "confidence": "0.999",
            "content": "right"
           }
          ],
          "end_time": "251.949",
          "id": 727,
          "start_time": "251.75",
          "type": "pronunciation"
         },
         {
          "alternatives": [
           {
            "confidence": "0.999",
            "content": "up"
           }
          ],
          "end_time": "252.149",
          "id": 728,
          "start_time": "251.949",
          "type": "pronunciation"
         },
         {
          "alternatives": [
           {
            "confidence": "0.999",
            "content": "at"
           }
          ],
          "end_time": "252.229",
          "id": 729,
          "start_time": "252.149",
          "type": "pronunciation"
         },
         {
          "alternatives": [
           {
            "confidence": "0.999",
            "content": "him"
           }
          ],
          "end_time": "252.66",
          "id": 730,
          "start_time": "252.229",
          "type": "pronunciation"
         },
         {
          "alternatives": [
           {
            "confidence": "0.0",
            "content": ","
           }
          ],
          "id": 731,
          "type": "punctuation"
         },
         {
          "alternatives": [
           {
            "confidence": "0.997",
            "content": "not"
           }
          ],
          "end_time": "253.07",
          "id": 732,
          "start_time": "252.83",
          "type": "pronunciation"
         },
         {
          "alternatives": [
           {
            "confidence": "0.997",
            "content": "moving"
           }
          ],
          "end_time": "253.309",
          "id": 733,
          "start_time": "253.07",
          "type": "pronunciation"
         },
         {
          "alternatives": [
           {
            "confidence": "0.0",
            "content": "."
           }
          ],
          "id": 734,
          "type": "punctuation"
         },
         {
          "alternatives": [
           {
            "confidence": "0.981",
            "content": "Now"
           }
          ],
          "end_time": "255.309",
          "id": 735,
          "start_time": "255.19",
          "type": "pronunciation"
         },
         {
          "alternatives": [
           {
            "confidence": "0.998",
            "content": "I"
           }
          ],
          "end_time": "255.429",
          "id": 736,
          "start_time": "255.309",
          "type": "pronunciation"
         },
         {
          "alternatives": [
           {
            "confidence": "0.994",
            "content": "don't"
           }
          ],
          "end_time": "255.55",
          "id": 737,
          "start_time": "255.429",
          "type": "pronunciation"
         },
         {
          "alternatives": [
           {
            "confidence": "0.998",
            "content": "know"
           }
          ],
          "end_time": "255.669",
          "id": 738,
          "start_time": "255.55",
          "type": "pronunciation"
         },
         {
          "alternatives": [
           {
            "confidence": "0.998",
            "content": "what"
           }
          ],
          "end_time": "255.83",
          "id": 739,
          "start_time": "255.669",
          "type": "pronunciation"
         },
         {
          "alternatives": [
           {
            "confidence": "0.997",
            "content": "to"
           }
          ],
          "end_time": "255.99",
          "id": 740,
          "start_time": "255.83",
          "type": "pronunciation"
         },
         {
          "alternatives": [
           {
            "confidence": "0.997",
            "content": "believe"
           }
          ],
          "end_time": "256.309",
          "id": 741,
          "start_time": "255.99",
          "type": "pronunciation"
         },
         {
          "alternatives": [
           {
            "confidence": "0.0",
            "content": "."
           }
          ],
          "id": 742,
          "type": "punctuation"
         },
         {
          "alternatives": [
           {
            "confidence": "0.998",
            "content": "I"
           }
          ],
          "end_time": "258.109",
          "id": 743,
          "start_time": "257.838",
          "type": "pronunciation"
         },
         {
          "alternatives": [
           {
            "confidence": "0.998",
            "content": "know"
           }
          ],
          "end_time": "258.229",
          "id": 744,
          "start_time": "258.109",
          "type": "pronunciation"
         },
         {
          "alternatives": [
           {
            "confidence": "0.998",
            "content": "I"
           }
          ],
          "end_time": "258.348",
          "id": 745,
          "start_time": "258.229",
          "type": "pronunciation"
         },
         {
          "alternatives": [
           {
            "confidence": "0.997",
            "content": "sure"
           }
          ],
          "end_time": "258.459",
          "id": 746,
          "start_time": "258.348",
          "type": "pronunciation"
         },
         {
          "alternatives": [
           {
            "confidence": "0.993",
            "content": "don't"
           }
          ],
          "end_time": "258.669",
          "id": 747,
          "start_time": "258.459",
          "type": "pronunciation"
         },
         {
          "alternatives": [
           {
            "confidence": "0.996",
            "content": "want"
           }
          ],
          "end_time": "258.748",
          "id": 748,
          "start_time": "258.669",
          "type": "pronunciation"
         },
         {
          "alternatives": [
           {
            "confidence": "0.996",
            "content": "to"
           }
          ],
          "end_time": "258.889",
          "id": 749,
          "start_time": "258.748",
          "type": "pronunciation"
         },
         {
          "alternatives": [
           {
            "confidence": "0.997",
            "content": "believe"
           }
          ],
          "end_time": "259.079",
          "id": 750,
          "start_time": "258.889",
          "type": "pronunciation"
         },
         {
          "alternatives": [
           {
            "confidence": "0.999",
            "content": "him"
           }
          ],
          "end_time": "259.428",
          "id": 751,
          "start_time": "259.079",
          "type": "pronunciation"
         },
         {
          "alternatives": [
           {
            "confidence": "0.0",
            "content": "."
           }
          ],
          "id": 752,
          "type": "punctuation"
         },
         {
          "alternatives": [
           {
            "confidence": "0.997",
            "content": "Yeah"
           }
          ],
          "end_time": "312.029",
          "id": 753,
          "start_time": "311.839",
          "type": "pronunciation"
         },
         {
          "alternatives": [
           {
            "confidence": "0.0",
            "content": ","
           }
          ],
          "id": 754,
          "type": "punctuation"
         },
         {
          "alternatives": [
           {
            "confidence": "0.993",
            "content": "dispatch"
           }
          ],
          "end_time": "312.589",
          "id": 755,
          "start_time": "312.19",
          "type": "pronunciation"
         },
         {
          "alternatives": [
           {
            "confidence": "0.0",
            "content": "."
           }
          ],
          "id": 756,
          "type": "punctuation"
         },
         {
          "alternatives": [
           {
            "confidence": "0.909",
            "content": "This"
           }
          ],
          "end_time": "312.859",
          "id": 757,
          "start_time": "312.75",
          "type": "pronunciation"
         },
         {
          "alternatives": [
           {
            "confidence": "0.996",
            "content": "is"
           }
          ],
          "end_time": "312.95",
          "id": 758,
          "start_time": "312.859",
          "type": "pronunciation"
         },
         {
          "alternatives": [
           {
            "confidence": "0.993",
            "content": "Captain"
           }
          ],
          "end_time": "313.269",
          "id": 759,
          "start_time": "312.95",
          "type": "pronunciation"
         },
         {
          "alternatives": [
           {
            "confidence": "0.993",
            "content": "Foster"
           }
          ],
          "end_time": "313.66",
          "id": 760,
          "start_time": "313.269",
          "type": "pronunciation"
         },
         {
          "alternatives": [
           {
            "confidence": "0.0",
            "content": "."
           }
          ],
          "id": 761,
          "type": "punctuation"
         },
         {
          "alternatives": [
           {
            "confidence": "0.996",
            "content": "I'm"
           }
          ],
          "end_time": "314.76",
          "id": 762,
          "start_time": "314.57",
          "type": "pronunciation"
         },
         {
          "alternatives": [
           {
            "confidence": "0.998",
            "content": "out"
           }
          ],
          "end_time": "314.959",
          "id": 763,
          "start_time": "314.76",
          "type": "pronunciation"
         },
         {
          "alternatives": [
           {
            "confidence": "0.998",
            "content": "here"
           }
          ],
          "end_time": "315.04",
          "id": 764,
          "start_time": "314.959",
          "type": "pronunciation"
         },
         {
          "alternatives": [
           {
            "confidence": "0.997",
            "content": "at"
           }
          ],
          "end_time": "315.089",
          "id": 765,
          "start_time": "315.04",
          "type": "pronunciation"
         },
         {
          "alternatives": [
           {
            "confidence": "0.999",
            "content": "the"
           }
          ],
          "end_time": "315.22",
          "id": 766,
          "start_time": "315.089",
          "type": "pronunciation"
         },
         {
          "alternatives": [
           {
            "confidence": "0.994",
            "content": "El"
           }
          ],
          "end_time": "315.399",
          "id": 767,
          "start_time": "315.22",
          "type": "pronunciation"
         },
         {
          "alternatives": [
           {
            "confidence": "0.997",
            "content": "Matador"
           }
          ],
          "end_time": "316.029",
          "id": 768,
          "start_time": "315.399",
          "type": "pronunciation"
         },
         {
          "alternatives": [
           {
            "confidence": "0.999",
            "content": "location"
           }
          ],
          "end_time": "316.51",
          "id": 769,
          "start_time": "316.029",
          "type": "pronunciation"
         },
         {
          "alternatives": [
           {
            "confidence": "0.0",
            "content": "."
           }
          ],
          "id": 770,
          "type": "punctuation"
         },
         {
          "alternatives": [
           {
            "confidence": "0.498",
            "content": "There's"
           }
          ],
          "end_time": "316.839",
          "id": 771,
          "start_time": "316.72",
          "type": "pronunciation"
         },
         {
          "alternatives": [
           {
            "confidence": "0.97",
            "content": "no"
           }
          ],
          "end_time": "317.079",
          "id": 772,
          "start_time": "316.839",
          "type": "pronunciation"
         },
         {
          "alternatives": [
           {
            "confidence": "0.998",
            "content": "sign"
           }
          ],
          "end_time": "317.2",
          "id": 773,
          "start_time": "317.079",
          "type": "pronunciation"
         },
         {
          "alternatives": [
           {
            "confidence": "0.997",
            "content": "of"
           }
          ],
          "end_time": "317.359",
          "id": 774,
          "start_time": "317.2",
          "type": "pronunciation"
         },
         {
          "alternatives": [
           {
            "confidence": "0.996",
            "content": "Detective"
           }
          ],
          "end_time": "317.75",
          "id": 775,
          "start_time": "317.359",
          "type": "pronunciation"
         },
         {
          "alternatives": [
           {
            "confidence": "0.991",
            "content": "Sullivan"
           }
          ],
          "end_time": "318.16",
          "id": 776,
          "start_time": "317.75",
          "type": "pronunciation"
         },
         {
          "alternatives": [
           {
            "confidence": "0.0",
            "content": "."
           }
          ],
          "id": 777,
          "type": "punctuation"
         },
         {
          "alternatives": [
           {
            "confidence": "0.996",
            "content": "Now"
           }
          ],
          "end_time": "320.35",
          "id": 778,
          "start_time": "319.649",
          "type": "pronunciation"
         },
         {
          "alternatives": [
           {
            "confidence": "0.291",
            "content": "what's"
           }
          ],
          "end_time": "320.48",
          "id": 779,
          "start_time": "320.35",
          "type": "pronunciation"
         },
         {
          "alternatives": [
           {
            "confidence": "0.973",
            "content": "this"
           }
          ],
          "end_time": "320.69",
          "id": 780,
          "start_time": "320.48",
          "type": "pronunciation"
         },
         {
          "alternatives": [
           {
            "confidence": "0.997",
            "content": "car"
           }
          ],
          "end_time": "321.0",
          "id": 781,
          "start_time": "320.69",
          "type": "pronunciation"
         },
         {
          "alternatives": [
           {
            "confidence": "0.0",
            "content": "."
           }
          ],
          "id": 782,
          "type": "punctuation"
         },
         {
          "alternatives": [
           {
            "confidence": "0.989",
            "content": "Listen"
           }
          ],
          "end_time": "322.47",
          "id": 783,
          "start_time": "322.35",
          "type": "pronunciation"
         },
         {
          "alternatives": [
           {
            "confidence": "0.0",
            "content": ","
           }
          ],
          "id": 784,
          "type": "punctuation"
         },
         {
          "alternatives": [
           {
            "confidence": "0.989",
            "content": "I'm"
           }
          ],
          "end_time": "322.64",
          "id": 785,
          "start_time": "322.51",
          "type": "pronunciation"
         },
         {
          "alternatives": [
           {
            "confidence": "0.922",
            "content": "gonna"
           }
          ],
          "end_time": "322.79",
          "id": 786,
          "start_time": "322.64",
          "type": "pronunciation"
         },
         {
          "alternatives": [
           {
            "confidence": "0.997",
            "content": "take"
           }
          ],
          "end_time": "322.869",
          "id": 787,
          "start_time": "322.79",
          "type": "pronunciation"
         },
         {
          "alternatives": [
           {
            "confidence": "0.997",
            "content": "a"
           }
          ],
          "end_time": "322.959",
          "id": 788,
          "start_time": "322.869",
          "type": "pronunciation"
         },
         {
          "alternatives": [
           {
            "confidence": "0.999",
            "content": "look"
           }
          ],
          "end_time": "323.149",
          "id": 789,
          "start_time": "322.959",
          "type": "pronunciation"
         },
         {
          "alternatives": [
           {
            "confidence": "0.998",
            "content": "around"
           }
          ],
          "end_time": "323.429",
          "id": 790,
          "start_time": "323.149",
          "type": "pronunciation"
         },
         {
          "alternatives": [
           {
            "confidence": "0.999",
            "content": "before"
           }
          ],
          "end_time": "323.51",
          "id": 791,
          "start_time": "323.429",
          "type": "pronunciation"
         },
         {
          "alternatives": [
           {
            "confidence": "0.998",
            "content": "you"
           }
          ],
          "end_time": "323.67",
          "id": 792,
          "start_time": "323.51",
          "type": "pronunciation"
         },
         {
          "alternatives": [
           {
            "confidence": "0.997",
            "content": "send"
           }
          ],
          "end_time": "323.85",
          "id": 793,
          "start_time": "323.67",
          "type": "pronunciation"
         },
         {
          "alternatives": [
           {
            "confidence": "0.998",
            "content": "anybody"
           }
          ],
          "end_time": "324.109",
          "id": 794,
          "start_time": "323.85",
          "type": "pronunciation"
         },
         {
          "alternatives": [
           {
            "confidence": "0.998",
            "content": "out"
           }
          ],
          "end_time": "324.309",
          "id": 795,
          "start_time": "324.109",
          "type": "pronunciation"
         },
         {
          "alternatives": [
           {
            "confidence": "0.999",
            "content": "here"
           }
          ],
          "end_time": "324.459",
          "id": 796,
          "start_time": "324.309",
          "type": "pronunciation"
         },
         {
          "alternatives": [
           {
            "confidence": "0.0",
            "content": ","
           }
          ],
          "id": 797,
          "type": "punctuation"
         },
         {
          "alternatives": [
           {
            "confidence": "0.996",
            "content": "so"
           }
          ],
          "end_time": "324.869",
          "id": 798,
          "start_time": "324.589",
          "type": "pronunciation"
         },
         {
          "alternatives": [
           {
            "confidence": "0.0",
            "content": "."
           }
          ],
          "id": 799,
          "type": "punctuation"
         },
         {
          "alternatives": [
           {
            "confidence": "0.994",
            "content": "Hang"
           }
          ],
          "end_time": "331.209",
          "id": 800,
          "start_time": "331.01",
          "type": "pronunciation"
         },
         {
          "alternatives": [
           {
            "confidence": "0.997",
            "content": "on"
           }
          ],
          "end_time": "331.369",
          "id": 801,
          "start_time": "331.209",
          "type": "pronunciation"
         },
         {
          "alternatives": [
           {
            "confidence": "0.998",
            "content": "a"
           }
          ],
          "end_time": "331.45",
          "id": 802,
          "start_time": "331.369",
          "type": "pronunciation"
         },
         {
          "alternatives": [
           {
            "confidence": "0.998",
            "content": "minute"
           }
          ],
          "end_time": "331.76",
          "id": 803,
          "start_time": "331.45",
          "type": "pronunciation"
         },
         {
          "alternatives": [
           {
            "confidence": "0.0",
            "content": "."
           }
          ],
          "id": 804,
          "type": "punctuation"
         },
         {
          "alternatives": [
           {
            "confidence": "0.995",
            "content": "Captain"
           }
          ],
          "end_time": "335.92",
          "id": 805,
          "start_time": "335.579",
          "type": "pronunciation"
         },
         {
          "alternatives": [
           {
            "confidence": "0.99",
            "content": "Foster"
           }
          ],
          "end_time": "336.369",
          "id": 806,
          "start_time": "335.92",
          "type": "pronunciation"
         },
         {
          "alternatives": [
           {
            "confidence": "0.0",
            "content": ","
           }
          ],
          "id": 807,
          "type": "punctuation"
         },
         {
          "alternatives": [
           {
            "confidence": "0.971",
            "content": "you"
           }
          ],
          "end_time": "336.809",
          "id": 808,
          "start_time": "336.57",
          "type": "pronunciation"
         },
         {
          "alternatives": [
           {
            "confidence": "0.997",
            "content": "come"
           }
          ],
          "end_time": "336.97",
          "id": 809,
          "start_time": "336.809",
          "type": "pronunciation"
         },
         {
          "alternatives": [
           {
            "confidence": "0.998",
            "content": "in"
           }
          ],
          "end_time": "337.14",
          "id": 810,
          "start_time": "336.97",
          "type": "pronunciation"
         },
         {
          "alternatives": [
           {
            "confidence": "0.998",
            "content": "please"
           }
          ],
          "end_time": "337.489",
          "id": 811,
          "start_time": "337.14",
          "type": "pronunciation"
         },
         {
          "alternatives": [
           {
            "confidence": "0.0",
            "content": "."
           }
          ],
          "id": 812,
          "type": "punctuation"
         },
         {
          "alternatives": [
           {
            "confidence": "0.883",
            "content": "Captain"
           }
          ],
          "end_time": "342.17",
          "id": 813,
          "start_time": "341.929",
          "type": "pronunciation"
         },
         {
          "alternatives": [
           {
            "confidence": "0.475",
            "content": "Foster"
           }
          ],
          "end_time": "342.75",
          "id": 814,
          "start_time": "342.17",
          "type": "pronunciation"
         },
         {
          "alternatives": [
           {
            "confidence": "0.183",
            "content": "I"
           }
          ],
          "end_time": "345.79",
          "id": 815,
          "start_time": "345.779",
          "type": "pronunciation"
         },
         {
          "alternatives": [
           {
            "confidence": "0.0",
            "content": "."
           }
          ],
          "id": 816,
          "type": "punctuation"
         },
         {
          "alternatives": [
           {
            "confidence": "0.989",
            "content": "LAPD"
           }
          ],
          "end_time": "530.229",
          "id": 817,
          "start_time": "529.64",
          "type": "pronunciation"
         },
         {
          "alternatives": [
           {
            "confidence": "0.0",
            "content": ","
           }
          ],
          "id": 818,
          "type": "punctuation"
         },
         {
          "alternatives": [
           {
            "confidence": "0.996",
            "content": "put"
           }
          ],
          "end_time": "530.39",
          "id": 819,
          "start_time": "530.299",
          "type": "pronunciation"
         },
         {
          "alternatives": [
           {
            "confidence": "0.997",
            "content": "your"
           }
          ],
          "end_time": "530.469",
          "id": 820,
          "start_time": "530.39",
          "type": "pronunciation"
         },
         {
          "alternatives": [
           {
            "confidence": "0.996",
            "content": "hands"
           }
          ],
          "end_time": "530.669",
          "id": 821,
          "start_time": "530.469",
          "type": "pronunciation"
         },
         {
          "alternatives": [
           {
            "confidence": "0.997",
            "content": "in"
           }
          ],
          "end_time": "530.71",
          "id": 822,
          "start_time": "530.669",
          "type": "pronunciation"
         },
         {
          "alternatives": [
           {
            "confidence": "0.997",
            "content": "the"
           }
          ],
          "end_time": "530.869",
          "id": 823,
          "start_time": "530.71",
          "type": "pronunciation"
         },
         {
          "alternatives": [
           {
            "confidence": "0.997",
            "content": "air"
           }
          ],
          "end_time": "531.15",
          "id": 824,
          "start_time": "530.869",
          "type": "pronunciation"
         },
         {
          "alternatives": [
           {
            "confidence": "0.0",
            "content": "."
           }
          ],
          "id": 825,
          "type": "punctuation"
         },
         {
          "alternatives": [
           {
            "confidence": "0.993",
            "content": "Put"
           }
          ],
          "end_time": "533.28",
          "id": 826,
          "start_time": "533.01",
          "type": "pronunciation"
         },
         {
          "alternatives": [
           {
            "confidence": "0.998",
            "content": "your"
           }
          ],
          "end_time": "533.4",
          "id": 827,
          "start_time": "533.28",
          "type": "pronunciation"
         },
         {
          "alternatives": [
           {
            "confidence": "0.998",
            "content": "hands"
           }
          ],
          "end_time": "533.64",
          "id": 828,
          "start_time": "533.4",
          "type": "pronunciation"
         },
         {
          "alternatives": [
           {
            "confidence": "0.998",
            "content": "up"
           }
          ],
          "end_time": "533.919",
          "id": 829,
          "start_time": "533.64",
          "type": "pronunciation"
         },
         {
          "alternatives": [
           {
            "confidence": "0.997",
            "content": "now"
           }
          ],
          "end_time": "534.39",
          "id": 830,
          "start_time": "533.919",
          "type": "pronunciation"
         },
         {
          "alternatives": [
           {
            "confidence": "0.0",
            "content": "."
           }
          ],
          "id": 831,
          "type": "punctuation"
         },
         {
          "alternatives": [
           {
            "confidence": "0.394",
            "content": "Hm"
           }
          ],
          "end_time": "561.59",
          "id": 832,
          "start_time": "561.26",
          "type": "pronunciation"
         }
        ],
        "transcripts": [
         {
          "transcript": "So these guys just disappeared. Yeah, on that stretch of road right above El Matador. You know it. With the big rock, that's right, yeah. You know, Mickey Cohen used to take his associates out there, get him a bond voyage. Mob heads? No, not this time. One of these guys was a school teacher. Next guy, he sold insurance, and the last guy, he was retired. Any connection? Mm. I mean, I checked them all out. There's no criminal records, no association in any criminal organizations. One of the guys was arrested for drunk driving a long time ago. They were all divorced. Well, in that case, maybe you don't want to go out there, boss. What are you, a comedian? If that's the case, you sure don't want to go out there. Yeah, look, I know what happened, all right? They go out to the rock, they take that long, cold, slow swim to China. Suicide. It's been known to happen out there. Uh, not this time. What do you mean? Well, for one thing, there's no bodies, and Somebody was out there the day the last guy disappeared. A witness, yeah, a witness. Why didn't you say that in the first place? Because I thought the guy was nuts, what he said. But now you believe him. I had him checked out too. The guy's a goddamn Eagle Scout. So now, now I don't know what to believe. I know I don't want to believe him. What did he say? He said he was out there walking his dog along the bluffs above El Matador, right? And he looks down at the beach at that huge rock, you know, the one that's separated from the mainland right where the ocean meets the shore. His words looks like a, like a mythic sea creature, you know that one. Anyway, he looks down there and there's a guy who's on top of that rock, and he's thinking to himself, how the hell do you get up there? You gotta be a goddamn mountain climber. But more importantly, he says the guy's acting really funny. He's looking all over that rock like he's looking for something or someone. At that very moment, he says it got really, really dark, really fast, and bombs start going off in the air, thunder and lightning, weather like he'd never seen before coming from he didn't know where. When he looks back at the rock, the guy's gone. But there's a woman there. She's in a white dress, alabaster skin, his words, and he says she's staring right up at him. He sees her, she's beautiful. But like she's from some other time, some other place. He looks back at the weather cause it's getting worse and worse. He decides to hightail it out of there. And that was it. That was his story, right? So now Now I need you to go up there and find that woman. So these guys just disappear. No, not this time. Somebody was out there the day the last guy disappeared. A witness, yeah, a witness. He said that he was up there walking his dog along those bluffs above El Matador, and there's a guy who's on top of that rock. He's just like looking all over the rock as if he's looking for someone or something. Then it gets dark all of a sudden, really fast. Like thunder and lightning from everywhere, all this weather. When he looks back at the rock, the guy's gone, but there's a woman there in a long white dress with alabaster skin. And she's staring right up at him, not moving. Now I don't know what to believe. I know I sure don't want to believe him. Yeah, dispatch. This is Captain Foster. I'm out here at the El Matador location. There's no sign of Detective Sullivan. Now what's this car. Listen, I'm gonna take a look around before you send anybody out here, so. Hang on a minute. Captain Foster, you come in please. Captain Foster I. LAPD, put your hands in the air. Put your hands up now. Hm"
         }
        ]
       },
       "status": "COMPLETED"
      },
      "text/plain": [
       "<IPython.core.display.JSON object>"
      ]
     },
     "execution_count": 10,
     "metadata": {
      "application/json": {
       "expanded": false,
       "root": "root"
      }
     },
     "output_type": "execute_result"
    }
   ],
   "source": [
    "JSON(filename=video['transcript'].transcript_file)"
   ]
  },
  {
   "cell_type": "markdown",
   "id": "bd334b64-011e-4405-ae18-86b505650ffc",
   "metadata": {
    "editable": true,
    "slideshow": {
     "slide_type": ""
    },
    "tags": []
   },
   "source": [
    "### WebVTT Subtitles\n",
    "\n",
    "Let's take a look at the first few lines of the WebVTT formatted subtitles generated by Amazon Transcribe.  WebVTT subtitles can be used in video players to display the speech in the video as text on the screen."
   ]
  },
  {
   "cell_type": "code",
   "execution_count": 11,
   "id": "c36dafd9-7520-46da-93aa-0f0f71d2cb73",
   "metadata": {
    "editable": true,
    "scrolled": true,
    "slideshow": {
     "slide_type": ""
    },
    "tags": []
   },
   "outputs": [
    {
     "name": "stdout",
     "output_type": "stream",
     "text": [
      "WEBVTT\n",
      "\n",
      "0\n",
      "00:00:27.010 --> 00:00:28.440\n",
      "So these guys just\n",
      "\n",
      "1\n",
      "00:00:28.889 --> 00:00:29.530\n",
      "disappeared.\n",
      "\n",
      "2\n",
      "00:00:30.940 --> 00:00:31.450\n",
      "Yeah,\n",
      "\n",
      "3\n",
      "00:00:31.649 --> 00:00:34.130\n",
      "on that stretch of road right above El Matador.\n",
      "\n",
      "4\n",
      "00:00:35.110 --> 00:00:35.740\n",
      "You know it.\n",
      "\n",
      "5\n",
      "00:00:36.500 --> 00:00:37.529\n",
      "With the big rock,\n",
      "\n",
      "6\n",
      "00:00:37.889 --> 00:00:38.419\n",
      "that's right,\n",
      "\n",
      "7\n",
      "00:00:38.569 --> 00:00:38.759\n",
      "yeah.\n",
      "\n",
      "8\n",
      "00:00:40.669 --> 00:00:40.790\n",
      "You know,\n",
      "\n",
      "9\n",
      "00:00:40.869 --> 00:00:43.009\n",
      "Mickey Cohen used to take his associates out there,\n",
      "\n",
      "10\n",
      "00:00:43.549 --> 00:00:44.860\n",
      "get him a bond voyage.\n",
      "\n",
      "11\n",
      "00:00:45.509 --> 00:00:46.299\n",
      "Mob heads?\n",
      "\n",
      "12\n",
      "00:00:46.560 --> 00:00:46.659\n",
      "No,\n",
      "\n",
      "13\n",
      "00:00:46.790 --> 00:00:47.700\n",
      "not this time.\n",
      "\n",
      "14\n",
      "00:00:48.069 --> 00:00:50.139\n",
      "One of these guys was a school teacher.\n",
      "\n",
      "15\n",
      "00:00:50.819 --> 00:00:51.189\n",
      "Next guy,\n",
      "\n",
      "16\n",
      "00:00:51.270 --> 00:00:52.459\n",
      "he sold insurance,\n",
      "\n",
      "17\n",
      "00:00:52.549 --> 00:00:53.189\n",
      "and the last guy,\n",
      "\n",
      "18\n",
      "00:00:53.229 --> 00:00:54.310\n",
      "he was retired.\n",
      "\n",
      "19\n",
      "00:00:55.619 --> 00:00:56.319\n",
      "Any connection?\n",
      "\n",
      "20\n",
      "00:00:56.990 --> 00:00:57.580\n",
      "Mm.\n",
      "\n",
      "21\n",
      "00:00:58.599 --> 00:00:58.830\n",
      "I mean,\n",
      "\n",
      "22\n",
      "00:00:58.869 --> 00:00:59.860\n",
      "I checked them all out.\n",
      "\n",
      "23\n",
      "00:01:00.529 --> 00:01:02.400\n",
      "There's no criminal records,\n",
      "\n",
      "24\n",
      "00:01:02.520 --> 00:01:04.750\n",
      "no association in any criminal organizations.\n",
      "\n",
      "25\n",
      "00:01:04.959 --> 00:01:07.760\n",
      "One of the guys was arrested for drunk driving a long time ago.\n",
      "\n",
      "26\n",
      "00:01:09.629 --> 00:01:11.050\n",
      "They were all divorced.\n",
      "\n",
      "27\n",
      "00:01:12.779 --> 00:01:12.970\n",
      "Well,\n",
      "\n",
      "28\n",
      "00:01:13.010 --> 00:01:13.489\n",
      "in that case,\n",
      "\n",
      "29\n",
      "00:01:13.580 --> 00:01:14.589\n",
      "maybe you don't want to go out there,\n",
      "\n",
      "30\n",
      "00:01:14.610 --> 00:01:15.830\n",
      "boss.\n",
      "\n",
      "31\n",
      "00:01:16.730 --> 00:01:17.029\n",
      "What are you,\n",
      "\n",
      "32\n",
      "00:01:17.040 --> 00:01:17.779\n",
      "a comedian?\n",
      "\n",
      "33\n",
      "00:01:17.970 --> 00:01:18.610\n",
      "If that's the case,\n",
      "\n",
      "34\n",
      "00:01:18.690 --> 00:01:20.360\n",
      "you sure don't want to go out there.\n",
      "\n",
      "35\n",
      "00:01:20.769 --> 00:01:20.849\n",
      "Yeah,\n",
      "\n",
      "36\n",
      "00:01:20.970 --> 00:01:21.050\n",
      "look,\n",
      "\n",
      "37\n",
      "00:01:21.129 --> 00:01:21.769\n",
      "I know what happened,\n",
      "\n",
      "38\n",
      "00:01:21.809 --> 00:01:22.319\n",
      "all right?\n",
      "\n",
      "39\n",
      "00:01:22.610 --> 00:01:23.599\n",
      "They go out to the rock,\n",
      "\n",
      "40\n",
      "00:01:23.769 --> 00:01:24.559\n",
      "they take that long,\n",
      "\n",
      "41\n",
      "00:01:24.769 --> 00:01:25.010\n",
      "cold,\n",
      "\n",
      "42\n",
      "00:01:25.069 --> 00:01:26.220\n",
      "slow swim to China.\n",
      "\n",
      "43\n",
      "00:01:26.489 --> 00:01:26.919\n",
      "Suicide.\n",
      "\n",
      "44\n",
      "00:01:27.739 --> 00:01:29.160\n",
      "It's been known to happen out there.\n",
      "\n",
      "45\n",
      "00:01:29.750 --> 00:01:29.849\n",
      "Uh,\n",
      "\n",
      "46\n",
      "00:01:30.129 --> 00:01:31.000\n",
      "not this time.\n",
      "\n",
      "47\n",
      "00:01:31.730 --> 00:01:32.239\n",
      "What do you mean?\n",
      "\n",
      "48\n",
      "00:01:32.410 --> 00:01:32.529\n",
      "Well,\n",
      "\n",
      "49\n",
      "00:01:32.690 --> 00:01:33.050\n",
      "for one thing,\n",
      "\n",
      "50\n",
      "00:01:33.110 --> 00:01:34.199\n",
      "there's no bodies,\n",
      "\n",
      "51\n",
      "00:01:34.529 --> 00:01:35.029\n",
      "and\n",
      "\n",
      "52\n",
      "00:01:36.550 --> 00:01:37.819\n",
      "Somebody was out there\n",
      "\n",
      "53\n",
      "00:01:37.989 --> 00:01:39.739\n",
      "the day the last guy disappeared.\n",
      "\n",
      "54\n",
      "00:01:40.489 --> 00:01:41.349\n",
      "A witness,\n",
      "\n",
      "55\n",
      "00:01:42.040 --> 00:01:42.220\n",
      "yeah,\n",
      "\n",
      "56\n",
      "00:01:42.360 --> 00:01:43.059\n",
      "a witness.\n",
      "\n",
      "57\n",
      "00:01:43.279 --> 00:01:45.010\n",
      "Why didn't you say that in the first place?\n",
      "\n",
      "58\n",
      "00:01:45.370 --> 00:01:47.260\n",
      "Because I thought the guy was nuts,\n",
      "\n",
      "59\n",
      "00:01:47.440 --> 00:01:48.160\n",
      "what he said.\n",
      "\n",
      "60\n",
      "00:01:49.250 --> 00:01:50.089\n",
      "But now you believe him.\n",
      "\n",
      "61\n",
      "00:01:51.360 --> 00:01:52.589\n",
      "I had him checked out too.\n",
      "\n",
      "62\n",
      "00:01:52.779 --> 00:01:54.239\n",
      "The guy's a goddamn Eagle Scout.\n",
      "\n",
      "63\n",
      "00:01:54.629 --> 00:01:55.339\n",
      "So now,\n",
      "\n",
      "64\n",
      "00:01:55.910 --> 00:01:57.220\n",
      "now I don't know what to believe.\n",
      "\n",
      "65\n",
      "00:01:57.629 --> 00:01:58.870\n",
      "I know I don't want to believe him.\n",
      "\n",
      "66\n",
      "00:01:59.809 --> 00:02:00.680\n",
      "What did he say?\n",
      "\n",
      "67\n",
      "00:02:00.839 --> 00:02:04.160\n",
      "He said he was out there walking his dog along the bluffs above El Matador,\n",
      "\n",
      "68\n",
      "00:02:04.199 --> 00:02:04.400\n",
      "right?\n",
      "\n",
      "69\n",
      "00:02:05.129 --> 00:02:07.309\n",
      "And he looks down at the beach at that huge rock,\n",
      "\n",
      "70\n",
      "00:02:07.400 --> 00:02:07.519\n",
      "you know,\n",
      "\n",
      "71\n",
      "00:02:07.599 --> 00:02:10.550\n",
      "the one that's separated from the mainland right where the ocean meets the shore.\n",
      "\n",
      "72\n",
      "00:02:11.399 --> 00:02:12.429\n",
      "His words\n",
      "\n",
      "73\n",
      "00:02:12.839 --> 00:02:13.639\n",
      "looks like a,\n",
      "\n",
      "74\n",
      "00:02:13.839 --> 00:02:15.440\n",
      "like a mythic sea creature,\n",
      "\n",
      "75\n",
      "00:02:15.479 --> 00:02:16.550\n",
      "you know that one.\n",
      "\n",
      "76\n",
      "00:02:17.220 --> 00:02:17.399\n",
      "Anyway,\n",
      "\n",
      "77\n",
      "00:02:17.460 --> 00:02:20.949\n",
      "he looks down there and there's a guy who's on top of that rock,\n",
      "\n",
      "78\n",
      "00:02:21.639 --> 00:02:22.550\n",
      "and he's thinking to himself,\n",
      "\n",
      "79\n",
      "00:02:22.759 --> 00:02:23.720\n",
      "how the hell do you get up there?\n",
      "\n",
      "80\n",
      "00:02:23.759 --> 00:02:25.669\n",
      "You gotta be a goddamn mountain climber.\n",
      "\n",
      "81\n",
      "00:02:26.000 --> 00:02:26.720\n",
      "But more importantly,\n",
      "\n",
      "82\n",
      "00:02:26.759 --> 00:02:28.509\n",
      "he says the guy's acting really funny.\n",
      "\n",
      "83\n",
      "00:02:28.600 --> 00:02:32.360\n",
      "He's looking all over that rock like he's looking for something or someone.\n",
      "\n",
      "84\n",
      "00:02:33.630 --> 00:02:35.229\n",
      "At that very moment,\n",
      "\n",
      "85\n",
      "00:02:35.539 --> 00:02:36.529\n",
      "he says it got really,\n",
      "\n",
      "86\n",
      "00:02:36.619 --> 00:02:37.550\n",
      "really dark,\n",
      "\n",
      "87\n",
      "00:02:38.139 --> 00:02:38.869\n",
      "really fast,\n",
      "\n",
      "88\n",
      "00:02:38.889 --> 00:02:40.770\n",
      "and bombs start going off in the air,\n",
      "\n",
      "89\n",
      "00:02:40.860 --> 00:02:42.250\n",
      "thunder and lightning,\n",
      "\n",
      "90\n",
      "00:02:42.419 --> 00:02:45.539\n",
      "weather like he'd never seen before coming from he didn't know where.\n",
      "\n",
      "91\n",
      "00:02:46.669 --> 00:02:48.070\n",
      "When he looks back at the rock,\n",
      "\n",
      "92\n",
      "00:02:48.580 --> 00:02:49.270\n",
      "the guy's gone.\n",
      "\n",
      "93\n",
      "00:02:50.110 --> 00:02:51.529\n",
      "But there's a woman there.\n",
      "\n",
      "94\n",
      "00:02:51.889 --> 00:02:53.210\n",
      "She's in a white dress,\n",
      "\n",
      "95\n",
      "00:02:53.460 --> 00:02:54.690\n",
      "alabaster skin,\n",
      "\n",
      "96\n",
      "00:02:54.820 --> 00:02:55.729\n",
      "his words,\n",
      "\n",
      "97\n",
      "00:02:56.059 --> 00:02:58.259\n",
      "and he says she's staring right up at him.\n",
      "\n",
      "98\n",
      "00:03:00.009 --> 00:03:01.240\n",
      "He sees her,\n",
      "\n",
      "99\n",
      "00:03:01.470 --> 00:03:02.500\n",
      "she's beautiful.\n",
      "\n",
      "100\n",
      "00:03:03.149 --> 00:03:04.860\n",
      "But like she's from some other time,\n",
      "\n",
      "101\n",
      "00:03:05.029 --> 00:03:06.089\n",
      "some other place.\n",
      "\n",
      "102\n",
      "00:03:06.850 --> 00:03:09.589\n",
      "He looks back at the weather cause it's getting worse and worse.\n",
      "\n",
      "103\n",
      "00:03:09.720 --> 00:03:11.770\n",
      "He decides to hightail it out of there.\n",
      "\n",
      "104\n",
      "00:03:14.429 --> 00:03:15.100\n",
      "And that was it.\n",
      "\n",
      "105\n",
      "00:03:15.179 --> 00:03:16.520\n",
      "That was his story,\n",
      "\n",
      "106\n",
      "00:03:16.619 --> 00:03:16.899\n",
      "right?\n",
      "\n",
      "107\n",
      "00:03:18.789 --> 00:03:19.539\n",
      "So now\n",
      "\n",
      "108\n",
      "00:03:20.619 --> 00:03:21.100\n",
      "Now\n",
      "\n",
      "109\n",
      "00:03:21.779 --> 00:03:23.690\n",
      "I need you to go up there and find that woman.\n",
      "\n",
      "110\n",
      "00:03:27.220 --> 00:03:28.789\n",
      "So these guys just\n",
      "\n",
      "111\n",
      "00:03:29.100 --> 00:03:29.580\n",
      "disappear.\n",
      "\n",
      "112\n",
      "00:03:30.770 --> 00:03:30.979\n",
      "No,\n",
      "\n",
      "113\n",
      "00:03:31.110 --> 00:03:31.990\n",
      "not this time.\n",
      "\n",
      "114\n",
      "00:03:32.419 --> 00:03:34.809\n",
      "Somebody was out there the day the last guy disappeared.\n",
      "\n",
      "115\n",
      "00:03:34.940 --> 00:03:35.559\n",
      "A witness,\n",
      "\n",
      "116\n",
      "00:03:36.080 --> 00:03:36.220\n",
      "yeah,\n",
      "\n",
      "117\n",
      "00:03:36.380 --> 00:03:37.289\n",
      "a witness.\n",
      "\n",
      "118\n",
      "00:03:37.979 --> 00:03:42.250\n",
      "He said that he was up there walking his dog along those bluffs above El Matador,\n",
      "\n",
      "119\n",
      "00:03:42.539 --> 00:03:45.369\n",
      "and there's a guy who's on top of that rock.\n",
      "\n",
      "120\n",
      "00:03:45.559 --> 00:03:50.270\n",
      "He's just like looking all over the rock as if he's looking for someone or something.\n",
      "\n",
      "121\n",
      "00:03:53.050 --> 00:03:55.479\n",
      "Then it gets dark all of a sudden,\n",
      "\n",
      "122\n",
      "00:03:55.550 --> 00:03:56.580\n",
      "really fast.\n",
      "\n",
      "123\n",
      "00:03:57.419 --> 00:03:59.350\n",
      "Like thunder and lightning from everywhere,\n",
      "\n",
      "124\n",
      "00:03:59.460 --> 00:04:00.339\n",
      "all this weather.\n",
      "\n",
      "125\n",
      "00:04:02.320 --> 00:04:03.429\n",
      "When he looks back at the rock,\n",
      "\n",
      "126\n",
      "00:04:04.369 --> 00:04:05.309\n",
      "the guy's gone,\n",
      "\n",
      "127\n",
      "00:04:05.800 --> 00:04:06.990\n",
      "but there's a woman there\n",
      "\n",
      "128\n",
      "00:04:07.360 --> 00:04:09.759\n",
      "in a long white dress with alabaster skin.\n",
      "\n",
      "129\n",
      "00:04:10.440 --> 00:04:12.660\n",
      "And she's staring right up at him,\n",
      "\n",
      "130\n",
      "00:04:12.830 --> 00:04:13.309\n",
      "not moving.\n",
      "\n",
      "131\n",
      "00:04:15.190 --> 00:04:16.309\n",
      "Now I don't know what to believe.\n",
      "\n",
      "132\n",
      "00:04:17.838 --> 00:04:19.428\n",
      "I know I sure don't want to believe him.\n",
      "\n",
      "133\n",
      "00:05:11.839 --> 00:05:12.029\n",
      "Yeah,\n",
      "\n",
      "134\n",
      "00:05:12.190 --> 00:05:12.589\n",
      "dispatch.\n",
      "\n",
      "135\n",
      "00:05:12.750 --> 00:05:13.660\n",
      "This is Captain Foster.\n",
      "\n",
      "136\n",
      "00:05:14.570 --> 00:05:16.510\n",
      "I'm out here at the El Matador location.\n",
      "\n",
      "137\n",
      "00:05:16.720 --> 00:05:18.160\n",
      "There's no sign of Detective Sullivan.\n",
      "\n",
      "138\n",
      "00:05:19.649 --> 00:05:21.000\n",
      "Now what's this car.\n",
      "\n",
      "139\n",
      "00:05:22.350 --> 00:05:22.470\n",
      "Listen,\n",
      "\n",
      "140\n",
      "00:05:22.510 --> 00:05:24.459\n",
      "I'm gonna take a look around before you send anybody out here,\n",
      "\n",
      "141\n",
      "00:05:24.589 --> 00:05:24.869\n",
      "so.\n",
      "\n",
      "142\n",
      "00:05:31.010 --> 00:05:31.760\n",
      "Hang on a minute.\n",
      "\n",
      "143\n",
      "00:05:35.579 --> 00:05:36.369\n",
      "Captain Foster,\n",
      "\n",
      "144\n",
      "00:05:36.570 --> 00:05:37.489\n",
      "you come in please.\n",
      "\n",
      "145\n",
      "00:05:41.929 --> 00:05:42.750\n",
      "Captain Foster\n",
      "\n",
      "146\n",
      "00:05:45.779 --> 00:05:45.790\n",
      "I.\n",
      "\n",
      "147\n",
      "00:08:49.640 --> 00:08:50.229\n",
      "LAPD,\n",
      "\n",
      "148\n",
      "00:08:50.299 --> 00:08:51.150\n",
      "put your hands in the air.\n",
      "\n",
      "149\n",
      "00:08:53.010 --> 00:08:54.390\n",
      "Put your hands up now.\n",
      "\n",
      "150\n",
      "00:09:21.260 --> 00:09:21.590\n",
      "Hm\n"
     ]
    }
   ],
   "source": [
    "!echo \"$(<{video['transcript'].vtt_file})\""
   ]
  },
  {
   "cell_type": "markdown",
   "id": "88471866-4743-4eef-8d20-2f22f0b42be3",
   "metadata": {
    "editable": true,
    "slideshow": {
     "slide_type": ""
    },
    "tags": []
   },
   "source": [
    "### Play subtitles with the video"
   ]
  },
  {
   "cell_type": "markdown",
   "id": "0fb94b5d-906f-4028-9907-df6a38377fc1",
   "metadata": {
    "editable": true,
    "slideshow": {
     "slide_type": ""
    },
    "tags": []
   },
   "source": [
    "Finally, let's view the video with the generated subtitle track.  Note: we used the shot information to start the video at the shot where the first speech occurs in the video."
   ]
  },
  {
   "cell_type": "code",
   "execution_count": null,
   "id": "fb5071a3-b3ab-463b-bbc6-27489497242a",
   "metadata": {
    "editable": true,
    "slideshow": {
     "slide_type": ""
    },
    "tags": []
   },
   "outputs": [],
   "source": [
    "# Play the video with subtitles\n",
    "\n",
    "from IPython.display import HTML\n",
    "from base64 import b64encode\n",
    "start = video['shots'].shots[8]['start_ms']/1000\n",
    "end = video['shots'].shots[8]['end_ms']/1000\n",
    "speech_shot_url = f'{video[\"url\"]}#t={start}'\n",
    "\n",
    "video_html = f\"\"\"\n",
    "<video width=\"640\" height=\"360\" controls>\n",
    "    <source src=\"{speech_shot_url}\" type=\"video/mp4\">\n",
    "    <track src=\"{video['transcript'].vtt_file}\" kind=\"captions\" srclang=\"en\" label=\"English\" default>\n",
    "</video>\n",
    "\"\"\"\n",
    "\n",
    "HTML(video_html)"
   ]
  },
  {
   "cell_type": "markdown",
   "id": "0cf388e0-f71d-4bff-bc4b-f6b44659bcbe",
   "metadata": {
    "editable": true,
    "slideshow": {
     "slide_type": ""
    },
    "tags": []
   },
   "source": [
    "# Generate conversation topics using Amazon Bedrock\n",
    "\n",
    "In this next section, you will use generative AI to understand the conversation topics that are occurring over time in the video transcript.  This is a text summarization task that can be performed by several Foundation Models.  \n",
    "\n",
    "<div class=\"alert alert-block alert-info\">\n",
    "💡 We'll be using Anthropic Claude Sonnet 3 on Amazon Bedrock for this and all the other generative AI tasks throughout this workshop.  We chose Anthropic Claude Sonnet 3 because of its flexibility to perform a variety of tasks on multimodal (image and text) inputs.  In practice, you may want to substitute different FMs for different tasks based on your requirements.  For example, you may find that Anthropic Claude Haiku produces adequate results at a lower price points for a specific use case.\n",
    "</div>"
   ]
  },
  {
   "cell_type": "markdown",
   "id": "85e602f7-c9b8-4c9d-97c2-444efe83e243",
   "metadata": {
    "editable": true,
    "slideshow": {
     "slide_type": ""
    },
    "tags": []
   },
   "source": [
    "You will pass the transcript to the Anthropic Claude 3 Sonnet model on Amazon Bedrock. The model analyzes the transcript and suggests conversational topic points in a specific JSON format. In the prompt, you specify that each topic should contain a start and end timestamp along with a reason describing the topic. The prompts for the Sonnet model are shown below.  Note that this prompt uses the [Anthropic Claude Messages API](https://docs.aws.amazon.com/bedrock/latest/userguide/model-parameters-anthropic-claude-messages.html):\n",
    "\n",
    "**System prompt**\n",
    "\n",
    "```\n",
    "You are a media operation assistant who analyses movie transcripts in WebVTT \n",
    "format and suggest topic points based on the topic changes in the conversations. \n",
    "It is important to read the entire transcripts.\n",
    "```\n",
    "\n",
    "\n",
    "**Messages**\n",
    "\n",
    "```\n",
    "[\n",
    "    {\n",
    "        'content': 'Here is the transcripts in <transcript> tag:\\n'\n",
    "                '<transcript>{transcript}\\n</transcript>\\n',\n",
    "        'role': 'user'\n",
    "    },\n",
    "    {\n",
    "        'content': 'OK. I got the transcript. What output format?',\n",
    "        'role': 'assistant'\n",
    "    },\n",
    "    {\n",
    "        'content': 'JSON format. An example of the output:\\n'\n",
    "                '{\"topics\": [{\"start\": \"00:00:10.000\", \"end\": \"00:00:32.000\", '\n",
    "                '\"reason\": \"It appears the topic talks about...\"}]}\\n',\n",
    "        'role': 'user'\n",
    "    },\n",
    "    {\n",
    "        'content': '{', 'role': 'assistant'\n",
    "    }\n",
    " ]\n",
    "```\n",
    "\n"
   ]
  },
  {
   "cell_type": "markdown",
   "id": "5039f33b-2e09-46dc-8cba-182d0deacbc8",
   "metadata": {
    "editable": true,
    "slideshow": {
     "slide_type": ""
    },
    "tags": []
   },
   "source": [
    "<div class=\"alert alert-block alert-info\">\n",
    "    ❓ <b>Ask Amazon Q Developer</b>: What are the inputs for the Anthropic Claude Messages API?\n",
    "    <br></br>* You may have noticed the Amazon Q Developer menu icon in the side bar menu of this Jupyter notebook.  Anytime you have a question about the code in the notebook or about AWS APIs, try asking Amazon Q.\n",
    "</div>"
   ]
  },
  {
   "cell_type": "markdown",
   "id": "19b91c4f-6b57-44ca-886f-1811771c0da4",
   "metadata": {
    "editable": true,
    "slideshow": {
     "slide_type": ""
    },
    "tags": []
   },
   "source": [
    "#### Construct the prompt\n",
    "\n",
    "The code below constructs the prompt for Amazon Bedrock and then calls the Amazon Bedrock API to execute the prompt."
   ]
  },
  {
   "cell_type": "code",
   "execution_count": 5,
   "id": "9eb4ce0c-a075-40f6-a7ca-b1a66ff7b281",
   "metadata": {},
   "outputs": [],
   "source": [
    "import lib.bedrock_converse_helper as brch\n",
    "from lib import util\n",
    "\n",
    "model_id = \"us.amazon.nova-pro-v1:0\"\n",
    "PRICING = (0.0008, 0.0032)\n",
    "\n",
    "# uncommon below to try this with Anthropic Claude Sonnet 3\n",
    "# model_id = \"us.anthropic.claude-3-sonnet-20240229-v1:0\"\n",
    "# PRICING = (0.003, 0.015)"
   ]
  },
  {
   "cell_type": "code",
   "execution_count": 12,
   "id": "2ba7f4e7-ead4-40ac-a22f-9a30a61790c8",
   "metadata": {
    "editable": true,
    "slideshow": {
     "slide_type": ""
    },
    "tags": []
   },
   "outputs": [],
   "source": [
    "def analyze_conversations(vtt_file):\n",
    "\n",
    "    response = {}\n",
    "    messages = []\n",
    "\n",
    "    # transcript\n",
    "    transcript_message = make_transcript(vtt_file)\n",
    "    messages.append(transcript_message)\n",
    "\n",
    "    # output format?\n",
    "    messages.append({\n",
    "        'role': 'assistant',\n",
    "        'content': [{'text':'Got the transcript. What output format?'}]\n",
    "    })\n",
    "\n",
    "    # example output\n",
    "    example_message = make_conversation_example()\n",
    "    messages.append(example_message)\n",
    "\n",
    "    # prefill output\n",
    "    messages.append({\n",
    "        'role': 'assistant',\n",
    "        'content': [\n",
    "            {'text':'{'}\n",
    "        ]\n",
    "    })\n",
    "\n",
    "    ## system prompt to role play\n",
    "    system = [{'text':'''\n",
    "    You are a media operation assistant who analyses movie transcripts in WebVTT format\n",
    "    and suggest topic points based on the topic changes in the conversations. \n",
    "    It is important to read the entire transcript.\n",
    "    '''}]\n",
    "\n",
    "    infParams = {\"maxTokens\": 4096, \"topP\": 0.7, \"temperature\": 0.1}\n",
    "\n",
    "    additionalFields = {\n",
    "        \"inferenceConfig\": {\n",
    "             \"topK\": 20\n",
    "        }\n",
    "    }\n",
    "\n",
    "\n",
    "    try:\n",
    "        response['response'] = inference(system, \n",
    "                                         messages, \n",
    "                                         model_id, \n",
    "                                         infParams, \n",
    "                                         additionalFields)\n",
    "    except Exception as e:\n",
    "        print(colored(f\"ERR: inference: {str(e)}\\n RETRY...\", 'red'))\n",
    "        response['response'] = inference(system, \n",
    "                                         messages, \n",
    "                                         model_id, \n",
    "                                         infParams, \n",
    "                                         additionalFields)\n",
    "    return response\n",
    "\n",
    "\n",
    "\n",
    "def make_conversation_example():\n",
    "    example = {\n",
    "        'topics': [\n",
    "            {\n",
    "                'start': '00:00:10.000',\n",
    "                'end': '00:00:32.000',\n",
    "                'reason': 'It appears the topic talks about...'\n",
    "            }\n",
    "        ]\n",
    "    }\n",
    "\n",
    "    return {\n",
    "        'role': 'user',\n",
    "        'content': [\n",
    "            {'text':'JSON format. An example of the output:\\n{0}\\n'.format(json.dumps(example))}\n",
    "        ]\n",
    "    }\n",
    "\n",
    "def make_transcript(vtt_file):\n",
    "    with open(vtt_file, encoding=\"utf-8\") as f:\n",
    "        transcript = f.read()\n",
    "    \n",
    "    return {\n",
    "        'role': 'user',\n",
    "        'content': [\n",
    "            {\"text\":'Here is the transcripts in <transcript> tag:\\n<transcript>{0}\\n</transcript>\\n'.format(transcript)}\n",
    "        ]\n",
    "    }\n",
    "\n",
    "def make_conversation_message(text):\n",
    "    message = {\n",
    "        'role': 'user',\n",
    "        'content': [\n",
    "            {'text':'No conversation.'}\n",
    "        ]\n",
    "    }\n",
    "\n",
    "    if text:\n",
    "        message['content'] = 'Here is the conversation of the scene in <conversation> tag.\\n<conversation>\\n{0}\\n</conversation>\\n'.format(text)\n",
    "\n",
    "    return message\n",
    "\n",
    "def chapters_to_vtt(chapters, output_file):\n",
    "    \"\"\"\n",
    "      Constructs a webvtt caption file based on the timestamps from the given chapters.\n",
    "      Args:\n",
    "         chapters - the topic points\n",
    "         output_file - output file where the caption webvtt content is stored.\n",
    "      Returns:\n",
    "         None\n",
    "    \"\"\"\n",
    "    vtt_lines = 'WEBVTT\\n\\n'\n",
    "    for idx, chapter in enumerate(chapters):\n",
    "        line = f\"{idx}\\n{chapter['start']} --> {chapter['end']}\\n{chapter['reason']}\\n\"\n",
    "        vtt_lines = vtt_lines+line\n",
    "\n",
    "    util.save_to_file(output_file, vtt_lines)\n",
    "    return\n",
    "\n",
    "def inference(system, messages, model_id, infParams, additionalFields):\n",
    "\n",
    "    bedrock_runtime_client = boto3.client(service_name='bedrock-runtime')\n",
    "\n",
    "    model_response = bedrock_runtime_client.converse(\n",
    "        modelId=model_id, \n",
    "        messages=messages, \n",
    "        system=system, \n",
    "        inferenceConfig=infParams,\n",
    "        additionalModelRequestFields=additionalFields\n",
    "    )\n",
    "\n",
    "    response_body = model_response[\"output\"][\"message\"]\n",
    "\n",
    "    # patch the json string output with '{' and parse it\n",
    "    response_content = response_body['content'][0]['text']\n",
    "    if response_content[0] != '{':\n",
    "        response_content = '{' + response_content\n",
    "\n",
    "    try:\n",
    "        response_content = json.loads(response_content)\n",
    "    except Exception as e:\n",
    "        print(colored(\"Malformed JSON response. Try to repair it...\", 'red'))\n",
    "        try:\n",
    "            response_content = json_repair.loads(response_content, strict=False)\n",
    "        except Exception as e:\n",
    "            print(colored(\"Failed to repair the JSON response...\", 'red'))\n",
    "            print(colored(response_content, 'red'))\n",
    "            raise e\n",
    "\n",
    "    response_body['content'][0]['json'] = response_content\n",
    "    response_body['usage'] = {\"input_tokens\": model_response[\"usage\"][\"inputTokens\"],\n",
    "                              \"output_tokens\": model_response[\"usage\"][\"outputTokens\"]}\n",
    "\n",
    "    return response_body"
   ]
  },
  {
   "cell_type": "markdown",
   "id": "287629d3-233e-4ecb-b0b7-1a5a920bff67",
   "metadata": {
    "editable": true,
    "slideshow": {
     "slide_type": ""
    },
    "tags": []
   },
   "source": [
    "#### Execute the prompt and examine the output\n",
    "\n",
    "The model will return a result formatted the way that was specified using sample output in the prompt `messages`.  In this case it is a list of topics in the video.  Each topic has:\n",
    "\n",
    "* **start** - the start time of the topic relative to the start of the video in HH:MM:SS.MS format\n",
    "* **end** - the start time of the topic relative to the start of the video in HH:MM:SS.MS format\n",
    "* **reason** - the summary of the conversation in the time range between `start` and `end`\n",
    "\n",
    "Run the next cells to execute the prompt and look at the resulting topics."
   ]
  },
  {
   "cell_type": "code",
   "execution_count": 14,
   "id": "bd7d7864-1a65-45ca-bf6e-d126a41a1f80",
   "metadata": {
    "editable": true,
    "slideshow": {
     "slide_type": ""
    },
    "tags": []
   },
   "outputs": [
    {
     "name": "stdout",
     "output_type": "stream",
     "text": [
      "\n",
      "\n",
      "========================================================================\n",
      "Estimated cost: \u001b[32m$0.0064728\u001b[0m in us-east-1 region with \u001b[32m5639\u001b[0m input tokens and \u001b[32m613\u001b[0m output tokens.\n",
      "========================================================================\n"
     ]
    }
   ],
   "source": [
    "conversations_response = analyze_conversations(video['transcript'].vtt_file)\n",
    "video['topics'] = conversations_response['response']['content'][0]['json']['topics']\n",
    "\n",
    "# show the conversation cost\n",
    "conversation_cost = brch.display_conversation_cost(conversations_response['response'], PRICING)"
   ]
  },
  {
   "cell_type": "code",
   "execution_count": 15,
   "id": "c82a2c34-9ae7-4e49-b86c-4d3866bfe2da",
   "metadata": {
    "editable": true,
    "scrolled": true,
    "slideshow": {
     "slide_type": ""
    },
    "tags": []
   },
   "outputs": [
    {
     "data": {
      "application/json": [
       {
        "end": "00:00:38.759",
        "reason": "The topic discusses the disappearance of individuals on a specific stretch of road above El Matador.",
        "start": "00:00:27.010"
       },
       {
        "end": "00:01:26.919",
        "reason": "The conversation shifts to discussing the background of the individuals who disappeared, including their professions and personal histories.",
        "start": "00:00:39.790"
       },
       {
        "end": "00:01:39.739",
        "reason": "The topic changes to the possibility of suicide, but it is dismissed due to the lack of bodies and the presence of a witness.",
        "start": "00:01:27.739"
       },
       {
        "end": "00:03:16.899",
        "reason": "The conversation focuses on the witness's account of strange events, including a man on a rock, sudden dark weather, and the appearance of a mysterious woman.",
        "start": "00:01:40.489"
       },
       {
        "end": "00:03:42.250",
        "reason": "The topic shifts to the need to investigate further and find the woman described by the witness.",
        "start": "00:03:20.619"
       },
       {
        "end": "00:04:16.309",
        "reason": "The conversation reiterates the witness's account of the man disappearing and the woman appearing, emphasizing the strange and unbelievable nature of the events.",
        "start": "00:03:42.539"
       },
       {
        "end": "00:05:13.660",
        "reason": "The topic changes to Captain Foster's arrival at the El Matador location and the absence of Detective Sullivan.",
        "start": "00:04:17.838"
       },
       {
        "end": "00:05:45.790",
        "reason": "Captain Foster communicates with dispatch and prepares to investigate the area before any additional personnel arrive.",
        "start": "00:05:14.570"
       },
       {
        "end": "00:09:21.590",
        "reason": "The final topic involves a confrontation where LAPD officers demand someone to put their hands in the air.",
        "start": "00:08:49.640"
       }
      ],
      "text/plain": [
       "<IPython.core.display.JSON object>"
      ]
     },
     "metadata": {
      "application/json": {
       "expanded": true,
       "root": "topics"
      }
     },
     "output_type": "display_data"
    }
   ],
   "source": [
    "display(JSON(video['topics'], root='topics', expanded=True))"
   ]
  },
  {
   "cell_type": "markdown",
   "id": "5fec2e96-7be9-44f8-8ddb-1e5e704bd696",
   "metadata": {
    "editable": true,
    "slideshow": {
     "slide_type": ""
    },
    "tags": []
   },
   "source": [
    "## Generate \"topic points\" \n",
    "\n",
    "To ensure the model's output accurately reflects the original transcript, the output JSON is post-processed to merge any overlapping chapter timestamps and align the chapter boundaries with the actual caption timestamps from the WebVTT file. "
   ]
  },
  {
   "cell_type": "code",
   "execution_count": 16,
   "id": "bf4b0dfe-0604-4841-a1fb-719a4bfea83b",
   "metadata": {
    "slideshow": {
     "slide_type": ""
    },
    "tags": []
   },
   "outputs": [
    {
     "data": {
      "text/plain": [
       "'Netflix_Open_Content_Meridian/topics.json'"
      ]
     },
     "execution_count": 16,
     "metadata": {},
     "output_type": "execute_result"
    }
   ],
   "source": [
    "from lib import topics\n",
    "\n",
    "# merge overlapped conversation timestamps\n",
    "video['topics'] = topics.merge_topics(video['topics'])\n",
    "\n",
    "# validate the conversation timestamps against the caption timestamps\n",
    "captions = topics.parse_webvtt(video['transcript'].vtt_file)\n",
    "video['topics'] = topics.validate_timestamps(video['topics'], captions)\n",
    "\n",
    "# save the conversations\n",
    "util.save_to_file(os.path.join(video[\"output_dir\"], 'topics.json'), video['topics'])"
   ]
  },
  {
   "cell_type": "code",
   "execution_count": 17,
   "id": "b0e575ce-4108-4102-a809-0b7870d2f784",
   "metadata": {
    "editable": true,
    "scrolled": true,
    "slideshow": {
     "slide_type": ""
    },
    "tags": []
   },
   "outputs": [
    {
     "data": {
      "application/json": [
       {
        "end": "00:00:38.759",
        "end_ms": 38759,
        "id": 0,
        "reason": "The topic discusses the disappearance of individuals on a specific stretch of road above El Matador.",
        "start": "00:00:27.010",
        "start_ms": 27010
       },
       {
        "end": "00:01:26.919",
        "end_ms": 86919,
        "id": 1,
        "reason": "The conversation shifts to discussing the background of the individuals who disappeared, including their professions and personal histories.",
        "start": "00:00:40.669",
        "start_ms": 40669
       },
       {
        "end": "00:01:39.739",
        "end_ms": 99739,
        "id": 2,
        "reason": "The topic changes to the possibility of suicide, but it is dismissed due to the lack of bodies and the presence of a witness.",
        "start": "00:01:27.739",
        "start_ms": 87739
       },
       {
        "end": "00:03:16.899",
        "end_ms": 196899,
        "id": 3,
        "reason": "The conversation focuses on the witness's account of strange events, including a man on a rock, sudden dark weather, and the appearance of a mysterious woman.",
        "start": "00:01:40.489",
        "start_ms": 100489
       },
       {
        "end": "00:03:42.250",
        "end_ms": 222250,
        "id": 4,
        "reason": "The topic shifts to the need to investigate further and find the woman described by the witness.",
        "start": "00:03:20.619",
        "start_ms": 200619
       },
       {
        "end": "00:04:16.309",
        "end_ms": 256309,
        "id": 5,
        "reason": "The conversation reiterates the witness's account of the man disappearing and the woman appearing, emphasizing the strange and unbelievable nature of the events.",
        "start": "00:03:42.539",
        "start_ms": 222539
       },
       {
        "end": "00:05:13.660",
        "end_ms": 313660,
        "id": 6,
        "reason": "The topic changes to Captain Foster's arrival at the El Matador location and the absence of Detective Sullivan.",
        "start": "00:04:17.838",
        "start_ms": 257838
       },
       {
        "end": "00:05:45.790",
        "end_ms": 345790,
        "id": 7,
        "reason": "Captain Foster communicates with dispatch and prepares to investigate the area before any additional personnel arrive.",
        "start": "00:05:14.570",
        "start_ms": 314570
       },
       {
        "end": "00:09:21.590",
        "end_ms": 561590,
        "id": 8,
        "reason": "The final topic involves a confrontation where LAPD officers demand someone to put their hands in the air.",
        "start": "00:08:49.640",
        "start_ms": 529640
       }
      ],
      "text/plain": [
       "<IPython.core.display.JSON object>"
      ]
     },
     "execution_count": 17,
     "metadata": {
      "application/json": {
       "expanded": true,
       "root": "topics"
      }
     },
     "output_type": "execute_result"
    }
   ],
   "source": [
    "JSON(video['topics'], root='topics', expanded=True)"
   ]
  },
  {
   "cell_type": "markdown",
   "id": "c7b8ab79-9d0f-4cf9-8893-dadecb07f23a",
   "metadata": {
    "editable": true,
    "slideshow": {
     "slide_type": ""
    },
    "tags": []
   },
   "source": [
    "## Visualize the topics\n",
    "Finally, visualize the topics with the video.  We'll output the chapter summaries as a WebVTT file and play them with the video.\n",
    "\n",
    "<div class=\"alert alert-block alert-info\">\n",
    "Note: the topics are distributed across the entire 12 minute video.  You can skip through the video by clicking on different points on the player timeline rather than playing the whole video.  See if you can find all 5 topics.\n",
    "</div>\n"
   ]
  },
  {
   "cell_type": "code",
   "execution_count": 18,
   "id": "3d80c20b-ba02-4e7f-b0b2-042514dbd4bc",
   "metadata": {
    "editable": true,
    "slideshow": {
     "slide_type": ""
    },
    "tags": []
   },
   "outputs": [],
   "source": [
    "video['topics_vtt'] = os.path.join(video['frames'].video_asset_dir(), \"topics.vtt\")\n",
    "chapters_to_vtt(video['topics'], video['topics_vtt'])"
   ]
  },
  {
   "cell_type": "code",
   "execution_count": 29,
   "id": "b3e6f1e3-2d16-480b-aedb-852b82f85fb3",
   "metadata": {},
   "outputs": [
    {
     "data": {
      "text/plain": [
       "23.089"
      ]
     },
     "execution_count": 29,
     "metadata": {},
     "output_type": "execute_result"
    }
   ],
   "source": [
    "start"
   ]
  },
  {
   "cell_type": "code",
   "execution_count": 30,
   "id": "f500f720-7c1f-4801-ae1f-fa0e439da80a",
   "metadata": {
    "editable": true,
    "slideshow": {
     "slide_type": ""
    },
    "tags": []
   },
   "outputs": [
    {
     "data": {
      "text/html": [
       "\n",
       "<video width=\"640\" height=\"360\" controls>\n",
       "    <source src=\"https://ws-assets-prod-iad-r-pdx-f3b3f9f1a7d6a3d0.s3.us-west-2.amazonaws.com/7db2455e-0fa6-4f6d-9973-84daccd6421f/Netflix_Open_Content_Meridian.mp4#t=23.089\" type=\"video/mp4\">\n",
       "    <track src=\"./Netflix_Open_Content_Meridian/topics.vtt\" kind=\"captions\" srclang=\"en\" label=\"English\" default>\n",
       "</video>\n"
      ],
      "text/plain": [
       "<IPython.core.display.HTML object>"
      ]
     },
     "execution_count": 30,
     "metadata": {},
     "output_type": "execute_result"
    }
   ],
   "source": [
    "# Play the video with topic summaries\n",
    "\n",
    "from IPython.display import HTML\n",
    "from base64 import b64encode\n",
    "start = video['shots'].shots[8]['start_ms']/1000\n",
    "end = video['shots'].shots[8]['end_ms']/1000\n",
    "speech_shot_url = f'{video[\"url\"]}#t={start}'\n",
    "\n",
    "video_html = f\"\"\"\n",
    "<video width=\"640\" height=\"360\" controls>\n",
    "    <source src=\"{speech_shot_url}\" type=\"video/mp4\">\n",
    "    <track src=\"{video['topics_vtt']}\" kind=\"captions\" srclang=\"en\" label=\"English\" default>\n",
    "</video>\n",
    "\"\"\"\n",
    "\n",
    "HTML(video_html)"
   ]
  },
  {
   "cell_type": "markdown",
   "id": "ba889078-83ae-4bce-a1d9-af198caef450",
   "metadata": {
    "editable": true,
    "slideshow": {
     "slide_type": ""
    },
    "tags": []
   },
   "source": [
    "You just used generative AI to make topic summaries of a video.  Neat trick!\n",
    "\n",
    "🤔 Can you think of other use cases for summarizing different time segments of audio or video content?\n",
    "<br></br>\n",
    "🤔 How would you increase the number of topics found by the Foundation Model?\n"
   ]
  },
  {
   "cell_type": "markdown",
   "id": "e98de755-2cd6-451a-9570-7b26474447e7",
   "metadata": {
    "editable": true,
    "slideshow": {
     "slide_type": ""
    },
    "tags": []
   },
   "source": [
    "# Store the video metadata so it can be used in the rest of the workshop."
   ]
  },
  {
   "cell_type": "code",
   "execution_count": 20,
   "id": "4ee6a12e-9e70-4120-b1de-1b23f827c2a7",
   "metadata": {
    "editable": true,
    "slideshow": {
     "slide_type": ""
    },
    "tags": []
   },
   "outputs": [
    {
     "name": "stdout",
     "output_type": "stream",
     "text": [
      "Stored 'video' (dict)\n"
     ]
    }
   ],
   "source": [
    "%store video"
   ]
  },
  {
   "cell_type": "markdown",
   "id": "59aa2234-0461-4488-a50b-dbfd8c8ea48a",
   "metadata": {
    "editable": true,
    "slideshow": {
     "slide_type": ""
    },
    "tags": []
   },
   "source": [
    "# What's Next?\n",
    "\n",
    "Now that you have created some basic segmentations and prompts against video clips, you are ready to apply these techniques to solve some use cases.  From here, you can choose a use case to explore further.\n",
    "\n",
    "* [Ad break detection and contextual Ad tartgeting](02-ad-breaks-and-contextual-ad-targeting.ipynb) - identify opportunities for ad insertion.  Use a standard taxonomy to match video content to ad content.\n",
    "* [Video summarization](03-video-summarization.ipynb) - generate short form videos from a longer video\n",
    "* [Semantic video search](04-semantic-video-search.ipynb) - search video using images and natural language to find relavent clips\n",
    "\n"
   ]
  },
  {
   "cell_type": "code",
   "execution_count": null,
   "id": "c4eede4a-597e-40cd-ab80-b5e31a03f669",
   "metadata": {
    "editable": true,
    "slideshow": {
     "slide_type": ""
    },
    "tags": []
   },
   "outputs": [],
   "source": []
  }
 ],
 "metadata": {
  "availableInstances": [
   {
    "_defaultOrder": 0,
    "_isFastLaunch": true,
    "category": "General purpose",
    "gpuNum": 0,
    "hideHardwareSpecs": false,
    "memoryGiB": 4,
    "name": "ml.t3.medium",
    "vcpuNum": 2
   },
   {
    "_defaultOrder": 1,
    "_isFastLaunch": false,
    "category": "General purpose",
    "gpuNum": 0,
    "hideHardwareSpecs": false,
    "memoryGiB": 8,
    "name": "ml.t3.large",
    "vcpuNum": 2
   },
   {
    "_defaultOrder": 2,
    "_isFastLaunch": false,
    "category": "General purpose",
    "gpuNum": 0,
    "hideHardwareSpecs": false,
    "memoryGiB": 16,
    "name": "ml.t3.xlarge",
    "vcpuNum": 4
   },
   {
    "_defaultOrder": 3,
    "_isFastLaunch": false,
    "category": "General purpose",
    "gpuNum": 0,
    "hideHardwareSpecs": false,
    "memoryGiB": 32,
    "name": "ml.t3.2xlarge",
    "vcpuNum": 8
   },
   {
    "_defaultOrder": 4,
    "_isFastLaunch": true,
    "category": "General purpose",
    "gpuNum": 0,
    "hideHardwareSpecs": false,
    "memoryGiB": 8,
    "name": "ml.m5.large",
    "vcpuNum": 2
   },
   {
    "_defaultOrder": 5,
    "_isFastLaunch": false,
    "category": "General purpose",
    "gpuNum": 0,
    "hideHardwareSpecs": false,
    "memoryGiB": 16,
    "name": "ml.m5.xlarge",
    "vcpuNum": 4
   },
   {
    "_defaultOrder": 6,
    "_isFastLaunch": false,
    "category": "General purpose",
    "gpuNum": 0,
    "hideHardwareSpecs": false,
    "memoryGiB": 32,
    "name": "ml.m5.2xlarge",
    "vcpuNum": 8
   },
   {
    "_defaultOrder": 7,
    "_isFastLaunch": false,
    "category": "General purpose",
    "gpuNum": 0,
    "hideHardwareSpecs": false,
    "memoryGiB": 64,
    "name": "ml.m5.4xlarge",
    "vcpuNum": 16
   },
   {
    "_defaultOrder": 8,
    "_isFastLaunch": false,
    "category": "General purpose",
    "gpuNum": 0,
    "hideHardwareSpecs": false,
    "memoryGiB": 128,
    "name": "ml.m5.8xlarge",
    "vcpuNum": 32
   },
   {
    "_defaultOrder": 9,
    "_isFastLaunch": false,
    "category": "General purpose",
    "gpuNum": 0,
    "hideHardwareSpecs": false,
    "memoryGiB": 192,
    "name": "ml.m5.12xlarge",
    "vcpuNum": 48
   },
   {
    "_defaultOrder": 10,
    "_isFastLaunch": false,
    "category": "General purpose",
    "gpuNum": 0,
    "hideHardwareSpecs": false,
    "memoryGiB": 256,
    "name": "ml.m5.16xlarge",
    "vcpuNum": 64
   },
   {
    "_defaultOrder": 11,
    "_isFastLaunch": false,
    "category": "General purpose",
    "gpuNum": 0,
    "hideHardwareSpecs": false,
    "memoryGiB": 384,
    "name": "ml.m5.24xlarge",
    "vcpuNum": 96
   },
   {
    "_defaultOrder": 12,
    "_isFastLaunch": false,
    "category": "General purpose",
    "gpuNum": 0,
    "hideHardwareSpecs": false,
    "memoryGiB": 8,
    "name": "ml.m5d.large",
    "vcpuNum": 2
   },
   {
    "_defaultOrder": 13,
    "_isFastLaunch": false,
    "category": "General purpose",
    "gpuNum": 0,
    "hideHardwareSpecs": false,
    "memoryGiB": 16,
    "name": "ml.m5d.xlarge",
    "vcpuNum": 4
   },
   {
    "_defaultOrder": 14,
    "_isFastLaunch": false,
    "category": "General purpose",
    "gpuNum": 0,
    "hideHardwareSpecs": false,
    "memoryGiB": 32,
    "name": "ml.m5d.2xlarge",
    "vcpuNum": 8
   },
   {
    "_defaultOrder": 15,
    "_isFastLaunch": false,
    "category": "General purpose",
    "gpuNum": 0,
    "hideHardwareSpecs": false,
    "memoryGiB": 64,
    "name": "ml.m5d.4xlarge",
    "vcpuNum": 16
   },
   {
    "_defaultOrder": 16,
    "_isFastLaunch": false,
    "category": "General purpose",
    "gpuNum": 0,
    "hideHardwareSpecs": false,
    "memoryGiB": 128,
    "name": "ml.m5d.8xlarge",
    "vcpuNum": 32
   },
   {
    "_defaultOrder": 17,
    "_isFastLaunch": false,
    "category": "General purpose",
    "gpuNum": 0,
    "hideHardwareSpecs": false,
    "memoryGiB": 192,
    "name": "ml.m5d.12xlarge",
    "vcpuNum": 48
   },
   {
    "_defaultOrder": 18,
    "_isFastLaunch": false,
    "category": "General purpose",
    "gpuNum": 0,
    "hideHardwareSpecs": false,
    "memoryGiB": 256,
    "name": "ml.m5d.16xlarge",
    "vcpuNum": 64
   },
   {
    "_defaultOrder": 19,
    "_isFastLaunch": false,
    "category": "General purpose",
    "gpuNum": 0,
    "hideHardwareSpecs": false,
    "memoryGiB": 384,
    "name": "ml.m5d.24xlarge",
    "vcpuNum": 96
   },
   {
    "_defaultOrder": 20,
    "_isFastLaunch": false,
    "category": "General purpose",
    "gpuNum": 0,
    "hideHardwareSpecs": true,
    "memoryGiB": 0,
    "name": "ml.geospatial.interactive",
    "supportedImageNames": [
     "sagemaker-geospatial-v1-0"
    ],
    "vcpuNum": 0
   },
   {
    "_defaultOrder": 21,
    "_isFastLaunch": true,
    "category": "Compute optimized",
    "gpuNum": 0,
    "hideHardwareSpecs": false,
    "memoryGiB": 4,
    "name": "ml.c5.large",
    "vcpuNum": 2
   },
   {
    "_defaultOrder": 22,
    "_isFastLaunch": false,
    "category": "Compute optimized",
    "gpuNum": 0,
    "hideHardwareSpecs": false,
    "memoryGiB": 8,
    "name": "ml.c5.xlarge",
    "vcpuNum": 4
   },
   {
    "_defaultOrder": 23,
    "_isFastLaunch": false,
    "category": "Compute optimized",
    "gpuNum": 0,
    "hideHardwareSpecs": false,
    "memoryGiB": 16,
    "name": "ml.c5.2xlarge",
    "vcpuNum": 8
   },
   {
    "_defaultOrder": 24,
    "_isFastLaunch": false,
    "category": "Compute optimized",
    "gpuNum": 0,
    "hideHardwareSpecs": false,
    "memoryGiB": 32,
    "name": "ml.c5.4xlarge",
    "vcpuNum": 16
   },
   {
    "_defaultOrder": 25,
    "_isFastLaunch": false,
    "category": "Compute optimized",
    "gpuNum": 0,
    "hideHardwareSpecs": false,
    "memoryGiB": 72,
    "name": "ml.c5.9xlarge",
    "vcpuNum": 36
   },
   {
    "_defaultOrder": 26,
    "_isFastLaunch": false,
    "category": "Compute optimized",
    "gpuNum": 0,
    "hideHardwareSpecs": false,
    "memoryGiB": 96,
    "name": "ml.c5.12xlarge",
    "vcpuNum": 48
   },
   {
    "_defaultOrder": 27,
    "_isFastLaunch": false,
    "category": "Compute optimized",
    "gpuNum": 0,
    "hideHardwareSpecs": false,
    "memoryGiB": 144,
    "name": "ml.c5.18xlarge",
    "vcpuNum": 72
   },
   {
    "_defaultOrder": 28,
    "_isFastLaunch": false,
    "category": "Compute optimized",
    "gpuNum": 0,
    "hideHardwareSpecs": false,
    "memoryGiB": 192,
    "name": "ml.c5.24xlarge",
    "vcpuNum": 96
   },
   {
    "_defaultOrder": 29,
    "_isFastLaunch": true,
    "category": "Accelerated computing",
    "gpuNum": 1,
    "hideHardwareSpecs": false,
    "memoryGiB": 16,
    "name": "ml.g4dn.xlarge",
    "vcpuNum": 4
   },
   {
    "_defaultOrder": 30,
    "_isFastLaunch": false,
    "category": "Accelerated computing",
    "gpuNum": 1,
    "hideHardwareSpecs": false,
    "memoryGiB": 32,
    "name": "ml.g4dn.2xlarge",
    "vcpuNum": 8
   },
   {
    "_defaultOrder": 31,
    "_isFastLaunch": false,
    "category": "Accelerated computing",
    "gpuNum": 1,
    "hideHardwareSpecs": false,
    "memoryGiB": 64,
    "name": "ml.g4dn.4xlarge",
    "vcpuNum": 16
   },
   {
    "_defaultOrder": 32,
    "_isFastLaunch": false,
    "category": "Accelerated computing",
    "gpuNum": 1,
    "hideHardwareSpecs": false,
    "memoryGiB": 128,
    "name": "ml.g4dn.8xlarge",
    "vcpuNum": 32
   },
   {
    "_defaultOrder": 33,
    "_isFastLaunch": false,
    "category": "Accelerated computing",
    "gpuNum": 4,
    "hideHardwareSpecs": false,
    "memoryGiB": 192,
    "name": "ml.g4dn.12xlarge",
    "vcpuNum": 48
   },
   {
    "_defaultOrder": 34,
    "_isFastLaunch": false,
    "category": "Accelerated computing",
    "gpuNum": 1,
    "hideHardwareSpecs": false,
    "memoryGiB": 256,
    "name": "ml.g4dn.16xlarge",
    "vcpuNum": 64
   },
   {
    "_defaultOrder": 35,
    "_isFastLaunch": false,
    "category": "Accelerated computing",
    "gpuNum": 1,
    "hideHardwareSpecs": false,
    "memoryGiB": 61,
    "name": "ml.p3.2xlarge",
    "vcpuNum": 8
   },
   {
    "_defaultOrder": 36,
    "_isFastLaunch": false,
    "category": "Accelerated computing",
    "gpuNum": 4,
    "hideHardwareSpecs": false,
    "memoryGiB": 244,
    "name": "ml.p3.8xlarge",
    "vcpuNum": 32
   },
   {
    "_defaultOrder": 37,
    "_isFastLaunch": false,
    "category": "Accelerated computing",
    "gpuNum": 8,
    "hideHardwareSpecs": false,
    "memoryGiB": 488,
    "name": "ml.p3.16xlarge",
    "vcpuNum": 64
   },
   {
    "_defaultOrder": 38,
    "_isFastLaunch": false,
    "category": "Accelerated computing",
    "gpuNum": 8,
    "hideHardwareSpecs": false,
    "memoryGiB": 768,
    "name": "ml.p3dn.24xlarge",
    "vcpuNum": 96
   },
   {
    "_defaultOrder": 39,
    "_isFastLaunch": false,
    "category": "Memory Optimized",
    "gpuNum": 0,
    "hideHardwareSpecs": false,
    "memoryGiB": 16,
    "name": "ml.r5.large",
    "vcpuNum": 2
   },
   {
    "_defaultOrder": 40,
    "_isFastLaunch": false,
    "category": "Memory Optimized",
    "gpuNum": 0,
    "hideHardwareSpecs": false,
    "memoryGiB": 32,
    "name": "ml.r5.xlarge",
    "vcpuNum": 4
   },
   {
    "_defaultOrder": 41,
    "_isFastLaunch": false,
    "category": "Memory Optimized",
    "gpuNum": 0,
    "hideHardwareSpecs": false,
    "memoryGiB": 64,
    "name": "ml.r5.2xlarge",
    "vcpuNum": 8
   },
   {
    "_defaultOrder": 42,
    "_isFastLaunch": false,
    "category": "Memory Optimized",
    "gpuNum": 0,
    "hideHardwareSpecs": false,
    "memoryGiB": 128,
    "name": "ml.r5.4xlarge",
    "vcpuNum": 16
   },
   {
    "_defaultOrder": 43,
    "_isFastLaunch": false,
    "category": "Memory Optimized",
    "gpuNum": 0,
    "hideHardwareSpecs": false,
    "memoryGiB": 256,
    "name": "ml.r5.8xlarge",
    "vcpuNum": 32
   },
   {
    "_defaultOrder": 44,
    "_isFastLaunch": false,
    "category": "Memory Optimized",
    "gpuNum": 0,
    "hideHardwareSpecs": false,
    "memoryGiB": 384,
    "name": "ml.r5.12xlarge",
    "vcpuNum": 48
   },
   {
    "_defaultOrder": 45,
    "_isFastLaunch": false,
    "category": "Memory Optimized",
    "gpuNum": 0,
    "hideHardwareSpecs": false,
    "memoryGiB": 512,
    "name": "ml.r5.16xlarge",
    "vcpuNum": 64
   },
   {
    "_defaultOrder": 46,
    "_isFastLaunch": false,
    "category": "Memory Optimized",
    "gpuNum": 0,
    "hideHardwareSpecs": false,
    "memoryGiB": 768,
    "name": "ml.r5.24xlarge",
    "vcpuNum": 96
   },
   {
    "_defaultOrder": 47,
    "_isFastLaunch": false,
    "category": "Accelerated computing",
    "gpuNum": 1,
    "hideHardwareSpecs": false,
    "memoryGiB": 16,
    "name": "ml.g5.xlarge",
    "vcpuNum": 4
   },
   {
    "_defaultOrder": 48,
    "_isFastLaunch": false,
    "category": "Accelerated computing",
    "gpuNum": 1,
    "hideHardwareSpecs": false,
    "memoryGiB": 32,
    "name": "ml.g5.2xlarge",
    "vcpuNum": 8
   },
   {
    "_defaultOrder": 49,
    "_isFastLaunch": false,
    "category": "Accelerated computing",
    "gpuNum": 1,
    "hideHardwareSpecs": false,
    "memoryGiB": 64,
    "name": "ml.g5.4xlarge",
    "vcpuNum": 16
   },
   {
    "_defaultOrder": 50,
    "_isFastLaunch": false,
    "category": "Accelerated computing",
    "gpuNum": 1,
    "hideHardwareSpecs": false,
    "memoryGiB": 128,
    "name": "ml.g5.8xlarge",
    "vcpuNum": 32
   },
   {
    "_defaultOrder": 51,
    "_isFastLaunch": false,
    "category": "Accelerated computing",
    "gpuNum": 1,
    "hideHardwareSpecs": false,
    "memoryGiB": 256,
    "name": "ml.g5.16xlarge",
    "vcpuNum": 64
   },
   {
    "_defaultOrder": 52,
    "_isFastLaunch": false,
    "category": "Accelerated computing",
    "gpuNum": 4,
    "hideHardwareSpecs": false,
    "memoryGiB": 192,
    "name": "ml.g5.12xlarge",
    "vcpuNum": 48
   },
   {
    "_defaultOrder": 53,
    "_isFastLaunch": false,
    "category": "Accelerated computing",
    "gpuNum": 4,
    "hideHardwareSpecs": false,
    "memoryGiB": 384,
    "name": "ml.g5.24xlarge",
    "vcpuNum": 96
   },
   {
    "_defaultOrder": 54,
    "_isFastLaunch": false,
    "category": "Accelerated computing",
    "gpuNum": 8,
    "hideHardwareSpecs": false,
    "memoryGiB": 768,
    "name": "ml.g5.48xlarge",
    "vcpuNum": 192
   },
   {
    "_defaultOrder": 55,
    "_isFastLaunch": false,
    "category": "Accelerated computing",
    "gpuNum": 8,
    "hideHardwareSpecs": false,
    "memoryGiB": 1152,
    "name": "ml.p4d.24xlarge",
    "vcpuNum": 96
   },
   {
    "_defaultOrder": 56,
    "_isFastLaunch": false,
    "category": "Accelerated computing",
    "gpuNum": 8,
    "hideHardwareSpecs": false,
    "memoryGiB": 1152,
    "name": "ml.p4de.24xlarge",
    "vcpuNum": 96
   },
   {
    "_defaultOrder": 57,
    "_isFastLaunch": false,
    "category": "Accelerated computing",
    "gpuNum": 0,
    "hideHardwareSpecs": false,
    "memoryGiB": 32,
    "name": "ml.trn1.2xlarge",
    "vcpuNum": 8
   },
   {
    "_defaultOrder": 58,
    "_isFastLaunch": false,
    "category": "Accelerated computing",
    "gpuNum": 0,
    "hideHardwareSpecs": false,
    "memoryGiB": 512,
    "name": "ml.trn1.32xlarge",
    "vcpuNum": 128
   },
   {
    "_defaultOrder": 59,
    "_isFastLaunch": false,
    "category": "Accelerated computing",
    "gpuNum": 0,
    "hideHardwareSpecs": false,
    "memoryGiB": 512,
    "name": "ml.trn1n.32xlarge",
    "vcpuNum": 128
   }
  ],
  "instance_type": "ml.m5.8xlarge",
  "kernelspec": {
   "display_name": "Python 3 (ipykernel)",
   "language": "python",
   "name": "python3"
  },
  "language_info": {
   "codemirror_mode": {
    "name": "ipython",
    "version": 3
   },
   "file_extension": ".py",
   "mimetype": "text/x-python",
   "name": "python",
   "nbconvert_exporter": "python",
   "pygments_lexer": "ipython3",
   "version": "3.11.9"
  }
 },
 "nbformat": 4,
 "nbformat_minor": 5
}
