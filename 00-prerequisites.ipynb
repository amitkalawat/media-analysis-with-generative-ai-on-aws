{
 "cells": [
  {
   "cell_type": "markdown",
   "id": "9c84a641-be01-4cd5-8b24-f175f16121c4",
   "metadata": {
    "editable": true,
    "slideshow": {
     "slide_type": ""
    },
    "tags": []
   },
   "source": [
    "# Prerequisites"
   ]
  },
  {
   "cell_type": "markdown",
   "id": "8fce212e-9c89-4b32-8327-52fae47b2ff5",
   "metadata": {},
   "source": [
    "## Install python packages\n",
    "\n",
    "- ffmpeg for video and image processing\n",
    "- faiss for vector store\n",
    "- webvtt-py for parsing subtitle file\n",
    "- termcolor for formatting output"
   ]
  },
  {
   "cell_type": "code",
   "execution_count": null,
   "id": "ab951b69-de93-47d8-9d1a-1ee1cbe334dc",
   "metadata": {},
   "outputs": [],
   "source": [
    "## install ffmpeg\n",
    "!sudo apt update -y && sudo apt-get -y install ffmpeg\n",
    "\n",
    "## Make sure ffmpeg is installed\n",
    "!which ffmpeg\n",
    "\n",
    "## install python packages\n",
    "%pip install \\\n",
    "    termcolor \\\n",
    "\n",
    "## for optional logics\n",
    "%pip install \\\n",
    "    opencv-python-headless \\\n",
    "    imagehash"
   ]
  },
  {
   "cell_type": "code",
   "execution_count": null,
   "id": "62880031-88de-4ba3-8267-aa3837d3df95",
   "metadata": {
    "tags": []
   },
   "outputs": [],
   "source": [
    "%pip install -r requirements.txt"
   ]
  },
  {
   "cell_type": "markdown",
   "id": "626bb1bf-f941-4b26-be79-3ca659c87639",
   "metadata": {},
   "source": [
    "## Get SageMaker default resources"
   ]
  },
  {
   "cell_type": "code",
   "execution_count": null,
   "id": "63b8b333-7644-4665-95b5-85ce17eae42b",
   "metadata": {
    "tags": []
   },
   "outputs": [],
   "source": [
    "import sagemaker\n",
    "\n",
    "sagemaker_resources = {}\n",
    "#sagemaker_resources[\"session\"] = sagemaker.Session()\n",
    "sagemaker_resources[\"bucket\"] = sagemaker.Session().default_bucket()\n",
    "sagemaker_resources[\"role\"] = sagemaker.get_execution_role()\n",
    "sagemaker_resources[\"region\"] = sagemaker.Session()._region_name\n",
    "\n",
    "print(sagemaker_resources)"
   ]
  },
  {
   "cell_type": "markdown",
   "id": "6a018cb6-c58c-41b5-bcdf-263ff932bba2",
   "metadata": {},
   "source": [
    "# Get CloudFormation stack outputs"
   ]
  },
  {
   "cell_type": "code",
   "execution_count": null,
   "id": "fb73ce3b-4c34-4fff-8cff-642dcd0c3352",
   "metadata": {},
   "outputs": [],
   "source": [
    "import boto3\n",
    "from IPython.display import JSON\n",
    "cf = boto3.client(service_name=\"cloudformation\")\n",
    "stack = response = cf.describe_stacks(StackName='workshop')"
   ]
  },
  {
   "cell_type": "code",
   "execution_count": null,
   "id": "227f450a-d480-45d9-a518-d90cb14027ee",
   "metadata": {},
   "outputs": [],
   "source": [
    "JSON(stack)"
   ]
  },
  {
   "cell_type": "code",
   "execution_count": null,
   "id": "c6771eae-5fc9-408e-8464-1ed9726b9955",
   "metadata": {},
   "outputs": [],
   "source": [
    "session = {}\n",
    "session['bucket'] = next(item[\"OutputValue\"] for item in stack['Stacks'][0]['Outputs'] if item[\"OutputKey\"] == \"S3BucketName\")\n",
    "session['MediaConvertRole'] = next(item[\"OutputValue\"] for item in stack['Stacks'][0]['Outputs'] if item[\"OutputKey\"] == \"MediaConvertRole\")\n",
    "session[\"AOSSCollectionEndpoint\"] = next(item[\"OutputValue\"] for item in stack['Stacks'][0]['Outputs'] if item[\"OutputKey\"] == \"AOSSCollectionEndpoint\")"
   ]
  },
  {
   "cell_type": "markdown",
   "id": "9dd4e668-e7bc-4594-b9e8-d53c9c0834c3",
   "metadata": {
    "editable": true,
    "slideshow": {
     "slide_type": ""
    },
    "tags": []
   },
   "source": [
    "## Save variables we will use in other notebooks\n",
    "\n",
    "We will use this data in the next labs. In order to use this data we will store these variables so subsequent notebooks can use this data."
   ]
  },
  {
   "cell_type": "code",
   "execution_count": null,
   "id": "be070591-e890-4147-97ed-c3f77af4eb35",
   "metadata": {
    "editable": true,
    "slideshow": {
     "slide_type": ""
    },
    "tags": []
   },
   "outputs": [],
   "source": [
    "%store sagemaker_resources\n",
    "%store session"
   ]
  },
  {
   "cell_type": "markdown",
   "id": "970ade49-c037-46d9-b918-cc99abbcac55",
   "metadata": {
    "editable": true,
    "slideshow": {
     "slide_type": ""
    },
    "tags": []
   },
   "source": [
    "## Continue to the next section of the workshop"
   ]
  },
  {
   "cell_type": "markdown",
   "id": "2104fa1b-4880-44c7-b715-a3c1ee44d4a1",
   "metadata": {
    "editable": true,
    "slideshow": {
     "slide_type": ""
    },
    "tags": []
   },
   "source": [
    "Go to the next notebook [Video segmenents: frames, shots, and scenes](01A-visual-segments-frames-shots-scenes.ipynb) to continue."
   ]
  },
  {
   "cell_type": "code",
   "execution_count": null,
   "id": "261053c9-9c4e-41b8-8a79-6130e1931ac2",
   "metadata": {
    "editable": true,
    "slideshow": {
     "slide_type": ""
    },
    "tags": []
   },
   "outputs": [],
   "source": []
  }
 ],
 "metadata": {
  "kernelspec": {
   "display_name": "Python 3 (ipykernel)",
   "language": "python",
   "name": "python3"
  },
  "language_info": {
   "codemirror_mode": {
    "name": "ipython",
    "version": 3
   },
   "file_extension": ".py",
   "mimetype": "text/x-python",
   "name": "python",
   "nbconvert_exporter": "python",
   "pygments_lexer": "ipython3",
   "version": "3.11.9"
  }
 },
 "nbformat": 4,
 "nbformat_minor": 5
}
