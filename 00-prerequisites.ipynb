{
 "cells": [
  {
   "cell_type": "markdown",
   "id": "9c84a641-be01-4cd5-8b24-f175f16121c4",
   "metadata": {
    "editable": true,
    "slideshow": {
     "slide_type": ""
    },
    "tags": []
   },
   "source": [
    "# Prerequisites"
   ]
  },
  {
   "cell_type": "markdown",
   "id": "9314b5cb-335e-48d2-b26a-a1ab92291f36",
   "metadata": {},
   "source": [
    "Welcome to the Video Understanding on AWS workshop!\n",
    "\n",
    "The workshop is organized into two main parts: foundations and use cases.  In the foundation notebooks, you'll set up the notebook environment, prepare the sample video by breaking it down into clips, and you will experiment with using Foundation models to generate insights about video clips.  In the second part of the workshop, you will use the foundations to solve different video understanding use cases.  The use cases are independent and can be run in any order.\n",
    "\n",
    "**Part 1: Foundations (required, run in order):**\n",
    "\n",
    "1. Prerequisites (this notebook) (10 minutes)\n",
    "2. [Visual video segments: frames, shots and scenes](01A-visual-segments-frames-shots-scenes.ipynb) (20 minutes)\n",
    "3. [Audio segments](01B-audio-segments.ipynb) (10 minutes)\n",
    "\n",
    "**Part 2: Use cases (optional, run in any order):**\n",
    "\n",
    "After running the Foundations notebooks, you can choose any use case.  If you are running at an AWS Workshop event, you will be able to complete foundations plus one use case in a 2 hour session:\n",
    "\n",
    "* [Ad break detection and contextual Ad tartgeting](02-ad-breaks-and-contextual-ad-targeting.ipynb) (20 minutes) - identify opportunities for ad insertion.  Use a standard taxonomy to match video content to ad content.\n",
    "* [Video summarization](03-video-summarization.ipynb) (20 minutes) - generate short form videos from a longer video\n",
    "* [Semantic video search](04-semantic-video-search.ipynb) (20 minutes) - search video using images and natural language to find relevant clips\n",
    "\n",
    "**Additional Notebooks**\n",
    "\n",
    "There are additional notebooks in the `additional-notebooks` folder.  These are tutorials for alternative implementations of tasks from the main tutorials.\n",
    "\n",
    "* [Shot detection with Titan Multimodal Embeddings](./additional-notebooks/01a-shot-detection-with-embeddings.ipynb)\n",
    "\n",
    "**Resources**\n",
    "\n",
    "The activities in this workshop are based on AWS Solution Guidance.  The resources section contains links to relavent reference architectures, code samples and blog posts."
   ]
  },
  {
   "cell_type": "markdown",
   "id": "8fce212e-9c89-4b32-8327-52fae47b2ff5",
   "metadata": {},
   "source": [
    "# Install ffmpeg and python packages\n",
    "\n",
    "- ffmpeg for video and image processing\n",
    "- faiss for vector store\n",
    "- webvtt-py for parsing subtitle file\n",
    "- termcolor for formatting output"
   ]
  },
  {
   "cell_type": "code",
   "execution_count": 1,
   "id": "ab951b69-de93-47d8-9d1a-1ee1cbe334dc",
   "metadata": {
    "scrolled": true
   },
   "outputs": [
    {
     "name": "stdout",
     "output_type": "stream",
     "text": [
      "Hit:1 http://security.ubuntu.com/ubuntu jammy-security InRelease\n",
      "Hit:2 http://archive.ubuntu.com/ubuntu jammy InRelease\u001b[0m\u001b[33m\n",
      "Hit:3 http://archive.ubuntu.com/ubuntu jammy-updates InRelease\n",
      "Hit:4 http://archive.ubuntu.com/ubuntu jammy-backports InRelease\n",
      "Reading package lists... Done\n",
      "Building dependency tree... Done\n",
      "Reading state information... Done\n",
      "4 packages can be upgraded. Run 'apt list --upgradable' to see them.\n",
      "Reading package lists... Done\n",
      "Building dependency tree... Done\n",
      "Reading state information... Done\n",
      "ffmpeg is already the newest version (7:4.4.2-0ubuntu0.22.04.1).\n",
      "0 upgraded, 0 newly installed, 0 to remove and 4 not upgraded.\n"
     ]
    }
   ],
   "source": [
    "## install ffmpeg\n",
    "!sudo apt update -y && sudo apt-get -y install ffmpeg"
   ]
  },
  {
   "cell_type": "code",
   "execution_count": 2,
   "id": "8cc9bef1-db74-4935-b033-a25e4738e7c6",
   "metadata": {},
   "outputs": [
    {
     "name": "stdout",
     "output_type": "stream",
     "text": [
      "/usr/bin/ffmpeg\n"
     ]
    }
   ],
   "source": [
    "## Make sure ffmpeg is installed\n",
    "!which ffmpeg"
   ]
  },
  {
   "cell_type": "code",
   "execution_count": 3,
   "id": "62880031-88de-4ba3-8267-aa3837d3df95",
   "metadata": {
    "scrolled": true,
    "tags": []
   },
   "outputs": [
    {
     "name": "stdout",
     "output_type": "stream",
     "text": [
      "Requirement already satisfied: faiss-cpu==1.8.0 in /opt/conda/lib/python3.11/site-packages (from -r requirements.txt (line 1)) (1.8.0)\n",
      "Requirement already satisfied: hpack==4.0.0 in /opt/conda/lib/python3.11/site-packages (from -r requirements.txt (line 2)) (4.0.0)\n",
      "Requirement already satisfied: ImageHash==4.3.1 in /opt/conda/lib/python3.11/site-packages (from -r requirements.txt (line 3)) (4.3.1)\n",
      "Requirement already satisfied: imageio-ffmpeg==0.5.1 in /opt/conda/lib/python3.11/site-packages (from -r requirements.txt (line 4)) (0.5.1)\n",
      "Requirement already satisfied: json_repair==0.30.2 in /opt/conda/lib/python3.11/site-packages (from -r requirements.txt (line 5)) (0.30.2)\n",
      "Requirement already satisfied: llvmlite==0.43.0 in /opt/conda/lib/python3.11/site-packages (from -r requirements.txt (line 6)) (0.43.0)\n",
      "Requirement already satisfied: matplotlib==3.9.2 in /opt/conda/lib/python3.11/site-packages (from -r requirements.txt (line 7)) (3.9.2)\n",
      "Requirement already satisfied: moviepy==1.0.3 in /opt/conda/lib/python3.11/site-packages (from -r requirements.txt (line 8)) (1.0.3)\n",
      "Requirement already satisfied: opencv-python-headless==4.10.0.84 in /opt/conda/lib/python3.11/site-packages (from -r requirements.txt (line 9)) (4.10.0.84)\n",
      "Requirement already satisfied: opensearch-py==2.4.2 in /opt/conda/lib/python3.11/site-packages (from -r requirements.txt (line 10)) (2.4.2)\n",
      "Requirement already satisfied: webvtt-py==0.5.1 in /opt/conda/lib/python3.11/site-packages (from -r requirements.txt (line 11)) (0.5.1)\n",
      "Requirement already satisfied: termcolor in /opt/conda/lib/python3.11/site-packages (from -r requirements.txt (line 12)) (2.5.0)\n",
      "Requirement already satisfied: numpy in /opt/conda/lib/python3.11/site-packages (from faiss-cpu==1.8.0->-r requirements.txt (line 1)) (1.26.4)\n",
      "Requirement already satisfied: PyWavelets in /opt/conda/lib/python3.11/site-packages (from ImageHash==4.3.1->-r requirements.txt (line 3)) (1.7.0)\n",
      "Requirement already satisfied: pillow in /opt/conda/lib/python3.11/site-packages (from ImageHash==4.3.1->-r requirements.txt (line 3)) (10.4.0)\n",
      "Requirement already satisfied: scipy in /opt/conda/lib/python3.11/site-packages (from ImageHash==4.3.1->-r requirements.txt (line 3)) (1.14.1)\n",
      "Requirement already satisfied: setuptools in /opt/conda/lib/python3.11/site-packages (from imageio-ffmpeg==0.5.1->-r requirements.txt (line 4)) (75.1.0)\n",
      "Requirement already satisfied: contourpy>=1.0.1 in /opt/conda/lib/python3.11/site-packages (from matplotlib==3.9.2->-r requirements.txt (line 7)) (1.3.0)\n",
      "Requirement already satisfied: cycler>=0.10 in /opt/conda/lib/python3.11/site-packages (from matplotlib==3.9.2->-r requirements.txt (line 7)) (0.12.1)\n",
      "Requirement already satisfied: fonttools>=4.22.0 in /opt/conda/lib/python3.11/site-packages (from matplotlib==3.9.2->-r requirements.txt (line 7)) (4.54.1)\n",
      "Requirement already satisfied: kiwisolver>=1.3.1 in /opt/conda/lib/python3.11/site-packages (from matplotlib==3.9.2->-r requirements.txt (line 7)) (1.4.7)\n",
      "Requirement already satisfied: packaging>=20.0 in /opt/conda/lib/python3.11/site-packages (from matplotlib==3.9.2->-r requirements.txt (line 7)) (24.1)\n",
      "Requirement already satisfied: pyparsing>=2.3.1 in /opt/conda/lib/python3.11/site-packages (from matplotlib==3.9.2->-r requirements.txt (line 7)) (3.2.0)\n",
      "Requirement already satisfied: python-dateutil>=2.7 in /opt/conda/lib/python3.11/site-packages (from matplotlib==3.9.2->-r requirements.txt (line 7)) (2.9.0)\n",
      "Requirement already satisfied: decorator<5.0,>=4.0.2 in /opt/conda/lib/python3.11/site-packages (from moviepy==1.0.3->-r requirements.txt (line 8)) (4.4.2)\n",
      "Requirement already satisfied: tqdm<5.0,>=4.11.2 in /opt/conda/lib/python3.11/site-packages (from moviepy==1.0.3->-r requirements.txt (line 8)) (4.66.5)\n",
      "Requirement already satisfied: requests<3.0,>=2.8.1 in /opt/conda/lib/python3.11/site-packages (from moviepy==1.0.3->-r requirements.txt (line 8)) (2.32.3)\n",
      "Requirement already satisfied: proglog<=1.0.0 in /opt/conda/lib/python3.11/site-packages (from moviepy==1.0.3->-r requirements.txt (line 8)) (0.1.10)\n",
      "Requirement already satisfied: imageio<3.0,>=2.5 in /opt/conda/lib/python3.11/site-packages (from moviepy==1.0.3->-r requirements.txt (line 8)) (2.36.0)\n",
      "Requirement already satisfied: urllib3>=1.26.18 in /opt/conda/lib/python3.11/site-packages (from opensearch-py==2.4.2->-r requirements.txt (line 10)) (1.26.19)\n",
      "Requirement already satisfied: six in /opt/conda/lib/python3.11/site-packages (from opensearch-py==2.4.2->-r requirements.txt (line 10)) (1.16.0)\n",
      "Requirement already satisfied: certifi>=2022.12.07 in /opt/conda/lib/python3.11/site-packages (from opensearch-py==2.4.2->-r requirements.txt (line 10)) (2024.8.30)\n",
      "Requirement already satisfied: charset-normalizer<4,>=2 in /opt/conda/lib/python3.11/site-packages (from requests<3.0,>=2.8.1->moviepy==1.0.3->-r requirements.txt (line 8)) (3.4.0)\n",
      "Requirement already satisfied: idna<4,>=2.5 in /opt/conda/lib/python3.11/site-packages (from requests<3.0,>=2.8.1->moviepy==1.0.3->-r requirements.txt (line 8)) (3.10)\n",
      "Note: you may need to restart the kernel to use updated packages.\n"
     ]
    }
   ],
   "source": [
    "%pip install -r requirements.txt"
   ]
  },
  {
   "cell_type": "markdown",
   "id": "626bb1bf-f941-4b26-be79-3ca659c87639",
   "metadata": {},
   "source": [
    "## Get SageMaker default resources"
   ]
  },
  {
   "cell_type": "code",
   "execution_count": 4,
   "id": "63b8b333-7644-4665-95b5-85ce17eae42b",
   "metadata": {
    "tags": []
   },
   "outputs": [
    {
     "name": "stdout",
     "output_type": "stream",
     "text": [
      "sagemaker.config INFO - Not applying SDK defaults from location: /etc/xdg/sagemaker/config.yaml\n",
      "sagemaker.config INFO - Not applying SDK defaults from location: /home/sagemaker-user/.config/sagemaker/config.yaml\n",
      "{'bucket': 'sagemaker-us-west-2-019448961068', 'role': 'arn:aws:iam::019448961068:role/workshop-SageMakerExecutionRole-DBFm5j4X98yw', 'region': 'us-west-2'}\n"
     ]
    }
   ],
   "source": [
    "import sagemaker\n",
    "\n",
    "sagemaker_resources = {}\n",
    "#sagemaker_resources[\"session\"] = sagemaker.Session()\n",
    "sagemaker_resources[\"bucket\"] = sagemaker.Session().default_bucket()\n",
    "sagemaker_resources[\"role\"] = sagemaker.get_execution_role()\n",
    "sagemaker_resources[\"region\"] = sagemaker.Session()._region_name\n",
    "\n",
    "print(sagemaker_resources)"
   ]
  },
  {
   "cell_type": "markdown",
   "id": "1bb318ff-0b5c-4095-bddf-4eb947baf170",
   "metadata": {},
   "source": [
    "# Setup session AWS resources\n",
    "\n",
    "If you are running this from an AWS hosted event, the AWS resources have been pre-created for you and you will load them from the CloudFormation outputs using the cell below.  If you are running in your own account, you will need to set the following variables from the resources you created manually.\n"
   ]
  },
  {
   "cell_type": "markdown",
   "id": "6a018cb6-c58c-41b5-bcdf-263ff932bba2",
   "metadata": {},
   "source": [
    "## Get CloudFormation stack outputs (AWS hosted event only)"
   ]
  },
  {
   "cell_type": "code",
   "execution_count": 5,
   "id": "fb73ce3b-4c34-4fff-8cff-642dcd0c3352",
   "metadata": {},
   "outputs": [],
   "source": [
    "import boto3\n",
    "from IPython.display import JSON\n",
    "cf = boto3.client(service_name=\"cloudformation\")\n",
    "stack = response = cf.describe_stacks(StackName='workshop')"
   ]
  },
  {
   "cell_type": "code",
   "execution_count": 6,
   "id": "227f450a-d480-45d9-a518-d90cb14027ee",
   "metadata": {},
   "outputs": [
    {
     "data": {
      "application/json": {
       "ResponseMetadata": {
        "HTTPHeaders": {
         "connection": "keep-alive",
         "content-length": "3072",
         "content-type": "text/xml",
         "date": "Fri, 22 Nov 2024 01:35:42 GMT",
         "x-amzn-requestid": "7003ca47-c0f8-498a-81f1-54b8922b65ab"
        },
        "HTTPStatusCode": 200,
        "RequestId": "7003ca47-c0f8-498a-81f1-54b8922b65ab",
        "RetryAttempts": 0
       },
       "Stacks": [
        {
         "Capabilities": [
          "CAPABILITY_IAM",
          "CAPABILITY_NAMED_IAM",
          "CAPABILITY_AUTO_EXPAND"
         ],
         "ChangeSetId": "arn:aws:cloudformation:us-west-2:019448961068:changeSet/workshop/6e76165d-9b24-49ef-8f55-cbbee2f894a9",
         "CreationTime": "2024-11-22T00:10:05.196000Z",
         "Description": "This is a minimal example of creating a SageMaker Studio Domain which will default to JL3 servers at launch\n",
         "DisableRollback": true,
         "DriftInformation": {
          "StackDriftStatus": "NOT_CHECKED"
         },
         "EnableTerminationProtection": false,
         "LastUpdatedTime": "2024-11-22T00:10:36.051000Z",
         "NotificationARNs": [],
         "Outputs": [
          {
           "OutputKey": "StudioDomainId",
           "OutputValue": "d-hkc4vjae5ytx"
          },
          {
           "OutputKey": "SageMakerExecutionRole",
           "OutputValue": "arn:aws:iam::019448961068:role/workshop-SageMakerExecutionRole-DBFm5j4X98yw"
          },
          {
           "OutputKey": "AOSSCollectionEndpoint",
           "OutputValue": "https://3g7lw0u1hs9c3qmyf94g.us-west-2.aoss.amazonaws.com"
          },
          {
           "OutputKey": "StudioUrl",
           "OutputValue": "https://d-hkc4vjae5ytx.studio.us-west-2.sagemaker.aws"
          },
          {
           "OutputKey": "MediaConvertRole",
           "OutputValue": "arn:aws:iam::019448961068:role/workshop-MediaConvertRole"
          },
          {
           "OutputKey": "S3BucketName",
           "OutputValue": "sagemaker-us-west-2-019448961068"
          },
          {
           "OutputKey": "UserProfileName",
           "OutputValue": "workshop-user"
          }
         ],
         "Parameters": [
          {
           "ParameterKey": "DomainName",
           "ParameterValue": "aws-video-understanding-workshop"
          },
          {
           "ParameterKey": "UserProfileName",
           "ParameterValue": "workshop-user"
          }
         ],
         "RollbackConfiguration": {},
         "StackId": "arn:aws:cloudformation:us-west-2:019448961068:stack/workshop/20027fe0-a866-11ef-bcc9-061235e1ba11",
         "StackName": "workshop",
         "StackStatus": "CREATE_COMPLETE",
         "Tags": []
        }
       ]
      },
      "text/plain": [
       "<IPython.core.display.JSON object>"
      ]
     },
     "execution_count": 6,
     "metadata": {
      "application/json": {
       "expanded": false,
       "root": "root"
      }
     },
     "output_type": "execute_result"
    }
   ],
   "source": [
    "JSON(stack)"
   ]
  },
  {
   "cell_type": "code",
   "execution_count": 7,
   "id": "c6771eae-5fc9-408e-8464-1ed9726b9955",
   "metadata": {},
   "outputs": [],
   "source": [
    "session = {}\n",
    "session['bucket'] = next(item[\"OutputValue\"] for item in stack['Stacks'][0]['Outputs'] if item[\"OutputKey\"] == \"S3BucketName\")\n",
    "session['MediaConvertRole'] = next(item[\"OutputValue\"] for item in stack['Stacks'][0]['Outputs'] if item[\"OutputKey\"] == \"MediaConvertRole\")\n",
    "session[\"AOSSCollectionEndpoint\"] = next(item[\"OutputValue\"] for item in stack['Stacks'][0]['Outputs'] if item[\"OutputKey\"] == \"AOSSCollectionEndpoint\")"
   ]
  },
  {
   "cell_type": "markdown",
   "id": "aacbfe19-95f2-4e6b-8a57-320582d44bff",
   "metadata": {},
   "source": [
    "# Find Amazon Q Developer\n",
    "\n",
    "Jupyter notebooks in SageMaker Studio have Amazon Q Developer enabled.  \n",
    "\n",
    "1. To use Q Developer click on the Q Developer icon in the left sidebar menu.\n",
    "<br></br>\n",
    "<img src=\"static/images/00-qdev-icon.png\" alt=\"Q Developer Icon\" style=\"width: 600px;\"/>\n",
    "<br></br>\n",
    "3. The active side panel should now be Amazon Q Developer\n",
    "<br></br>\n",
    "<img src=\"static/images/00-qdev-sidebar.png\" alt=\"Q Developer Sidebar\" style=\"width: 600px;\"/>\n",
    "<br></br>\n",
    "5. Try it out by asking a question.  For example, you could ask: `What kinds of questions can you answer? Be brief.` You should get a response like this:\n",
    "<br></br>\n",
    "<img src=\"static/images/00-qdev-skills.png\" alt=\"Q Developer Skills\" style=\"width: 600px;\"/>\n",
    "<br></br>"
   ]
  },
  {
   "cell_type": "markdown",
   "id": "eb045c80-93ee-45dd-9c2f-d510e1cc29bb",
   "metadata": {},
   "source": [
    "Throughout this workshop, you can use Q when you encounter errors or have questions about the code.  "
   ]
  },
  {
   "cell_type": "markdown",
   "id": "9dd4e668-e7bc-4594-b9e8-d53c9c0834c3",
   "metadata": {
    "editable": true,
    "slideshow": {
     "slide_type": ""
    },
    "tags": []
   },
   "source": [
    "# Save variables we will use in other notebooks\n",
    "\n",
    "We will use this data in the next labs. In order to use this data we will store these variables so subsequent notebooks can use this data."
   ]
  },
  {
   "cell_type": "code",
   "execution_count": 8,
   "id": "be070591-e890-4147-97ed-c3f77af4eb35",
   "metadata": {
    "editable": true,
    "slideshow": {
     "slide_type": ""
    },
    "tags": []
   },
   "outputs": [
    {
     "name": "stdout",
     "output_type": "stream",
     "text": [
      "Stored 'sagemaker_resources' (dict)\n",
      "Stored 'session' (dict)\n"
     ]
    }
   ],
   "source": [
    "%store sagemaker_resources\n",
    "%store session"
   ]
  },
  {
   "cell_type": "markdown",
   "id": "970ade49-c037-46d9-b918-cc99abbcac55",
   "metadata": {
    "editable": true,
    "slideshow": {
     "slide_type": ""
    },
    "tags": []
   },
   "source": [
    "# Continue to the next section of the workshop"
   ]
  },
  {
   "cell_type": "markdown",
   "id": "2104fa1b-4880-44c7-b715-a3c1ee44d4a1",
   "metadata": {
    "editable": true,
    "slideshow": {
     "slide_type": ""
    },
    "tags": []
   },
   "source": [
    "Go to the next notebook [Video segments: frames, shots, and scenes](01A-visual-segments-frames-shots-scenes.ipynb) to continue."
   ]
  },
  {
   "cell_type": "code",
   "execution_count": null,
   "id": "52f9694f-5b19-4b41-a0a7-ab7a888a5260",
   "metadata": {},
   "outputs": [],
   "source": []
  }
 ],
 "metadata": {
  "kernelspec": {
   "display_name": "Python 3 (ipykernel)",
   "language": "python",
   "name": "python3"
  },
  "language_info": {
   "codemirror_mode": {
    "name": "ipython",
    "version": 3
   },
   "file_extension": ".py",
   "mimetype": "text/x-python",
   "name": "python",
   "nbconvert_exporter": "python",
   "pygments_lexer": "ipython3",
   "version": "3.11.10"
  }
 },
 "nbformat": 4,
 "nbformat_minor": 5
}
