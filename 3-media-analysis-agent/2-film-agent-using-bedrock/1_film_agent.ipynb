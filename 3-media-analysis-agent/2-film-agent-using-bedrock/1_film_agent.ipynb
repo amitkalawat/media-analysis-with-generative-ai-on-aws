{
 "cells": [
  {
   "cell_type": "markdown",
   "id": "0e9eb578-cd35-44b6-8230-80b0f08c2526",
   "metadata": {},
   "source": [
    "Film Agent"
   ]
  },
  {
   "cell_type": "markdown",
   "id": "211e4a3b-f2b7-4c05-84c7-3afc65b0cc73",
   "metadata": {},
   "source": [
    "#### > Setup"
   ]
  },
  {
   "cell_type": "code",
   "execution_count": 1,
   "id": "0855789b-5008-4bf6-ac3b-c06807db625b",
   "metadata": {},
   "outputs": [
    {
     "name": "stdout",
     "output_type": "stream",
     "text": [
      "boto3==1.38.13\n"
     ]
    }
   ],
   "source": [
    "!pip freeze | grep boto3"
   ]
  },
  {
   "cell_type": "markdown",
   "id": "33571108-9452-4b53-97ed-b00c1b80b2fd",
   "metadata": {},
   "source": [
    "### Analyze and extract video"
   ]
  },
  {
   "cell_type": "code",
   "execution_count": 2,
   "id": "ce0372b5-d90a-4b16-9bb8-82e91066adc3",
   "metadata": {},
   "outputs": [
    {
     "name": "stdout",
     "output_type": "stream",
     "text": [
      "sagemaker.config INFO - Not applying SDK defaults from location: /etc/xdg/sagemaker/config.yaml\n",
      "sagemaker.config INFO - Not applying SDK defaults from location: /home/sagemaker-user/.config/sagemaker/config.yaml\n"
     ]
    }
   ],
   "source": [
    "import boto3\n",
    "import json\n",
    "import uuid\n",
    "import sagemaker\n",
    "import uuid\n",
    "\n",
    "sess = sagemaker.Session()\n",
    "bucket = sess.default_bucket() # Set a default S3 bucket\n",
    "region = sess.boto_region_name\n",
    "prefix = \"media-operations-agent-claude\"\n",
    "\n",
    "bda_client = boto3.client('bedrock-data-automation')\n",
    "bda_runtime_client = boto3.client('bedrock-data-automation-runtime')\n",
    "s3_client = boto3.client('s3')\n",
    "\n",
    "#access account id\n",
    "sts_client = boto3.client('sts')\n",
    "account_id = sts_client.get_caller_identity()[\"Account\"]\n",
    "\n",
    "default_profile_arn = f\"arn:aws:bedrock:{region}:{account_id}:data-automation-profile/us.data-automation-v1\""
   ]
  },
  {
   "cell_type": "markdown",
   "id": "f9d1cc8a-5712-4ed3-bd1e-6062b3452f9f",
   "metadata": {},
   "source": [
    "### Create a BDA project"
   ]
  },
  {
   "cell_type": "code",
   "execution_count": 5,
   "id": "9ea5039f-8ec1-4488-97c5-3f7d3ac7b5ec",
   "metadata": {},
   "outputs": [
    {
     "name": "stdout",
     "output_type": "stream",
     "text": [
      "BDA video project ARN: arn:aws:bedrock:us-west-2:376678947624:data-automation-project/03efc3434bbc\n"
     ]
    }
   ],
   "source": [
    "response = bda_client.create_data_automation_project(\n",
    "    projectName=f'{prefix}-{str(uuid.uuid4())[0:4]}',\n",
    "    projectDescription='Media operations agent',\n",
    "    projectStage='DEVELOPMENT',\n",
    "    standardOutputConfiguration={\n",
    "        'video': {\n",
    "            'extraction': {\n",
    "                'category': {\n",
    "                    'state': 'ENABLED',\n",
    "                    'types': ['TEXT_DETECTION','TRANSCRIPT'],\n",
    "                },\n",
    "                'boundingBox': {\n",
    "                    'state': 'DISABLED',\n",
    "                }\n",
    "            },\n",
    "            'generativeField': {\n",
    "                'state': 'ENABLED',\n",
    "                'types': ['VIDEO_SUMMARY','CHAPTER_SUMMARY','IAB'],\n",
    "            }\n",
    "        }\n",
    "    }\n",
    ")\n",
    "\n",
    "video_project_arn = response.get(\"projectArn\")\n",
    "print(\"BDA video project ARN:\", video_project_arn)"
   ]
  },
  {
   "cell_type": "code",
   "execution_count": 6,
   "id": "55e23c03-2f91-4dc7-b277-63521a55529b",
   "metadata": {},
   "outputs": [],
   "source": [
    "video_file = \"Meridian_summary.mp4\"\n",
    "s3_key = f\"{prefix}/{video_file}\"\n",
    "\n",
    "s3_client.upload_file(video_file, bucket, s3_key)\n",
    "film_video_s3_path = f\"s3://{bucket}/{s3_key}\""
   ]
  },
  {
   "cell_type": "markdown",
   "id": "e7612d68-2817-412a-ac3b-bd21ab0a1147",
   "metadata": {},
   "source": [
    "### Extract analysis from video"
   ]
  },
  {
   "cell_type": "code",
   "execution_count": 7,
   "id": "9d5aa4ce-a340-4684-a35f-84f52f2b2213",
   "metadata": {},
   "outputs": [
    {
     "name": "stdout",
     "output_type": "stream",
     "text": [
      "BDA task started: arn:aws:bedrock:us-west-2:376678947624:data-automation-invocation/2a8d1745-698d-46e4-93aa-713647bf6435\n"
     ]
    }
   ],
   "source": [
    "response = bda_runtime_client.invoke_data_automation_async(\n",
    "    inputConfiguration={\n",
    "        's3Uri': f's3://{bucket}/{s3_key}'\n",
    "    },\n",
    "    outputConfiguration={\n",
    "        's3Uri': f's3://{bucket}/{prefix}/outputs'\n",
    "    },\n",
    "    dataAutomationConfiguration={\n",
    "        'dataAutomationProjectArn': video_project_arn,\n",
    "        'stage': 'DEVELOPMENT'\n",
    "    },\n",
    "    notificationConfiguration={\n",
    "        'eventBridgeConfiguration': {\n",
    "            'eventBridgeEnabled': False\n",
    "        }\n",
    "    },\n",
    "    dataAutomationProfileArn=default_profile_arn\n",
    ")\n",
    "\n",
    "invocation_arn = response.get(\"invocationArn\")\n",
    "print(\"BDA task started:\", invocation_arn)"
   ]
  },
  {
   "cell_type": "markdown",
   "id": "698d161c-5d1a-462d-82d8-620a554eae6c",
   "metadata": {},
   "source": [
    "### Wait"
   ]
  },
  {
   "cell_type": "code",
   "execution_count": 8,
   "id": "a5b45407-bf86-4245-8a9b-e3fe323e76a1",
   "metadata": {},
   "outputs": [
    {
     "name": "stdout",
     "output_type": "stream",
     "text": [
      "12:44:57 : BDA video task: Success\n",
      "Ouput configureation file: s3://sagemaker-us-west-2-376678947624/media-operations-agent-claude/outputs/2a8d1745-698d-46e4-93aa-713647bf6435/job_metadata.json\n"
     ]
    }
   ],
   "source": [
    "import time\n",
    "from IPython.display import clear_output\n",
    "from datetime import datetime\n",
    "\n",
    "status, status_response = None, None\n",
    "while status not in [\"Success\",\"ServiceError\",\"ClientError\"]:\n",
    "    status_response = bda_runtime_client.get_data_automation_status(\n",
    "        invocationArn=invocation_arn\n",
    "    )\n",
    "    status = status_response.get(\"status\")\n",
    "    clear_output(wait=True)\n",
    "    print(f\"{datetime.now().strftime('%H:%M:%S')} : BDA video task: {status}\")\n",
    "    time.sleep(5)\n",
    "\n",
    "output_config = status_response.get(\"outputConfiguration\",{}).get(\"s3Uri\")\n",
    "print(\"Ouput configureation file:\", output_config)"
   ]
  },
  {
   "cell_type": "markdown",
   "id": "346d2465-3308-4f05-a57b-fbf98dfb6113",
   "metadata": {},
   "source": [
    "### Access the BDA analaysis result"
   ]
  },
  {
   "cell_type": "code",
   "execution_count": 9,
   "id": "283c2966-29b6-41c2-9023-115b8c3cc2e8",
   "metadata": {},
   "outputs": [],
   "source": [
    "def read_json_on_s3(s3_uri, s3_client):\n",
    "    # Parse s3 bucket and key from s3 uri\n",
    "    s3_bucket = s3_uri.split('/')[2]\n",
    "    s3_key = s3_uri.replace(f's3://{s3_bucket}/','')\n",
    "    \n",
    "    # Read BDA output_config file on S3\n",
    "    response = s3_client.get_object(Bucket=s3_bucket, Key=s3_key)\n",
    "    file_content = response['Body'].read().decode('utf-8')  # Read the content and decode it to a string\n",
    "    # Convert the content to JSON\n",
    "    return json.loads(file_content)"
   ]
  },
  {
   "cell_type": "code",
   "execution_count": 10,
   "id": "5546c03a-696b-4b0e-92a6-ae7447b64031",
   "metadata": {},
   "outputs": [
    {
     "name": "stdout",
     "output_type": "stream",
     "text": [
      "{\n",
      "    \"job_id\": \"2a8d1745-698d-46e4-93aa-713647bf6435\",\n",
      "    \"job_status\": \"PROCESSED\",\n",
      "    \"semantic_modality\": \"VIDEO\",\n",
      "    \"output_metadata\": [\n",
      "        {\n",
      "            \"asset_id\": 0,\n",
      "            \"asset_input_path\": {\n",
      "                \"s3_bucket\": \"sagemaker-us-west-2-376678947624\",\n",
      "                \"s3_key\": \"media-operations-agent-claude/Meridian_summary.mp4\"\n",
      "            },\n",
      "            \"segment_metadata\": [\n",
      "                {\n",
      "                    \"standard_output_path\": \"s3://sagemaker-us-west-2-376678947624/media-operations-agent-claude/outputs/2a8d1745-698d-46e4-93aa-713647bf6435/0/standard_output/0/result.json\"\n",
      "                }\n",
      "            ]\n",
      "        }\n",
      "    ]\n",
      "}\n"
     ]
    }
   ],
   "source": [
    "config_data = read_json_on_s3(output_config,s3_client)\n",
    "print(json.dumps(config_data, indent=4))"
   ]
  },
  {
   "cell_type": "code",
   "execution_count": 11,
   "id": "71b26d39-d13b-47ec-9b18-0ac6f9640193",
   "metadata": {},
   "outputs": [
    {
     "data": {
      "application/json": {
       "chapters": [
        {
         "audio_segments": [
          {
           "audio_item_indices": null,
           "end_timestamp_millis": 34209,
           "id": null,
           "segment_index": 0,
           "speaker": {
            "speaker_label": "spk_0",
            "speaker_name": "None"
           },
           "start_timestamp_millis": 6489,
           "text": "Three individuals, a schoolteacher, an insurance salesman, and a retired man disappeared near El Matador, a location known for its large rock. Initially suspected as mob-related or suicides. Further investigation revealed no criminal records or connections among them, except for one past DUI arrest. All were divorced. A witness, initially dismissed as unreliable, reported seeing a man atop the rock behaving strangely before disappearing during a sudden intense storm.",
           "type": "TRANSCRIPT"
          },
          {
           "audio_item_indices": null,
           "end_timestamp_millis": 50419,
           "id": null,
           "segment_index": 1,
           "speaker": {
            "speaker_label": "spk_0",
            "speaker_name": "None"
           },
           "start_timestamp_millis": 34439,
           "text": "In his place, a woman in a white dress with alabaster skin appeared, staring upwards. The witness fled due to the worsening weather. Captain Foster was dispatched to El Matador to investigate further, but found no sign of Detective Sullivan, leading to a tense standoff with LAPD officers.",
           "type": "TRANSCRIPT"
          }
         ],
         "chapter_index": 0,
         "content_moderation": null,
         "duration_frames": null,
         "duration_millis": 51284,
         "duration_smpte": null,
         "end_frame_index": 1537,
         "end_timecode_smpte": "00:00:51;07",
         "end_timestamp_millis": 51251,
         "frames": [
          {
           "content_moderation": [],
           "frame_index": 15,
           "logos": [],
           "text_lines": [
            {
             "confidence": 0.97220236,
             "id": "b0ea472a-a027-452c-b9c7-34eba637c4cb",
             "locations": null,
             "text": "STOP",
             "type": "TEXT_LINE"
            },
            {
             "confidence": 0.3678968,
             "id": "a8b9fca2-b55c-4285-bf78-9e927dfe7c76",
             "locations": null,
             "text": "ANCE",
             "type": "TEXT_LINE"
            },
            {
             "confidence": 0.30783504,
             "id": "fbcfb80e-e866-46db-a3a8-696815f50083",
             "locations": null,
             "text": "ANGELS",
             "type": "TEXT_LINE"
            },
            {
             "confidence": 0.8398392,
             "id": "a91592cb-bfb8-4208-8db6-79fd3f612186",
             "locations": null,
             "text": "POLICE DEPART",
             "type": "TEXT_LINE"
            },
            {
             "confidence": 0.38243052,
             "id": "e4c7d29e-2fb8-4a73-85f4-c6e1e2eedd17",
             "locations": null,
             "text": "Hollywood",
             "type": "TEXT_LINE"
            },
            {
             "confidence": 0.47376344,
             "id": "a606bfe8-1c89-4410-a9ac-124afaf94368",
             "locations": null,
             "text": "Division",
             "type": "TEXT_LINE"
            },
            {
             "confidence": 0.6253462,
             "id": "3a1d8655-6c34-4c88-bca0-d42b84440288",
             "locations": null,
             "text": "Medidian",
             "type": "TEXT_LINE"
            },
            {
             "confidence": 0.7771928,
             "id": "0667ceff-f154-423d-8890-e82a39a67149",
             "locations": null,
             "text": "POLICE Hollywood 05 DEPARTMENT",
             "type": "TEXT_LINE"
            }
           ],
           "text_words": [
            {
             "confidence": 0.97220236,
             "id": "525abb17-91c3-464f-84b4-186920bf46e4",
             "line_id": "b0ea472a-a027-452c-b9c7-34eba637c4cb",
             "locations": null,
             "text": "STOP",
             "type": "TEXT_WORD"
            },
            {
             "confidence": 0.3678968,
             "id": "0c493c75-b4b4-4160-a63f-d6b4fbc6c217",
             "line_id": "a8b9fca2-b55c-4285-bf78-9e927dfe7c76",
             "locations": null,
             "text": "ANCE",
             "type": "TEXT_WORD"
            },
            {
             "confidence": 0.30783504,
             "id": "7c9d6270-1ec2-4678-a7e7-fbbf9e7d2b3b",
             "line_id": "fbcfb80e-e866-46db-a3a8-696815f50083",
             "locations": null,
             "text": "ANGELS",
             "type": "TEXT_WORD"
            },
            {
             "confidence": 0.9738843,
             "id": "90518293-4e72-4fc6-b20a-f5f79924cb19",
             "line_id": "a91592cb-bfb8-4208-8db6-79fd3f612186",
             "locations": null,
             "text": "POLICE",
             "type": "TEXT_WORD"
            },
            {
             "confidence": 0.7057942,
             "id": "27888722-0f98-40e2-ad15-a4476d6e5c53",
             "line_id": "a91592cb-bfb8-4208-8db6-79fd3f612186",
             "locations": null,
             "text": "DEPART",
             "type": "TEXT_WORD"
            },
            {
             "confidence": 0.38243052,
             "id": "3e96e17b-0267-4c10-a27d-b4deacefa08c",
             "line_id": "e4c7d29e-2fb8-4a73-85f4-c6e1e2eedd17",
             "locations": null,
             "text": "Hollywood",
             "type": "TEXT_WORD"
            },
            {
             "confidence": 0.47376344,
             "id": "64edc4ae-832c-427a-a408-b732f2c3999e",
             "line_id": "a606bfe8-1c89-4410-a9ac-124afaf94368",
             "locations": null,
             "text": "Division",
             "type": "TEXT_WORD"
            },
            {
             "confidence": 0.6253462,
             "id": "35854745-453a-4a88-8387-fe75cc37555c",
             "line_id": "3a1d8655-6c34-4c88-bca0-d42b84440288",
             "locations": null,
             "text": "Medidian",
             "type": "TEXT_WORD"
            },
            {
             "confidence": 0.9678473,
             "id": "88b43ccb-ff18-4d89-b75e-072f2be9c30f",
             "line_id": "0667ceff-f154-423d-8890-e82a39a67149",
             "locations": null,
             "text": "POLICE",
             "type": "TEXT_WORD"
            },
            {
             "confidence": 0.79235053,
             "id": "0676ad0c-9d2d-4f83-bce7-c58736113fb3",
             "line_id": "0667ceff-f154-423d-8890-e82a39a67149",
             "locations": null,
             "text": "Hollywood",
             "type": "TEXT_WORD"
            },
            {
             "confidence": 0.38154906,
             "id": "47aee350-bc84-4bc5-aba3-628b392efad5",
             "line_id": "0667ceff-f154-423d-8890-e82a39a67149",
             "locations": null,
             "text": "05",
             "type": "TEXT_WORD"
            },
            {
             "confidence": 0.96702415,
             "id": "fb9a3eb3-ed25-4c64-b07c-af56e0ed7f30",
             "line_id": "0667ceff-f154-423d-8890-e82a39a67149",
             "locations": null,
             "text": "DEPARTMENT",
             "type": "TEXT_WORD"
            }
           ],
           "timecode_smpte": "00:00:00;16",
           "timestamp_millis": 501
          },
          {
           "content_moderation": [],
           "frame_index": 105,
           "logos": [],
           "text_lines": [
            {
             "confidence": 0.88987714,
             "id": "a106e100-b609-4aba-a059-f249860458e8",
             "locations": null,
             "text": "STOP",
             "type": "TEXT_LINE"
            },
            {
             "confidence": 0.9639789,
             "id": "9802b6cb-0c11-4ba0-9717-40a0f8903348",
             "locations": null,
             "text": "Meridian",
             "type": "TEXT_LINE"
            },
            {
             "confidence": 0.7063704,
             "id": "dc838d21-6052-4d96-8d59-535185bdb647",
             "locations": null,
             "text": "DEPAR ANGEL N",
             "type": "TEXT_LINE"
            }
           ],
           "text_words": [
            {
             "confidence": 0.88987714,
             "id": "ed0aebf1-99a7-486d-bbb5-fe44308b1381",
             "line_id": "a106e100-b609-4aba-a059-f249860458e8",
             "locations": null,
             "text": "STOP",
             "type": "TEXT_WORD"
            },
            {
             "confidence": 0.9639789,
             "id": "00c11235-f171-4254-bac2-f39f53464c72",
             "line_id": "9802b6cb-0c11-4ba0-9717-40a0f8903348",
             "locations": null,
             "text": "Meridian",
             "type": "TEXT_WORD"
            },
            {
             "confidence": 0.7182494,
             "id": "974b5856-4c76-43fd-95b6-8d827ffbed3d",
             "line_id": "dc838d21-6052-4d96-8d59-535185bdb647",
             "locations": null,
             "text": "DEPAR",
             "type": "TEXT_WORD"
            },
            {
             "confidence": 0.9049827,
             "id": "e35a939e-aedf-4ebf-b27a-dba4a5613a7a",
             "line_id": "dc838d21-6052-4d96-8d59-535185bdb647",
             "locations": null,
             "text": "ANGEL",
             "type": "TEXT_WORD"
            },
            {
             "confidence": 0.4958792,
             "id": "2dec0181-19fb-4ea0-ae8a-5615e40a3bf1",
             "line_id": "dc838d21-6052-4d96-8d59-535185bdb647",
             "locations": null,
             "text": "N",
             "type": "TEXT_WORD"
            }
           ],
           "timecode_smpte": "00:00:03;16",
           "timestamp_millis": 3504
          },
          {
           "content_moderation": [],
           "frame_index": 210,
           "logos": [],
           "text_lines": [
            {
             "confidence": 0.9783851,
             "id": "666b30b7-f41a-41d3-b62d-45790e2f73ff",
             "locations": null,
             "text": "Three individuals, a school teacher, an insurance salesman, and a retired man,",
             "type": "TEXT_LINE"
            },
            {
             "confidence": 0.9914582,
             "id": "68392378-1597-40d3-a3c1-afbc1da7ba1d",
             "locations": null,
             "text": "disappeared near El Matador, a location known for its large rock.",
             "type": "TEXT_LINE"
            }
           ],
           "text_words": [
            {
             "confidence": 0.99811304,
             "id": "aa0aba83-fa07-4e66-bb30-bd2b63905f2e",
             "line_id": "666b30b7-f41a-41d3-b62d-45790e2f73ff",
             "locations": null,
             "text": "Three",
             "type": "TEXT_WORD"
            },
            {
             "confidence": 0.9921143,
             "id": "e22b970f-d309-4a1a-9ee5-18a99bc120a3",
             "line_id": "666b30b7-f41a-41d3-b62d-45790e2f73ff",
             "locations": null,
             "text": "individuals,",
             "type": "TEXT_WORD"
            },
            {
             "confidence": 0.96629965,
             "id": "c289db7c-650e-414f-8dd1-842211077775",
             "line_id": "666b30b7-f41a-41d3-b62d-45790e2f73ff",
             "locations": null,
             "text": "a",
             "type": "TEXT_WORD"
            },
            {
             "confidence": 1,
             "id": "b1387750-b09f-4cc4-810e-18c280abe2d5",
             "line_id": "666b30b7-f41a-41d3-b62d-45790e2f73ff",
             "locations": null,
             "text": "school",
             "type": "TEXT_WORD"
            },
            {
             "confidence": 0.8526691,
             "id": "32834cf3-6bdb-4f85-b91a-46ce6ffafb34",
             "line_id": "666b30b7-f41a-41d3-b62d-45790e2f73ff",
             "locations": null,
             "text": "teacher,",
             "type": "TEXT_WORD"
            },
            {
             "confidence": 1,
             "id": "e95c6ffd-54a9-4c2b-94a7-7dd522dfb134",
             "line_id": "666b30b7-f41a-41d3-b62d-45790e2f73ff",
             "locations": null,
             "text": "an",
             "type": "TEXT_WORD"
            },
            {
             "confidence": 0.9913823,
             "id": "d62c6b73-8b02-4964-ba4d-9ab887ee729b",
             "line_id": "666b30b7-f41a-41d3-b62d-45790e2f73ff",
             "locations": null,
             "text": "insurance",
             "type": "TEXT_WORD"
            },
            {
             "confidence": 0.98436296,
             "id": "29586004-8935-4ab1-9deb-0a35ba017900",
             "line_id": "666b30b7-f41a-41d3-b62d-45790e2f73ff",
             "locations": null,
             "text": "salesman,",
             "type": "TEXT_WORD"
            },
            {
             "confidence": 0.99736094,
             "id": "d67245de-d83c-4d75-a878-669de84ce69f",
             "line_id": "666b30b7-f41a-41d3-b62d-45790e2f73ff",
             "locations": null,
             "text": "and",
             "type": "TEXT_WORD"
            },
            {
             "confidence": 0.9607425,
             "id": "444ce05e-7378-4029-abab-ff16828a7d44",
             "line_id": "666b30b7-f41a-41d3-b62d-45790e2f73ff",
             "locations": null,
             "text": "a",
             "type": "TEXT_WORD"
            },
            {
             "confidence": 0.9990536,
             "id": "8ad92ad5-b5c2-4f38-a710-f926cee61fc5",
             "line_id": "666b30b7-f41a-41d3-b62d-45790e2f73ff",
             "locations": null,
             "text": "retired",
             "type": "TEXT_WORD"
            },
            {
             "confidence": 0.9985227,
             "id": "aa5644ed-87eb-4006-8f36-6750d90cb6f7",
             "line_id": "666b30b7-f41a-41d3-b62d-45790e2f73ff",
             "locations": null,
             "text": "man,",
             "type": "TEXT_WORD"
            },
            {
             "confidence": 0.99840266,
             "id": "1a3cb451-f7ed-45c5-bcdc-148a65eff878",
             "line_id": "68392378-1597-40d3-a3c1-afbc1da7ba1d",
             "locations": null,
             "text": "disappeared",
             "type": "TEXT_WORD"
            },
            {
             "confidence": 0.9929611,
             "id": "85363ecd-c39f-4be3-8cfb-5e3c580bac09",
             "line_id": "68392378-1597-40d3-a3c1-afbc1da7ba1d",
             "locations": null,
             "text": "near",
             "type": "TEXT_WORD"
            },
            {
             "confidence": 0.9684954,
             "id": "d7f2563e-ed63-430f-bc6b-d78bfcb2cae8",
             "line_id": "68392378-1597-40d3-a3c1-afbc1da7ba1d",
             "locations": null,
             "text": "El",
             "type": "TEXT_WORD"
            },
            {
             "confidence": 1,
             "id": "456a6a2d-562c-4445-b938-867b269ac668",
             "line_id": "68392378-1597-40d3-a3c1-afbc1da7ba1d",
             "locations": null,
             "text": "Matador,",
             "type": "TEXT_WORD"
            },
            {
             "confidence": 0.96049017,
             "id": "9ccd59f2-1d2c-44dc-a5b6-5dfb5522aaeb",
             "line_id": "68392378-1597-40d3-a3c1-afbc1da7ba1d",
             "locations": null,
             "text": "a",
             "type": "TEXT_WORD"
            },
            {
             "confidence": 0.99619555,
             "id": "32cc9ead-0f94-47e6-9a0d-e3886a944e1e",
             "line_id": "68392378-1597-40d3-a3c1-afbc1da7ba1d",
             "locations": null,
             "text": "location",
             "type": "TEXT_WORD"
            },
            {
             "confidence": 1,
             "id": "8d973b6e-cc18-4daa-a929-2629522feea4",
             "line_id": "68392378-1597-40d3-a3c1-afbc1da7ba1d",
             "locations": null,
             "text": "known",
             "type": "TEXT_WORD"
            },
            {
             "confidence": 0.9990059,
             "id": "f181f12c-0390-47e6-84d5-ccf89688e263",
             "line_id": "68392378-1597-40d3-a3c1-afbc1da7ba1d",
             "locations": null,
             "text": "for",
             "type": "TEXT_WORD"
            },
            {
             "confidence": 0.99896944,
             "id": "a63da9d5-017a-4cc9-973a-fb37e7d19cfa",
             "line_id": "68392378-1597-40d3-a3c1-afbc1da7ba1d",
             "locations": null,
             "text": "its",
             "type": "TEXT_WORD"
            },
            {
             "confidence": 1,
             "id": "68bf6f80-9197-42b9-bb44-7809d3293e10",
             "line_id": "68392378-1597-40d3-a3c1-afbc1da7ba1d",
             "locations": null,
             "text": "large",
             "type": "TEXT_WORD"
            },
            {
             "confidence": 0.99151963,
             "id": "f21137da-ea96-41b5-8e02-85baa98e4564",
             "line_id": "68392378-1597-40d3-a3c1-afbc1da7ba1d",
             "locations": null,
             "text": "rock.",
             "type": "TEXT_WORD"
            }
           ],
           "timecode_smpte": "00:00:07;00",
           "timestamp_millis": 7007
          },
          {
           "content_moderation": [],
           "frame_index": 255,
           "logos": [],
           "text_lines": [
            {
             "confidence": 0.9833381,
             "id": "74ae7119-1239-462c-b2c9-20f9f5769f94",
             "locations": null,
             "text": "Three individuals, a school teacher, an insurance salesman, and a retired man,",
             "type": "TEXT_LINE"
            },
            {
             "confidence": 0.98957425,
             "id": "7c785e1a-0075-4934-a959-2cf379d35e68",
             "locations": null,
             "text": "disappeared near El Matador, a location known for its large rock.",
             "type": "TEXT_LINE"
            }
           ],
           "text_words": [
            {
             "confidence": 0.99805033,
             "id": "7214bc6e-8ed7-4a5a-a9bf-5c563ec14232",
             "line_id": "74ae7119-1239-462c-b2c9-20f9f5769f94",
             "locations": null,
             "text": "Three",
             "type": "TEXT_WORD"
            },
            {
             "confidence": 0.9924279,
             "id": "c6e7d6c3-6851-4bd4-aee6-d8a0eabfdcd8",
             "line_id": "74ae7119-1239-462c-b2c9-20f9f5769f94",
             "locations": null,
             "text": "individuals,",
             "type": "TEXT_WORD"
            },
            {
             "confidence": 0.9664066,
             "id": "10c39ce3-fd5f-4963-8a32-a72b018269b8",
             "line_id": "74ae7119-1239-462c-b2c9-20f9f5769f94",
             "locations": null,
             "text": "a",
             "type": "TEXT_WORD"
            },
            {
             "confidence": 0.9942896,
             "id": "9b1101bf-bf37-4274-9b4b-66d75f717377",
             "line_id": "74ae7119-1239-462c-b2c9-20f9f5769f94",
             "locations": null,
             "text": "school",
             "type": "TEXT_WORD"
            },
            {
             "confidence": 0.92606854,
             "id": "72544e8c-5ef0-4612-8a08-47d033652583",
             "line_id": "74ae7119-1239-462c-b2c9-20f9f5769f94",
             "locations": null,
             "text": "teacher,",
             "type": "TEXT_WORD"
            },
            {
             "confidence": 0.99134773,
             "id": "25a46f36-3bcb-4807-a410-828cc506468d",
             "line_id": "74ae7119-1239-462c-b2c9-20f9f5769f94",
             "locations": null,
             "text": "an",
             "type": "TEXT_WORD"
            },
            {
             "confidence": 0.9907543,
             "id": "9140cbed-2ce5-46ba-b350-783fc900c759",
             "line_id": "74ae7119-1239-462c-b2c9-20f9f5769f94",
             "locations": null,
             "text": "insurance",
             "type": "TEXT_WORD"
            },
            {
             "confidence": 0.9840133,
             "id": "a5c54717-8885-477e-ad22-3a0a35b82f9d",
             "line_id": "74ae7119-1239-462c-b2c9-20f9f5769f94",
             "locations": null,
             "text": "salesman,",
             "type": "TEXT_WORD"
            },
            {
             "confidence": 0.99750674,
             "id": "1ac4834c-b3d8-44b1-a413-b62a746bd15b",
             "line_id": "74ae7119-1239-462c-b2c9-20f9f5769f94",
             "locations": null,
             "text": "and",
             "type": "TEXT_WORD"
            },
            {
             "confidence": 0.9613178,
             "id": "d162067f-bacf-41df-95e1-53b4f03ff5b9",
             "line_id": "74ae7119-1239-462c-b2c9-20f9f5769f94",
             "locations": null,
             "text": "a",
             "type": "TEXT_WORD"
            },
            {
             "confidence": 0.99926275,
             "id": "523e47a4-d17d-4299-8649-296a29ee593e",
             "line_id": "74ae7119-1239-462c-b2c9-20f9f5769f94",
             "locations": null,
             "text": "retired",
             "type": "TEXT_WORD"
            },
            {
             "confidence": 0.9986113,
             "id": "b804562c-e0a7-470f-a00e-9d6652885516",
             "line_id": "74ae7119-1239-462c-b2c9-20f9f5769f94",
             "locations": null,
             "text": "man,",
             "type": "TEXT_WORD"
            },
            {
             "confidence": 0.99888647,
             "id": "e8a0ff9d-74f2-4041-bc9e-0845da94b085",
             "line_id": "7c785e1a-0075-4934-a959-2cf379d35e68",
             "locations": null,
             "text": "disappeared",
             "type": "TEXT_WORD"
            },
            {
             "confidence": 0.99531686,
             "id": "3b6959c1-e857-49fb-81a7-d51ca32cb78f",
             "line_id": "7c785e1a-0075-4934-a959-2cf379d35e68",
             "locations": null,
             "text": "near",
             "type": "TEXT_WORD"
            },
            {
             "confidence": 0.95515275,
             "id": "573fbdaf-2487-42ed-b0ea-f6241cbc1bbb",
             "line_id": "7c785e1a-0075-4934-a959-2cf379d35e68",
             "locations": null,
             "text": "El",
             "type": "TEXT_WORD"
            },
            {
             "confidence": 0.9925525,
             "id": "5db3ac91-d199-42bb-819c-a1827a549de1",
             "line_id": "7c785e1a-0075-4934-a959-2cf379d35e68",
             "locations": null,
             "text": "Matador,",
             "type": "TEXT_WORD"
            },
            {
             "confidence": 0.959585,
             "id": "ec3e9cdc-838c-4038-bae8-3a935844a5d9",
             "line_id": "7c785e1a-0075-4934-a959-2cf379d35e68",
             "locations": null,
             "text": "a",
             "type": "TEXT_WORD"
            },
            {
             "confidence": 0.9969823,
             "id": "4d1c6ff5-7699-458d-9b54-0fa347def369",
             "line_id": "7c785e1a-0075-4934-a959-2cf379d35e68",
             "locations": null,
             "text": "location",
             "type": "TEXT_WORD"
            },
            {
             "confidence": 1,
             "id": "3eec8580-b1b1-43c2-87b2-98d21538460d",
             "line_id": "7c785e1a-0075-4934-a959-2cf379d35e68",
             "locations": null,
             "text": "known",
             "type": "TEXT_WORD"
            },
            {
             "confidence": 0.9978979,
             "id": "9fa9c2eb-10a2-45a4-8901-fed7caca6cf4",
             "line_id": "7c785e1a-0075-4934-a959-2cf379d35e68",
             "locations": null,
             "text": "for",
             "type": "TEXT_WORD"
            },
            {
             "confidence": 0.9979042,
             "id": "3f1b2790-09ff-4cf2-977a-044c11691e52",
             "line_id": "7c785e1a-0075-4934-a959-2cf379d35e68",
             "locations": null,
             "text": "its",
             "type": "TEXT_WORD"
            },
            {
             "confidence": 1,
             "id": "2b752f4f-323c-4240-8368-7edcfba2a48d",
             "line_id": "7c785e1a-0075-4934-a959-2cf379d35e68",
             "locations": null,
             "text": "large",
             "type": "TEXT_WORD"
            },
            {
             "confidence": 0.9910391,
             "id": "a9b98717-7771-409a-873f-ae05a3631494",
             "line_id": "7c785e1a-0075-4934-a959-2cf379d35e68",
             "locations": null,
             "text": "rock.",
             "type": "TEXT_WORD"
            }
           ],
           "timecode_smpte": "00:00:08;16",
           "timestamp_millis": 8509
          },
          {
           "content_moderation": [],
           "frame_index": 390,
           "logos": [],
           "text_lines": [
            {
             "confidence": 0.9788714,
             "id": "aaa582e1-e053-43ae-a10f-b60b61dc4490",
             "locations": null,
             "text": "Three individuals, a school teacher, an insurance salesman, and a retired man,",
             "type": "TEXT_LINE"
            },
            {
             "confidence": 0.99457574,
             "id": "f2593423-ba1b-4ccc-8305-ce36669b47a7",
             "locations": null,
             "text": "disappeared near El Matador, a location known for its large rock.",
             "type": "TEXT_LINE"
            }
           ],
           "text_words": [
            {
             "confidence": 0.9981784,
             "id": "f131697d-e330-4c03-8279-974705f3c86f",
             "line_id": "aaa582e1-e053-43ae-a10f-b60b61dc4490",
             "locations": null,
             "text": "Three",
             "type": "TEXT_WORD"
            },
            {
             "confidence": 0.9951678,
             "id": "dfa32b5b-369b-46e2-bbce-d953373057d5",
             "line_id": "aaa582e1-e053-43ae-a10f-b60b61dc4490",
             "locations": null,
             "text": "individuals,",
             "type": "TEXT_WORD"
            },
            {
             "confidence": 0.96564656,
             "id": "896c4726-fe85-4f62-84b5-a175c0f6f189",
             "line_id": "aaa582e1-e053-43ae-a10f-b60b61dc4490",
             "locations": null,
             "text": "a",
             "type": "TEXT_WORD"
            },
            {
             "confidence": 0.9944092,
             "id": "38043548-60e2-4eab-801a-7fc735ca95df",
             "line_id": "aaa582e1-e053-43ae-a10f-b60b61dc4490",
             "locations": null,
             "text": "school",
             "type": "TEXT_WORD"
            },
            {
             "confidence": 0.8616989,
             "id": "b326f9c6-37cb-41fc-b33a-dff76fd22842",
             "line_id": "aaa582e1-e053-43ae-a10f-b60b61dc4490",
             "locations": null,
             "text": "teacher,",
             "type": "TEXT_WORD"
            },
            {
             "confidence": 1,
             "id": "5c2cf163-5afa-489d-be71-248430c68d1d",
             "line_id": "aaa582e1-e053-43ae-a10f-b60b61dc4490",
             "locations": null,
             "text": "an",
             "type": "TEXT_WORD"
            },
            {
             "confidence": 0.98971426,
             "id": "c6caf986-2662-4772-b37c-81b9566d5d71",
             "line_id": "aaa582e1-e053-43ae-a10f-b60b61dc4490",
             "locations": null,
             "text": "insurance",
             "type": "TEXT_WORD"
            },
            {
             "confidence": 0.98577833,
             "id": "0cacb841-c4e9-4d63-8d2a-0b74e53db79b",
             "line_id": "aaa582e1-e053-43ae-a10f-b60b61dc4490",
             "locations": null,
             "text": "salesman,",
             "type": "TEXT_WORD"
            },
            {
             "confidence": 0.99806106,
             "id": "c4d8ad5e-afb9-4ef1-9e44-bca1afc0a7c9",
             "line_id": "aaa582e1-e053-43ae-a10f-b60b61dc4490",
             "locations": null,
             "text": "and",
             "type": "TEXT_WORD"
            },
            {
             "confidence": 0.96029073,
             "id": "c5ba26f0-049e-41f8-aa03-b9ae698fb8ae",
             "line_id": "aaa582e1-e053-43ae-a10f-b60b61dc4490",
             "locations": null,
             "text": "a",
             "type": "TEXT_WORD"
            },
            {
             "confidence": 0.9975117,
             "id": "c499e176-cc70-42fe-bf86-c1790ca6c604",
             "line_id": "aaa582e1-e053-43ae-a10f-b60b61dc4490",
             "locations": null,
             "text": "retired",
             "type": "TEXT_WORD"
            },
            {
             "confidence": 1,
             "id": "55aecc30-c9ff-42f5-945a-a43cff215b1d",
             "line_id": "aaa582e1-e053-43ae-a10f-b60b61dc4490",
             "locations": null,
             "text": "man,",
             "type": "TEXT_WORD"
            },
            {
             "confidence": 0.99543417,
             "id": "54228372-4bce-4f43-b8f8-af5af2c327af",
             "line_id": "f2593423-ba1b-4ccc-8305-ce36669b47a7",
             "locations": null,
             "text": "disappeared",
             "type": "TEXT_WORD"
            },
            {
             "confidence": 0.99529195,
             "id": "b53920e5-0197-4646-8d5e-b3160c70174a",
             "line_id": "f2593423-ba1b-4ccc-8305-ce36669b47a7",
             "locations": null,
             "text": "near",
             "type": "TEXT_WORD"
            },
            {
             "confidence": 0.99890924,
             "id": "15f7b8db-a185-4428-86bd-fa90823edb0d",
             "line_id": "f2593423-ba1b-4ccc-8305-ce36669b47a7",
             "locations": null,
             "text": "El",
             "type": "TEXT_WORD"
            },
            {
             "confidence": 0.99314916,
             "id": "0ece06f2-7809-4620-ac36-8c4541367176",
             "line_id": "f2593423-ba1b-4ccc-8305-ce36669b47a7",
             "locations": null,
             "text": "Matador,",
             "type": "TEXT_WORD"
            },
            {
             "confidence": 0.96243006,
             "id": "ad2a0673-1267-48b7-9246-7f4052a1ad0d",
             "line_id": "f2593423-ba1b-4ccc-8305-ce36669b47a7",
             "locations": null,
             "text": "a",
             "type": "TEXT_WORD"
            },
            {
             "confidence": 0.997535,
             "id": "fb69b1a5-cc5b-451b-b662-dc8a2e651418",
             "line_id": "f2593423-ba1b-4ccc-8305-ce36669b47a7",
             "locations": null,
             "text": "location",
             "type": "TEXT_WORD"
            },
            {
             "confidence": 1,
             "id": "67793d38-e25f-42d4-a081-10e633d90b6b",
             "line_id": "f2593423-ba1b-4ccc-8305-ce36669b47a7",
             "locations": null,
             "text": "known",
             "type": "TEXT_WORD"
            },
            {
             "confidence": 0.99884176,
             "id": "89dc23fb-a450-4fd5-ac71-ab99c7ae6adc",
             "line_id": "f2593423-ba1b-4ccc-8305-ce36669b47a7",
             "locations": null,
             "text": "for",
             "type": "TEXT_WORD"
            },
            {
             "confidence": 0.99874145,
             "id": "aa6207ad-f146-4ab4-a32a-ffe6e00454ce",
             "line_id": "f2593423-ba1b-4ccc-8305-ce36669b47a7",
             "locations": null,
             "text": "its",
             "type": "TEXT_WORD"
            },
            {
             "confidence": 1,
             "id": "0224b178-721e-4443-8c19-b1c4db114d03",
             "line_id": "f2593423-ba1b-4ccc-8305-ce36669b47a7",
             "locations": null,
             "text": "large",
             "type": "TEXT_WORD"
            },
            {
             "confidence": 1,
             "id": "529ebdb9-4c87-4ffe-bbbc-1907bbc60a31",
             "line_id": "f2593423-ba1b-4ccc-8305-ce36669b47a7",
             "locations": null,
             "text": "rock.",
             "type": "TEXT_WORD"
            }
           ],
           "timecode_smpte": "00:00:13;00",
           "timestamp_millis": 13013
          },
          {
           "content_moderation": [],
           "frame_index": 651,
           "logos": [],
           "text_lines": [
            {
             "confidence": 0.99907357,
             "id": "f43a746c-a59c-409a-8ca0-be04aa57cec4",
             "locations": null,
             "text": "Initially suspected as mob-related or suicides, further investigation revealed no",
             "type": "TEXT_LINE"
            },
            {
             "confidence": 0.99602544,
             "id": "44d95ad7-1d0a-4d33-aa35-cb723719f244",
             "locations": null,
             "text": "criminal records or connections among them, except for one past DUI arrest.",
             "type": "TEXT_LINE"
            }
           ],
           "text_words": [
            {
             "confidence": 0.9986265,
             "id": "8a825a1b-bcb5-40fd-b051-d2af57bf73a6",
             "line_id": "f43a746c-a59c-409a-8ca0-be04aa57cec4",
             "locations": null,
             "text": "Initially",
             "type": "TEXT_WORD"
            },
            {
             "confidence": 1,
             "id": "b4336834-193e-44a4-9ac7-e9542aab7392",
             "line_id": "f43a746c-a59c-409a-8ca0-be04aa57cec4",
             "locations": null,
             "text": "suspected",
             "type": "TEXT_WORD"
            },
            {
             "confidence": 1,
             "id": "e6002de5-0cf8-4d19-bca1-e4ea244f1c35",
             "line_id": "f43a746c-a59c-409a-8ca0-be04aa57cec4",
             "locations": null,
             "text": "as",
             "type": "TEXT_WORD"
            },
            {
             "confidence": 0.9970196,
             "id": "65a3ad10-05ba-42cb-a7e2-9783d2fbd764",
             "line_id": "f43a746c-a59c-409a-8ca0-be04aa57cec4",
             "locations": null,
             "text": "mob-related",
             "type": "TEXT_WORD"
            },
            {
             "confidence": 1,
             "id": "67dc70db-2051-43c6-bd22-6ca229973a6d",
             "line_id": "f43a746c-a59c-409a-8ca0-be04aa57cec4",
             "locations": null,
             "text": "or",
             "type": "TEXT_WORD"
            },
            {
             "confidence": 0.99553645,
             "id": "26d2e660-58cc-4dbc-afdd-657ccbebbec8",
             "line_id": "f43a746c-a59c-409a-8ca0-be04aa57cec4",
             "locations": null,
             "text": "suicides,",
             "type": "TEXT_WORD"
            },
            {
             "confidence": 1,
             "id": "6dc3b01a-f1f6-432b-b6a2-0bf1b52959ab",
             "line_id": "f43a746c-a59c-409a-8ca0-be04aa57cec4",
             "locations": null,
             "text": "further",
             "type": "TEXT_WORD"
            },
            {
             "confidence": 1,
             "id": "4adfa6b3-b823-45c9-8fa9-83b36017a726",
             "line_id": "f43a746c-a59c-409a-8ca0-be04aa57cec4",
             "locations": null,
             "text": "investigation",
             "type": "TEXT_WORD"
            },
            {
             "confidence": 0.99955314,
             "id": "7c5c782f-54cf-4bee-86dd-3b56be48d5a3",
             "line_id": "f43a746c-a59c-409a-8ca0-be04aa57cec4",
             "locations": null,
             "text": "revealed",
             "type": "TEXT_WORD"
            },
            {
             "confidence": 1,
             "id": "3c2a8b07-3594-4ced-9684-3ae34436c6eb",
             "line_id": "f43a746c-a59c-409a-8ca0-be04aa57cec4",
             "locations": null,
             "text": "no",
             "type": "TEXT_WORD"
            },
            {
             "confidence": 0.99363947,
             "id": "ef9b42a5-0f83-4103-9a01-2612529599ad",
             "line_id": "44d95ad7-1d0a-4d33-aa35-cb723719f244",
             "locations": null,
             "text": "criminal",
             "type": "TEXT_WORD"
            },
            {
             "confidence": 0.99282193,
             "id": "d44ab037-7528-4bd0-a416-dcf15b6513a7",
             "line_id": "44d95ad7-1d0a-4d33-aa35-cb723719f244",
             "locations": null,
             "text": "records",
             "type": "TEXT_WORD"
            },
            {
             "confidence": 0.9978022,
             "id": "b6b24319-2d16-4361-bcb7-862bffcdf933",
             "line_id": "44d95ad7-1d0a-4d33-aa35-cb723719f244",
             "locations": null,
             "text": "or",
             "type": "TEXT_WORD"
            },
            {
             "confidence": 0.99203277,
             "id": "b09d0a52-1ff0-4d74-bf58-4f29eda2cdc7",
             "line_id": "44d95ad7-1d0a-4d33-aa35-cb723719f244",
             "locations": null,
             "text": "connections",
             "type": "TEXT_WORD"
            },
            {
             "confidence": 0.99609405,
             "id": "f44a3e92-1c5a-4ad6-aa76-8e7092efa220",
             "line_id": "44d95ad7-1d0a-4d33-aa35-cb723719f244",
             "locations": null,
             "text": "among",
             "type": "TEXT_WORD"
            },
            {
             "confidence": 0.9986078,
             "id": "3fc3fe43-a86a-4131-958c-8868e50e3574",
             "line_id": "44d95ad7-1d0a-4d33-aa35-cb723719f244",
             "locations": null,
             "text": "them,",
             "type": "TEXT_WORD"
            },
            {
             "confidence": 0.997613,
             "id": "8977ba35-6494-4b23-9b3c-979d276764de",
             "line_id": "44d95ad7-1d0a-4d33-aa35-cb723719f244",
             "locations": null,
             "text": "except",
             "type": "TEXT_WORD"
            },
            {
             "confidence": 1,
             "id": "be78235e-8881-4e92-95be-4fdec47637c2",
             "line_id": "44d95ad7-1d0a-4d33-aa35-cb723719f244",
             "locations": null,
             "text": "for",
             "type": "TEXT_WORD"
            },
            {
             "confidence": 0.99896014,
             "id": "b2117e7e-ac18-406a-9271-bcdde0004d2e",
             "line_id": "44d95ad7-1d0a-4d33-aa35-cb723719f244",
             "locations": null,
             "text": "one",
             "type": "TEXT_WORD"
            },
            {
             "confidence": 1,
             "id": "208999aa-1e05-4a51-9ae5-fb2ef66f7992",
             "line_id": "44d95ad7-1d0a-4d33-aa35-cb723719f244",
             "locations": null,
             "text": "past",
             "type": "TEXT_WORD"
            },
            {
             "confidence": 0.99979293,
             "id": "453ef6bc-b0fe-468c-a7bf-25cc88eaf2af",
             "line_id": "44d95ad7-1d0a-4d33-aa35-cb723719f244",
             "locations": null,
             "text": "DUI",
             "type": "TEXT_WORD"
            },
            {
             "confidence": 0.984942,
             "id": "2fbd89a2-392d-4afd-b908-ace4c9ec6a01",
             "line_id": "44d95ad7-1d0a-4d33-aa35-cb723719f244",
             "locations": null,
             "text": "arrest.",
             "type": "TEXT_WORD"
            }
           ],
           "timecode_smpte": "00:00:21;20",
           "timestamp_millis": 21688
          },
          {
           "content_moderation": [],
           "frame_index": 764,
           "logos": [],
           "text_lines": [
            {
             "confidence": 0.19843274,
             "id": "6f33bd33-7859-4a41-bebb-74343a9f7750",
             "locations": null,
             "text": "19A1",
             "type": "TEXT_LINE"
            },
            {
             "confidence": 0.20792627,
             "id": "d10088ad-5c6d-4100-bfe7-f1194f0e0d6a",
             "locations": null,
             "text": "DAULO",
             "type": "TEXT_LINE"
            },
            {
             "confidence": 0.98141205,
             "id": "43fe19a9-9fce-4184-ba96-8a5cf2abe3ea",
             "locations": null,
             "text": "All were divorced.",
             "type": "TEXT_LINE"
            }
           ],
           "text_words": [
            {
             "confidence": 0.19843274,
             "id": "f44685a1-20d3-4638-a432-3082a09bd450",
             "line_id": "6f33bd33-7859-4a41-bebb-74343a9f7750",
             "locations": null,
             "text": "19A1",
             "type": "TEXT_WORD"
            },
            {
             "confidence": 0.20792627,
             "id": "e3254e2b-21b3-490f-9023-a1813e1ef6b4",
             "line_id": "d10088ad-5c6d-4100-bfe7-f1194f0e0d6a",
             "locations": null,
             "text": "DAULO",
             "type": "TEXT_WORD"
            },
            {
             "confidence": 0.9995019,
             "id": "b0659924-a77b-4581-ab50-ebbefe5ffd5d",
             "line_id": "43fe19a9-9fce-4184-ba96-8a5cf2abe3ea",
             "locations": null,
             "text": "All",
             "type": "TEXT_WORD"
            },
            {
             "confidence": 0.99519,
             "id": "8e2194fa-3f04-4b66-abdc-5a5fdbf7cf63",
             "line_id": "43fe19a9-9fce-4184-ba96-8a5cf2abe3ea",
             "locations": null,
             "text": "were",
             "type": "TEXT_WORD"
            },
            {
             "confidence": 0.9495442,
             "id": "b4bad965-9dbe-44a0-b0eb-d1babf799978",
             "line_id": "43fe19a9-9fce-4184-ba96-8a5cf2abe3ea",
             "locations": null,
             "text": "divorced.",
             "type": "TEXT_WORD"
            }
           ],
           "timecode_smpte": "00:00:25;16",
           "timestamp_millis": 25526
          },
          {
           "content_moderation": [],
           "frame_index": 786,
           "logos": [],
           "text_lines": [
            {
             "confidence": 0.9907457,
             "id": "3cc8b7b3-ac4b-411b-8c4d-d913478ade4c",
             "locations": null,
             "text": "A witness, initially dismissed as unreliable, reported seeing a man atop the",
             "type": "TEXT_LINE"
            },
            {
             "confidence": 0.99496806,
             "id": "252dc08c-b24a-4056-b283-bf23c530c8a2",
             "locations": null,
             "text": "rock behaving strangely before disappearing during a sudden, intense storm.",
             "type": "TEXT_LINE"
            }
           ],
           "text_words": [
            {
             "confidence": 0.9636306,
             "id": "508b4c85-de21-4947-817e-e80bbb49ff8c",
             "line_id": "3cc8b7b3-ac4b-411b-8c4d-d913478ade4c",
             "locations": null,
             "text": "A",
             "type": "TEXT_WORD"
            },
            {
             "confidence": 0.99325144,
             "id": "e2827011-2071-431f-bdd2-739465c9163d",
             "line_id": "3cc8b7b3-ac4b-411b-8c4d-d913478ade4c",
             "locations": null,
             "text": "witness,",
             "type": "TEXT_WORD"
            },
            {
             "confidence": 0.9983727,
             "id": "7a08a81a-cb9e-4d93-8885-2f005e642cb4",
             "line_id": "3cc8b7b3-ac4b-411b-8c4d-d913478ade4c",
             "locations": null,
             "text": "initially",
             "type": "TEXT_WORD"
            },
            {
             "confidence": 0.9962517,
             "id": "6e041b75-a1af-434f-b73e-c9ccfb1ff201",
             "line_id": "3cc8b7b3-ac4b-411b-8c4d-d913478ade4c",
             "locations": null,
             "text": "dismissed",
             "type": "TEXT_WORD"
            },
            {
             "confidence": 1,
             "id": "8d9c7063-cdf4-4307-9f14-6aedc5ac36f3",
             "line_id": "3cc8b7b3-ac4b-411b-8c4d-d913478ade4c",
             "locations": null,
             "text": "as",
             "type": "TEXT_WORD"
            },
            {
             "confidence": 0.9871817,
             "id": "16815193-137f-441b-aae7-9059734993a0",
             "line_id": "3cc8b7b3-ac4b-411b-8c4d-d913478ade4c",
             "locations": null,
             "text": "unreliable,",
             "type": "TEXT_WORD"
            },
            {
             "confidence": 0.99764705,
             "id": "5b89e9f2-8ebd-49fe-99d2-846f3fb2f4ea",
             "line_id": "3cc8b7b3-ac4b-411b-8c4d-d913478ade4c",
             "locations": null,
             "text": "reported",
             "type": "TEXT_WORD"
            },
            {
             "confidence": 1,
             "id": "0b779608-12d0-4188-ab6a-87e0d67a9fb7",
             "line_id": "3cc8b7b3-ac4b-411b-8c4d-d913478ade4c",
             "locations": null,
             "text": "seeing",
             "type": "TEXT_WORD"
            },
            {
             "confidence": 0.963573,
             "id": "40aa34db-75cb-4760-abf9-ec37bf178a59",
             "line_id": "3cc8b7b3-ac4b-411b-8c4d-d913478ade4c",
             "locations": null,
             "text": "a",
             "type": "TEXT_WORD"
            },
            {
             "confidence": 0.9910316,
             "id": "c37bc036-0803-4d9d-af73-e1bdeddb4de7",
             "line_id": "3cc8b7b3-ac4b-411b-8c4d-d913478ade4c",
             "locations": null,
             "text": "man",
             "type": "TEXT_WORD"
            },
            {
             "confidence": 0.99800867,
             "id": "4ce9a5d2-8df8-4a34-8371-70e7294eb0db",
             "line_id": "3cc8b7b3-ac4b-411b-8c4d-d913478ade4c",
             "locations": null,
             "text": "atop",
             "type": "TEXT_WORD"
            },
            {
             "confidence": 1,
             "id": "0dd0ec86-660a-496a-8ab1-09a8f33bc4aa",
             "line_id": "3cc8b7b3-ac4b-411b-8c4d-d913478ade4c",
             "locations": null,
             "text": "the",
             "type": "TEXT_WORD"
            },
            {
             "confidence": 0.9987434,
             "id": "eb2edf8f-f0a7-49b9-8006-29d34fe81b3c",
             "line_id": "252dc08c-b24a-4056-b283-bf23c530c8a2",
             "locations": null,
             "text": "rock",
             "type": "TEXT_WORD"
            },
            {
             "confidence": 1,
             "id": "6e0386c3-f0e5-4c25-83c0-5ad4e4fbd5a1",
             "line_id": "252dc08c-b24a-4056-b283-bf23c530c8a2",
             "locations": null,
             "text": "behaving",
             "type": "TEXT_WORD"
            },
            {
             "confidence": 1,
             "id": "596828d4-0bb9-4aef-aa55-20c8e3d8dff5",
             "line_id": "252dc08c-b24a-4056-b283-bf23c530c8a2",
             "locations": null,
             "text": "strangely",
             "type": "TEXT_WORD"
            },
            {
             "confidence": 1,
             "id": "cdb7f504-9b5e-44f8-bf6d-8cc93bb8ad02",
             "line_id": "252dc08c-b24a-4056-b283-bf23c530c8a2",
             "locations": null,
             "text": "before",
             "type": "TEXT_WORD"
            },
            {
             "confidence": 0.9971297,
             "id": "7bbe5638-c6aa-4487-a0fe-e1214c9362c9",
             "line_id": "252dc08c-b24a-4056-b283-bf23c530c8a2",
             "locations": null,
             "text": "disappearing",
             "type": "TEXT_WORD"
            },
            {
             "confidence": 1,
             "id": "8531fefd-a990-4264-a13f-3f06c333a59e",
             "line_id": "252dc08c-b24a-4056-b283-bf23c530c8a2",
             "locations": null,
             "text": "during",
             "type": "TEXT_WORD"
            },
            {
             "confidence": 0.95891976,
             "id": "57477c11-0187-48e8-9493-3c24e3977560",
             "line_id": "252dc08c-b24a-4056-b283-bf23c530c8a2",
             "locations": null,
             "text": "a",
             "type": "TEXT_WORD"
            },
            {
             "confidence": 0.99533916,
             "id": "a736ffb4-4b1a-48b2-8d84-ee23b1089841",
             "line_id": "252dc08c-b24a-4056-b283-bf23c530c8a2",
             "locations": null,
             "text": "sudden,",
             "type": "TEXT_WORD"
            },
            {
             "confidence": 1,
             "id": "d21ed905-8eb3-46fd-b078-23fff20a2f8a",
             "line_id": "252dc08c-b24a-4056-b283-bf23c530c8a2",
             "locations": null,
             "text": "intense",
             "type": "TEXT_WORD"
            },
            {
             "confidence": 0.9995478,
             "id": "c2649dab-ce9d-4ec4-bd5d-da998c325b82",
             "line_id": "252dc08c-b24a-4056-b283-bf23c530c8a2",
             "locations": null,
             "text": "storm.",
             "type": "TEXT_WORD"
            }
           ],
           "timecode_smpte": "00:00:26;06",
           "timestamp_millis": 26193
          },
          {
           "content_moderation": [],
           "frame_index": 869,
           "logos": [],
           "text_lines": [
            {
             "confidence": 0.9916904,
             "id": "410b295e-7c4b-4f1d-b939-2916f33ded47",
             "locations": null,
             "text": "A witness, initially dismissed as unreliable, reported seeing a man atop the",
             "type": "TEXT_LINE"
            },
            {
             "confidence": 0.9952804,
             "id": "a57eda35-05a5-4cac-9035-451cc2edc280",
             "locations": null,
             "text": "rock behaving strangely before disappearing during a sudden, intense storm.",
             "type": "TEXT_LINE"
            }
           ],
           "text_words": [
            {
             "confidence": 0.96432227,
             "id": "6e23bf87-e058-4b00-ab0c-252cb8894d75",
             "line_id": "410b295e-7c4b-4f1d-b939-2916f33ded47",
             "locations": null,
             "text": "A",
             "type": "TEXT_WORD"
            },
            {
             "confidence": 1,
             "id": "e8e97c02-1fef-41d0-bf8a-76542478e205",
             "line_id": "410b295e-7c4b-4f1d-b939-2916f33ded47",
             "locations": null,
             "text": "witness,",
             "type": "TEXT_WORD"
            },
            {
             "confidence": 0.9986515,
             "id": "2314cbd4-3196-49ac-b5ba-9c10d5172576",
             "line_id": "410b295e-7c4b-4f1d-b939-2916f33ded47",
             "locations": null,
             "text": "initially",
             "type": "TEXT_WORD"
            },
            {
             "confidence": 0.9966179,
             "id": "4fed872c-7150-49c2-a345-cc2c57ec87c6",
             "line_id": "410b295e-7c4b-4f1d-b939-2916f33ded47",
             "locations": null,
             "text": "dismissed",
             "type": "TEXT_WORD"
            },
            {
             "confidence": 1,
             "id": "f3488ec7-fd3a-4527-8edb-5297919e6768",
             "line_id": "410b295e-7c4b-4f1d-b939-2916f33ded47",
             "locations": null,
             "text": "as",
             "type": "TEXT_WORD"
            },
            {
             "confidence": 0.98701364,
             "id": "47011db9-1573-4168-a263-ead6d7fd3176",
             "line_id": "410b295e-7c4b-4f1d-b939-2916f33ded47",
             "locations": null,
             "text": "unreliable,",
             "type": "TEXT_WORD"
            },
            {
             "confidence": 0.99776125,
             "id": "cd806834-848e-4b80-a49b-5a12d5c555f7",
             "line_id": "410b295e-7c4b-4f1d-b939-2916f33ded47",
             "locations": null,
             "text": "reported",
             "type": "TEXT_WORD"
            },
            {
             "confidence": 1,
             "id": "b4f3b9bd-ea50-4d18-a4c3-1c1b534bae90",
             "line_id": "410b295e-7c4b-4f1d-b939-2916f33ded47",
             "locations": null,
             "text": "seeing",
             "type": "TEXT_WORD"
            },
            {
             "confidence": 0.9656737,
             "id": "7be4d5ee-4187-4d26-acd9-17e1d92f3898",
             "line_id": "410b295e-7c4b-4f1d-b939-2916f33ded47",
             "locations": null,
             "text": "a",
             "type": "TEXT_WORD"
            },
            {
             "confidence": 0.99073243,
             "id": "e921ddf1-da1c-4688-8d1f-f59a6c5e1e1d",
             "line_id": "410b295e-7c4b-4f1d-b939-2916f33ded47",
             "locations": null,
             "text": "man",
             "type": "TEXT_WORD"
            },
            {
             "confidence": 1,
             "id": "c6429d50-6a60-4e28-bd99-6c33cd13e171",
             "line_id": "410b295e-7c4b-4f1d-b939-2916f33ded47",
             "locations": null,
             "text": "atop",
             "type": "TEXT_WORD"
            },
            {
             "confidence": 0.9995111,
             "id": "6811423e-a7a0-4350-841c-1aa692f269b5",
             "line_id": "410b295e-7c4b-4f1d-b939-2916f33ded47",
             "locations": null,
             "text": "the",
             "type": "TEXT_WORD"
            },
            {
             "confidence": 0.9978931,
             "id": "0cafd92c-9565-48d3-a43d-be6a3b366bd8",
             "line_id": "a57eda35-05a5-4cac-9035-451cc2edc280",
             "locations": null,
             "text": "rock",
             "type": "TEXT_WORD"
            },
            {
             "confidence": 1,
             "id": "d7aba942-35bc-4a76-a87b-b39fd7ae3f78",
             "line_id": "a57eda35-05a5-4cac-9035-451cc2edc280",
             "locations": null,
             "text": "behaving",
             "type": "TEXT_WORD"
            },
            {
             "confidence": 1,
             "id": "1fb0f222-257d-441f-b151-92c0bc8f302c",
             "line_id": "a57eda35-05a5-4cac-9035-451cc2edc280",
             "locations": null,
             "text": "strangely",
             "type": "TEXT_WORD"
            },
            {
             "confidence": 1,
             "id": "86f23b0f-fab4-4b42-9053-4da0e379ed4a",
             "line_id": "a57eda35-05a5-4cac-9035-451cc2edc280",
             "locations": null,
             "text": "before",
             "type": "TEXT_WORD"
            },
            {
             "confidence": 0.99697304,
             "id": "a7a9bdb5-38f5-4e89-9a77-2f19b8522c56",
             "line_id": "a57eda35-05a5-4cac-9035-451cc2edc280",
             "locations": null,
             "text": "disappearing",
             "type": "TEXT_WORD"
            },
            {
             "confidence": 1,
             "id": "3cef28d1-2434-46b0-afdd-fe93f4e00406",
             "line_id": "a57eda35-05a5-4cac-9035-451cc2edc280",
             "locations": null,
             "text": "during",
             "type": "TEXT_WORD"
            },
            {
             "confidence": 0.96401376,
             "id": "e803e0a0-75ea-4ca8-9438-e443e9d328a0",
             "line_id": "a57eda35-05a5-4cac-9035-451cc2edc280",
             "locations": null,
             "text": "a",
             "type": "TEXT_WORD"
            },
            {
             "confidence": 0.9956755,
             "id": "3b0c389d-86c0-479d-9e3e-8b0b04b40f4d",
             "line_id": "a57eda35-05a5-4cac-9035-451cc2edc280",
             "locations": null,
             "text": "sudden,",
             "type": "TEXT_WORD"
            },
            {
             "confidence": 1,
             "id": "32e904cb-1dde-40dd-a3a0-161323725947",
             "line_id": "a57eda35-05a5-4cac-9035-451cc2edc280",
             "locations": null,
             "text": "intense",
             "type": "TEXT_WORD"
            },
            {
             "confidence": 0.99824834,
             "id": "76a33e5b-ba05-4e10-9632-27d5bb730514",
             "line_id": "a57eda35-05a5-4cac-9035-451cc2edc280",
             "locations": null,
             "text": "storm.",
             "type": "TEXT_WORD"
            }
           ],
           "timecode_smpte": "00:00:29;00",
           "timestamp_millis": 29029
          },
          {
           "content_moderation": [],
           "frame_index": 1026,
           "logos": [],
           "text_lines": [
            {
             "confidence": 0.99163264,
             "id": "c0b5f2d7-1589-445d-aeb5-50bcc66aa6a2",
             "locations": null,
             "text": "A witness, initially dismissed as unreliable, reported seeing a man atop the",
             "type": "TEXT_LINE"
            },
            {
             "confidence": 0.9943827,
             "id": "5f1b9097-8b50-479f-b4c2-382a1ca17339",
             "locations": null,
             "text": "rock behaving strangely before disappearing during a sudden, intense storm.",
             "type": "TEXT_LINE"
            }
           ],
           "text_words": [
            {
             "confidence": 0.97103,
             "id": "73d3ae99-0e7e-4adb-923d-08e3d946fbb5",
             "line_id": "c0b5f2d7-1589-445d-aeb5-50bcc66aa6a2",
             "locations": null,
             "text": "A",
             "type": "TEXT_WORD"
            },
            {
             "confidence": 0.99403226,
             "id": "a9a97f7b-4b04-46ab-96d0-c7aad3d047dc",
             "line_id": "c0b5f2d7-1589-445d-aeb5-50bcc66aa6a2",
             "locations": null,
             "text": "witness,",
             "type": "TEXT_WORD"
            },
            {
             "confidence": 0.99895823,
             "id": "eaf43b28-48e6-4294-a13f-0c05b956595e",
             "line_id": "c0b5f2d7-1589-445d-aeb5-50bcc66aa6a2",
             "locations": null,
             "text": "initially",
             "type": "TEXT_WORD"
            },
            {
             "confidence": 0.99702144,
             "id": "54f849c6-1682-43e4-90f4-32ff74b172a6",
             "line_id": "c0b5f2d7-1589-445d-aeb5-50bcc66aa6a2",
             "locations": null,
             "text": "dismissed",
             "type": "TEXT_WORD"
            },
            {
             "confidence": 1,
             "id": "4a21b171-0da8-456f-b9e3-2249b34efdf1",
             "line_id": "c0b5f2d7-1589-445d-aeb5-50bcc66aa6a2",
             "locations": null,
             "text": "as",
             "type": "TEXT_WORD"
            },
            {
             "confidence": 0.986871,
             "id": "99bb131a-2222-4d3c-b638-cd5073527f1d",
             "line_id": "c0b5f2d7-1589-445d-aeb5-50bcc66aa6a2",
             "locations": null,
             "text": "unreliable,",
             "type": "TEXT_WORD"
            },
            {
             "confidence": 0.99879736,
             "id": "a41961d6-f244-4d82-9278-19eed114490d",
             "line_id": "c0b5f2d7-1589-445d-aeb5-50bcc66aa6a2",
             "locations": null,
             "text": "reported",
             "type": "TEXT_WORD"
            },
            {
             "confidence": 1,
             "id": "f45d03cf-f987-4a10-b464-1f938b2b72eb",
             "line_id": "c0b5f2d7-1589-445d-aeb5-50bcc66aa6a2",
             "locations": null,
             "text": "seeing",
             "type": "TEXT_WORD"
            },
            {
             "confidence": 0.9649224,
             "id": "37387e2a-fbdb-4ef3-b021-8a19ea92ed8e",
             "line_id": "c0b5f2d7-1589-445d-aeb5-50bcc66aa6a2",
             "locations": null,
             "text": "a",
             "type": "TEXT_WORD"
            },
            {
             "confidence": 0.9906628,
             "id": "a8c5ee84-2994-49fd-9dfd-35cc2248d95b",
             "line_id": "c0b5f2d7-1589-445d-aeb5-50bcc66aa6a2",
             "locations": null,
             "text": "man",
             "type": "TEXT_WORD"
            },
            {
             "confidence": 0.99912524,
             "id": "754bf534-c9a5-47dd-940e-f7e502048b82",
             "line_id": "c0b5f2d7-1589-445d-aeb5-50bcc66aa6a2",
             "locations": null,
             "text": "atop",
             "type": "TEXT_WORD"
            },
            {
             "confidence": 0.9981712,
             "id": "b92495a6-c1e2-4aec-8b3a-35c6c6ab0943",
             "line_id": "c0b5f2d7-1589-445d-aeb5-50bcc66aa6a2",
             "locations": null,
             "text": "the",
             "type": "TEXT_WORD"
            },
            {
             "confidence": 0.99879044,
             "id": "46cf7ed6-b1b1-42dc-9da6-a2bc6a8abc4f",
             "line_id": "5f1b9097-8b50-479f-b4c2-382a1ca17339",
             "locations": null,
             "text": "rock",
             "type": "TEXT_WORD"
            },
            {
             "confidence": 1,
             "id": "018e9154-f054-49fd-b9ad-6db278293e4b",
             "line_id": "5f1b9097-8b50-479f-b4c2-382a1ca17339",
             "locations": null,
             "text": "behaving",
             "type": "TEXT_WORD"
            },
            {
             "confidence": 1,
             "id": "b4daff4c-1bf8-4a9f-8f51-d654f3d30b79",
             "line_id": "5f1b9097-8b50-479f-b4c2-382a1ca17339",
             "locations": null,
             "text": "strangely",
             "type": "TEXT_WORD"
            },
            {
             "confidence": 1,
             "id": "b5beaefa-48ca-4b75-8216-4bd779069f1c",
             "line_id": "5f1b9097-8b50-479f-b4c2-382a1ca17339",
             "locations": null,
             "text": "before",
             "type": "TEXT_WORD"
            },
            {
             "confidence": 0.9967913,
             "id": "dc8fa350-27df-4e20-a256-17dd733be173",
             "line_id": "5f1b9097-8b50-479f-b4c2-382a1ca17339",
             "locations": null,
             "text": "disappearing",
             "type": "TEXT_WORD"
            },
            {
             "confidence": 1,
             "id": "5c0373d2-e23e-454b-b304-3d6ad77e8189",
             "line_id": "5f1b9097-8b50-479f-b4c2-382a1ca17339",
             "locations": null,
             "text": "during",
             "type": "TEXT_WORD"
            },
            {
             "confidence": 0.9600748,
             "id": "be4426e9-9303-4ff4-ae32-b87bbb8a511f",
             "line_id": "5f1b9097-8b50-479f-b4c2-382a1ca17339",
             "locations": null,
             "text": "a",
             "type": "TEXT_WORD"
            },
            {
             "confidence": 0.99540496,
             "id": "b2aa6c08-7828-412c-b7df-871434115c86",
             "line_id": "5f1b9097-8b50-479f-b4c2-382a1ca17339",
             "locations": null,
             "text": "sudden,",
             "type": "TEXT_WORD"
            },
            {
             "confidence": 0.9931852,
             "id": "4e534798-63d0-49bf-b25e-574da0fb88e8",
             "line_id": "5f1b9097-8b50-479f-b4c2-382a1ca17339",
             "locations": null,
             "text": "intense",
             "type": "TEXT_WORD"
            },
            {
             "confidence": 0.999581,
             "id": "8244fc5b-6a29-4d6f-81cf-f13048f3ad18",
             "line_id": "5f1b9097-8b50-479f-b4c2-382a1ca17339",
             "locations": null,
             "text": "storm.",
             "type": "TEXT_WORD"
            }
           ],
           "timecode_smpte": "00:00:34;06",
           "timestamp_millis": 34201
          },
          {
           "content_moderation": [],
           "frame_index": 1131,
           "logos": [],
           "text_lines": [
            {
             "confidence": 0.9918844,
             "id": "1a4f1b3d-3e9a-43f9-b274-7738ed3f821d",
             "locations": null,
             "text": "In his place, a woman in a white dress with alabaster skin appeared, staring",
             "type": "TEXT_LINE"
            },
            {
             "confidence": 0.9763554,
             "id": "53ecadea-f533-443f-a95b-fb19a5dca104",
             "locations": null,
             "text": "upwards.",
             "type": "TEXT_LINE"
            }
           ],
           "text_words": [
            {
             "confidence": 0.99748015,
             "id": "8135dec5-4922-4758-9b29-155886d120c1",
             "line_id": "1a4f1b3d-3e9a-43f9-b274-7738ed3f821d",
             "locations": null,
             "text": "In",
             "type": "TEXT_WORD"
            },
            {
             "confidence": 1,
             "id": "bd97e57e-389d-464e-9f3d-e35e2ae2952b",
             "line_id": "1a4f1b3d-3e9a-43f9-b274-7738ed3f821d",
             "locations": null,
             "text": "his",
             "type": "TEXT_WORD"
            },
            {
             "confidence": 0.9948717,
             "id": "59ae29f0-0668-47f4-b70e-37cd3fca0456",
             "line_id": "1a4f1b3d-3e9a-43f9-b274-7738ed3f821d",
             "locations": null,
             "text": "place,",
             "type": "TEXT_WORD"
            },
            {
             "confidence": 0.9614136,
             "id": "813a384d-04a0-4558-825d-9042ec867f6b",
             "line_id": "1a4f1b3d-3e9a-43f9-b274-7738ed3f821d",
             "locations": null,
             "text": "a",
             "type": "TEXT_WORD"
            },
            {
             "confidence": 0.99221176,
             "id": "26cc6db9-fd7a-4297-ae6d-c1eb2d33dd04",
             "line_id": "1a4f1b3d-3e9a-43f9-b274-7738ed3f821d",
             "locations": null,
             "text": "woman",
             "type": "TEXT_WORD"
            },
            {
             "confidence": 0.9983535,
             "id": "69f5de36-7a97-481c-b659-70f68406bee1",
             "line_id": "1a4f1b3d-3e9a-43f9-b274-7738ed3f821d",
             "locations": null,
             "text": "in",
             "type": "TEXT_WORD"
            },
            {
             "confidence": 0.97147787,
             "id": "3bdc0911-68e8-4849-9550-23e616d04a99",
             "line_id": "1a4f1b3d-3e9a-43f9-b274-7738ed3f821d",
             "locations": null,
             "text": "a",
             "type": "TEXT_WORD"
            },
            {
             "confidence": 0.99726695,
             "id": "b4449b63-7665-4da7-9995-9400f52e248e",
             "line_id": "1a4f1b3d-3e9a-43f9-b274-7738ed3f821d",
             "locations": null,
             "text": "white",
             "type": "TEXT_WORD"
            },
            {
             "confidence": 0.9957362,
             "id": "b04f9ac5-de86-429f-a826-ae2c73b2148a",
             "line_id": "1a4f1b3d-3e9a-43f9-b274-7738ed3f821d",
             "locations": null,
             "text": "dress",
             "type": "TEXT_WORD"
            },
            {
             "confidence": 1,
             "id": "54a09006-54d5-43b8-b4d4-50e68686fc9f",
             "line_id": "1a4f1b3d-3e9a-43f9-b274-7738ed3f821d",
             "locations": null,
             "text": "with",
             "type": "TEXT_WORD"
            },
            {
             "confidence": 0.997363,
             "id": "e11db82f-0cc1-44d0-9494-7fdedffdb9fd",
             "line_id": "1a4f1b3d-3e9a-43f9-b274-7738ed3f821d",
             "locations": null,
             "text": "alabaster",
             "type": "TEXT_WORD"
            },
            {
             "confidence": 1,
             "id": "767b6c16-ebd0-4737-8930-52d2390b8c76",
             "line_id": "1a4f1b3d-3e9a-43f9-b274-7738ed3f821d",
             "locations": null,
             "text": "skin",
             "type": "TEXT_WORD"
            },
            {
             "confidence": 0.98042727,
             "id": "da22a9f6-6a17-446f-82df-247f5cac358a",
             "line_id": "1a4f1b3d-3e9a-43f9-b274-7738ed3f821d",
             "locations": null,
             "text": "appeared,",
             "type": "TEXT_WORD"
            },
            {
             "confidence": 0.99977994,
             "id": "d8b7693d-85bd-4d97-a0bd-af0f4033a684",
             "line_id": "1a4f1b3d-3e9a-43f9-b274-7738ed3f821d",
             "locations": null,
             "text": "staring",
             "type": "TEXT_WORD"
            },
            {
             "confidence": 0.9763554,
             "id": "ccf423f9-740c-4b3c-a2f5-671d8ace4426",
             "line_id": "53ecadea-f533-443f-a95b-fb19a5dca104",
             "locations": null,
             "text": "upwards.",
             "type": "TEXT_WORD"
            }
           ],
           "timecode_smpte": "00:00:37;20",
           "timestamp_millis": 37704
          },
          {
           "content_moderation": [],
           "frame_index": 1235,
           "logos": [],
           "text_lines": [
            {
             "confidence": 0.98907435,
             "id": "932e3df3-c8d6-4c0b-9695-ac4734fcdc77",
             "locations": null,
             "text": "The witness fled due to the worsening weather.",
             "type": "TEXT_LINE"
            }
           ],
           "text_words": [
            {
             "confidence": 0.9993171,
             "id": "5eab89a5-c63a-4b12-bb01-2c317e7bcecd",
             "line_id": "932e3df3-c8d6-4c0b-9695-ac4734fcdc77",
             "locations": null,
             "text": "The",
             "type": "TEXT_WORD"
            },
            {
             "confidence": 0.9924956,
             "id": "3663153d-d088-40ab-b567-a82d4f3ed530",
             "line_id": "932e3df3-c8d6-4c0b-9695-ac4734fcdc77",
             "locations": null,
             "text": "witness",
             "type": "TEXT_WORD"
            },
            {
             "confidence": 1,
             "id": "8eb3e077-6f90-4443-919e-2577e0c069fe",
             "line_id": "932e3df3-c8d6-4c0b-9695-ac4734fcdc77",
             "locations": null,
             "text": "fled",
             "type": "TEXT_WORD"
            },
            {
             "confidence": 1,
             "id": "e109d2cf-d164-415f-885c-dae2a82389bc",
             "line_id": "932e3df3-c8d6-4c0b-9695-ac4734fcdc77",
             "locations": null,
             "text": "due",
             "type": "TEXT_WORD"
            },
            {
             "confidence": 0.996424,
             "id": "c34c51df-f913-488d-9379-d55334b32204",
             "line_id": "932e3df3-c8d6-4c0b-9695-ac4734fcdc77",
             "locations": null,
             "text": "to",
             "type": "TEXT_WORD"
            },
            {
             "confidence": 0.99679434,
             "id": "8b5cdfd6-dc9d-473e-8025-ca2c205de829",
             "line_id": "932e3df3-c8d6-4c0b-9695-ac4734fcdc77",
             "locations": null,
             "text": "the",
             "type": "TEXT_WORD"
            },
            {
             "confidence": 0.993143,
             "id": "f1d0ca2f-b08c-42b5-88c9-918a897c0fd6",
             "line_id": "932e3df3-c8d6-4c0b-9695-ac4734fcdc77",
             "locations": null,
             "text": "worsening",
             "type": "TEXT_WORD"
            },
            {
             "confidence": 0.9344204,
             "id": "da1a57a5-cab1-4a27-a0e4-9855fcee8442",
             "line_id": "932e3df3-c8d6-4c0b-9695-ac4734fcdc77",
             "locations": null,
             "text": "weather.",
             "type": "TEXT_WORD"
            }
           ],
           "timecode_smpte": "00:00:41;06",
           "timestamp_millis": 41208
          },
          {
           "content_moderation": [],
           "frame_index": 1310,
           "logos": [],
           "text_lines": [
            {
             "confidence": 0.17168456,
             "id": "33a5893c-36f4-4937-8ddf-59fa562fded1",
             "locations": null,
             "text": "19A1",
             "type": "TEXT_LINE"
            },
            {
             "confidence": 0.5237874,
             "id": "2f0e02fa-b48d-4c97-8e58-f6822777d6e8",
             "locations": null,
             "text": "DAUDE",
             "type": "TEXT_LINE"
            },
            {
             "confidence": 0.99859095,
             "id": "1cf58325-ecb3-4316-83ce-9af632e64006",
             "locations": null,
             "text": "Captain Foster was dispatched to El Matador to investigate further but found",
             "type": "TEXT_LINE"
            },
            {
             "confidence": 0.9946881,
             "id": "41190cdf-f5a7-49b5-b8bb-b64c684e3d20",
             "locations": null,
             "text": "no sign of Detective Sullivan, leading to a tense standoff with LAPD officers.",
             "type": "TEXT_LINE"
            }
           ],
           "text_words": [
            {
             "confidence": 0.17168456,
             "id": "9bcaf3f4-69f1-43bd-a576-932145a361eb",
             "line_id": "33a5893c-36f4-4937-8ddf-59fa562fded1",
             "locations": null,
             "text": "19A1",
             "type": "TEXT_WORD"
            },
            {
             "confidence": 0.5237874,
             "id": "b5418fad-67fe-47b3-8c5f-83444265713b",
             "line_id": "2f0e02fa-b48d-4c97-8e58-f6822777d6e8",
             "locations": null,
             "text": "DAUDE",
             "type": "TEXT_WORD"
            },
            {
             "confidence": 1,
             "id": "c45bc5e1-ceb4-434a-8ab0-9ab9e48fb7e0",
             "line_id": "1cf58325-ecb3-4316-83ce-9af632e64006",
             "locations": null,
             "text": "Captain",
             "type": "TEXT_WORD"
            },
            {
             "confidence": 0.9958281,
             "id": "1b8174c0-989d-4c5b-b744-6d8a9c86533e",
             "line_id": "1cf58325-ecb3-4316-83ce-9af632e64006",
             "locations": null,
             "text": "Foster",
             "type": "TEXT_WORD"
            },
            {
             "confidence": 0.9964708,
             "id": "abb8d6e8-9847-440c-b636-afd364a39971",
             "line_id": "1cf58325-ecb3-4316-83ce-9af632e64006",
             "locations": null,
             "text": "was",
             "type": "TEXT_WORD"
            },
            {
             "confidence": 0.99285245,
             "id": "f38e5c66-06d9-4e4b-b8c1-471fa4ca4d91",
             "line_id": "1cf58325-ecb3-4316-83ce-9af632e64006",
             "locations": null,
             "text": "dispatched",
             "type": "TEXT_WORD"
            },
            {
             "confidence": 0.999514,
             "id": "09625824-9270-4d0e-808b-11ee9aaaa5a3",
             "line_id": "1cf58325-ecb3-4316-83ce-9af632e64006",
             "locations": null,
             "text": "to",
             "type": "TEXT_WORD"
            },
            {
             "confidence": 1,
             "id": "229b5ad7-88a3-4bf9-a9be-30c54796a82f",
             "line_id": "1cf58325-ecb3-4316-83ce-9af632e64006",
             "locations": null,
             "text": "El",
             "type": "TEXT_WORD"
            },
            {
             "confidence": 1,
             "id": "bd161008-1522-4fe8-9128-88fa08bbd975",
             "line_id": "1cf58325-ecb3-4316-83ce-9af632e64006",
             "locations": null,
             "text": "Matador",
             "type": "TEXT_WORD"
            },
            {
             "confidence": 0.9999265,
             "id": "43da9d39-34a3-447f-a2cf-eb139f39efdc",
             "line_id": "1cf58325-ecb3-4316-83ce-9af632e64006",
             "locations": null,
             "text": "to",
             "type": "TEXT_WORD"
            },
            {
             "confidence": 0.99935675,
             "id": "f8f7dce1-25b4-4543-9e6c-d2402f708d5e",
             "line_id": "1cf58325-ecb3-4316-83ce-9af632e64006",
             "locations": null,
             "text": "investigate",
             "type": "TEXT_WORD"
            },
            {
             "confidence": 1,
             "id": "751160a3-9103-4395-a525-417afefca974",
             "line_id": "1cf58325-ecb3-4316-83ce-9af632e64006",
             "locations": null,
             "text": "further",
             "type": "TEXT_WORD"
            },
            {
             "confidence": 1,
             "id": "a74fe08b-6d19-4831-9f98-afb6b8a99fb1",
             "line_id": "1cf58325-ecb3-4316-83ce-9af632e64006",
             "locations": null,
             "text": "but",
             "type": "TEXT_WORD"
            },
            {
             "confidence": 0.9991428,
             "id": "41705b4b-9734-4bbb-b13a-2fec4cbc9ecb",
             "line_id": "1cf58325-ecb3-4316-83ce-9af632e64006",
             "locations": null,
             "text": "found",
             "type": "TEXT_WORD"
            },
            {
             "confidence": 0.99876887,
             "id": "a2d74721-9287-43f8-9b3b-adf8ab2411d7",
             "line_id": "41190cdf-f5a7-49b5-b8bb-b64c684e3d20",
             "locations": null,
             "text": "no",
             "type": "TEXT_WORD"
            },
            {
             "confidence": 1,
             "id": "e046ee23-e219-4acf-872b-178bba483327",
             "line_id": "41190cdf-f5a7-49b5-b8bb-b64c684e3d20",
             "locations": null,
             "text": "sign",
             "type": "TEXT_WORD"
            },
            {
             "confidence": 0.9965415,
             "id": "77f65327-9558-4e7e-ab2b-6a23e62f6937",
             "line_id": "41190cdf-f5a7-49b5-b8bb-b64c684e3d20",
             "locations": null,
             "text": "of",
             "type": "TEXT_WORD"
            },
            {
             "confidence": 0.9958799,
             "id": "67876f7b-05bd-4da5-9144-6d071251d257",
             "line_id": "41190cdf-f5a7-49b5-b8bb-b64c684e3d20",
             "locations": null,
             "text": "Detective",
             "type": "TEXT_WORD"
            },
            {
             "confidence": 0.9939083,
             "id": "b6a87d57-01bb-41fd-bb5b-10c16c8cce51",
             "line_id": "41190cdf-f5a7-49b5-b8bb-b64c684e3d20",
             "locations": null,
             "text": "Sullivan,",
             "type": "TEXT_WORD"
            },
            {
             "confidence": 1,
             "id": "b548a5b9-f586-426a-a1c4-44b06f5652e9",
             "line_id": "41190cdf-f5a7-49b5-b8bb-b64c684e3d20",
             "locations": null,
             "text": "leading",
             "type": "TEXT_WORD"
            },
            {
             "confidence": 0.99820703,
             "id": "29a4a34a-d915-4eb0-a8d0-039fea1d391f",
             "line_id": "41190cdf-f5a7-49b5-b8bb-b64c684e3d20",
             "locations": null,
             "text": "to",
             "type": "TEXT_WORD"
            },
            {
             "confidence": 0.9735683,
             "id": "1b3c9f65-46b9-4548-a41a-a890bc9cbaa4",
             "line_id": "41190cdf-f5a7-49b5-b8bb-b64c684e3d20",
             "locations": null,
             "text": "a",
             "type": "TEXT_WORD"
            },
            {
             "confidence": 1,
             "id": "7ac1d0d6-daa6-4a43-b4b5-70a38d72a634",
             "line_id": "41190cdf-f5a7-49b5-b8bb-b64c684e3d20",
             "locations": null,
             "text": "tense",
             "type": "TEXT_WORD"
            },
            {
             "confidence": 0.9943169,
             "id": "8095a6b1-7829-46db-b706-4d85348e88ed",
             "line_id": "41190cdf-f5a7-49b5-b8bb-b64c684e3d20",
             "locations": null,
             "text": "standoff",
             "type": "TEXT_WORD"
            },
            {
             "confidence": 0.9967409,
             "id": "8a79f70f-709c-44a3-91b9-5e2abeb6de07",
             "line_id": "41190cdf-f5a7-49b5-b8bb-b64c684e3d20",
             "locations": null,
             "text": "with",
             "type": "TEXT_WORD"
            },
            {
             "confidence": 0.99822724,
             "id": "5e81691a-cdf6-4c53-8686-9ec5321f45d6",
             "line_id": "41190cdf-f5a7-49b5-b8bb-b64c684e3d20",
             "locations": null,
             "text": "LAPD",
             "type": "TEXT_WORD"
            },
            {
             "confidence": 0.9847861,
             "id": "69c0d097-17ca-43fb-b9a3-c065e09e25f4",
             "line_id": "41190cdf-f5a7-49b5-b8bb-b64c684e3d20",
             "locations": null,
             "text": "officers.",
             "type": "TEXT_WORD"
            }
           ],
           "timecode_smpte": "00:00:43;20",
           "timestamp_millis": 43710
          },
          {
           "content_moderation": [],
           "frame_index": 1355,
           "logos": [],
           "text_lines": [
            {
             "confidence": 0.8911408,
             "id": "4c8488f9-a3dd-4783-ac63-40ef5a73c852",
             "locations": null,
             "text": "7",
             "type": "TEXT_LINE"
            },
            {
             "confidence": 0.99847406,
             "id": "07266d45-4206-4495-9b4a-3f6c06c08bd5",
             "locations": null,
             "text": "Captain Foster was dispatched to El Matador to investigate further but found",
             "type": "TEXT_LINE"
            },
            {
             "confidence": 0.9943132,
             "id": "a572e7b8-e9f7-4773-b9dc-f4c531e3517f",
             "locations": null,
             "text": "no sign of Detective Sullivan, leading to a tense standoff with LAPD officers.",
             "type": "TEXT_LINE"
            }
           ],
           "text_words": [
            {
             "confidence": 0.8911408,
             "id": "c19e83c8-ebd0-40d7-aad9-e3162da0fedc",
             "line_id": "4c8488f9-a3dd-4783-ac63-40ef5a73c852",
             "locations": null,
             "text": "7",
             "type": "TEXT_WORD"
            },
            {
             "confidence": 1,
             "id": "701d7eac-17ac-4c78-a49b-f6185734c4fa",
             "line_id": "07266d45-4206-4495-9b4a-3f6c06c08bd5",
             "locations": null,
             "text": "Captain",
             "type": "TEXT_WORD"
            },
            {
             "confidence": 0.9957742,
             "id": "e9385032-a089-4eb9-8258-772e8342949a",
             "line_id": "07266d45-4206-4495-9b4a-3f6c06c08bd5",
             "locations": null,
             "text": "Foster",
             "type": "TEXT_WORD"
            },
            {
             "confidence": 0.9965062,
             "id": "65845bde-0a25-48b5-945a-e27740101c48",
             "line_id": "07266d45-4206-4495-9b4a-3f6c06c08bd5",
             "locations": null,
             "text": "was",
             "type": "TEXT_WORD"
            },
            {
             "confidence": 0.9956529,
             "id": "6be3515e-0aac-4509-9d18-62e8722491cc",
             "line_id": "07266d45-4206-4495-9b4a-3f6c06c08bd5",
             "locations": null,
             "text": "dispatched",
             "type": "TEXT_WORD"
            },
            {
             "confidence": 0.99964607,
             "id": "df9d5d8f-2487-4b71-a734-d300546cad02",
             "line_id": "07266d45-4206-4495-9b4a-3f6c06c08bd5",
             "locations": null,
             "text": "to",
             "type": "TEXT_WORD"
            },
            {
             "confidence": 1,
             "id": "6c02cc79-28de-4b93-b2e8-dcf5296b39ea",
             "line_id": "07266d45-4206-4495-9b4a-3f6c06c08bd5",
             "locations": null,
             "text": "El",
             "type": "TEXT_WORD"
            },
            {
             "confidence": 1,
             "id": "4fe2ee79-d356-4acb-b2be-4d593c20aa98",
             "line_id": "07266d45-4206-4495-9b4a-3f6c06c08bd5",
             "locations": null,
             "text": "Matador",
             "type": "TEXT_WORD"
            },
            {
             "confidence": 0.99560964,
             "id": "3f42ffcb-cae1-44e8-aa46-348a2c64e765",
             "line_id": "07266d45-4206-4495-9b4a-3f6c06c08bd5",
             "locations": null,
             "text": "to",
             "type": "TEXT_WORD"
            },
            {
             "confidence": 0.9990435,
             "id": "7d44c1af-5b03-4aaf-8f00-e0240d723389",
             "line_id": "07266d45-4206-4495-9b4a-3f6c06c08bd5",
             "locations": null,
             "text": "investigate",
             "type": "TEXT_WORD"
            },
            {
             "confidence": 1,
             "id": "6e1b37a9-1f9a-4a20-9ed8-dd99500cc771",
             "line_id": "07266d45-4206-4495-9b4a-3f6c06c08bd5",
             "locations": null,
             "text": "further",
             "type": "TEXT_WORD"
            },
            {
             "confidence": 1,
             "id": "e7d9cd95-57e9-45f1-877a-a70a82334911",
             "line_id": "07266d45-4206-4495-9b4a-3f6c06c08bd5",
             "locations": null,
             "text": "but",
             "type": "TEXT_WORD"
            },
            {
             "confidence": 0.99945605,
             "id": "78d6b1a5-c16b-454b-8cf1-c9c0817edf6a",
             "line_id": "07266d45-4206-4495-9b4a-3f6c06c08bd5",
             "locations": null,
             "text": "found",
             "type": "TEXT_WORD"
            },
            {
             "confidence": 0.9988657,
             "id": "cb37b5e5-4239-43e6-9819-961df5e76771",
             "line_id": "a572e7b8-e9f7-4773-b9dc-f4c531e3517f",
             "locations": null,
             "text": "no",
             "type": "TEXT_WORD"
            },
            {
             "confidence": 1,
             "id": "6674b4b2-99b8-4002-92ac-8f8fc2f1d709",
             "line_id": "a572e7b8-e9f7-4773-b9dc-f4c531e3517f",
             "locations": null,
             "text": "sign",
             "type": "TEXT_WORD"
            },
            {
             "confidence": 0.99972486,
             "id": "a8d0e8f3-1801-4ee6-a2a6-e9a054ee24f5",
             "line_id": "a572e7b8-e9f7-4773-b9dc-f4c531e3517f",
             "locations": null,
             "text": "of",
             "type": "TEXT_WORD"
            },
            {
             "confidence": 0.99559075,
             "id": "0f873417-f642-4fd0-9b1b-a0e576779651",
             "line_id": "a572e7b8-e9f7-4773-b9dc-f4c531e3517f",
             "locations": null,
             "text": "Detective",
             "type": "TEXT_WORD"
            },
            {
             "confidence": 0.99439573,
             "id": "c7c3b13b-e4c0-4ecf-ad93-f9e715882499",
             "line_id": "a572e7b8-e9f7-4773-b9dc-f4c531e3517f",
             "locations": null,
             "text": "Sullivan,",
             "type": "TEXT_WORD"
            },
            {
             "confidence": 1,
             "id": "0ae2cd3e-c313-46f9-9eae-bc56f637ab7f",
             "line_id": "a572e7b8-e9f7-4773-b9dc-f4c531e3517f",
             "locations": null,
             "text": "leading",
             "type": "TEXT_WORD"
            },
            {
             "confidence": 0.9993784,
             "id": "abea0cf9-88cf-4816-bbe3-3e36c62c1800",
             "line_id": "a572e7b8-e9f7-4773-b9dc-f4c531e3517f",
             "locations": null,
             "text": "to",
             "type": "TEXT_WORD"
            },
            {
             "confidence": 0.9695957,
             "id": "ed67d1fc-9f50-4d5d-9a0c-7387cd5cee6c",
             "line_id": "a572e7b8-e9f7-4773-b9dc-f4c531e3517f",
             "locations": null,
             "text": "a",
             "type": "TEXT_WORD"
            },
            {
             "confidence": 0.99939513,
             "id": "c8f725a2-9e0d-4f23-9313-30c728da7b5d",
             "line_id": "a572e7b8-e9f7-4773-b9dc-f4c531e3517f",
             "locations": null,
             "text": "tense",
             "type": "TEXT_WORD"
            },
            {
             "confidence": 0.99452704,
             "id": "a4fce1ba-4ff7-4138-8f8b-401c8934193d",
             "line_id": "a572e7b8-e9f7-4773-b9dc-f4c531e3517f",
             "locations": null,
             "text": "standoff",
             "type": "TEXT_WORD"
            },
            {
             "confidence": 0.99723554,
             "id": "22940161-4938-4687-aa1a-c356b856c28f",
             "line_id": "a572e7b8-e9f7-4773-b9dc-f4c531e3517f",
             "locations": null,
             "text": "with",
             "type": "TEXT_WORD"
            },
            {
             "confidence": 0.99920964,
             "id": "7f0aec42-a0ee-4c16-94ef-ccc608fa520b",
             "line_id": "a572e7b8-e9f7-4773-b9dc-f4c531e3517f",
             "locations": null,
             "text": "LAPD",
             "type": "TEXT_WORD"
            },
            {
             "confidence": 0.9781529,
             "id": "27fc3c2f-40a5-416a-999e-7686b4cab1aa",
             "line_id": "a572e7b8-e9f7-4773-b9dc-f4c531e3517f",
             "locations": null,
             "text": "officers.",
             "type": "TEXT_WORD"
            }
           ],
           "timecode_smpte": "00:00:45;06",
           "timestamp_millis": 45212
          },
          {
           "content_moderation": [],
           "frame_index": 1400,
           "logos": [],
           "text_lines": [
            {
             "confidence": 0.19453369,
             "id": "fd0af32b-11d1-40f5-8851-ac7720a11a42",
             "locations": null,
             "text": "19A1",
             "type": "TEXT_LINE"
            },
            {
             "confidence": 0.6568895,
             "id": "b3b58f07-e8f9-4fb3-ab06-a35b91780bf5",
             "locations": null,
             "text": "DAUDE",
             "type": "TEXT_LINE"
            },
            {
             "confidence": 0.99858993,
             "id": "5025cc19-7931-4037-a50f-277317149c47",
             "locations": null,
             "text": "Captain Foster was dispatched to El Matador to investigate further but found",
             "type": "TEXT_LINE"
            },
            {
             "confidence": 0.9939872,
             "id": "59851b0e-ebd6-4e09-90ba-9cfe48831ef7",
             "locations": null,
             "text": "no sign of Detective Sullivan, leading to a tense standoff with LAPD officers.",
             "type": "TEXT_LINE"
            }
           ],
           "text_words": [
            {
             "confidence": 0.19453369,
             "id": "7f74a799-18ab-4b9f-a111-be9d7ad068f2",
             "line_id": "fd0af32b-11d1-40f5-8851-ac7720a11a42",
             "locations": null,
             "text": "19A1",
             "type": "TEXT_WORD"
            },
            {
             "confidence": 0.6568895,
             "id": "eb7c541a-6600-4bd8-baad-9ba72cbf03af",
             "line_id": "b3b58f07-e8f9-4fb3-ab06-a35b91780bf5",
             "locations": null,
             "text": "DAUDE",
             "type": "TEXT_WORD"
            },
            {
             "confidence": 1,
             "id": "e9aa019e-21da-4274-96bd-18536dbe1385",
             "line_id": "5025cc19-7931-4037-a50f-277317149c47",
             "locations": null,
             "text": "Captain",
             "type": "TEXT_WORD"
            },
            {
             "confidence": 0.99629956,
             "id": "56273c3b-fcd3-4489-bc15-be691a5bd7b3",
             "line_id": "5025cc19-7931-4037-a50f-277317149c47",
             "locations": null,
             "text": "Foster",
             "type": "TEXT_WORD"
            },
            {
             "confidence": 0.9925666,
             "id": "8544cc57-94e6-492f-a144-288b7fc26909",
             "line_id": "5025cc19-7931-4037-a50f-277317149c47",
             "locations": null,
             "text": "was",
             "type": "TEXT_WORD"
            },
            {
             "confidence": 0.9973232,
             "id": "5bc2c2db-0c1f-4971-8578-a4172efc6ef5",
             "line_id": "5025cc19-7931-4037-a50f-277317149c47",
             "locations": null,
             "text": "dispatched",
             "type": "TEXT_WORD"
            },
            {
             "confidence": 0.9993946,
             "id": "609f6eb6-0ecd-496e-8be4-03b378248898",
             "line_id": "5025cc19-7931-4037-a50f-277317149c47",
             "locations": null,
             "text": "to",
             "type": "TEXT_WORD"
            },
            {
             "confidence": 1,
             "id": "fe7daf34-1c04-4f21-af1e-788138455417",
             "line_id": "5025cc19-7931-4037-a50f-277317149c47",
             "locations": null,
             "text": "El",
             "type": "TEXT_WORD"
            },
            {
             "confidence": 1,
             "id": "b895600e-7679-46b0-a6b9-2154f9213966",
             "line_id": "5025cc19-7931-4037-a50f-277317149c47",
             "locations": null,
             "text": "Matador",
             "type": "TEXT_WORD"
            },
            {
             "confidence": 0.9995288,
             "id": "f0f6f4b4-ec05-4146-944b-3fa8ec093a83",
             "line_id": "5025cc19-7931-4037-a50f-277317149c47",
             "locations": null,
             "text": "to",
             "type": "TEXT_WORD"
            },
            {
             "confidence": 0.99898726,
             "id": "9f713822-8c38-4b34-aeff-4cd6c9e8a558",
             "line_id": "5025cc19-7931-4037-a50f-277317149c47",
             "locations": null,
             "text": "investigate",
             "type": "TEXT_WORD"
            },
            {
             "confidence": 1,
             "id": "5f2050aa-6ce5-4c13-ad1d-1f8e63e5f8af",
             "line_id": "5025cc19-7931-4037-a50f-277317149c47",
             "locations": null,
             "text": "further",
             "type": "TEXT_WORD"
            },
            {
             "confidence": 1,
             "id": "7fb18f54-a4e2-442d-b0f0-f05e6d672ebe",
             "line_id": "5025cc19-7931-4037-a50f-277317149c47",
             "locations": null,
             "text": "but",
             "type": "TEXT_WORD"
            },
            {
             "confidence": 0.9989794,
             "id": "bd7ffda6-ca3b-4a95-842f-90cb87c94cb4",
             "line_id": "5025cc19-7931-4037-a50f-277317149c47",
             "locations": null,
             "text": "found",
             "type": "TEXT_WORD"
            },
            {
             "confidence": 0.9989988,
             "id": "e578a854-78fd-4513-9f51-bd5e4b8b5e95",
             "line_id": "59851b0e-ebd6-4e09-90ba-9cfe48831ef7",
             "locations": null,
             "text": "no",
             "type": "TEXT_WORD"
            },
            {
             "confidence": 1,
             "id": "2695911d-af2b-4c9e-8677-57d3b3194562",
             "line_id": "59851b0e-ebd6-4e09-90ba-9cfe48831ef7",
             "locations": null,
             "text": "sign",
             "type": "TEXT_WORD"
            },
            {
             "confidence": 0.9965169,
             "id": "3ef99d56-ab10-4d5b-af19-cf93d0ec08f7",
             "line_id": "59851b0e-ebd6-4e09-90ba-9cfe48831ef7",
             "locations": null,
             "text": "of",
             "type": "TEXT_WORD"
            },
            {
             "confidence": 0.9960929,
             "id": "30cadcbd-318c-4486-af0a-84ac2f88711d",
             "line_id": "59851b0e-ebd6-4e09-90ba-9cfe48831ef7",
             "locations": null,
             "text": "Detective",
             "type": "TEXT_WORD"
            },
            {
             "confidence": 0.994111,
             "id": "ccf34a57-f97a-4b59-b844-7ae3928578d9",
             "line_id": "59851b0e-ebd6-4e09-90ba-9cfe48831ef7",
             "locations": null,
             "text": "Sullivan,",
             "type": "TEXT_WORD"
            },
            {
             "confidence": 1,
             "id": "724d8347-ad6e-43d6-a85b-9915135db8e1",
             "line_id": "59851b0e-ebd6-4e09-90ba-9cfe48831ef7",
             "locations": null,
             "text": "leading",
             "type": "TEXT_WORD"
            },
            {
             "confidence": 0.998204,
             "id": "49141229-d4db-4b76-80fb-444401d148ee",
             "line_id": "59851b0e-ebd6-4e09-90ba-9cfe48831ef7",
             "locations": null,
             "text": "to",
             "type": "TEXT_WORD"
            },
            {
             "confidence": 0.9745052,
             "id": "1cc5edad-11a8-4227-b785-a8493a83a7a2",
             "line_id": "59851b0e-ebd6-4e09-90ba-9cfe48831ef7",
             "locations": null,
             "text": "a",
             "type": "TEXT_WORD"
            },
            {
             "confidence": 0.99961174,
             "id": "becbf90d-f3b1-4a2b-9354-3101165a64d1",
             "line_id": "59851b0e-ebd6-4e09-90ba-9cfe48831ef7",
             "locations": null,
             "text": "tense",
             "type": "TEXT_WORD"
            },
            {
             "confidence": 0.9935868,
             "id": "2298b724-db51-4120-904e-39185e55f105",
             "line_id": "59851b0e-ebd6-4e09-90ba-9cfe48831ef7",
             "locations": null,
             "text": "standoff",
             "type": "TEXT_WORD"
            },
            {
             "confidence": 0.9969482,
             "id": "1d9100be-c5e2-4fda-95a8-606d50108790",
             "line_id": "59851b0e-ebd6-4e09-90ba-9cfe48831ef7",
             "locations": null,
             "text": "with",
             "type": "TEXT_WORD"
            },
            {
             "confidence": 0.9984443,
             "id": "e8db0f6d-4f42-42ee-9435-bb89226ec9cc",
             "line_id": "59851b0e-ebd6-4e09-90ba-9cfe48831ef7",
             "locations": null,
             "text": "LAPD",
             "type": "TEXT_WORD"
            },
            {
             "confidence": 0.9748142,
             "id": "a2f387fc-d415-4d81-8774-5c17926aed0e",
             "line_id": "59851b0e-ebd6-4e09-90ba-9cfe48831ef7",
             "locations": null,
             "text": "officers.",
             "type": "TEXT_WORD"
            }
           ],
           "timecode_smpte": "00:00:46;20",
           "timestamp_millis": 46713
          },
          {
           "content_moderation": [],
           "frame_index": 1490,
           "logos": [],
           "text_lines": [
            {
             "confidence": 0.318847,
             "id": "6aaf8172-ec3f-467f-b8f4-f9019f13de56",
             "locations": null,
             "text": "8",
             "type": "TEXT_LINE"
            },
            {
             "confidence": 0.82770485,
             "id": "3a2b271d-2ab8-481d-84b5-f3c0eabace8a",
             "locations": null,
             "text": "716 5",
             "type": "TEXT_LINE"
            },
            {
             "confidence": 0.99894035,
             "id": "91d4fd30-dded-4d66-a89b-c097062eaef7",
             "locations": null,
             "text": "Captain Foster was dispatched to El Matador to investigate further but found",
             "type": "TEXT_LINE"
            },
            {
             "confidence": 0.98489,
             "id": "39e5da96-86cc-4265-817b-2c370021d605",
             "locations": null,
             "text": "no sign of Detective Sullivan, leading to a tense standoff with LAPD officers.",
             "type": "TEXT_LINE"
            }
           ],
           "text_words": [
            {
             "confidence": 0.318847,
             "id": "8bf9bc41-2e1b-4e7a-843c-7f0ada7c3c2c",
             "line_id": "6aaf8172-ec3f-467f-b8f4-f9019f13de56",
             "locations": null,
             "text": "8",
             "type": "TEXT_WORD"
            },
            {
             "confidence": 0.88551223,
             "id": "d1b2c7a9-bcdd-446f-8958-a4309dff00a8",
             "line_id": "3a2b271d-2ab8-481d-84b5-f3c0eabace8a",
             "locations": null,
             "text": "716",
             "type": "TEXT_WORD"
            },
            {
             "confidence": 0.76989746,
             "id": "bd93a5df-10be-4194-a294-59518a1d3153",
             "line_id": "3a2b271d-2ab8-481d-84b5-f3c0eabace8a",
             "locations": null,
             "text": "5",
             "type": "TEXT_WORD"
            },
            {
             "confidence": 1,
             "id": "0fce369b-f61c-4e61-8638-31ca15c22a3e",
             "line_id": "91d4fd30-dded-4d66-a89b-c097062eaef7",
             "locations": null,
             "text": "Captain",
             "type": "TEXT_WORD"
            },
            {
             "confidence": 0.9978899,
             "id": "4028839a-b900-45a0-b71b-50db3581f624",
             "line_id": "91d4fd30-dded-4d66-a89b-c097062eaef7",
             "locations": null,
             "text": "Foster",
             "type": "TEXT_WORD"
            },
            {
             "confidence": 0.9930061,
             "id": "b7394977-97a7-4928-b5ce-9d70ec4f49bb",
             "line_id": "91d4fd30-dded-4d66-a89b-c097062eaef7",
             "locations": null,
             "text": "was",
             "type": "TEXT_WORD"
            },
            {
             "confidence": 0.9983952,
             "id": "554563b3-0916-4418-a31f-7d6cc79b729e",
             "line_id": "91d4fd30-dded-4d66-a89b-c097062eaef7",
             "locations": null,
             "text": "dispatched",
             "type": "TEXT_WORD"
            },
            {
             "confidence": 0.9990183,
             "id": "a6790364-9ca1-4817-b81f-9446eec1c6be",
             "line_id": "91d4fd30-dded-4d66-a89b-c097062eaef7",
             "locations": null,
             "text": "to",
             "type": "TEXT_WORD"
            },
            {
             "confidence": 1,
             "id": "b8286208-6d59-417b-88e9-6c7a67291132",
             "line_id": "91d4fd30-dded-4d66-a89b-c097062eaef7",
             "locations": null,
             "text": "El",
             "type": "TEXT_WORD"
            },
            {
             "confidence": 1,
             "id": "d6258fc8-8b66-4fba-b9bb-957b197fdf1e",
             "line_id": "91d4fd30-dded-4d66-a89b-c097062eaef7",
             "locations": null,
             "text": "Matador",
             "type": "TEXT_WORD"
            },
            {
             "confidence": 1,
             "id": "6de6a753-1791-44ff-aefd-6ec2bcfcaea0",
             "line_id": "91d4fd30-dded-4d66-a89b-c097062eaef7",
             "locations": null,
             "text": "to",
             "type": "TEXT_WORD"
            },
            {
             "confidence": 1,
             "id": "d98e9b85-9619-4f5e-b504-b1c1b24c38b5",
             "line_id": "91d4fd30-dded-4d66-a89b-c097062eaef7",
             "locations": null,
             "text": "investigate",
             "type": "TEXT_WORD"
            },
            {
             "confidence": 1,
             "id": "e3474823-0e62-4fea-b53c-5dd15438be7c",
             "line_id": "91d4fd30-dded-4d66-a89b-c097062eaef7",
             "locations": null,
             "text": "further",
             "type": "TEXT_WORD"
            },
            {
             "confidence": 1,
             "id": "f0c4ff57-b4c7-4f30-af28-9933874b5722",
             "line_id": "91d4fd30-dded-4d66-a89b-c097062eaef7",
             "locations": null,
             "text": "but",
             "type": "TEXT_WORD"
            },
            {
             "confidence": 0.99897474,
             "id": "0a2e78c2-ff19-4892-b78c-08aa856f9dcc",
             "line_id": "91d4fd30-dded-4d66-a89b-c097062eaef7",
             "locations": null,
             "text": "found",
             "type": "TEXT_WORD"
            },
            {
             "confidence": 0.9983934,
             "id": "c57424b5-0119-49d6-8428-ade91ad1b02f",
             "line_id": "39e5da96-86cc-4265-817b-2c370021d605",
             "locations": null,
             "text": "no",
             "type": "TEXT_WORD"
            },
            {
             "confidence": 1,
             "id": "8d9bfe9c-a238-4bc0-8a67-d9f2e8a2643e",
             "line_id": "39e5da96-86cc-4265-817b-2c370021d605",
             "locations": null,
             "text": "sign",
             "type": "TEXT_WORD"
            },
            {
             "confidence": 0.9965758,
             "id": "cd3d147f-d977-4b00-adaf-e7d7b97f19ee",
             "line_id": "39e5da96-86cc-4265-817b-2c370021d605",
             "locations": null,
             "text": "of",
             "type": "TEXT_WORD"
            },
            {
             "confidence": 0.9961012,
             "id": "9aa2b608-f38d-4c72-939c-0e37c750f109",
             "line_id": "39e5da96-86cc-4265-817b-2c370021d605",
             "locations": null,
             "text": "Detective",
             "type": "TEXT_WORD"
            },
            {
             "confidence": 0.9951052,
             "id": "be133575-5215-4730-9f4c-dae36b1beee0",
             "line_id": "39e5da96-86cc-4265-817b-2c370021d605",
             "locations": null,
             "text": "Sullivan,",
             "type": "TEXT_WORD"
            },
            {
             "confidence": 1,
             "id": "4688f3c1-43a7-4073-8be7-4a9d2db4251f",
             "line_id": "39e5da96-86cc-4265-817b-2c370021d605",
             "locations": null,
             "text": "leading",
             "type": "TEXT_WORD"
            },
            {
             "confidence": 0.99944216,
             "id": "e9dbf817-845e-4fde-a926-8969a6331842",
             "line_id": "39e5da96-86cc-4265-817b-2c370021d605",
             "locations": null,
             "text": "to",
             "type": "TEXT_WORD"
            },
            {
             "confidence": 0.9659165,
             "id": "eeb24803-4aed-4d5d-bc5a-b750d6f58f52",
             "line_id": "39e5da96-86cc-4265-817b-2c370021d605",
             "locations": null,
             "text": "a",
             "type": "TEXT_WORD"
            },
            {
             "confidence": 0.99949527,
             "id": "c963a847-0ea9-4db8-a73a-bca351ebbeff",
             "line_id": "39e5da96-86cc-4265-817b-2c370021d605",
             "locations": null,
             "text": "tense",
             "type": "TEXT_WORD"
            },
            {
             "confidence": 0.99398226,
             "id": "c3624d5b-8e79-47ca-9d90-dca122309761",
             "line_id": "39e5da96-86cc-4265-817b-2c370021d605",
             "locations": null,
             "text": "standoff",
             "type": "TEXT_WORD"
            },
            {
             "confidence": 0.9968574,
             "id": "3400fca5-86ed-4b26-917c-d3b73c667ea9",
             "line_id": "39e5da96-86cc-4265-817b-2c370021d605",
             "locations": null,
             "text": "with",
             "type": "TEXT_WORD"
            },
            {
             "confidence": 1,
             "id": "c829f8d7-faf5-4891-92ef-4c293b44730b",
             "line_id": "39e5da96-86cc-4265-817b-2c370021d605",
             "locations": null,
             "text": "LAPD",
             "type": "TEXT_WORD"
            },
            {
             "confidence": 0.86170036,
             "id": "8d926151-dca9-4bad-9d96-72ff9aa56745",
             "line_id": "39e5da96-86cc-4265-817b-2c370021d605",
             "locations": null,
             "text": "officers.",
             "type": "TEXT_WORD"
            }
           ],
           "timecode_smpte": "00:00:49;20",
           "timestamp_millis": 49716
          }
         ],
         "iab_categories": [],
         "shot_indices": [
          0,
          1,
          2,
          3,
          4,
          5,
          6,
          7,
          8,
          9,
          10,
          11,
          12,
          13,
          14,
          15,
          16,
          17
         ],
         "start_frame_index": 0,
         "start_timecode_smpte": "00:00:00;00",
         "start_timestamp_millis": 0,
         "summary": "In 1950s Los Angeles, three individuals - a schoolteacher, an insurance salesman, and a retired man - vanish near El Matador, a location known for its large rock formation. Initially suspected of mob-related activities or suicides due to their divorced status, the case takes an unexpected turn when a witness reports seeing a man atop the rock behaving strangely before disappearing during a sudden storm. The witness claims to have seen a woman in a white dress with alabaster skin appear in his place, staring upwards.\n\nThe investigation intensifies as Captain Foster is dispatched to El Matador to look into the matter further. However, he finds no sign of Detective Sullivan, leading to a tense standoff with LAPD officers. The disappearance of the three individuals and the mysterious appearance of the woman in white create an atmosphere of intrigue and unease, with the stormy weather adding to the sense of foreboding. As the investigation continues, the true nature of the events remains unclear, leaving the outcome uncertain.",
         "transcript": {
          "representation": {
           "text": "[spk_0]: Three individuals, a schoolteacher, an insurance salesman, and a retired man disappeared near El Matador, a location known for its large rock. Initially suspected as mob-related or suicides. Further investigation revealed no criminal records or connections among them, except for one past DUI arrest. All were divorced. A witness, initially dismissed as unreliable, reported seeing a man atop the rock behaving strangely before disappearing during a sudden intense storm. In his place, a woman in a white dress with alabaster skin appeared, staring upwards. The witness fled due to the worsening weather. Captain Foster was dispatched to El Matador to investigate further, but found no sign of Detective Sullivan, leading to a tense standoff with LAPD officers."
          }
         }
        }
       ],
       "metadata": {
        "asset_id": "0",
        "codec": "h264",
        "duration_millis": 51284,
        "format": "QuickTime / MOV",
        "frame_height": 720,
        "frame_rate": 29.97002997002997,
        "frame_width": 1280,
        "s3_bucket": "sagemaker-us-west-2-376678947624",
        "s3_key": "media-operations-agent-claude/Meridian_summary.mp4",
        "semantic_modality": "VIDEO"
       },
       "shots": [
        {
         "chapter_indices": [
          0
         ],
         "confidence": 0.9978319155394152,
         "duration_frames": 0,
         "duration_millis": 0,
         "duration_smpte": "00:00:00:00",
         "end_frame_index": 0,
         "end_timecode_smpte": "00:00:00;00",
         "end_timestamp_millis": 0,
         "shot_index": 0,
         "start_frame_index": 0,
         "start_timecode_smpte": "00:00:00;00",
         "start_timestamp_millis": 0
        },
        {
         "chapter_indices": [
          0
         ],
         "confidence": 0.9978319155394152,
         "duration_frames": 0,
         "duration_millis": 0,
         "duration_smpte": "00:00:00:00",
         "end_frame_index": 0,
         "end_timecode_smpte": "00:00:00;00",
         "end_timestamp_millis": 0,
         "shot_index": 1,
         "start_frame_index": 0,
         "start_timecode_smpte": "00:00:00;00",
         "start_timestamp_millis": 0
        },
        {
         "chapter_indices": [
          0
         ],
         "confidence": 0.9978319155394152,
         "duration_frames": 198,
         "duration_millis": 6607,
         "duration_smpte": "00:00:06:19",
         "end_frame_index": 199,
         "end_timecode_smpte": "00:00:06;20",
         "end_timestamp_millis": 6640,
         "shot_index": 2,
         "start_frame_index": 1,
         "start_timecode_smpte": "00:00:00;01",
         "start_timestamp_millis": 33
        },
        {
         "chapter_indices": [
          0
         ],
         "confidence": 0.9608416054963443,
         "duration_frames": 16,
         "duration_millis": 534,
         "duration_smpte": "00:00:00:15",
         "end_frame_index": 216,
         "end_timecode_smpte": "00:00:07;06",
         "end_timestamp_millis": 7207,
         "shot_index": 3,
         "start_frame_index": 200,
         "start_timecode_smpte": "00:00:06;20",
         "start_timestamp_millis": 6673
        },
        {
         "chapter_indices": [
          0
         ],
         "confidence": 0.9608416054963443,
         "duration_frames": 82,
         "duration_millis": 2736,
         "duration_smpte": "00:00:02:21",
         "end_frame_index": 299,
         "end_timecode_smpte": "00:00:10;00",
         "end_timestamp_millis": 9977,
         "shot_index": 4,
         "start_frame_index": 217,
         "start_timecode_smpte": "00:00:07;08",
         "start_timestamp_millis": 7241
        },
        {
         "chapter_indices": [
          0
         ],
         "confidence": 0.9999231089911134,
         "duration_frames": 169,
         "duration_millis": 5639,
         "duration_smpte": "00:00:05:20",
         "end_frame_index": 469,
         "end_timecode_smpte": "00:00:15;20",
         "end_timestamp_millis": 15649,
         "shot_index": 5,
         "start_frame_index": 300,
         "start_timecode_smpte": "00:00:10;00",
         "start_timestamp_millis": 10010
        },
        {
         "chapter_indices": [
          0
         ],
         "confidence": 0.9999458072981013,
         "duration_frames": 272,
         "duration_millis": 9042,
         "duration_smpte": "00:00:09:01",
         "end_frame_index": 742,
         "end_timecode_smpte": "00:00:24;21",
         "end_timestamp_millis": 24724,
         "shot_index": 6,
         "start_frame_index": 470,
         "start_timecode_smpte": "00:00:15;20",
         "start_timestamp_millis": 15682
        },
        {
         "chapter_indices": [
          0
         ],
         "confidence": 0.9998287472609233,
         "duration_frames": 42,
         "duration_millis": 1368,
         "duration_smpte": "00:00:01:11",
         "end_frame_index": 784,
         "end_timecode_smpte": "00:00:26;04",
         "end_timestamp_millis": 26126,
         "shot_index": 7,
         "start_frame_index": 742,
         "start_timecode_smpte": "00:00:24;22",
         "start_timestamp_millis": 24758
        },
        {
         "chapter_indices": [
          0
         ],
         "confidence": 0.9856856600498499,
         "duration_frames": 11,
         "duration_millis": 334,
         "duration_smpte": "00:00:00:11",
         "end_frame_index": 795,
         "end_timecode_smpte": "00:00:26;15",
         "end_timestamp_millis": 26493,
         "shot_index": 8,
         "start_frame_index": 784,
         "start_timecode_smpte": "00:00:26;04",
         "start_timestamp_millis": 26159
        },
        {
         "chapter_indices": [
          0
         ],
         "confidence": 0.9856856600498499,
         "duration_frames": 203,
         "duration_millis": 6739,
         "duration_smpte": "00:00:06:20",
         "end_frame_index": 998,
         "end_timecode_smpte": "00:00:33;07",
         "end_timestamp_millis": 33266,
         "shot_index": 9,
         "start_frame_index": 795,
         "start_timecode_smpte": "00:00:26;16",
         "start_timestamp_millis": 26527
        },
        {
         "chapter_indices": [
          0
         ],
         "confidence": 0.9990882186679141,
         "duration_frames": 46,
         "duration_millis": 1535,
         "duration_smpte": "00:00:01:16",
         "end_frame_index": 1045,
         "end_timecode_smpte": "00:00:34;25",
         "end_timestamp_millis": 34835,
         "shot_index": 10,
         "start_frame_index": 999,
         "start_timecode_smpte": "00:00:33;09",
         "start_timestamp_millis": 33300
        },
        {
         "chapter_indices": [
          0
         ],
         "confidence": 0.9996986189842006,
         "duration_frames": 153,
         "duration_millis": 5105,
         "duration_smpte": "00:00:05:03",
         "end_frame_index": 1199,
         "end_timecode_smpte": "00:00:39;29",
         "end_timestamp_millis": 39973,
         "shot_index": 11,
         "start_frame_index": 1046,
         "start_timecode_smpte": "00:00:34;26",
         "start_timestamp_millis": 34868
        },
        {
         "chapter_indices": [
          0
         ],
         "confidence": 0.9896559056957142,
         "duration_frames": 73,
         "duration_millis": 2436,
         "duration_smpte": "00:00:02:12",
         "end_frame_index": 1273,
         "end_timecode_smpte": "00:00:42;12",
         "end_timestamp_millis": 42442,
         "shot_index": 12,
         "start_frame_index": 1200,
         "start_timecode_smpte": "00:00:39;29",
         "start_timestamp_millis": 40006
        },
        {
         "chapter_indices": [
          0
         ],
         "confidence": 0.9896559056957142,
         "duration_frames": 4,
         "duration_millis": 134,
         "duration_smpte": "00:00:00:05",
         "end_frame_index": 1278,
         "end_timecode_smpte": "00:00:42;18",
         "end_timestamp_millis": 42609,
         "shot_index": 13,
         "start_frame_index": 1274,
         "start_timecode_smpte": "00:00:42;13",
         "start_timestamp_millis": 42475
        },
        {
         "chapter_indices": [
          0
         ],
         "confidence": 0.979481301767383,
         "duration_frames": 76,
         "duration_millis": 2536,
         "duration_smpte": "00:00:02:15",
         "end_frame_index": 1355,
         "end_timecode_smpte": "00:00:45;04",
         "end_timestamp_millis": 45178,
         "shot_index": 14,
         "start_frame_index": 1279,
         "start_timecode_smpte": "00:00:42;18",
         "start_timestamp_millis": 42642
        },
        {
         "chapter_indices": [
          0
         ],
         "confidence": 0.979481301767383,
         "duration_frames": 2,
         "duration_millis": 66,
         "duration_smpte": "00:00:00:01",
         "end_frame_index": 1358,
         "end_timecode_smpte": "00:00:45;07",
         "end_timestamp_millis": 45278,
         "shot_index": 15,
         "start_frame_index": 1356,
         "start_timecode_smpte": "00:00:45;06",
         "start_timestamp_millis": 45212
        },
        {
         "chapter_indices": [
          0
         ],
         "confidence": 0.9861817903114133,
         "duration_frames": 60,
         "duration_millis": 2002,
         "duration_smpte": "00:00:02:00",
         "end_frame_index": 1419,
         "end_timecode_smpte": "00:00:47;09",
         "end_timestamp_millis": 47314,
         "shot_index": 16,
         "start_frame_index": 1359,
         "start_timecode_smpte": "00:00:45;09",
         "start_timestamp_millis": 45312
        },
        {
         "chapter_indices": [
          0
         ],
         "confidence": 0.9998161175445252,
         "duration_frames": 117,
         "duration_millis": 3904,
         "duration_smpte": "00:00:03:26",
         "end_frame_index": 1537,
         "end_timecode_smpte": "00:00:51;07",
         "end_timestamp_millis": 51251,
         "shot_index": 17,
         "start_frame_index": 1420,
         "start_timecode_smpte": "00:00:47;10",
         "start_timestamp_millis": 47347
        }
       ],
       "statistics": {
        "chapter_count": 1,
        "shot_count": 18,
        "speaker_count": 1
       },
       "video": {
        "summary": "In 1950s Los Angeles, three individuals - a schoolteacher, an insurance salesman, and a retired man - vanish near El Matador, a location known for its large rock formation. Initially suspected of mob-related activities or suicides due to their divorced status, the case takes an unexpected turn when a witness reports seeing a man atop the rock behaving strangely before disappearing during a sudden storm. The witness claims to have seen a woman in a white dress with alabaster skin appear in his place, staring upwards.\n\nThe investigation intensifies as Captain Foster is dispatched to El Matador to look into the matter further. However, he finds no sign of Detective Sullivan, leading to a tense standoff with LAPD officers. The disappearance of the three individuals and the mysterious appearance of the woman in white create an atmosphere of intrigue and unease, with the stormy weather adding to the sense of foreboding. As the investigation continues, the true nature of the events remains unclear, leaving the outcome uncertain.",
        "transcript": {
         "representation": {
          "text": "[spk_0]: Three individuals, a schoolteacher, an insurance salesman, and a retired man disappeared near El Matador, a location known for its large rock. Initially suspected as mob-related or suicides. Further investigation revealed no criminal records or connections among them, except for one past DUI arrest. All were divorced. A witness, initially dismissed as unreliable, reported seeing a man atop the rock behaving strangely before disappearing during a sudden intense storm. In his place, a woman in a white dress with alabaster skin appeared, staring upwards. The witness fled due to the worsening weather. Captain Foster was dispatched to El Matador to investigate further, but found no sign of Detective Sullivan, leading to a tense standoff with LAPD officers. "
         }
        }
       }
      },
      "text/plain": [
       "<IPython.core.display.JSON object>"
      ]
     },
     "execution_count": 11,
     "metadata": {
      "application/json": {
       "expanded": false,
       "root": "root"
      }
     },
     "output_type": "execute_result"
    }
   ],
   "source": [
    "from IPython.display import JSON\n",
    "\n",
    "result_uri = config_data[\"output_metadata\"][0][\"segment_metadata\"][0][\"standard_output_path\"]\n",
    "result_data = read_json_on_s3(result_uri,s3_client)\n",
    "\n",
    "JSON(result_data)"
   ]
  },
  {
   "cell_type": "code",
   "execution_count": 12,
   "id": "14015f94-f4c5-4e5b-8d9d-a682ae4aac96",
   "metadata": {},
   "outputs": [
    {
     "data": {
      "text/plain": [
       "{'visual_summary': 'In 1950s Los Angeles, three individuals - a schoolteacher, an insurance salesman, and a retired man - vanish near El Matador, a location known for its large rock formation. Initially suspected of mob-related activities or suicides due to their divorced status, the case takes an unexpected turn when a witness reports seeing a man atop the rock behaving strangely before disappearing during a sudden storm. The witness claims to have seen a woman in a white dress with alabaster skin appear in his place, staring upwards.\\n\\nThe investigation intensifies as Captain Foster is dispatched to El Matador to look into the matter further. However, he finds no sign of Detective Sullivan, leading to a tense standoff with LAPD officers. The disappearance of the three individuals and the mysterious appearance of the woman in white create an atmosphere of intrigue and unease, with the stormy weather adding to the sense of foreboding. As the investigation continues, the true nature of the events remains unclear, leaving the outcome uncertain.',\n",
       " 'audio_transcription': '[spk_0]: Three individuals, a schoolteacher, an insurance salesman, and a retired man disappeared near El Matador, a location known for its large rock. Initially suspected as mob-related or suicides. Further investigation revealed no criminal records or connections among them, except for one past DUI arrest. All were divorced. A witness, initially dismissed as unreliable, reported seeing a man atop the rock behaving strangely before disappearing during a sudden intense storm. In his place, a woman in a white dress with alabaster skin appeared, staring upwards. The witness fled due to the worsening weather. Captain Foster was dispatched to El Matador to investigate further, but found no sign of Detective Sullivan, leading to a tense standoff with LAPD officers. ',\n",
       " 'metadata': {'asset_id': '0',\n",
       "  'semantic_modality': 'VIDEO',\n",
       "  's3_bucket': 'sagemaker-us-west-2-376678947624',\n",
       "  's3_key': 'media-operations-agent-claude/Meridian_summary.mp4',\n",
       "  'format': 'QuickTime / MOV',\n",
       "  'frame_rate': 29.97002997002997,\n",
       "  'codec': 'h264',\n",
       "  'duration_millis': 51284,\n",
       "  'frame_width': 1280,\n",
       "  'frame_height': 720}}"
      ]
     },
     "execution_count": 12,
     "metadata": {},
     "output_type": "execute_result"
    }
   ],
   "source": [
    "video_analysis = {\n",
    "    \"visual_summary\": result_data[\"video\"][\"summary\"],\n",
    "    \"audio_transcription\":result_data[\"video\"][\"transcript\"][\"representation\"][\"text\"],\n",
    "    \"metadata\":result_data[\"metadata\"]\n",
    "    \n",
    "}\n",
    "video_analysis"
   ]
  },
  {
   "cell_type": "markdown",
   "id": "a1038f3b-84f7-4106-a162-7c211ef8a6c7",
   "metadata": {},
   "source": [
    "## Setup Film Agent"
   ]
  },
  {
   "cell_type": "code",
   "execution_count": 13,
   "id": "3e333873-0eeb-4e8c-b349-38d30dbed63c",
   "metadata": {},
   "outputs": [],
   "source": [
    "import os\n",
    "import time\n",
    "import sys\n",
    "\n",
    "account_id_suffix = account_id[:3]\n",
    "agent_suffix = f\"{region}-{account_id_suffix}\"\n",
    "\n",
    "bedrock_client = boto3.client('bedrock-runtime', region)\n",
    "\n",
    "agent_foundation_model = [\n",
    "    # 'us.amazon.nova-pro-v1:0',\n",
    "    'us.anthropic.claude-3-5-sonnet-20241022-v2:0',\n",
    "    'us.anthropic.claude-3-5-sonnet-20240620-v1:0',\n",
    "    'anthropic.claude-3-sonnet-20240229-v1:0',\n",
    "    'anthropic.claude-3-haiku-20240307-v1:0'\n",
    "]"
   ]
  },
  {
   "cell_type": "code",
   "execution_count": 14,
   "id": "27c04f4f-6c34-4e2f-b5a7-4cc0b8426e5b",
   "metadata": {},
   "outputs": [
    {
     "data": {
      "text/plain": [
       "'f-agent-us-west-2-376-us-west-2-376678947624'"
      ]
     },
     "execution_count": 14,
     "metadata": {},
     "output_type": "execute_result"
    }
   ],
   "source": [
    "agent_name = f\"f-agent-{agent_suffix}\"\n",
    "lambda_name = f\"fn-f-agent-{agent_suffix}\"\n",
    "\n",
    "agent_role_name = f'AmazonBedrockExecutionRoleForAgents_{agent_name}'\n",
    "\n",
    "knowledge_base_name = f'{agent_name}-02'\n",
    "\n",
    "suffix = f\"{region}-{account_id}\"\n",
    "\n",
    "knowledge_base_description = \"KB containing information of all the films\"\n",
    "bucket_name = f'{agent_name}-{suffix}'\n",
    "\n",
    "cast_table = f'cast-table-{agent_suffix}'\n",
    "cast_pk = 'id'\n",
    "cast_sk = 'name'\n",
    "env_args = [cast_table, cast_pk, cast_sk]\n",
    "bucket_name"
   ]
  },
  {
   "cell_type": "markdown",
   "id": "3af29e7d-bf93-44db-b608-dd25b9fdd943",
   "metadata": {},
   "source": [
    "### Importing helper functions\n",
    "\n",
    "On following section, we're adding `bedrock_agent_helper.py` and `knowledge_base_helper` on Python path, so the files can be recognized and their functionalities can be invoked.\n",
    "\n",
    "Now, you're going to import from helper classes `bedrock_agent_helper.py` and `knowledge_base_helper.py`.\n",
    " \n",
    "Those files contain helper classes totally focused on make labs experience smoothly. \n",
    "\n",
    "All interactions with Bedrock will be handled by these classes.\n",
    "\n",
    "Following are methods that you're going to invoke on this lab:\n",
    "\n",
    "On `agents.py`:\n",
    "- `create_agent`: Create a new agent and respective IAM roles\n",
    "- `add_action_group_with_lambda`: Create a lambda function and add it as an action group for a previous created agent\n",
    "- `create_agent_alias`: Create an alias for this agent\n",
    "- `invoke`: Execute agent\n",
    "\n",
    "On `knowledge_bases.py`:\n",
    "- `create_or_retrieve_knowledge_base`: Create Knowledge Base on Amazon Bedrock if it doesn't exist or get info about previous created.\n",
    "- `synchronize_data`: Read files on S3, convert text info into vectors and add that information on Vector Database."
   ]
  },
  {
   "cell_type": "code",
   "execution_count": 16,
   "id": "1bf66ad5-3028-40d6-b6d7-ff5b81d78525",
   "metadata": {},
   "outputs": [],
   "source": [
    "import sys\n",
    "sys.path.insert(0, '..')\n",
    "\n",
    "from helper.bedrock_agent_helper import (\n",
    "    AgentsForAmazonBedrock\n",
    ")\n",
    "from helper.knowledge_base_helper import (\n",
    "    KnowledgeBasesForAmazonBedrock\n",
    ")\n",
    "agents = AgentsForAmazonBedrock()\n",
    "kb = KnowledgeBasesForAmazonBedrock()"
   ]
  },
  {
   "cell_type": "markdown",
   "id": "0d4d37db-ba9c-41de-bc03-d1a70d4a6592",
   "metadata": {},
   "source": [
    "## Create and syncronize Knowledge Base\n",
    "\n",
    "On this section, you're going to create a Amazon Bedrock Knowledge Base and ingest data on it.\n",
    "\n",
    "This data contains basic information about how forecast process is done.\n",
    "\n",
    "**This creation process can take several minutes.**"
   ]
  },
  {
   "cell_type": "code",
   "execution_count": 17,
   "id": "6fb9fd42-10c5-43f6-942c-e3523ec0f9b1",
   "metadata": {},
   "outputs": [
    {
     "name": "stdout",
     "output_type": "stream",
     "text": [
      "Creating KB f-agent-us-west-2-376-02\n",
      "========================================================================================\n",
      "Step 1 - Creating or retrieving f-agent-us-west-2-376-us-west-2-376678947624 S3 bucket for Knowledge Base documents\n",
      "Creating bucket f-agent-us-west-2-376-us-west-2-376678947624\n",
      "========================================================================================\n",
      "Step 2 - Creating Knowledge Base Execution Role (AmazonBedrockExecutionRoleForKnowledgeBase_636) and Policies\n",
      "========================================================================================\n",
      "Step 3 - Creating OSS encryption, network and data access policies\n",
      "========================================================================================\n",
      "Step 4 - Creating OSS Collection (this step takes a couple of minutes to complete)\n",
      "{ 'ResponseMetadata': { 'HTTPHeaders': { 'connection': 'keep-alive',\n",
      "                                         'content-length': '320',\n",
      "                                         'content-type': 'application/x-amz-json-1.0',\n",
      "                                         'date': 'Sun, 11 May 2025 12:47:08 '\n",
      "                                                 'GMT',\n",
      "                                         'x-amzn-requestid': 'ddf7fe41-9987-4293-ae22-ecbc3696d447'},\n",
      "                        'HTTPStatusCode': 200,\n",
      "                        'RequestId': 'ddf7fe41-9987-4293-ae22-ecbc3696d447',\n",
      "                        'RetryAttempts': 0},\n",
      "  'createCollectionDetail': { 'arn': 'arn:aws:aoss:us-west-2:376678947624:collection/qo2z0wtuk1mkd6f0nspb',\n",
      "                              'createdDate': 1746967628275,\n",
      "                              'id': 'qo2z0wtuk1mkd6f0nspb',\n",
      "                              'kmsKeyArn': 'auto',\n",
      "                              'lastModifiedDate': 1746967628275,\n",
      "                              'name': 'f-agent-us-west-2-376-02-636',\n",
      "                              'standbyReplicas': 'ENABLED',\n",
      "                              'status': 'CREATING',\n",
      "                              'type': 'VECTORSEARCH'}}\n",
      "qo2z0wtuk1mkd6f0nspb.us-west-2.aoss.amazonaws.com\n",
      "Creating collection...\n",
      "..............................\n",
      "Collection successfully created:\n",
      "[ { 'arn': 'arn:aws:aoss:us-west-2:376678947624:collection/qo2z0wtuk1mkd6f0nspb',\n",
      "    'collectionEndpoint': 'https://qo2z0wtuk1mkd6f0nspb.us-west-2.aoss.amazonaws.com',\n",
      "    'createdDate': 1746967628275,\n",
      "    'dashboardEndpoint': 'https://qo2z0wtuk1mkd6f0nspb.us-west-2.aoss.amazonaws.com/_dashboards',\n",
      "    'id': 'qo2z0wtuk1mkd6f0nspb',\n",
      "    'kmsKeyArn': 'auto',\n",
      "    'lastModifiedDate': 1746967654192,\n",
      "    'name': 'f-agent-us-west-2-376-02-636',\n",
      "    'standbyReplicas': 'ENABLED',\n",
      "    'status': 'ACTIVE',\n",
      "    'type': 'VECTORSEARCH'}]\n",
      "Opensearch serverless arn:  arn:aws:iam::376678947624:policy/AmazonBedrockOSSPolicyForKnowledgeBase_636\n",
      "Sleeping for a minute to ensure data access rules have been enforced\n",
      "========================================================================================\n",
      "Step 5 - Creating OSS Vector Index\n",
      "\n",
      "Creating index:\n",
      "{ 'acknowledged': True,\n",
      "  'index': 'f-agent-us-west-2-376-02-index-636',\n",
      "  'shards_acknowledged': True}\n",
      "========================================================================================\n",
      "Step 6 - Creating Knowledge Base\n",
      "{'type': 'VECTOR', 'vectorKnowledgeBaseConfiguration': {'embeddingModelArn': 'arn:aws:bedrock:us-west-2::foundation-model/amazon.titan-embed-text-v2:0'}}\n",
      "{ 'createdAt': datetime.datetime(2025, 5, 11, 12, 49, 41, 777893, tzinfo=tzlocal()),\n",
      "  'description': 'KB containing information of all the films',\n",
      "  'knowledgeBaseArn': 'arn:aws:bedrock:us-west-2:376678947624:knowledge-base/0VCHHJMGFA',\n",
      "  'knowledgeBaseConfiguration': { 'type': 'VECTOR',\n",
      "                                  'vectorKnowledgeBaseConfiguration': { 'embeddingModelArn': 'arn:aws:bedrock:us-west-2::foundation-model/amazon.titan-embed-text-v2:0'}},\n",
      "  'knowledgeBaseId': '0VCHHJMGFA',\n",
      "  'name': 'f-agent-us-west-2-376-02',\n",
      "  'roleArn': 'arn:aws:iam::376678947624:role/AmazonBedrockExecutionRoleForKnowledgeBase_636',\n",
      "  'status': 'CREATING',\n",
      "  'storageConfiguration': { 'opensearchServerlessConfiguration': { 'collectionArn': 'arn:aws:aoss:us-west-2:376678947624:collection/qo2z0wtuk1mkd6f0nspb',\n",
      "                                                                   'fieldMapping': { 'metadataField': 'text-metadata',\n",
      "                                                                                     'textField': 'text',\n",
      "                                                                                     'vectorField': 'vector'},\n",
      "                                                                   'vectorIndexName': 'f-agent-us-west-2-376-02-index-636'},\n",
      "                            'type': 'OPENSEARCH_SERVERLESS'},\n",
      "  'updatedAt': datetime.datetime(2025, 5, 11, 12, 49, 41, 777893, tzinfo=tzlocal())}\n",
      "{ 'createdAt': datetime.datetime(2025, 5, 11, 12, 49, 44, 688989, tzinfo=tzlocal()),\n",
      "  'dataDeletionPolicy': 'RETAIN',\n",
      "  'dataSourceConfiguration': { 's3Configuration': { 'bucketArn': 'arn:aws:s3:::f-agent-us-west-2-376-us-west-2-376678947624'},\n",
      "                               'type': 'S3'},\n",
      "  'dataSourceId': 'Q6COH7RAHA',\n",
      "  'description': 'KB containing information of all the films',\n",
      "  'knowledgeBaseId': '0VCHHJMGFA',\n",
      "  'name': 'f-agent-us-west-2-376-02',\n",
      "  'status': 'AVAILABLE',\n",
      "  'updatedAt': datetime.datetime(2025, 5, 11, 12, 49, 44, 688989, tzinfo=tzlocal()),\n",
      "  'vectorIngestionConfiguration': { 'chunkingConfiguration': { 'chunkingStrategy': 'NONE'}}}\n",
      "========================================================================================\n",
      "Knowledge Base ID: 0VCHHJMGFA\n",
      "Data Source ID: Q6COH7RAHA\n",
      "CPU times: user 316 ms, sys: 49.6 ms, total: 366 ms\n",
      "Wall time: 3min 38s\n"
     ]
    }
   ],
   "source": [
    "%%time\n",
    "kb_id, ds_id = kb.create_or_retrieve_knowledge_base(\n",
    "    knowledge_base_name,\n",
    "    knowledge_base_description,\n",
    "    bucket_name\n",
    ")\n",
    "\n",
    "print(f\"Knowledge Base ID: {kb_id}\")\n",
    "print(f\"Data Source ID: {ds_id}\")"
   ]
  },
  {
   "cell_type": "markdown",
   "id": "5b975244-7a12-4e9f-8abc-18ef869417ef",
   "metadata": {},
   "source": [
    "### Upload Film Documents to S3"
   ]
  },
  {
   "cell_type": "code",
   "execution_count": 18,
   "id": "82d379ae-d8fe-459a-8487-e639e73010dc",
   "metadata": {},
   "outputs": [],
   "source": [
    "!rm -rf `find -type d -name .ipynb_checkpoints`"
   ]
  },
  {
   "cell_type": "code",
   "execution_count": 19,
   "id": "bbaf5b25-9817-4b56-98bc-d9cc65b0aeef",
   "metadata": {},
   "outputs": [
    {
     "name": "stdout",
     "output_type": "stream",
     "text": [
      "upload: films/meridian.txt to s3://f-agent-us-west-2-376-us-west-2-376678947624/meridian.txt\n",
      "upload: films/meridian.txt.metadata.json to s3://f-agent-us-west-2-376-us-west-2-376678947624/meridian.txt.metadata.json\n"
     ]
    }
   ],
   "source": [
    "films_folder = \"films\"\n",
    "\n",
    "!aws s3 sync {films_folder} s3://{bucket_name}/"
   ]
  },
  {
   "cell_type": "code",
   "execution_count": 20,
   "id": "79a857c9-641b-460d-93da-20eca0bf0cdf",
   "metadata": {},
   "outputs": [
    {
     "name": "stdout",
     "output_type": "stream",
     "text": [
      "{ 'dataSourceId': 'Q6COH7RAHA',\n",
      "  'ingestionJobId': 'X80MXUUKFF',\n",
      "  'knowledgeBaseId': '0VCHHJMGFA',\n",
      "  'startedAt': datetime.datetime(2025, 5, 11, 12, 50, 47, 980609, tzinfo=tzlocal()),\n",
      "  'statistics': { 'numberOfDocumentsDeleted': 0,\n",
      "                  'numberOfDocumentsFailed': 0,\n",
      "                  'numberOfDocumentsScanned': 0,\n",
      "                  'numberOfMetadataDocumentsModified': 0,\n",
      "                  'numberOfMetadataDocumentsScanned': 0,\n",
      "                  'numberOfModifiedDocumentsIndexed': 0,\n",
      "                  'numberOfNewDocumentsIndexed': 0},\n",
      "  'status': 'STARTING',\n",
      "  'updatedAt': datetime.datetime(2025, 5, 11, 12, 50, 47, 980609, tzinfo=tzlocal())}\n",
      "{ 'dataSourceId': 'Q6COH7RAHA',\n",
      "  'ingestionJobId': 'X80MXUUKFF',\n",
      "  'knowledgeBaseId': '0VCHHJMGFA',\n",
      "  'startedAt': datetime.datetime(2025, 5, 11, 12, 50, 47, 980609, tzinfo=tzlocal()),\n",
      "  'statistics': { 'numberOfDocumentsDeleted': 0,\n",
      "                  'numberOfDocumentsFailed': 0,\n",
      "                  'numberOfDocumentsScanned': 1,\n",
      "                  'numberOfMetadataDocumentsModified': 0,\n",
      "                  'numberOfMetadataDocumentsScanned': 1,\n",
      "                  'numberOfModifiedDocumentsIndexed': 0,\n",
      "                  'numberOfNewDocumentsIndexed': 1},\n",
      "  'status': 'COMPLETE',\n",
      "  'updatedAt': datetime.datetime(2025, 5, 11, 12, 50, 53, 118878, tzinfo=tzlocal())}\n"
     ]
    }
   ],
   "source": [
    "# sync knowledge base\n",
    "kb.synchronize_data(kb_id, ds_id)"
   ]
  },
  {
   "cell_type": "code",
   "execution_count": 21,
   "id": "130dfa39-b7a1-4dcb-9df2-306fffab8246",
   "metadata": {},
   "outputs": [],
   "source": [
    "kb_info = kb.get_kb(kb_id)\n",
    "kb_arn = kb_info['knowledgeBase']['knowledgeBaseArn']"
   ]
  },
  {
   "cell_type": "code",
   "execution_count": 22,
   "id": "c0bc15b4-6e24-47dd-920a-ffb359649d25",
   "metadata": {},
   "outputs": [],
   "source": [
    "kb_config = {\n",
    "    'kb_id': kb_id,\n",
    "    'kb_instruction': \"\"\"Use this knowledge base when you need to look up title, director, and plot of a film\"\"\"\n",
    "}"
   ]
  },
  {
   "cell_type": "markdown",
   "id": "6f317b37-0e34-405f-86ff-1d39a1eecc56",
   "metadata": {},
   "source": [
    "## Creating Agent"
   ]
  },
  {
   "cell_type": "code",
   "execution_count": 23,
   "id": "ac88d215-4edc-4638-af92-47e17f4cd2cf",
   "metadata": {},
   "outputs": [
    {
     "data": {
      "text/plain": [
       "('1JQBILFDE7',\n",
       " 'TSTALIASID',\n",
       " 'arn:aws:bedrock:us-west-2:376678947624:agent-alias/1JQBILFDE7/TSTALIASID')"
      ]
     },
     "execution_count": 23,
     "metadata": {},
     "output_type": "execute_result"
    }
   ],
   "source": [
    "agent_description = \"\"\"You are a film analyst. You job is analyzing shorts or derivatives of \n",
    "films, like promo or trailer. Finding the matching film and identify key cast memebers.\"\"\"\n",
    "\n",
    "agent_instruction = \"\"\"\n",
    "Your task is to analyze film videos or deriative of film videos and match it to the correct\n",
    "film title and identify key cast memebers.\n",
    "\n",
    "Your capabilities include:\n",
    "<capabilities>\n",
    "- Matching video to correct film title\n",
    "- Identify key cast members\n",
    "</capabilities>\n",
    "\n",
    "Response style:\n",
    "<Response style>\n",
    "- Be helpful and solution-oriented\n",
    "- Use clear, non-technical language\n",
    "- Maintain natural conversation flow\n",
    "- Be concise yet informative\n",
    "- do not add extra information not required by the user\n",
    "</Response style>\n",
    "\"\"\"\n",
    "\n",
    "film_agent = agents.create_agent(\n",
    "    agent_name,\n",
    "    agent_description,\n",
    "    agent_instruction,\n",
    "    agent_foundation_model,\n",
    "    kb_arns=[kb_arn],\n",
    "    code_interpretation=False\n",
    ")\n",
    "time.sleep(20)\n",
    "film_agent"
   ]
  },
  {
   "cell_type": "markdown",
   "id": "3d3cb468-164e-4c54-bb8b-9ab91adc32bc",
   "metadata": {},
   "source": [
    "### Associating knowledge base\n",
    "Now that we've created the agent, let's associate the previously created knowledge base to it."
   ]
  },
  {
   "cell_type": "code",
   "execution_count": 24,
   "id": "2881fead-7624-4ac8-9531-e8d52f097ffd",
   "metadata": {},
   "outputs": [],
   "source": [
    "agents.associate_kb_with_agent(\n",
    "    film_agent[0],\n",
    "    kb_config['kb_instruction'],\n",
    "    kb_config['kb_id']\n",
    ")\n",
    "time.sleep(20)"
   ]
  },
  {
   "cell_type": "markdown",
   "id": "dee1b979-3888-4654-9aaf-151c3c1e01f0",
   "metadata": {},
   "source": [
    "## Test Knowledge Base W/ Agent"
   ]
  },
  {
   "cell_type": "code",
   "execution_count": 25,
   "id": "b16e1b89-f807-4412-8bbc-57f92aa2f8a9",
   "metadata": {},
   "outputs": [],
   "source": [
    "session_state = {\n",
    "    'knowledgeBaseConfigurations': [\n",
    "            {\n",
    "                'knowledgeBaseId': kb_config['kb_id'],\n",
    "                'retrievalConfiguration': {\n",
    "                    'vectorSearchConfiguration': {\n",
    "                        'implicitFilterConfiguration': {\n",
    "                            'metadataAttributes': [\n",
    "                                {\n",
    "                                    'description': 'this is the name of the director',\n",
    "                                    'key': 'Director',\n",
    "                                    'type': 'STRING'\n",
    "                                },\n",
    "                            ],\n",
    "                            'modelArn': \"anthropic.claude-3-5-sonnet-20241022-v2:0\"\n",
    "                        },\n",
    "                        'numberOfResults': 1,\n",
    "                        'overrideSearchType': 'HYBRID'\n",
    "                    }\n",
    "                }\n",
    "            },\n",
    "        ]\n",
    "}"
   ]
  },
  {
   "cell_type": "code",
   "execution_count": 26,
   "id": "52567438-789d-41fb-97f2-73d18cd18159",
   "metadata": {},
   "outputs": [
    {
     "name": "stdout",
     "output_type": "stream",
     "text": [
      "invokeAgent API request ID: 2713edb7-b32a-4a3a-a4b4-2f0ca661ec05\n",
      "invokeAgent API session ID: da3d87cc-3105-43de-888f-b2f36e0a3329\n",
      "  agent id: 1JQBILFDE7, agent alias id: TSTALIASID\n",
      "\u001b[35mUsing knowledge base id: 0VCHHJMGFA to search for:\u001b[0m\n",
      "\u001b[35m  which film is directored by Curtis Clark\n",
      "\u001b[0m\n",
      "\u001b[35mKnowledge base lookup output, 1 references:\n",
      "\u001b[0m\n",
      "\u001b[35m  (1) Title: Meridian (Short 2016)\n",
      "\n",
      "Storyline: In 1947 Los Angeles, veteran detective Mac Foster talks with his younger partner Jake Sullivan about the disappearance of three men near a rock overlooking a beach. Mac explains that the three had no connection to one another, except that they were all divorc...\n",
      "\u001b[0m\n",
      "\u001b[32m---- Step 1 ----\u001b[0m\n",
      "\u001b[33mTook 3.5s, using 771 tokens (in: 708, out: 63) to complete prior action, observe, orchestrate.\u001b[0m\n",
      "\u001b[36mFinal response:\n",
      "Curtis Clark directed the 2016 short film \"Meridian.\"...\u001b[0m\n",
      "got 1 citations \n",
      "\n",
      "\u001b[33mAgent made a total of 1 LLM calls, using 771 tokens (in: 708, out: 63), and took 3.6 total seconds\u001b[0m\n",
      "====================\n",
      "Curtis Clark directed the 2016 short film \"Meridian.\" [s3://f-agent-us-west-2-376-us-west-2-376678947624/meridian.txt] \n",
      "CPU times: user 20.7 ms, sys: 4.18 ms, total: 24.9 ms\n",
      "Wall time: 3.62 s\n"
     ]
    }
   ],
   "source": [
    "%%time\n",
    "import uuid\n",
    "\n",
    "response = agents.invoke(\n",
    "    input_text=f\"which film is directored by Curtis Clark\", \n",
    "    agent_id=film_agent[0], \n",
    "    enable_trace=True,\n",
    "    session_id=str(uuid.uuid4()),\n",
    "    session_state=session_state\n",
    ")\n",
    "print(\"====================\")\n",
    "print(response)"
   ]
  },
  {
   "cell_type": "code",
   "execution_count": 29,
   "id": "3c6586f7-50af-446f-b2f2-0fa824bef1e0",
   "metadata": {},
   "outputs": [
    {
     "name": "stdout",
     "output_type": "stream",
     "text": [
      "Stored 'knowledge_base_name' (str)\n",
      "Stored 'kb_config' (dict)\n",
      "Stored 'agent_instruction' (str)\n",
      "Stored 'agent_name' (str)\n"
     ]
    }
   ],
   "source": [
    "%store knowledge_base_name\n",
    "%store kb_config\n",
    "%store agent_instruction\n",
    "%store agent_name"
   ]
  },
  {
   "cell_type": "markdown",
   "id": "7c7d6176-c4fd-4688-9786-4685d48db821",
   "metadata": {},
   "source": [
    "### Creating Lambda"
   ]
  },
  {
   "cell_type": "code",
   "execution_count": 30,
   "id": "1e308978-03fe-469e-9bc5-76f49949faa4",
   "metadata": {},
   "outputs": [
    {
     "name": "stdout",
     "output_type": "stream",
     "text": [
      "Overwriting detection.py\n"
     ]
    }
   ],
   "source": [
    "%%writefile detection.py\n",
    "import boto3\n",
    "import json\n",
    "import os\n",
    "import time\n",
    "from boto3.dynamodb.conditions import Key, Attr\n",
    "\n",
    "## DynamoDB parameters\n",
    "dynamodb_resource = boto3.resource('dynamodb')\n",
    "cast_table = os.getenv('cast_table')\n",
    "cast_pk = os.getenv('cast_pk')\n",
    "\n",
    "## Rekognition parameters\n",
    "rek_client = boto3.client('rekognition')\n",
    "\n",
    "def get_named_parameter(event, name):\n",
    "    try:\n",
    "        return next(item for item in event['parameters'] if item['name'] == name)['value']\n",
    "    except StopIteration:\n",
    "        raise ValueError(f\"Required parameter '{name}' not found in event\")\n",
    "        \n",
    "def get_cast_member(cast_id):\n",
    "    try:\n",
    "        table = dynamodb_resource.Table(cast_table)\n",
    "        key_expression = Key(cast_pk).eq(cast_id)\n",
    "        query_data = table.query(\n",
    "                KeyConditionExpression=key_expression\n",
    "            )\n",
    "        return query_data['Items']\n",
    "    except Exception:\n",
    "        print(f'Error querying table: {cast_table}.')\n",
    "\n",
    "def start_celebrity_detection(bucket, video_key):\n",
    "    response = rek_client.start_celebrity_recognition(\n",
    "        Video={\n",
    "            'S3Object': {\n",
    "                'Bucket': bucket,\n",
    "                'Name': video_key\n",
    "            }\n",
    "        }\n",
    "    )\n",
    "    return response['JobId']\n",
    "\n",
    "def get_celebrity_detection_results(job_id):\n",
    "    response = rek_client.get_celebrity_recognition(JobId=job_id)\n",
    "    return response\n",
    "\n",
    "def extract_bucket_key(video_s3_path):\n",
    "    path = video_s3_path[5:]  # Remove 's3://'\n",
    "    bucket, key = path.split('/', 1)  # Split into bucket and key   \n",
    "    return bucket, key\n",
    "\n",
    "def detect_key_figures(video_s3_path):\n",
    "    bucket, key = extract_bucket_key(video_s3_path)\n",
    "    \n",
    "    job_id = start_celebrity_detection(bucket, key)\n",
    "    print(f\"Started celebrity detection job: {job_id}\")\n",
    "\n",
    "    while True:\n",
    "        response = get_celebrity_detection_results(job_id)\n",
    "        status = response['JobStatus']\n",
    "        \n",
    "        if status in ['SUCCEEDED', 'FAILED']:\n",
    "            print(\"JOB COMPLETE....\")\n",
    "            break\n",
    "        \n",
    "        print(\"Job in progress...\")\n",
    "        time.sleep(10)\n",
    "\n",
    "    unique_celebrities = {}  # Dictionary to store unique celebrities\n",
    "\n",
    "    if status == 'SUCCEEDED':\n",
    "        for celebrity in response['Celebrities']:\n",
    "            celeb = celebrity['Celebrity']\n",
    "            \n",
    "            # Only process celebrities with 95%+ confidence\n",
    "            if celeb['Confidence'] >= 95.0:\n",
    "                celeb_id = celeb['Id']\n",
    "                \n",
    "                # Store or update celebrity info only if not already stored\n",
    "                if celeb_id not in unique_celebrities:\n",
    "                    celebrity_info = {\n",
    "                        'name': celeb['Name'],\n",
    "                        'confidence': celeb['Confidence'],\n",
    "                        'id': celeb_id,\n",
    "                        'first_appearance': celebrity['Timestamp']\n",
    "                    }\n",
    "                    \n",
    "                    # If you have additional celebrity info in DynamoDB\n",
    "                    try:\n",
    "                        query_items = get_cast_member(celeb_id)\n",
    "                        if query_items:\n",
    "                            celebrity_info.update(query_items[0])\n",
    "                    except Exception as e:\n",
    "                        print(f\"Error fetching additional celebrity info: {str(e)}\")\n",
    "                    \n",
    "                    unique_celebrities[celeb_id] = celebrity_info\n",
    "    else:\n",
    "        print(\"Detection failed....\")\n",
    "\n",
    "    # Convert the dictionary values to a list for the final output\n",
    "    final_output = list(unique_celebrities.values())\n",
    "    return final_output\n",
    "\n",
    "def populate_function_response(event, response_body):\n",
    "    return {\n",
    "        'response': {\n",
    "            'actionGroup': event['actionGroup'],\n",
    "            'function': event['function'],\n",
    "            'functionResponse': {\n",
    "                'responseBody': {\n",
    "                    'TEXT': {\n",
    "                        'body': str(response_body)\n",
    "                    }\n",
    "                }\n",
    "            }\n",
    "        }\n",
    "    }\n",
    "    \n",
    "def lambda_handler(event, context):\n",
    "    print(event)\n",
    "    \n",
    "    function = event.get('function', '')\n",
    "    parameters = event.get('parameters', [])\n",
    "    video_s3_path = get_named_parameter(event, \"video_s3_path\")\n",
    "\n",
    "    if function == 'detect_key_figures':\n",
    "        result = detect_key_figures(video_s3_path)\n",
    "    else:\n",
    "        result = f\"Error, function '{function}' not recognized\"\n",
    "\n",
    "    response = populate_function_response(event, result)\n",
    "    print(response)\n",
    "    return response"
   ]
  },
  {
   "cell_type": "code",
   "execution_count": 31,
   "id": "a0596db1-cc50-47a2-bce3-8606bc0ae8cb",
   "metadata": {},
   "outputs": [],
   "source": [
    "functions_def = [\n",
    "    {\n",
    "        \"name\": \"detect_key_figures\",\n",
    "        \"description\": \"\"\"Detect key figures (celebrity, cast member) from a video\n",
    "        and retrieve information about their position and team\"\"\",\n",
    "        \"parameters\": {\n",
    "            \"video_s3_path\": {\n",
    "                \"description\": \"S3 location of the video (e.g: s3://......)\",\n",
    "                \"required\": True,\n",
    "                \"type\": \"string\"\n",
    "            }\n",
    "        }\n",
    "    }\n",
    "]"
   ]
  },
  {
   "cell_type": "markdown",
   "id": "d54bf783-de09-4a1a-9c0b-e1123f0eceff",
   "metadata": {},
   "source": [
    "### Creating action group and attaching to the agent\n",
    "Now it's time to add this Lambda function and the function details as an action group for this agent and prepare it."
   ]
  },
  {
   "cell_type": "code",
   "execution_count": 32,
   "id": "ab39fd18-8f33-4bca-ad47-1ca8e50174f3",
   "metadata": {},
   "outputs": [],
   "source": [
    "agents.add_lambda_action_group_with_rek(\n",
    "    agent_name=agent_name,\n",
    "    lambda_function_name=lambda_name,\n",
    "    source_code_file=\"detection.py\",\n",
    "    agent_functions=functions_def,\n",
    "    agent_action_group_name=\"key_figure_detection_actions\",\n",
    "    agent_action_group_description=\"Functions to identify key figures and look up cast members and their role from the video\",\n",
    "    env_args=env_args\n",
    ")\n",
    "time.sleep(30)"
   ]
  },
  {
   "cell_type": "markdown",
   "id": "b1e94f07-0748-474e-9817-7eda0a31af4c",
   "metadata": {},
   "source": [
    "### > Loading dynamoDB"
   ]
  },
  {
   "cell_type": "code",
   "execution_count": 33,
   "id": "2fff19f1-753e-4386-a0f7-a37a6211314d",
   "metadata": {},
   "outputs": [],
   "source": [
    "# Open and read the JSONL file\n",
    "with open('cast_members.jsonl', 'r') as file:\n",
    "    table_items = [json.loads(line.strip()) for line in file]\n",
    "\n",
    "agents.load_dynamodb(cast_table, table_items)"
   ]
  },
  {
   "cell_type": "code",
   "execution_count": 34,
   "id": "f1598db1-4560-4d77-9571-bd3078a1a70d",
   "metadata": {},
   "outputs": [
    {
     "data": {
      "text/plain": [
       "[{'film': 'Meridian',\n",
       "  'id': '4kn3Xu8r',\n",
       "  'role': 'Mac Foster',\n",
       "  'name': 'Kevin Kilner,'}]"
      ]
     },
     "execution_count": 34,
     "metadata": {},
     "output_type": "execute_result"
    }
   ],
   "source": [
    "resp = agents.query_dynamodb(\n",
    "    cast_table, cast_pk, '4kn3Xu8r'\n",
    ")\n",
    "resp"
   ]
  },
  {
   "cell_type": "code",
   "execution_count": 36,
   "id": "bcab31ba-e58a-4d0d-9f6b-692c46083791",
   "metadata": {},
   "outputs": [
    {
     "name": "stdout",
     "output_type": "stream",
     "text": [
      "Stored 'cast_table' (str)\n",
      "Stored 'cast_pk' (str)\n",
      "Stored 'film_video_s3_path' (str)\n"
     ]
    }
   ],
   "source": [
    "%store cast_table\n",
    "%store cast_pk\n",
    "%store film_video_s3_path"
   ]
  },
  {
   "cell_type": "markdown",
   "id": "8589e91e-7dfd-43f0-904f-e2242fb56367",
   "metadata": {},
   "source": [
    "### Test Agent"
   ]
  },
  {
   "cell_type": "code",
   "execution_count": 28,
   "id": "b18891eb-9bbe-40cf-85a8-98b08628b0f1",
   "metadata": {},
   "outputs": [],
   "source": [
    "session_state = {\n",
    "    'promptSessionAttributes': {\n",
    "        \"<video_analysis>\": json.dumps(video_analysis),\n",
    "        \"<video_s3_path>\": film_video_s3_path,\n",
    "    },\n",
    "    'knowledgeBaseConfigurations': [\n",
    "            {\n",
    "                'knowledgeBaseId': kb_config['kb_id'],\n",
    "                'retrievalConfiguration': {\n",
    "                    'vectorSearchConfiguration': {\n",
    "                        'implicitFilterConfiguration': {\n",
    "                            'metadataAttributes': [\n",
    "                                {\n",
    "                                    'description': 'this is the name of the director',\n",
    "                                    'key': 'Director',\n",
    "                                    'type': 'STRING'\n",
    "                                },\n",
    "                            ],\n",
    "                            'modelArn': \"anthropic.claude-3-5-sonnet-20241022-v2:0\"\n",
    "                        },\n",
    "                        'numberOfResults': 1,\n",
    "                        'overrideSearchType': 'HYBRID'\n",
    "                    }\n",
    "                }\n",
    "            },\n",
    "        ]\n",
    "}"
   ]
  },
  {
   "cell_type": "code",
   "execution_count": 29,
   "id": "9c5f64f4-a6b8-4800-bf53-3271f825b324",
   "metadata": {},
   "outputs": [
    {
     "name": "stdout",
     "output_type": "stream",
     "text": [
      "invokeAgent API request ID: 4c96b614-3e02-4843-905e-c1b62665820b\n",
      "invokeAgent API session ID: 94f20e87-24de-43fe-b3a7-c6020e421e3f\n",
      "  agent id: YMRXSPKGV0, agent alias id: TSTALIASID\n",
      "\u001b[32m---- Step 1 ----\u001b[0m\n",
      "\u001b[33mTook 6.2s, using 2109 tokens (in: 1937, out: 172) to complete prior action, observe, orchestrate.\u001b[0m\n",
      "\u001b[34mLet me analyze this request. I have a video clip and its analysis that appears to be about mysterious disappearances near El Matador in 1950s Los Angeles. I should:\n",
      "1. Search the knowledge base to identify the film based on these plot details\n",
      "2. Verify by detecting key figures from the video\u001b[0m\n",
      "\u001b[35mUsing knowledge base id: VBY6Z2TPPF to search for:\u001b[0m\n",
      "\u001b[35m  movie about disappearances near El Matador rock formation 1950s Los Angeles woman in white dress\n",
      "\u001b[0m\n",
      "\u001b[35mKnowledge base lookup output, 1 references:\n",
      "\u001b[0m\n",
      "\u001b[35m  (1) Title: Meridian (Short 2016)\n",
      "\n",
      "Storyline: In 1947 Los Angeles, veteran detective Mac Foster talks with his younger partner Jake Sullivan about the disappearance of three men near a rock overlooking a beach. Mac explains that the three had no connection to one another, except that they were all divorc...\n",
      "\u001b[0m\n",
      "\u001b[32m---- Step 2 ----\u001b[0m\n",
      "\u001b[33mTook 5.5s, using 150 tokens (in: 0, out: 150) to complete prior action, observe, orchestrate.\u001b[0m\n",
      "\u001b[32m---- Step 3 ----\u001b[0m\n",
      "\u001b[33mTook 3.7s, using 2418 tokens (in: 2294, out: 124) to complete prior action, observe, orchestrate.\u001b[0m\n",
      "\u001b[34mLet me also check for key figures in the video to further confirm this identification.\u001b[0m\n",
      "\u001b[35mUsing tool: detect_key_figures with these inputs:\u001b[0m\n",
      "\u001b[35m[{'name': 'video_s3_path', 'type': 'string', 'value': 's3://sagemaker-us-west-2-241533163649/media-operations-agent-claude/Meridian_summary.mp4'}]\n",
      "\u001b[0m\n",
      "\u001b[35m--tool outputs:\n",
      "[{'name': 'Kevin Kilner,', 'confidence': 99.74896240234375, 'id': '4kn3Xu8r', 'first_appearance': 10477, 'film': 'Meridian', 'role': 'Mac Foster'}, {'name': 'Reid Scott', 'confidence': 99.96219635009766, 'id': '3AE9xu9k', 'first_appearance': 25158, 'film': 'Meridian', 'role': 'Jake Sullivan'}]...\n",
      "\u001b[0m\n",
      "\u001b[32m---- Step 4 ----\u001b[0m\n",
      "\u001b[33mTook 46.0s, using 2680 tokens (in: 2561, out: 119) to complete prior action, observe, orchestrate.\u001b[0m\n",
      "\u001b[34mBased on both the knowledge base search and the key figure detection, I can now confidently identify this film.\u001b[0m\n",
      "\u001b[36mFinal response:\n",
      "\n",
      "This clip is from the film \"Meridian\" (2016). This is confirmed by both the plot details and the appearance of actors Kevin Kilner (as Mac Foster) and Reid Scott (as Jake Sullivan) in the footage.\n",
      "\n",
      "...\u001b[0m\n",
      "got 1 citations \n",
      "\n",
      "\u001b[33mAgent made a total of 4 LLM calls, using 7357 tokens (in: 6792, out: 565), and took 61.6 total seconds\u001b[0m\n",
      "====================\n",
      "\n",
      "This clip is from the film \"Meridian\" (2016). This is confirmed by both the plot details and the appearance of actors Kevin Kilner (as Mac Foster) and Reid Scott (as Jake Sullivan) in the footage.\n",
      " [s3://f-agent-us-west-2-241-us-west-2-241533163649/meridian.txt] \n",
      "CPU times: user 15.1 ms, sys: 7.38 ms, total: 22.5 ms\n",
      "Wall time: 1min 1s\n"
     ]
    }
   ],
   "source": [
    "%%time\n",
    "response = agents.invoke(\n",
    "    input_text=f\"\"\"\n",
    "    Here is a clip extraction:\n",
    "    $prompt_session_attributes.video_analysis$\n",
    "\n",
    "    if needed, here is the s3 location of the video:\n",
    "    $prompt_session_attributes.video_s3_path$\n",
    "    \n",
    "    can you tell me which film is this clip from?\n",
    "    \"\"\", \n",
    "    agent_id=film_agent[0],\n",
    "    enable_trace=True,\n",
    "    session_id=str(uuid.uuid4()),\n",
    "    session_state=session_state\n",
    ")\n",
    "print(\"====================\")\n",
    "print(response)"
   ]
  },
  {
   "cell_type": "markdown",
   "id": "e2e40070-ca2e-4686-a00c-3e761420e442",
   "metadata": {},
   "source": [
    "### Create alias\n",
    "\n",
    "As you can see, you can use your agent with the `TSTALIASID` to complete tasks. \n",
    "However, for multi-agents collaboration it is expected that you first test your agent and only use it once it is fully functional. \n",
    "Therefore to use an agent as a sub-agent in a multi-agent collaboration you first need to create an agent alias and connect it to a new version. \n",
    "\n",
    "Since we've tested and validated our agent, let's now create an alias for it:"
   ]
  },
  {
   "cell_type": "code",
   "execution_count": 30,
   "id": "888944ee-4512-4cea-8b33-c2a0cf5e8c7a",
   "metadata": {},
   "outputs": [],
   "source": [
    "film_agent_alias_id, film_agent_alias_arn = agents.create_agent_alias(\n",
    "    film_agent[0], 'v1'\n",
    ")"
   ]
  },
  {
   "cell_type": "markdown",
   "id": "54a085a3-f535-4baa-a365-867c15368eca",
   "metadata": {},
   "source": [
    "### Saving Information"
   ]
  },
  {
   "cell_type": "code",
   "execution_count": 31,
   "id": "7ede6d38-59be-43c7-8a96-8a8296a9bf40",
   "metadata": {},
   "outputs": [
    {
     "name": "stdout",
     "output_type": "stream",
     "text": [
      "Stored 'film_agent_alias_id' (str)\n",
      "Stored 'film_agent_alias_arn' (str)\n",
      "Stored 'film_agent_arn' (str)\n",
      "Stored 'film_agent_id' (str)\n",
      "Stored 'film_kb' (str)\n",
      "Stored 'film_agent_name' (str)\n",
      "Stored 'film_kb_id' (str)\n",
      "Stored 'film_kb_arn' (str)\n",
      "Stored 'film_kb_description' (str)\n",
      "Stored 'film_kb_name' (str)\n",
      "Stored 'film_video_analysis' (dict)\n",
      "Stored 'film_video_s3_path' (str)\n"
     ]
    }
   ],
   "source": [
    "film_agent_arn = agents.get_agent_arn_by_name(agent_name)\n",
    "film_agent_id = film_agent[0]\n",
    "film_kb = knowledge_base_name\n",
    "film_agent_name = agent_name\n",
    "film_kb_id = kb_config['kb_id']\n",
    "film_kb_arn = kb_arn\n",
    "film_kb_description = knowledge_base_description\n",
    "film_kb_name = knowledge_base_name\n",
    "film_video_analysis = video_analysis\n",
    "\n",
    "%store film_agent_alias_id\n",
    "%store film_agent_alias_arn\n",
    "%store film_agent_arn\n",
    "%store film_agent_id\n",
    "%store film_kb\n",
    "%store film_agent_name\n",
    "%store film_kb_id\n",
    "%store film_kb_arn\n",
    "%store film_kb_description\n",
    "%store film_kb_name\n",
    "\n",
    "%store film_video_analysis\n",
    "%store film_video_s3_path"
   ]
  },
  {
   "cell_type": "markdown",
   "id": "52a845fd-100d-4346-8b77-699e7fe98e92",
   "metadata": {},
   "source": [
    "### Clean Up"
   ]
  },
  {
   "cell_type": "code",
   "execution_count": null,
   "id": "437e4916-dc1d-43ba-b090-8de199fd9172",
   "metadata": {},
   "outputs": [],
   "source": [
    "# agents.delete_agent(agent_name)"
   ]
  },
  {
   "cell_type": "code",
   "execution_count": null,
   "id": "b25f238f-1b55-4339-8987-d59ed89f4d5f",
   "metadata": {
    "scrolled": true
   },
   "outputs": [],
   "source": [
    "# kb.delete_kb(knowledge_base_name)"
   ]
  },
  {
   "cell_type": "code",
   "execution_count": null,
   "id": "35183d3b-ef5d-4bb9-9f6c-d28e9c392f3d",
   "metadata": {},
   "outputs": [],
   "source": [
    "# agents.delete_lambda(lambda_function_name=lambda_name)"
   ]
  },
  {
   "cell_type": "code",
   "execution_count": null,
   "id": "2dcea2e5-6263-465e-a849-e3fe1bbbd05e",
   "metadata": {},
   "outputs": [],
   "source": [
    "# #delete BDA project\n",
    "# response = bda_client.delete_data_automation_project(\n",
    "#     projectArn=video_project_arn\n",
    "# )"
   ]
  },
  {
   "cell_type": "code",
   "execution_count": null,
   "id": "3251adba-6c70-43cf-a874-2ed7ecabb3f3",
   "metadata": {},
   "outputs": [],
   "source": []
  }
 ],
 "metadata": {
  "kernelspec": {
   "display_name": "Python 3 (ipykernel)",
   "language": "python",
   "name": "python3"
  },
  "language_info": {
   "codemirror_mode": {
    "name": "ipython",
    "version": 3
   },
   "file_extension": ".py",
   "mimetype": "text/x-python",
   "name": "python",
   "nbconvert_exporter": "python",
   "pygments_lexer": "ipython3",
   "version": "3.11.10"
  }
 },
 "nbformat": 4,
 "nbformat_minor": 5
}
