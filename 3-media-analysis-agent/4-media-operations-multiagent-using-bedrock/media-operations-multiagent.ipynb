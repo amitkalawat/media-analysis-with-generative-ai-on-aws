{
 "cells": [
  {
   "cell_type": "markdown",
   "id": "fb8d63a2-913e-498a-a01a-5e66a39bf3e7",
   "metadata": {
    "pycharm": {
     "name": "#%% md\n"
    }
   },
   "source": [
    "# Lab 4. Media Operations Agent Collaborator"
   ]
  },
  {
   "cell_type": "markdown",
   "id": "63678eaa-8830-4cbe-94af-5ebd8b0e03e0",
   "metadata": {
    "pycharm": {
     "name": "#%% md\n"
    }
   },
   "source": [
    "## Introduction\n",
    "\n",
    "In this notebook we show you how to create multi-agent collaborator feature on Amazon Bedrock.\n",
    "\n",
    "[Multi-agent Collaboration](https://docs.aws.amazon.com/bedrock/latest/userguide/agents-multi-agents-collaboration.html) is a Amazon Bedrock Agents native capability that enables a hierarchical collaboration between agents. You can now enable agent collaboration and associate secondary agents to a supervisor one. These secondary agents can be any existing agent within the same account, including agents that have collaboration themselves. This composable pattern allows you to build a chain of agents, as shown in the figure below.\n",
    "\n",
    "![collaboration_hierarch](static/multi-agent_flow.png)\n",
    "\n",
    "In this lab, we will create a supervisor agent that interacts with the subagents created in the previous lab."
   ]
  },
  {
   "cell_type": "markdown",
   "id": "b3ba49fa-3293-4ea6-8dee-fb9f410c6481",
   "metadata": {
    "pycharm": {
     "name": "#%% md\n"
    }
   },
   "source": [
    "## Setup\n",
    "\n",
    "Make sure that your boto3 version is the latest one."
   ]
  },
  {
   "cell_type": "code",
   "execution_count": 221,
   "id": "1895b3fc",
   "metadata": {
    "pycharm": {
     "name": "#%%\n"
    }
   },
   "outputs": [
    {
     "name": "stdout",
     "output_type": "stream",
     "text": [
      "boto3==1.37.7\n"
     ]
    }
   ],
   "source": [
    "!pip freeze | grep boto3"
   ]
  },
  {
   "cell_type": "markdown",
   "id": "ccf37dd5-bfaf-4563-a6ad-f9d7637c6e43",
   "metadata": {
    "pycharm": {
     "name": "#%% md\n"
    }
   },
   "source": [
    "### Creating Agent\n",
    "\n",
    "On this section we're going to declare global variables that will be act as helpers during entire notebook and you will start to create your agent."
   ]
  },
  {
   "cell_type": "code",
   "execution_count": 222,
   "id": "277a742a-5f17-4dfc-ac36-1b70ce8f4f7d",
   "metadata": {
    "pycharm": {
     "name": "#%%\n"
    }
   },
   "outputs": [],
   "source": [
    "import boto3\n",
    "\n",
    "sts_client = boto3.client('sts')\n",
    "session = boto3.session.Session()\n",
    "\n",
    "account_id = sts_client.get_caller_identity()[\"Account\"]\n",
    "region = session.region_name\n",
    "account_id_suffix = account_id[:3]\n",
    "agent_suffix = f\"{region}-{account_id_suffix}\"\n",
    "\n",
    "agent_foundation_model = [\n",
    "    # 'us.amazon.nova-pro-v1:0',\n",
    "    'us.anthropic.claude-3-5-sonnet-20241022-v2:0',\n",
    "    'us.anthropic.claude-3-5-sonnet-20240620-v1:0',\n",
    "    'anthropic.claude-3-sonnet-20240229-v1:0',\n",
    "    'anthropic.claude-3-haiku-20240307-v1:0'\n",
    "]"
   ]
  },
  {
   "cell_type": "code",
   "execution_count": 223,
   "id": "a27cc6c8-4faa-4adc-90c8-7ace112877e1",
   "metadata": {
    "pycharm": {
     "name": "#%%\n"
    }
   },
   "outputs": [],
   "source": [
    "agent_name = f\"su-agent-{agent_suffix}\"\n",
    "\n",
    "agent_role_name = f'AmazonBedrockExecutionRoleForAgents_{agent_name}'"
   ]
  },
  {
   "cell_type": "code",
   "execution_count": 224,
   "id": "17552795-8702-4ae8-8d9c-b3975f5ae202",
   "metadata": {},
   "outputs": [
    {
     "data": {
      "text/plain": [
       "'su-agent-us-west-2-241-us-west-2-241533163649'"
      ]
     },
     "execution_count": 224,
     "metadata": {},
     "output_type": "execute_result"
    }
   ],
   "source": [
    "knowledge_base_name = f'{agent_name}'\n",
    "knowledge_base_description = \"This knowledge base contain guideline requirements and output schema for different type of video posts\"\n",
    "\n",
    "suffix = f\"{region}-{account_id}\"\n",
    "bucket_name = f'{agent_name}-{suffix}'\n",
    "\n",
    "bucket_name"
   ]
  },
  {
   "cell_type": "markdown",
   "id": "137601c6",
   "metadata": {
    "pycharm": {
     "name": "#%% md\n"
    }
   },
   "source": [
    "### Importing helper functions\n",
    "\n",
    "On following section, we're adding `bedrock_agent_helper.py` on Python path, so the files can be recognized and their functionalities can be invoked.\n",
    "\n",
    "Now, you're going to import from helper classes `bedrock_agent_helper.py`.\n",
    " \n",
    "Those files contain helper classes totally focused on make labs experience smoothly. \n",
    "\n",
    "All interactions with Bedrock will be handled by these classes.\n",
    "\n",
    "Following are methods that you're going to invoke on this lab:\n",
    "\n",
    "On `agents.py`:\n",
    "\n",
    "- `create_agent`: Create a new agent and respective IAM roles\n",
    "- `associate_agents`: Associate sub-agents with multi-agent collaborator"
   ]
  },
  {
   "cell_type": "code",
   "execution_count": 225,
   "id": "bcad12b0",
   "metadata": {
    "pycharm": {
     "name": "#%%\n"
    }
   },
   "outputs": [],
   "source": [
    "import sys\n",
    "import uuid\n",
    "import time\n",
    "import json\n",
    "\n",
    "sys.path.insert(0, '..')\n",
    "\n",
    "from helper.bedrock_agent_helper import (\n",
    "    AgentsForAmazonBedrock\n",
    ")\n",
    "from helper.knowledge_base_helper import (\n",
    "    KnowledgeBasesForAmazonBedrock\n",
    ")\n",
    "agents = AgentsForAmazonBedrock()\n",
    "kb = KnowledgeBasesForAmazonBedrock()"
   ]
  },
  {
   "cell_type": "markdown",
   "id": "7120adde",
   "metadata": {
    "pycharm": {
     "name": "#%% md\n"
    }
   },
   "source": [
    "Create the media ops agent"
   ]
  },
  {
   "cell_type": "code",
   "execution_count": 226,
   "id": "e1e168c8-180f-4977-96dd-d8006436208b",
   "metadata": {
    "pycharm": {
     "name": "#%%\n"
    }
   },
   "outputs": [
    {
     "data": {
      "text/plain": [
       "('AD9HMFOUHU',\n",
       " 'TSTALIASID',\n",
       " 'arn:aws:bedrock:us-west-2:241533163649:agent-alias/AD9HMFOUHU/TSTALIASID')"
      ]
     },
     "execution_count": 226,
     "metadata": {},
     "output_type": "execute_result"
    }
   ],
   "source": [
    "media_ops_agent = agents.create_agent(\n",
    "    agent_name,\n",
    "    \"\"\"\n",
    "        You are a media ops helper bot.\n",
    "        You can help users analyze video and generate different type of post in compliance with organizational standards.\n",
    "    \"\"\",\n",
    "    \"\"\"\n",
    "        Your capabilities include:\n",
    "        <capabilities>\n",
    "        - Access to compliance documenation, can extract compliance requirements and output schema (DO NOT make up requirements)\n",
    "        - create and enhance different type of social, website, and internal logging post for videos.\n",
    "        - review and QC check post and create a list of violations base ONLY on the compliance documentation.\n",
    "        - Access to different tools to detect key figure, lookup film and event information.\n",
    "        </capabilities>\n",
    "\n",
    "        Core behaviors:\n",
    "        <behaviors>\n",
    "        1. Always use available information systems before asking customers for additional details\n",
    "        2. Maintain a professional yet conversational tone\n",
    "        3. Provide clear, direct answers without referencing internal systems or data sources\n",
    "        4. Present information in an easy-to-understand manner\n",
    "        5. Resist the temptation to ask the user for input. Only do so after you have exhausted available actions. \n",
    "        6. Never ask the user for information that you already can retrieve yourself through available actions.\n",
    "        </behaviors>\n",
    "    \"\"\",\n",
    "    agent_foundation_model,\n",
    "    agent_collaboration='SUPERVISOR'\n",
    ")\n",
    "\n",
    "media_ops_agent"
   ]
  },
  {
   "cell_type": "code",
   "execution_count": 227,
   "id": "2220a8a0",
   "metadata": {
    "pycharm": {
     "name": "#%%\n"
    }
   },
   "outputs": [
    {
     "name": "stdout",
     "output_type": "stream",
     "text": [
      "Stored 'media_ops_agent_id' (str)\n",
      "Stored 'media_ops_agent_name' (str)\n"
     ]
    }
   ],
   "source": [
    "media_ops_agent_name = agent_name\n",
    "media_ops_agent_id = media_ops_agent[0]\n",
    "%store media_ops_agent_id\n",
    "%store media_ops_agent_name"
   ]
  },
  {
   "cell_type": "markdown",
   "id": "24226dfa-a3ce-4ba3-bcff-da63e99af5c0",
   "metadata": {
    "pycharm": {
     "name": "#%% md\n"
    }
   },
   "source": [
    "### Associate Collaborators\n",
    "\n",
    "On this section, we're going to recover alias_id from previous agents (sub-agents) to add all of them inside energy one (which is multi-agent collaborator)."
   ]
  },
  {
   "cell_type": "code",
   "execution_count": 228,
   "id": "e26c8d0f",
   "metadata": {
    "pycharm": {
     "name": "#%%\n"
    }
   },
   "outputs": [
    {
     "data": {
      "text/plain": [
       "('arn:aws:bedrock:us-west-2:241533163649:agent-alias/Q35CY7LJXH/WDJVWHIQ3X',\n",
       " 'arn:aws:bedrock:us-west-2:241533163649:agent-alias/3C2MWJKT0D/IZ9Y83APAP',\n",
       " 'arn:aws:bedrock:us-west-2:241533163649:agent-alias/YMRXSPKGV0/C185HNE8PM',\n",
       " 'arn:aws:bedrock:us-west-2:241533163649:agent-alias/MLCUVGISY6/HLRZTEQL3T')"
      ]
     },
     "execution_count": 228,
     "metadata": {},
     "output_type": "execute_result"
    }
   ],
   "source": [
    "%store -r\n",
    "syn_agent_alias_arn, qc_agent_alias_arn, film_agent_alias_arn, sport_agent_alias_arn"
   ]
  },
  {
   "cell_type": "code",
   "execution_count": 229,
   "id": "a8368b8e",
   "metadata": {
    "pycharm": {
     "name": "#%%\n"
    }
   },
   "outputs": [],
   "source": [
    "sub_agents_list = [\n",
    "    {\n",
    "        'sub_agent_alias_arn': film_agent_alias_arn,\n",
    "        'sub_agent_instruction': \"\"\"Lookup film information like title, plotline, and etc. This agent can also identify cast member and their role from the film\"\"\",\n",
    "        'sub_agent_association_name': 'FilmAgent',\n",
    "        'relay_conversation_history': 'TO_COLLABORATOR'\n",
    "    },\n",
    "    {\n",
    "        'sub_agent_alias_arn': syn_agent_alias_arn,\n",
    "        'sub_agent_instruction': \"\"\"Create different types of video posts (Social Posts, Company Website, Internal Logs) or imporove existing post based on QC feedback.\"\"\",\n",
    "        'sub_agent_association_name': 'SynopsisAgent',\n",
    "        'relay_conversation_history': 'TO_COLLABORATOR'\n",
    "    },\n",
    "    {\n",
    "        'sub_agent_alias_arn': sport_agent_alias_arn,\n",
    "        'sub_agent_instruction': \"\"\"Lookup Sport event name or venu information and the athlete\"\"\",\n",
    "        'sub_agent_association_name': 'SportAgent',\n",
    "        'relay_conversation_history': 'TO_COLLABORATOR'\n",
    "    },\n",
    "    {\n",
    "        'sub_agent_alias_arn': qc_agent_alias_arn,\n",
    "        'sub_agent_instruction': \"\"\"Review different types of post against guidelines requirements and output schema, report any compliance violations.\"\"\",\n",
    "        'sub_agent_association_name': 'QCAgent',\n",
    "        'relay_conversation_history': 'TO_COLLABORATOR'\n",
    "    }\n",
    "]"
   ]
  },
  {
   "cell_type": "markdown",
   "id": "1b95cde7",
   "metadata": {
    "pycharm": {
     "name": "#%% md\n"
    }
   },
   "source": [
    "Check if parameters are correclty formated"
   ]
  },
  {
   "cell_type": "code",
   "execution_count": 230,
   "id": "1f384ec7",
   "metadata": {
    "pycharm": {
     "name": "#%%\n"
    }
   },
   "outputs": [
    {
     "data": {
      "text/plain": [
       "[{'sub_agent_alias_arn': 'arn:aws:bedrock:us-west-2:241533163649:agent-alias/YMRXSPKGV0/C185HNE8PM',\n",
       "  'sub_agent_instruction': 'Lookup film information like title, plotline, and etc. This agent can also identify cast member and their role from the film',\n",
       "  'sub_agent_association_name': 'FilmAgent',\n",
       "  'relay_conversation_history': 'TO_COLLABORATOR'},\n",
       " {'sub_agent_alias_arn': 'arn:aws:bedrock:us-west-2:241533163649:agent-alias/Q35CY7LJXH/WDJVWHIQ3X',\n",
       "  'sub_agent_instruction': 'Create different types of video posts (Social Posts, Company Website, Internal Logs) or imporove existing post based on QC feedback.',\n",
       "  'sub_agent_association_name': 'SynopsisAgent',\n",
       "  'relay_conversation_history': 'TO_COLLABORATOR'},\n",
       " {'sub_agent_alias_arn': 'arn:aws:bedrock:us-west-2:241533163649:agent-alias/MLCUVGISY6/HLRZTEQL3T',\n",
       "  'sub_agent_instruction': 'Lookup Sport event name or venu information and the athlete',\n",
       "  'sub_agent_association_name': 'SportAgent',\n",
       "  'relay_conversation_history': 'TO_COLLABORATOR'},\n",
       " {'sub_agent_alias_arn': 'arn:aws:bedrock:us-west-2:241533163649:agent-alias/3C2MWJKT0D/IZ9Y83APAP',\n",
       "  'sub_agent_instruction': 'Review different types of post against guidelines requirements and output schema, report any compliance violations.',\n",
       "  'sub_agent_association_name': 'QCAgent',\n",
       "  'relay_conversation_history': 'TO_COLLABORATOR'}]"
      ]
     },
     "execution_count": 230,
     "metadata": {},
     "output_type": "execute_result"
    }
   ],
   "source": [
    "sub_agents_list"
   ]
  },
  {
   "cell_type": "markdown",
   "id": "e548cace",
   "metadata": {
    "pycharm": {
     "name": "#%% md\n"
    }
   },
   "source": [
    "Associate all sub-agents with this one (main one)."
   ]
  },
  {
   "cell_type": "code",
   "execution_count": 231,
   "id": "cf73a655",
   "metadata": {
    "pycharm": {
     "name": "#%%\n"
    }
   },
   "outputs": [
    {
     "name": "stdout",
     "output_type": "stream",
     "text": [
      "Waiting for agent status to change. Current status PREPARING\n",
      "Agent id AD9HMFOUHU current status: PREPARED\n",
      "Waiting for agent status to change. Current status PREPARING\n",
      "Agent id AD9HMFOUHU current status: PREPARED\n",
      "Waiting for agent status to change. Current status PREPARING\n",
      "Agent id AD9HMFOUHU current status: PREPARED\n",
      "Waiting for agent status to change. Current status PREPARING\n",
      "Agent id AD9HMFOUHU current status: PREPARED\n"
     ]
    }
   ],
   "source": [
    "media_ops_agent_alias_id, media_ops_agent_alias_arn = agents.associate_sub_agents(\n",
    "    media_ops_agent_id, sub_agents_list\n",
    ")"
   ]
  },
  {
   "cell_type": "markdown",
   "id": "b0537737",
   "metadata": {
    "pycharm": {
     "name": "#%% md\n"
    }
   },
   "source": [
    "Check response return, to see all returned parameteres:"
   ]
  },
  {
   "cell_type": "code",
   "execution_count": 232,
   "id": "6b37f655-b174-4dab-aeac-0da8717cb15b",
   "metadata": {
    "pycharm": {
     "name": "#%%\n"
    }
   },
   "outputs": [
    {
     "name": "stdout",
     "output_type": "stream",
     "text": [
      "Stored 'media_ops_agent_alias_id' (str)\n",
      "Stored 'media_ops_agent_alias_arn' (str)\n"
     ]
    }
   ],
   "source": [
    "%store media_ops_agent_alias_id\n",
    "%store media_ops_agent_alias_arn"
   ]
  },
  {
   "cell_type": "code",
   "execution_count": 233,
   "id": "3df3ea28-ea31-4b47-b786-c04116bfd185",
   "metadata": {},
   "outputs": [
    {
     "name": "stdout",
     "output_type": "stream",
     "text": [
      "Supervisor agent name: su-agent-us-west-2-241 id: AD9HMFOUHU\n",
      "Synopsis agent name: syn-agent-us-west-2-241 id: Q35CY7LJXH alias_id: WDJVWHIQ3X\n",
      "QC agent name: qc-agent-us-west-2-241 id: 3C2MWJKT0D alias_id: IZ9Y83APAP\n",
      "Film agent name: f-agent-us-west-2-241 id: YMRXSPKGV0 alias_id: C185HNE8PM\n",
      "Sport agent name: s-agent-us-west-2-241 id: MLCUVGISY6 alias_id: HLRZTEQL3T\n"
     ]
    }
   ],
   "source": [
    "%store -r\n",
    "print(\"Supervisor agent name:\", agent_name, \"id:\", media_ops_agent_id)\n",
    "print(\"Synopsis agent name:\", syn_agent_name, \"id:\", syn_agent_id, \"alias_id:\", syn_agent_alias_id)\n",
    "print(\"QC agent name:\", qc_agent_name, \"id:\", qc_agent_id, \"alias_id:\", qc_agent_alias_id)\n",
    "print(\"Film agent name:\", film_agent_name, \"id:\", film_agent_id, \"alias_id:\", film_agent_alias_id)\n",
    "print(\"Sport agent name:\", sport_agent_name, \"id:\", sport_agent_id, \"alias_id:\", sport_agent_alias_id)"
   ]
  },
  {
   "cell_type": "markdown",
   "id": "f5ba6b64-c25a-4891-a9f0-c7292541304c",
   "metadata": {},
   "source": [
    "We can now set a dictionary with agents names for better visualization of the traces"
   ]
  },
  {
   "cell_type": "code",
   "execution_count": 234,
   "id": "6adb104f-b0e6-41e2-a5ed-de4812a637bb",
   "metadata": {},
   "outputs": [],
   "source": [
    "multi_agent_names = {\n",
    "    f\"{media_ops_agent_id}/{media_ops_agent_alias_id}\": agent_name,\n",
    "    f\"{syn_agent_id}/{syn_agent_alias_id}\": syn_agent_name,\n",
    "    f\"{qc_agent_id}/{qc_agent_alias_id}\": qc_agent_name,\n",
    "    f\"{film_agent_id}/{film_agent_alias_id}\": film_agent_name,\n",
    "    f\"{sport_agent_id}/{sport_agent_alias_id}\": sport_agent_name\n",
    "}"
   ]
  },
  {
   "cell_type": "markdown",
   "id": "0d4d37db-ba9c-41de-bc03-d1a70d4a6592",
   "metadata": {},
   "source": [
    "## Create and syncronize Knowledge Base\n",
    "\n",
    "On this section, you're going to create a Amazon Bedrock Knowledge Base and ingest data on it.\n",
    "\n",
    "This data contains basic information about how forecast process is done.\n",
    "\n",
    "**This creation process can take several minutes.**"
   ]
  },
  {
   "cell_type": "code",
   "execution_count": 235,
   "id": "a876f61b-899d-40a4-968f-2e8112edac0a",
   "metadata": {
    "scrolled": true
   },
   "outputs": [
    {
     "name": "stdout",
     "output_type": "stream",
     "text": [
      "Creating KB su-agent-us-west-2-241\n",
      "========================================================================================\n",
      "Step 1 - Creating or retrieving su-agent-us-west-2-241-us-west-2-241533163649 S3 bucket for Knowledge Base documents\n",
      "Creating bucket su-agent-us-west-2-241-us-west-2-241533163649\n",
      "========================================================================================\n",
      "Step 2 - Creating Knowledge Base Execution Role (AmazonBedrockExecutionRoleForKnowledgeBase_867) and Policies\n",
      "========================================================================================\n",
      "Step 3 - Creating OSS encryption, network and data access policies\n",
      "========================================================================================\n",
      "Step 4 - Creating OSS Collection (this step takes a couple of minutes to complete)\n",
      "{ 'ResponseMetadata': { 'HTTPHeaders': { 'connection': 'keep-alive',\n",
      "                                         'content-length': '318',\n",
      "                                         'content-type': 'application/x-amz-json-1.0',\n",
      "                                         'date': 'Fri, 21 Mar 2025 13:27:49 '\n",
      "                                                 'GMT',\n",
      "                                         'x-amzn-requestid': '87fe5a56-b9cb-42fb-a799-7203b9f4afb9'},\n",
      "                        'HTTPStatusCode': 200,\n",
      "                        'RequestId': '87fe5a56-b9cb-42fb-a799-7203b9f4afb9',\n",
      "                        'RetryAttempts': 0},\n",
      "  'createCollectionDetail': { 'arn': 'arn:aws:aoss:us-west-2:241533163649:collection/wf1dphrpyosb8fl9m3fh',\n",
      "                              'createdDate': 1742563669398,\n",
      "                              'id': 'wf1dphrpyosb8fl9m3fh',\n",
      "                              'kmsKeyArn': 'auto',\n",
      "                              'lastModifiedDate': 1742563669398,\n",
      "                              'name': 'su-agent-us-west-2-241-867',\n",
      "                              'standbyReplicas': 'ENABLED',\n",
      "                              'status': 'CREATING',\n",
      "                              'type': 'VECTORSEARCH'}}\n",
      "wf1dphrpyosb8fl9m3fh.us-west-2.aoss.amazonaws.com\n",
      "Creating collection...\n",
      "..............................\n",
      "Collection successfully created:\n",
      "[ { 'arn': 'arn:aws:aoss:us-west-2:241533163649:collection/wf1dphrpyosb8fl9m3fh',\n",
      "    'collectionEndpoint': 'https://wf1dphrpyosb8fl9m3fh.us-west-2.aoss.amazonaws.com',\n",
      "    'createdDate': 1742563669398,\n",
      "    'dashboardEndpoint': 'https://wf1dphrpyosb8fl9m3fh.us-west-2.aoss.amazonaws.com/_dashboards',\n",
      "    'id': 'wf1dphrpyosb8fl9m3fh',\n",
      "    'kmsKeyArn': 'auto',\n",
      "    'lastModifiedDate': 1742563692428,\n",
      "    'name': 'su-agent-us-west-2-241-867',\n",
      "    'standbyReplicas': 'ENABLED',\n",
      "    'status': 'ACTIVE',\n",
      "    'type': 'VECTORSEARCH'}]\n",
      "Opensearch serverless arn:  arn:aws:iam::241533163649:policy/AmazonBedrockOSSPolicyForKnowledgeBase_867\n",
      "Sleeping for a minute to ensure data access rules have been enforced\n",
      "========================================================================================\n",
      "Step 5 - Creating OSS Vector Index\n",
      "\n",
      "Creating index:\n",
      "{ 'acknowledged': True,\n",
      "  'index': 'su-agent-us-west-2-241-index-867',\n",
      "  'shards_acknowledged': True}\n",
      "========================================================================================\n",
      "Step 6 - Creating Knowledge Base\n",
      "{'type': 'VECTOR', 'vectorKnowledgeBaseConfiguration': {'embeddingModelArn': 'arn:aws:bedrock:us-west-2::foundation-model/amazon.titan-embed-text-v2:0'}}\n",
      "{ 'createdAt': datetime.datetime(2025, 3, 21, 13, 30, 20, 507862, tzinfo=tzlocal()),\n",
      "  'description': 'This knowledge base contain guideline requirements and '\n",
      "                 'output schema for different type of video posts',\n",
      "  'knowledgeBaseArn': 'arn:aws:bedrock:us-west-2:241533163649:knowledge-base/NHWQOW6QCP',\n",
      "  'knowledgeBaseConfiguration': { 'type': 'VECTOR',\n",
      "                                  'vectorKnowledgeBaseConfiguration': { 'embeddingModelArn': 'arn:aws:bedrock:us-west-2::foundation-model/amazon.titan-embed-text-v2:0'}},\n",
      "  'knowledgeBaseId': 'NHWQOW6QCP',\n",
      "  'name': 'su-agent-us-west-2-241',\n",
      "  'roleArn': 'arn:aws:iam::241533163649:role/AmazonBedrockExecutionRoleForKnowledgeBase_867',\n",
      "  'status': 'CREATING',\n",
      "  'storageConfiguration': { 'opensearchServerlessConfiguration': { 'collectionArn': 'arn:aws:aoss:us-west-2:241533163649:collection/wf1dphrpyosb8fl9m3fh',\n",
      "                                                                   'fieldMapping': { 'metadataField': 'text-metadata',\n",
      "                                                                                     'textField': 'text',\n",
      "                                                                                     'vectorField': 'vector'},\n",
      "                                                                   'vectorIndexName': 'su-agent-us-west-2-241-index-867'},\n",
      "                            'type': 'OPENSEARCH_SERVERLESS'},\n",
      "  'updatedAt': datetime.datetime(2025, 3, 21, 13, 30, 20, 507862, tzinfo=tzlocal())}\n",
      "{ 'createdAt': datetime.datetime(2025, 3, 21, 13, 30, 21, 39753, tzinfo=tzlocal()),\n",
      "  'dataDeletionPolicy': 'RETAIN',\n",
      "  'dataSourceConfiguration': { 's3Configuration': { 'bucketArn': 'arn:aws:s3:::su-agent-us-west-2-241-us-west-2-241533163649'},\n",
      "                               'type': 'S3'},\n",
      "  'dataSourceId': 'UZT6CCU2GN',\n",
      "  'description': 'This knowledge base contain guideline requirements and '\n",
      "                 'output schema for different type of video posts',\n",
      "  'knowledgeBaseId': 'NHWQOW6QCP',\n",
      "  'name': 'su-agent-us-west-2-241',\n",
      "  'status': 'AVAILABLE',\n",
      "  'updatedAt': datetime.datetime(2025, 3, 21, 13, 30, 21, 39753, tzinfo=tzlocal()),\n",
      "  'vectorIngestionConfiguration': { 'chunkingConfiguration': { 'chunkingStrategy': 'NONE'}}}\n",
      "========================================================================================\n",
      "Knowledge Base ID: NHWQOW6QCP\n",
      "Data Source ID: UZT6CCU2GN\n",
      "CPU times: user 298 ms, sys: 56.6 ms, total: 354 ms\n",
      "Wall time: 3min 33s\n"
     ]
    }
   ],
   "source": [
    "%%time\n",
    "kb_id, ds_id = kb.create_or_retrieve_knowledge_base(\n",
    "    knowledge_base_name,\n",
    "    knowledge_base_description,\n",
    "    bucket_name\n",
    ")\n",
    "\n",
    "print(f\"Knowledge Base ID: {kb_id}\")\n",
    "print(f\"Data Source ID: {ds_id}\")"
   ]
  },
  {
   "cell_type": "markdown",
   "id": "5b975244-7a12-4e9f-8abc-18ef869417ef",
   "metadata": {},
   "source": [
    "### Upload Standard Documents to S3"
   ]
  },
  {
   "cell_type": "code",
   "execution_count": 236,
   "id": "373505b9-ebb7-40c9-a0f3-22b55ae50cb0",
   "metadata": {},
   "outputs": [],
   "source": [
    "!rm -rf `find -type d -name .ipynb_checkpoints`"
   ]
  },
  {
   "cell_type": "code",
   "execution_count": 237,
   "id": "40d4f62b-35c8-44ed-92f9-fcb9a73e7dcb",
   "metadata": {},
   "outputs": [
    {
     "name": "stdout",
     "output_type": "stream",
     "text": [
      "upload: standards/logging.txt to s3://su-agent-us-west-2-241-us-west-2-241533163649/logging.txt\n",
      "upload: standards/website.txt to s3://su-agent-us-west-2-241-us-west-2-241533163649/website.txt\n",
      "upload: standards/logging.txt.metadata.json to s3://su-agent-us-west-2-241-us-west-2-241533163649/logging.txt.metadata.json\n",
      "upload: standards/social.txt to s3://su-agent-us-west-2-241-us-west-2-241533163649/social.txt\n",
      "upload: standards/social.txt.metadata.json to s3://su-agent-us-west-2-241-us-west-2-241533163649/social.txt.metadata.json\n",
      "upload: standards/website.txt.metadata.json to s3://su-agent-us-west-2-241-us-west-2-241533163649/website.txt.metadata.json\n"
     ]
    }
   ],
   "source": [
    "standards_folder = \"standards\"\n",
    "\n",
    "!aws s3 sync {standards_folder} s3://{bucket_name}/"
   ]
  },
  {
   "cell_type": "code",
   "execution_count": 238,
   "id": "bc51a07b-4bf2-4af2-9501-2736206394fc",
   "metadata": {},
   "outputs": [
    {
     "name": "stdout",
     "output_type": "stream",
     "text": [
      "{ 'dataSourceId': 'UZT6CCU2GN',\n",
      "  'ingestionJobId': 'OUCHOCWUTV',\n",
      "  'knowledgeBaseId': 'NHWQOW6QCP',\n",
      "  'startedAt': datetime.datetime(2025, 3, 21, 13, 31, 23, 594655, tzinfo=tzlocal()),\n",
      "  'statistics': { 'numberOfDocumentsDeleted': 0,\n",
      "                  'numberOfDocumentsFailed': 0,\n",
      "                  'numberOfDocumentsScanned': 0,\n",
      "                  'numberOfMetadataDocumentsModified': 0,\n",
      "                  'numberOfMetadataDocumentsScanned': 0,\n",
      "                  'numberOfModifiedDocumentsIndexed': 0,\n",
      "                  'numberOfNewDocumentsIndexed': 0},\n",
      "  'status': 'STARTING',\n",
      "  'updatedAt': datetime.datetime(2025, 3, 21, 13, 31, 23, 594655, tzinfo=tzlocal())}\n",
      "{ 'dataSourceId': 'UZT6CCU2GN',\n",
      "  'ingestionJobId': 'OUCHOCWUTV',\n",
      "  'knowledgeBaseId': 'NHWQOW6QCP',\n",
      "  'startedAt': datetime.datetime(2025, 3, 21, 13, 31, 23, 594655, tzinfo=tzlocal()),\n",
      "  'statistics': { 'numberOfDocumentsDeleted': 0,\n",
      "                  'numberOfDocumentsFailed': 0,\n",
      "                  'numberOfDocumentsScanned': 3,\n",
      "                  'numberOfMetadataDocumentsModified': 0,\n",
      "                  'numberOfMetadataDocumentsScanned': 3,\n",
      "                  'numberOfModifiedDocumentsIndexed': 0,\n",
      "                  'numberOfNewDocumentsIndexed': 3},\n",
      "  'status': 'COMPLETE',\n",
      "  'updatedAt': datetime.datetime(2025, 3, 21, 13, 31, 29, 765050, tzinfo=tzlocal())}\n"
     ]
    }
   ],
   "source": [
    "# sync knowledge base\n",
    "kb.synchronize_data(kb_id, ds_id)"
   ]
  },
  {
   "cell_type": "code",
   "execution_count": 239,
   "id": "130dfa39-b7a1-4dcb-9df2-306fffab8246",
   "metadata": {},
   "outputs": [],
   "source": [
    "kb_info = kb.get_kb(kb_id)\n",
    "kb_arn = kb_info['knowledgeBase']['knowledgeBaseArn']"
   ]
  },
  {
   "cell_type": "code",
   "execution_count": 240,
   "id": "c0bc15b4-6e24-47dd-920a-ffb359649d25",
   "metadata": {},
   "outputs": [],
   "source": [
    "kb_config = {\n",
    "    'kb_id': kb_id,\n",
    "    'kb_instruction': \"\"\"Use this knowledge base when you need to look up the guideline requirements and output schema (AS IS, NO paraphrasing or summary) for video post\"\"\"\n",
    "}"
   ]
  },
  {
   "cell_type": "markdown",
   "id": "14e8d1a2",
   "metadata": {
    "pycharm": {
     "name": "#%% md\n"
    }
   },
   "source": [
    "Store environment variables to be used on next notebooks."
   ]
  },
  {
   "cell_type": "markdown",
   "id": "b8ac12f4-bc3c-44f6-bc06-95e779bf250a",
   "metadata": {},
   "source": [
    "### Associating knowledge base\n",
    "Now that we've created the agent, let's associate the previously created knowledge base to it."
   ]
  },
  {
   "cell_type": "code",
   "execution_count": 241,
   "id": "f92906e0-d8aa-4e5e-8b4e-586852a2dad5",
   "metadata": {},
   "outputs": [],
   "source": [
    "agents.associate_kb_with_agent(\n",
    "    media_ops_agent[0],\n",
    "    kb_config['kb_instruction'],\n",
    "    kb_config['kb_id']\n",
    ")\n",
    "time.sleep(20)"
   ]
  },
  {
   "cell_type": "code",
   "execution_count": 242,
   "id": "a268c685-186d-4fff-97e0-6d1c8d4cf95c",
   "metadata": {},
   "outputs": [],
   "source": [
    "session_state = {\n",
    "    'knowledgeBaseConfigurations': [\n",
    "        {\n",
    "            'knowledgeBaseId': kb_id,\n",
    "            'retrievalConfiguration': {\n",
    "                'vectorSearchConfiguration': {\n",
    "                    'implicitFilterConfiguration': {\n",
    "                        'metadataAttributes': [\n",
    "                            {\n",
    "                                'description': \"\"\"Choose one base on the definition: \n",
    "                                - LOGGING: internal system logs\n",
    "                                - SOCIAL: social media post\n",
    "                                - WEBSITE: company website\"\"\",\n",
    "                                'key': 'tag_type',\n",
    "                                'type': 'STRING'\n",
    "                            },\n",
    "                        ],\n",
    "                        'modelArn': \"anthropic.claude-3-5-sonnet-20241022-v2:0\"\n",
    "                    },\n",
    "                    'numberOfResults': 1,\n",
    "                    'overrideSearchType': 'HYBRID'\n",
    "                }\n",
    "            }\n",
    "        },\n",
    "    ]\n",
    "}"
   ]
  },
  {
   "cell_type": "code",
   "execution_count": 243,
   "id": "9b0689be-783c-4a04-abad-dc04175ecc25",
   "metadata": {},
   "outputs": [
    {
     "name": "stdout",
     "output_type": "stream",
     "text": [
      "invokeAgent API request ID: ba5145cb-c1d8-4305-bf31-a618e57256ce\n",
      "invokeAgent API session ID: 35c03e12-2755-4136-8e4c-f77ada727fe6\n",
      "  agent id: AD9HMFOUHU, agent alias id: TSTALIASID\n",
      "\u001b[32m---- Step 1 ----\u001b[0m\n",
      "\u001b[33mTook 5.3s, using 1844 tokens (in: 1736, out: 108) to complete prior action, observe, orchestrate.\u001b[0m\n",
      "\u001b[34mI'll search the knowledge base to get the output schema requirements for social media posts.\u001b[0m\n",
      "\u001b[35mUsing knowledge base id: NHWQOW6QCP to search for:\u001b[0m\n",
      "\u001b[35m  What is the output schema for social media post?\n",
      "\u001b[0m\n",
      "\u001b[35mKnowledge base lookup output, 0 references:\n",
      "\u001b[0m\n",
      "\u001b[32m---- Step 2 ----\u001b[0m\n",
      "\u001b[33mTook 6.7s, using 130 tokens (in: 0, out: 130) to complete prior action, observe, orchestrate.\u001b[0m\n",
      "\u001b[32m---- Step 3 ----\u001b[0m\n",
      "\u001b[33mTook 3.5s, using 2037 tokens (in: 1932, out: 105) to complete prior action, observe, orchestrate.\u001b[0m\n",
      "\u001b[34mLet me try a different search query to find the output schema requirements.\u001b[0m\n",
      "\u001b[35mUsing knowledge base id: NHWQOW6QCP to search for:\u001b[0m\n",
      "\u001b[35m  What are the required fields and format for social media posts?\n",
      "\u001b[0m\n",
      "\u001b[35mKnowledge base lookup output, 0 references:\n",
      "\u001b[0m\n",
      "\u001b[32m---- Step 4 ----\u001b[0m\n",
      "\u001b[33mTook 9.3s, using 134 tokens (in: 0, out: 134) to complete prior action, observe, orchestrate.\u001b[0m\n",
      "\u001b[32m---- Step 5 ----\u001b[0m\n",
      "\u001b[33mTook 2.7s, using 2226 tokens (in: 2131, out: 95) to complete prior action, observe, orchestrate.\u001b[0m\n",
      "\u001b[34mLet me try one more time with a broader search query.\u001b[0m\n",
      "\u001b[35mUsing knowledge base id: NHWQOW6QCP to search for:\u001b[0m\n",
      "\u001b[35m  schema requirements post format\n",
      "\u001b[0m\n",
      "\u001b[35mKnowledge base lookup output, 1 references:\n",
      "\u001b[0m\n",
      "\u001b[35m  (1) **Document Title:** Internal Logging Standards For Video Synopsis\n",
      "**Department:** Technical Operations\n",
      "**Last Updated:** March 2025\n",
      "**Document Number:** LOG-INT-001\n",
      "\n",
      "## Internal Logging Requirements\n",
      "\n",
      "### 1. Core Content Requirements\n",
      "- Must include Header: \n",
      "    - short sentence of the video\n",
      "    - Fil...\n",
      "\u001b[0m\n",
      "\u001b[32m---- Step 6 ----\u001b[0m\n",
      "\u001b[33mTook 8.7s, using 216 tokens (in: 0, out: 216) to complete prior action, observe, orchestrate.\u001b[0m\n",
      "\u001b[32m---- Step 7 ----\u001b[0m\n",
      "\u001b[33mTook 3.1s, using 2612 tokens (in: 2499, out: 113) to complete prior action, observe, orchestrate.\u001b[0m\n",
      "\u001b[34mI found the schema requirements for internal logging, but I need to specifically find the social media post schema. Let me try one final search.\u001b[0m\n",
      "\u001b[35mUsing knowledge base id: NHWQOW6QCP to search for:\u001b[0m\n",
      "\u001b[35m  social media post requirements format schema\n",
      "\u001b[0m\n",
      "\u001b[35mKnowledge base lookup output, 1 references:\n",
      "\u001b[0m\n",
      "\u001b[35m  (1) **Document Title:** Social Media Guidelines For Video Synopsis\n",
      "**Department:** Social Media Operations\n",
      "**Last Updated:** March 2025\n",
      "**Document Number:** SOC-MED-001\n",
      "\n",
      "## Video Synopsis Requirements\n",
      "\n",
      "### 1. Description Format\n",
      "- Description is less than 75 words\n",
      "- Format: Hook + Main Point + Call-to-ac...\n",
      "\u001b[0m\n",
      "\u001b[32m---- Step 8 ----\u001b[0m\n",
      "\u001b[33mTook 8.6s, using 201 tokens (in: 0, out: 201) to complete prior action, observe, orchestrate.\u001b[0m\n",
      "\u001b[32m---- Step 9 ----\u001b[0m\n",
      "\u001b[33mTook 7.0s, using 3100 tokens (in: 2849, out: 251) to complete prior action, observe, orchestrate.\u001b[0m\n",
      "\u001b[34mNow I have found the complete output schema requirements for social media posts. I'll send this information to the user.\u001b[0m\n",
      "\u001b[36mFinal response:\n",
      "The output schema for social media posts has the following requirements:\n",
      "\n",
      "1. Structure:\n",
      "- Hook\n",
      "- Main Point\n",
      "- Call-to-action\n",
      "\n",
      "2. Content Requirements:\n",
      "- Description must be under 75 words\n",
      "- For films: Include film name, cast, and their roles\n",
      "- For sports: Include venue name, teams, and athletes\n",
      "\n",
      "3. ...\u001b[0m\n",
      "\u001b[33mAgent made a total of 9 LLM calls, using 12500 tokens (in: 11147, out: 1353), and took 55.0 total seconds\u001b[0m\n",
      "====================\n",
      "The output schema for social media posts has the following requirements:\n",
      "\n",
      "1. Structure:\n",
      "- Hook\n",
      "- Main Point\n",
      "- Call-to-action\n",
      "\n",
      "2. Content Requirements:\n",
      "- Description must be under 75 words\n",
      "- For films: Include film name, cast, and their roles\n",
      "- For sports: Include venue name, teams, and athletes\n",
      "\n",
      "3. Style Requirements:\n",
      "- Casual tone\n",
      "- 2-3 hashtags\n",
      "- Relevant @mentions\n",
      "- Appropriate emoji usage\n",
      "\n",
      "4. Technical Format:\n",
      "- JSON format with a \"description\" field containing the social media copy\n",
      "\n",
      "This schema ensures consistency and compliance across all social media video posts while maintaining engagement with the target audience.\n",
      "CPU times: user 40.9 ms, sys: 11.7 ms, total: 52.5 ms\n",
      "Wall time: 55 s\n"
     ]
    }
   ],
   "source": [
    "%%time\n",
    "session_id:str = str(uuid.uuid4())\n",
    "\n",
    "response = agents.invoke(\n",
    "    \"extract the output schema for social media post\",\n",
    "    media_ops_agent_id,\n",
    "    session_id=session_id,\n",
    "    enable_trace=True,\n",
    "    multi_agent_names=multi_agent_names,\n",
    "    session_state=session_state\n",
    ")\n",
    "print(\"====================\")\n",
    "print(response)"
   ]
  },
  {
   "cell_type": "markdown",
   "id": "aec8b342-ac33-472f-baa8-9534962aee5e",
   "metadata": {},
   "source": [
    "On following section, you will invoke sub-agents but by multi-agent collaborator."
   ]
  },
  {
   "cell_type": "markdown",
   "id": "e0937d91-6c2d-4efc-a887-f98e2c6d8e02",
   "metadata": {},
   "source": [
    "### Test Agent"
   ]
  },
  {
   "cell_type": "code",
   "execution_count": 255,
   "id": "af608390-8fa5-40bf-88ba-67bd761ddc0e",
   "metadata": {},
   "outputs": [
    {
     "data": {
      "text/plain": [
       "'s3://sagemaker-us-west-2-241533163649/media-operations-agent-claude/Grand-Prinx-Clip01.mp4'"
      ]
     },
     "execution_count": 255,
     "metadata": {},
     "output_type": "execute_result"
    }
   ],
   "source": [
    "video_s3_path = sport_video_s3_path\n",
    "video_s3_path"
   ]
  },
  {
   "cell_type": "code",
   "execution_count": 256,
   "id": "2860ac69-08fa-44de-954c-60f1ffa1671a",
   "metadata": {},
   "outputs": [
    {
     "data": {
      "text/plain": [
       "{'visual_summary': 'The video showcases a high-speed motorsports event, likely a Formula 1 race. It opens with close-up shots of a sleek, orange racing car and two race car drivers wearing white uniforms with the \"Chandon\" logo, standing on a racetrack. The scene then transitions to various angles of the race cars in motion, including a McLaren vehicle with the \"McLaren Honda\" branding and a yellow car bearing the \"JOHNNIE WALKER\" logo. The footage captures the intense atmosphere of the race, with blurred shots of the cars speeding down the track and pit crews working on the vehicles. Prominent logos and branding from sponsors like \"Repsol,\" \"Kenwood,\" and \"Richard Mille\" are visible throughout. The video also features glimpses of a racing circuit map, control rooms, and pit areas, providing a comprehensive look at the behind-the-scenes operations of a professional motorsports event.',\n",
       " 'audio_transcription': ' ',\n",
       " 'metadata': {'asset_id': '0',\n",
       "  'semantic_modality': 'VIDEO',\n",
       "  's3_bucket': 'sagemaker-us-west-2-241533163649',\n",
       "  's3_key': 'media-operations-agent-claude/Grand-Prinx-Clip01.mp4',\n",
       "  'format': 'QuickTime / MOV',\n",
       "  'frame_rate': 26.194677157442,\n",
       "  'codec': 'h264',\n",
       "  'duration_millis': 95057,\n",
       "  'frame_width': 1280,\n",
       "  'frame_height': 720}}"
      ]
     },
     "execution_count": 256,
     "metadata": {},
     "output_type": "execute_result"
    }
   ],
   "source": [
    "video_analysis = sport_video_analysis\n",
    "video_analysis"
   ]
  },
  {
   "cell_type": "code",
   "execution_count": 257,
   "id": "13b8ea44-890f-4865-84e3-5eb9364c8d51",
   "metadata": {},
   "outputs": [],
   "source": [
    "session_state = {\n",
    "    'promptSessionAttributes': {\n",
    "        \"<video_analysis>\": json.dumps(video_analysis),\n",
    "        \"<video_s3_path>\": video_s3_path,\n",
    "    },\n",
    "    'knowledgeBaseConfigurations': [\n",
    "        {\n",
    "            'knowledgeBaseId': kb_id,\n",
    "            'retrievalConfiguration': {\n",
    "                'vectorSearchConfiguration': {\n",
    "                    'implicitFilterConfiguration': {\n",
    "                        'metadataAttributes': [\n",
    "                            {\n",
    "                                'description': \"\"\"Choose one base on the definition: \n",
    "                                - LOGGING: internal system logs\n",
    "                                - SOCIAL: social media post\n",
    "                                - WEBSITE: company website\"\"\",\n",
    "                                'key': 'tag_type',\n",
    "                                'type': 'STRING'\n",
    "                            },\n",
    "                        ],\n",
    "                        'modelArn': \"anthropic.claude-3-5-sonnet-20241022-v2:0\"\n",
    "                    },\n",
    "                    'numberOfResults': 1,\n",
    "                    'overrideSearchType': 'HYBRID'\n",
    "                }\n",
    "            }\n",
    "        },\n",
    "    ]\n",
    "}"
   ]
  },
  {
   "cell_type": "code",
   "execution_count": 271,
   "id": "d48d5d4d-6c25-4bc1-8e80-a18feb24e905",
   "metadata": {},
   "outputs": [
    {
     "name": "stdout",
     "output_type": "stream",
     "text": [
      "Create a compliant post for ## internal logging system ##\n"
     ]
    }
   ],
   "source": [
    "import random\n",
    "\n",
    "possible_post_types = [\"social media\", \"company website\", \"internal logging system\"]\n",
    "video_types = [\"Film\", \"Sports\"]\n",
    "post_type = random.choice(possible_post_types)\n",
    "\n",
    "print(f\"Create a compliant post for ## {post_type} ##\")"
   ]
  },
  {
   "cell_type": "code",
   "execution_count": 272,
   "id": "43ae0a93-ce9f-4b4a-92e7-79e62c130c03",
   "metadata": {},
   "outputs": [],
   "source": [
    "prompt = f\"\"\"\n",
    "    Follow the guideline requirements and expected output schema, create a compliant post for {post_type}.\n",
    "    \n",
    "    <video_extraction>\n",
    "    $prompt_session_attributes.video_analysis$\n",
    "    </video_extraction>\n",
    "\n",
    "    <video_s3_path>\n",
    "    $prompt_session_attributes.video_s3_path$\n",
    "    </video_s3_path>\n",
    "\n",
    "    Here is the instruction.\n",
    "    <instruction>\n",
    "    1. identify the type of the video: {str(video_types)}\n",
    "    2. based on the video type, Write out each requirements <requirements> and the exact output schema <output_schema>. \n",
    "        - DO NOT make up new requirements. \n",
    "        - PAY ATTENTION to the word count requirement.\n",
    "    3. If you need additional info, use <video_extraction> and video at <video_s3_path> to lookup info.\n",
    "    4. then use <video_extraction> and additional info to create a post, make sure to following all the requirements.\n",
    "    5. check the post against the <requirements> and output schema. Only report major violations. \n",
    "    6. If FAIL, improve the post to address the issues.\n",
    "    7. repeat step 5 and 6 until the post PASS quality check.\n",
    "    8. Providing the final output in the specified schema format, skip any explanation\n",
    "    </instruction>\n",
    "    \"\"\""
   ]
  },
  {
   "cell_type": "code",
   "execution_count": 273,
   "id": "987acdd8-a14e-4b2f-9059-d807fce3f0e0",
   "metadata": {},
   "outputs": [
    {
     "name": "stdout",
     "output_type": "stream",
     "text": [
      "invokeAgent API request ID: e6d6d138-319a-4daf-b028-74c45a9f0548\n",
      "invokeAgent API session ID: 8ee1906e-4bfe-4d4f-aeac-bd7f279cbd6b\n",
      "  agent id: AD9HMFOUHU, agent alias id: TSTALIASID\n",
      "\u001b[32m---- Step 1 ----\u001b[0m\n",
      "\u001b[33mTook 6.0s, using 2694 tokens (in: 2526, out: 168) to complete prior action, observe, orchestrate.\u001b[0m\n",
      "\u001b[34mLet me analyze this step by step:\n",
      "\n",
      "1. First, I need to identify the video type from the video extraction. Based on the visual summary mentioning \"Formula 1 race\", \"racing cars\", \"McLaren Honda\", this is clearly a Sports video.\n",
      "\n",
      "2. Let me look up the requirements and schema for Sports video internal logging post.\u001b[0m\n",
      "\u001b[35mUsing knowledge base id: NHWQOW6QCP to search for:\u001b[0m\n",
      "\u001b[35m  What are the requirements and output schema for Sports video internal logging post?\n",
      "\u001b[0m\n",
      "\u001b[35mKnowledge base lookup output, 1 references:\n",
      "\u001b[0m\n",
      "\u001b[35m  (1) **Document Title:** Internal Logging Standards For Video Synopsis\n",
      "**Department:** Technical Operations\n",
      "**Last Updated:** March 2025\n",
      "**Document Number:** LOG-INT-001\n",
      "\n",
      "## Internal Logging Requirements\n",
      "\n",
      "### 1. Core Content Requirements\n",
      "- Must include Header: \n",
      "    - short sentence of the video\n",
      "    - Fil...\n",
      "\u001b[0m\n",
      "\u001b[32m---- Step 2 ----\u001b[0m\n",
      "\u001b[33mTook 8.9s, using 297 tokens (in: 0, out: 297) to complete prior action, observe, orchestrate.\u001b[0m\n",
      "\u001b[32m---- Step 3 ----\u001b[0m\n",
      "\u001b[33mTook 13.3s, using 3427 tokens (in: 3063, out: 364) to complete prior action, observe, orchestrate.\u001b[0m\n",
      "\u001b[34m3. I need more information about the sports event and venue. Let me contact the SportAgent to get these details.\u001b[0m\n",
      "\u001b[35mUsing sub-agent collaborator: 'SportAgent [MLCUVGISY6/HLRZTEQL3T]' passing input text:\u001b[0m\n",
      "\u001b[35mBased on this video extraction, can you identify the event name and venue location? Video shows Formula 1 race with McLaren Honda cars and sponsors like Chandon, Johnnie Walker, Repsol, Kenwood, and Richard Mille.\n",
      "\n",
      "Video details:\n",
      "{\n",
      "    \"visual_summary\": \"The video showcases a high-speed motorsports \n",
      "\u001b[0m\n",
      "\u001b[35mUsing knowledge base id: OMABYGBEBZ to search for:\u001b[0m\n",
      "\u001b[35m  Based on this video extraction, can you identify the event name and venue location? Video shows Formula 1 race with McLaren Honda cars and sponsors like Chandon, Johnnie Walker, Repsol, Kenwood, and Richard Mille.\n",
      "\n",
      "Video details:\n",
      "{\n",
      "    \"visual_summary\": \"The video showcases a high-speed motorsports event, likely a Formula 1 race. It opens with close-up shots of a sleek, orange racing car and two race car drivers wearing white uniforms with the \\\"Chandon\\\" logo, standing on a racetrack. The scene then transitions to various angles of the race cars in motion, including a McLaren vehicle with the \\\"McLaren Honda\\\" branding and a yellow car bearing the \\\"JOHNNIE WALKER\\\" logo. The footage captures the intense atmosphere of the race, with blurred shots of the cars speeding down the track and pit crews working on the vehicles. Prominent logos and branding from sponsors like \\\"Repsol,\\\" \\\"Kenwood,\\\" and \\\"Richard Mille\\\" are visible throughout. The video also features glimpses of a racing circuit map, control rooms, and pit areas.\"\n",
      "}\n",
      "\u001b[0m\n",
      "\u001b[35mKnowledge base lookup output, 4 references:\n",
      "\u001b[0m\n",
      "\u001b[35m  (1) Title: \"High-Speed Drama: McLaren's Racing Showcase\"\n",
      "Main Event Date: Bahrain Grand Prix (March 2, 2024)\n",
      "\n",
      "In an intense atmosphere of professional motorsport, centered around McLaren's racing operations. At its heart are dramatic shots of the distinctive orange McLaren Honda race car, accompanied by...\n",
      "\u001b[0m\n",
      "\u001b[35m  (2) Title: \"Ferrari's Monaco Mission\" \n",
      "\n",
      "Event: Monaco Grand Prix (May 26, 2024)\n",
      "\n",
      "Synopsis:\n",
      "In the narrow streets of Monte Carlo, Ferrari's Charles Leclerc and Carlos Sainz navigated the iconic circuit during practice sessions with surgical precision. The Scuderia's mechanics transformed their temporary ...\n",
      "\u001b[0m\n",
      "\u001b[35m  (3) Title: \"Mercedes' Silverstone Strategy\" \n",
      "\n",
      "Main Event: British Grand Prix (July 7, 2024)\n",
      "\n",
      "Synopsis:\n",
      "In the heart of British motorsport, Mercedes-AMG Petronas transformed their advanced Silverstone facility into a hub of calculated preparation. Lewis Hamilton and George Russell, both racing on home so...\n",
      "\u001b[0m\n",
      "\u001b[35m  (4) Title: \"Red Bull's Austrian Ambition\" \n",
      "\n",
      "Main Event: Austrian Grand Prix (June 30, 2024)\n",
      "\n",
      "Synopsis:\n",
      "At their home circuit in Spielberg, Red Bull Racing's atmosphere crackled with energy as Max Verstappen and Sergio Perez prepared for their team's home race. The recently upgraded Red Bull Ring, nestle...\n",
      "\u001b[0m\n",
      "\u001b[32m---- Step 3.1 [using sub-agent name:s-agent-us-west-2-241, id:MLCUVGISY6/HLRZTEQL3T] ----\u001b[0m\n",
      "\u001b[33mTook 4.8s, using 1813 tokens (in: 1708, out: 105) to complete prior action, observe, orchestrate.\u001b[0m\n",
      "\u001b[36mFinal response:\n",
      "This event was the Bahrain Grand Prix, which took place on March 2, 2024. The footage shows McLaren's racing operations at the Bahrain International Circuit, featuring their orange McLaren Honda race car and various team activities including pit operations and control room scenes....\u001b[0m\n",
      "\u001b[35m\n",
      "----sub-agent SportAgent output text:\n",
      "This event was the Bahrain Grand Prix, which took place on March 2, 2024. The footage shows McLaren's racing operations at the Bahrain International Circuit, featuring their orange McLaren Honda race car and various team activities including pit operations and control room scenes....\n",
      "\u001b[0m\n",
      "\u001b[32m---- Step 4 ----\u001b[0m\n",
      "\u001b[33mTook 11.9s, using 3843 tokens (in: 3492, out: 351) to complete prior action, observe, orchestrate.\u001b[0m\n",
      "\u001b[34mNow I have all the necessary information to create the post. Let me create it following the schema and requirements, then send it for QC check.\u001b[0m\n",
      "\u001b[35mUsing sub-agent collaborator: 'QCAgent [3C2MWJKT0D/IZ9Y83APAP]' passing input text:\u001b[0m\n",
      "\u001b[35mPlease review this internal logging post against the requirements:\n",
      "\n",
      "{\n",
      "    \"header\": \"McLaren Honda F1 Team Operations at Bahrain Grand Prix\",\n",
      "    \"description\": \"Comprehensive footage capturing McLaren Honda's Formula 1 operations during the Bahrain Grand Prix. The video showcases the team's orange \n",
      "\u001b[0m\n",
      "\u001b[32m---- Step 4.1 [using sub-agent name:qc-agent-us-west-2-241, id:3C2MWJKT0D/IZ9Y83APAP] ----\u001b[0m\n",
      "\u001b[33mTook 5.7s, using 1503 tokens (in: 1265, out: 238) to complete prior action, observe, orchestrate.\u001b[0m\n",
      "\u001b[34mLet me analyze this post against the standard requirements and check for word count in the description.\u001b[0m\n"
     ]
    },
    {
     "data": {
      "text/html": [
       "<pre style=\"white-space:pre;overflow-x:auto;line-height:normal;font-family:Menlo,'DejaVu Sans Mono',consolas,'Courier New',monospace\"><span style=\"font-weight: bold\">Generated code</span>                                                                                                     \n",
       "\n",
       "<span style=\"background-color: #272822\">                                                                                                                   </span>\n",
       "<span style=\"background-color: #272822\"> </span><span style=\"color: #f8f8f2; text-decoration-color: #f8f8f2; background-color: #272822\">description </span><span style=\"color: #ff4689; text-decoration-color: #ff4689; background-color: #272822\">=</span><span style=\"color: #f8f8f2; text-decoration-color: #f8f8f2; background-color: #272822\"> </span><span style=\"color: #e6db74; text-decoration-color: #e6db74; background-color: #272822\">\"Comprehensive footage capturing McLaren Honda's Formula 1 operations during the Bahrain Grand Prix</span><span style=\"background-color: #272822\"> </span>\n",
       "<span style=\"background-color: #272822\"> </span><span style=\"color: #e6db74; text-decoration-color: #e6db74; background-color: #272822\">The video showcases the team's orange racing car along with two drivers in white uniforms displaying Chandon </span><span style=\"background-color: #272822\">     </span>\n",
       "<span style=\"background-color: #272822\"> </span><span style=\"color: #e6db74; text-decoration-color: #e6db74; background-color: #272822\">branding. Multiple racing sequences feature the McLaren Honda car and other competitors, including detailed shots</span><span style=\"background-color: #272822\"> </span>\n",
       "<span style=\"background-color: #272822\"> </span><span style=\"color: #e6db74; text-decoration-color: #e6db74; background-color: #272822\">of high-speed track action. Behind-the-scenes content includes pit crew operations, control room activities, and </span><span style=\"background-color: #272822\"> </span>\n",
       "<span style=\"background-color: #272822\"> </span><span style=\"color: #e6db74; text-decoration-color: #e6db74; background-color: #272822\">circuit map analysis. Notable sponsor visibility includes Chandon, Johnnie Walker, Repsol, Kenwood, and Richard </span><span style=\"background-color: #272822\">  </span>\n",
       "<span style=\"background-color: #272822\"> </span><span style=\"color: #e6db74; text-decoration-color: #e6db74; background-color: #272822\">Mille throughout various segments of the footage.\"</span><span style=\"background-color: #272822\">                                                                </span>\n",
       "<span style=\"background-color: #272822\">                                                                                                                   </span>\n",
       "<span style=\"background-color: #272822\"> </span><span style=\"color: #f8f8f2; text-decoration-color: #f8f8f2; background-color: #272822\">word_count </span><span style=\"color: #ff4689; text-decoration-color: #ff4689; background-color: #272822\">=</span><span style=\"color: #f8f8f2; text-decoration-color: #f8f8f2; background-color: #272822\"> len(description</span><span style=\"color: #ff4689; text-decoration-color: #ff4689; background-color: #272822\">.</span><span style=\"color: #f8f8f2; text-decoration-color: #f8f8f2; background-color: #272822\">split())</span><span style=\"background-color: #272822\">                                                                             </span>\n",
       "<span style=\"background-color: #272822\"> </span><span style=\"color: #f8f8f2; text-decoration-color: #f8f8f2; background-color: #272822\">print(</span><span style=\"color: #e6db74; text-decoration-color: #e6db74; background-color: #272822\">f\"Word count: {</span><span style=\"color: #f8f8f2; text-decoration-color: #f8f8f2; background-color: #272822\">word_count</span><span style=\"color: #e6db74; text-decoration-color: #e6db74; background-color: #272822\">}\"</span><span style=\"color: #f8f8f2; text-decoration-color: #f8f8f2; background-color: #272822\">)</span><span style=\"background-color: #272822\">                                                                                </span>\n",
       "<span style=\"background-color: #272822\">                                                                                                                   </span>\n",
       "</pre>\n"
      ],
      "text/plain": [
       "\u001b[1mGenerated code\u001b[0m                                                                                                     \n",
       "\n",
       "\u001b[48;2;39;40;34m                                                                                                                   \u001b[0m\n",
       "\u001b[48;2;39;40;34m \u001b[0m\u001b[38;2;248;248;242;48;2;39;40;34mdescription\u001b[0m\u001b[38;2;248;248;242;48;2;39;40;34m \u001b[0m\u001b[38;2;255;70;137;48;2;39;40;34m=\u001b[0m\u001b[38;2;248;248;242;48;2;39;40;34m \u001b[0m\u001b[38;2;230;219;116;48;2;39;40;34m\"\u001b[0m\u001b[38;2;230;219;116;48;2;39;40;34mComprehensive footage capturing McLaren Honda\u001b[0m\u001b[38;2;230;219;116;48;2;39;40;34m'\u001b[0m\u001b[38;2;230;219;116;48;2;39;40;34ms Formula 1 operations during the Bahrain Grand Prix\u001b[0m\u001b[48;2;39;40;34m \u001b[0m\n",
       "\u001b[48;2;39;40;34m \u001b[0m\u001b[38;2;230;219;116;48;2;39;40;34mThe video showcases the team\u001b[0m\u001b[38;2;230;219;116;48;2;39;40;34m'\u001b[0m\u001b[38;2;230;219;116;48;2;39;40;34ms orange racing car along with two drivers in white uniforms displaying Chandon \u001b[0m\u001b[48;2;39;40;34m    \u001b[0m\u001b[48;2;39;40;34m \u001b[0m\n",
       "\u001b[48;2;39;40;34m \u001b[0m\u001b[38;2;230;219;116;48;2;39;40;34mbranding. Multiple racing sequences feature the McLaren Honda car and other competitors, including detailed shots\u001b[0m\u001b[48;2;39;40;34m \u001b[0m\n",
       "\u001b[48;2;39;40;34m \u001b[0m\u001b[38;2;230;219;116;48;2;39;40;34mof high-speed track action. Behind-the-scenes content includes pit crew operations, control room activities, and \u001b[0m\u001b[48;2;39;40;34m \u001b[0m\n",
       "\u001b[48;2;39;40;34m \u001b[0m\u001b[38;2;230;219;116;48;2;39;40;34mcircuit map analysis. Notable sponsor visibility includes Chandon, Johnnie Walker, Repsol, Kenwood, and Richard \u001b[0m\u001b[48;2;39;40;34m \u001b[0m\u001b[48;2;39;40;34m \u001b[0m\n",
       "\u001b[48;2;39;40;34m \u001b[0m\u001b[38;2;230;219;116;48;2;39;40;34mMille throughout various segments of the footage.\u001b[0m\u001b[38;2;230;219;116;48;2;39;40;34m\"\u001b[0m\u001b[48;2;39;40;34m                                                               \u001b[0m\u001b[48;2;39;40;34m \u001b[0m\n",
       "\u001b[48;2;39;40;34m \u001b[0m\u001b[48;2;39;40;34m                                                                                                                 \u001b[0m\u001b[48;2;39;40;34m \u001b[0m\n",
       "\u001b[48;2;39;40;34m \u001b[0m\u001b[38;2;248;248;242;48;2;39;40;34mword_count\u001b[0m\u001b[38;2;248;248;242;48;2;39;40;34m \u001b[0m\u001b[38;2;255;70;137;48;2;39;40;34m=\u001b[0m\u001b[38;2;248;248;242;48;2;39;40;34m \u001b[0m\u001b[38;2;248;248;242;48;2;39;40;34mlen\u001b[0m\u001b[38;2;248;248;242;48;2;39;40;34m(\u001b[0m\u001b[38;2;248;248;242;48;2;39;40;34mdescription\u001b[0m\u001b[38;2;255;70;137;48;2;39;40;34m.\u001b[0m\u001b[38;2;248;248;242;48;2;39;40;34msplit\u001b[0m\u001b[38;2;248;248;242;48;2;39;40;34m(\u001b[0m\u001b[38;2;248;248;242;48;2;39;40;34m)\u001b[0m\u001b[38;2;248;248;242;48;2;39;40;34m)\u001b[0m\u001b[48;2;39;40;34m                                                                            \u001b[0m\u001b[48;2;39;40;34m \u001b[0m\n",
       "\u001b[48;2;39;40;34m \u001b[0m\u001b[38;2;248;248;242;48;2;39;40;34mprint\u001b[0m\u001b[38;2;248;248;242;48;2;39;40;34m(\u001b[0m\u001b[38;2;230;219;116;48;2;39;40;34mf\u001b[0m\u001b[38;2;230;219;116;48;2;39;40;34m\"\u001b[0m\u001b[38;2;230;219;116;48;2;39;40;34mWord count: \u001b[0m\u001b[38;2;230;219;116;48;2;39;40;34m{\u001b[0m\u001b[38;2;248;248;242;48;2;39;40;34mword_count\u001b[0m\u001b[38;2;230;219;116;48;2;39;40;34m}\u001b[0m\u001b[38;2;230;219;116;48;2;39;40;34m\"\u001b[0m\u001b[38;2;248;248;242;48;2;39;40;34m)\u001b[0m\u001b[48;2;39;40;34m                                                                               \u001b[0m\u001b[48;2;39;40;34m \u001b[0m\n",
       "\u001b[48;2;39;40;34m                                                                                                                   \u001b[0m\n"
      ]
     },
     "metadata": {},
     "output_type": "display_data"
    },
    {
     "name": "stdout",
     "output_type": "stream",
     "text": [
      "\u001b[32m---- Step 4.2 [using sub-agent name:qc-agent-us-west-2-241, id:3C2MWJKT0D/IZ9Y83APAP] ----\u001b[0m\n",
      "\u001b[33mTook 11.2s, using 1779 tokens (in: 1521, out: 258) to complete prior action, observe, orchestrate.\u001b[0m\n",
      "\u001b[34mLet me evaluate against the requirements:\n",
      "1. Description length: PASS (80 words, within 50-100 range)\n",
      "2. Header format: PASS (clear and descriptive)\n",
      "3. Required fields present: FAIL (missing date/year)\n",
      "4. Technical specs: PASS (all required fields present)\n",
      "5. Location/Venue: PASS (properly specified)\n",
      "6. Video type: PASS (correctly categorized)\u001b[0m\n",
      "\u001b[36mFinal response:\n",
      "{\n",
      "    \"status\": \"FAIL\",\n",
      "    \"violations\": [\n",
      "        \"Missing required field: date/year of the event\",\n",
      "        \"Technical specs frame rate should be rounded to 2 decimal places (26.19 should be 26.20)\"\n",
      "    ],\n",
      "    \"review_notes\": {\n",
      "        \"description_length\": \"PASS - 80 words\",\n",
      "        \"required_fie...\u001b[0m\n",
      "\u001b[35m\n",
      "----sub-agent QCAgent output text:\n",
      "{\n",
      "    \"status\": \"FAIL\",\n",
      "    \"violations\": [\n",
      "        \"Missing required field: date/year of the event\",\n",
      "        \"Technical specs frame rate should be rounded to 2 decimal places (26.19 should be 26.20)\"\n",
      "    ],\n",
      "    \"review_notes\": {\n",
      "        \"description_length\": \"PASS - 80 words\",\n",
      "        \"required_fie...\n",
      "\u001b[0m\n",
      "\u001b[32m---- Step 5 ----\u001b[0m\n",
      "\u001b[33mTook 7.2s, using 4336 tokens (in: 3994, out: 342) to complete prior action, observe, orchestrate.\u001b[0m\n",
      "\u001b[34mLet me fix the violations and submit an improved version.\u001b[0m\n",
      "\u001b[35mUsing sub-agent collaborator: 'QCAgent [3C2MWJKT0D/IZ9Y83APAP]' passing input text:\u001b[0m\n",
      "\u001b[35mPlease review the updated internal logging post:\n",
      "\n",
      "{\n",
      "    \"header\": \"McLaren Honda F1 Team Operations at 2024 Bahrain Grand Prix\",\n",
      "    \"description\": \"Comprehensive footage capturing McLaren Honda's Formula 1 operations during the Bahrain Grand Prix on March 2, 2024. The video showcases the team's ora\n",
      "\u001b[0m\n",
      "\u001b[32m---- Step 5.1 [using sub-agent name:qc-agent-us-west-2-241, id:3C2MWJKT0D/IZ9Y83APAP] ----\u001b[0m\n",
      "\u001b[33mTook 4.7s, using 2267 tokens (in: 2025, out: 242) to complete prior action, observe, orchestrate.\u001b[0m\n",
      "\u001b[34mLet me analyze the updated post against the standard requirements and check for word count in the description.\u001b[0m\n"
     ]
    },
    {
     "data": {
      "text/html": [
       "<pre style=\"white-space:pre;overflow-x:auto;line-height:normal;font-family:Menlo,'DejaVu Sans Mono',consolas,'Courier New',monospace\"><span style=\"font-weight: bold\">Generated code</span>                                                                                                     \n",
       "\n",
       "<span style=\"background-color: #272822\">                                                                                                                   </span>\n",
       "<span style=\"background-color: #272822\"> </span><span style=\"color: #f8f8f2; text-decoration-color: #f8f8f2; background-color: #272822\">description </span><span style=\"color: #ff4689; text-decoration-color: #ff4689; background-color: #272822\">=</span><span style=\"color: #f8f8f2; text-decoration-color: #f8f8f2; background-color: #272822\"> </span><span style=\"color: #e6db74; text-decoration-color: #e6db74; background-color: #272822\">\"Comprehensive footage capturing McLaren Honda's Formula 1 operations during the Bahrain Grand Prix</span><span style=\"background-color: #272822\"> </span>\n",
       "<span style=\"background-color: #272822\"> </span><span style=\"color: #e6db74; text-decoration-color: #e6db74; background-color: #272822\">on March 2, 2024. The video showcases the team's orange racing car along with two drivers in white uniforms </span><span style=\"background-color: #272822\">      </span>\n",
       "<span style=\"background-color: #272822\"> </span><span style=\"color: #e6db74; text-decoration-color: #e6db74; background-color: #272822\">displaying Chandon branding. Multiple racing sequences feature the McLaren Honda car and other competitors, </span><span style=\"background-color: #272822\">      </span>\n",
       "<span style=\"background-color: #272822\"> </span><span style=\"color: #e6db74; text-decoration-color: #e6db74; background-color: #272822\">including detailed shots of high-speed track action. Behind-the-scenes content includes pit crew operations, </span><span style=\"background-color: #272822\">     </span>\n",
       "<span style=\"background-color: #272822\"> </span><span style=\"color: #e6db74; text-decoration-color: #e6db74; background-color: #272822\">control room activities, and circuit map analysis. Notable sponsor visibility includes Chandon, Johnnie Walker, </span><span style=\"background-color: #272822\">  </span>\n",
       "<span style=\"background-color: #272822\"> </span><span style=\"color: #e6db74; text-decoration-color: #e6db74; background-color: #272822\">Repsol, Kenwood, and Richard Mille throughout various segments of the footage.\"</span><span style=\"background-color: #272822\">                                   </span>\n",
       "<span style=\"background-color: #272822\">                                                                                                                   </span>\n",
       "<span style=\"background-color: #272822\"> </span><span style=\"color: #f8f8f2; text-decoration-color: #f8f8f2; background-color: #272822\">word_count </span><span style=\"color: #ff4689; text-decoration-color: #ff4689; background-color: #272822\">=</span><span style=\"color: #f8f8f2; text-decoration-color: #f8f8f2; background-color: #272822\"> len(description</span><span style=\"color: #ff4689; text-decoration-color: #ff4689; background-color: #272822\">.</span><span style=\"color: #f8f8f2; text-decoration-color: #f8f8f2; background-color: #272822\">split())</span><span style=\"background-color: #272822\">                                                                             </span>\n",
       "<span style=\"background-color: #272822\"> </span><span style=\"color: #f8f8f2; text-decoration-color: #f8f8f2; background-color: #272822\">print(</span><span style=\"color: #e6db74; text-decoration-color: #e6db74; background-color: #272822\">f\"Word count: {</span><span style=\"color: #f8f8f2; text-decoration-color: #f8f8f2; background-color: #272822\">word_count</span><span style=\"color: #e6db74; text-decoration-color: #e6db74; background-color: #272822\">}\"</span><span style=\"color: #f8f8f2; text-decoration-color: #f8f8f2; background-color: #272822\">)</span><span style=\"background-color: #272822\">                                                                                </span>\n",
       "<span style=\"background-color: #272822\">                                                                                                                   </span>\n",
       "</pre>\n"
      ],
      "text/plain": [
       "\u001b[1mGenerated code\u001b[0m                                                                                                     \n",
       "\n",
       "\u001b[48;2;39;40;34m                                                                                                                   \u001b[0m\n",
       "\u001b[48;2;39;40;34m \u001b[0m\u001b[38;2;248;248;242;48;2;39;40;34mdescription\u001b[0m\u001b[38;2;248;248;242;48;2;39;40;34m \u001b[0m\u001b[38;2;255;70;137;48;2;39;40;34m=\u001b[0m\u001b[38;2;248;248;242;48;2;39;40;34m \u001b[0m\u001b[38;2;230;219;116;48;2;39;40;34m\"\u001b[0m\u001b[38;2;230;219;116;48;2;39;40;34mComprehensive footage capturing McLaren Honda\u001b[0m\u001b[38;2;230;219;116;48;2;39;40;34m'\u001b[0m\u001b[38;2;230;219;116;48;2;39;40;34ms Formula 1 operations during the Bahrain Grand Prix\u001b[0m\u001b[48;2;39;40;34m \u001b[0m\n",
       "\u001b[48;2;39;40;34m \u001b[0m\u001b[38;2;230;219;116;48;2;39;40;34mon March 2, 2024. The video showcases the team\u001b[0m\u001b[38;2;230;219;116;48;2;39;40;34m'\u001b[0m\u001b[38;2;230;219;116;48;2;39;40;34ms orange racing car along with two drivers in white uniforms \u001b[0m\u001b[48;2;39;40;34m     \u001b[0m\u001b[48;2;39;40;34m \u001b[0m\n",
       "\u001b[48;2;39;40;34m \u001b[0m\u001b[38;2;230;219;116;48;2;39;40;34mdisplaying Chandon branding. Multiple racing sequences feature the McLaren Honda car and other competitors, \u001b[0m\u001b[48;2;39;40;34m     \u001b[0m\u001b[48;2;39;40;34m \u001b[0m\n",
       "\u001b[48;2;39;40;34m \u001b[0m\u001b[38;2;230;219;116;48;2;39;40;34mincluding detailed shots of high-speed track action. Behind-the-scenes content includes pit crew operations, \u001b[0m\u001b[48;2;39;40;34m    \u001b[0m\u001b[48;2;39;40;34m \u001b[0m\n",
       "\u001b[48;2;39;40;34m \u001b[0m\u001b[38;2;230;219;116;48;2;39;40;34mcontrol room activities, and circuit map analysis. Notable sponsor visibility includes Chandon, Johnnie Walker, \u001b[0m\u001b[48;2;39;40;34m \u001b[0m\u001b[48;2;39;40;34m \u001b[0m\n",
       "\u001b[48;2;39;40;34m \u001b[0m\u001b[38;2;230;219;116;48;2;39;40;34mRepsol, Kenwood, and Richard Mille throughout various segments of the footage.\u001b[0m\u001b[38;2;230;219;116;48;2;39;40;34m\"\u001b[0m\u001b[48;2;39;40;34m                                  \u001b[0m\u001b[48;2;39;40;34m \u001b[0m\n",
       "\u001b[48;2;39;40;34m \u001b[0m\u001b[48;2;39;40;34m                                                                                                                 \u001b[0m\u001b[48;2;39;40;34m \u001b[0m\n",
       "\u001b[48;2;39;40;34m \u001b[0m\u001b[38;2;248;248;242;48;2;39;40;34mword_count\u001b[0m\u001b[38;2;248;248;242;48;2;39;40;34m \u001b[0m\u001b[38;2;255;70;137;48;2;39;40;34m=\u001b[0m\u001b[38;2;248;248;242;48;2;39;40;34m \u001b[0m\u001b[38;2;248;248;242;48;2;39;40;34mlen\u001b[0m\u001b[38;2;248;248;242;48;2;39;40;34m(\u001b[0m\u001b[38;2;248;248;242;48;2;39;40;34mdescription\u001b[0m\u001b[38;2;255;70;137;48;2;39;40;34m.\u001b[0m\u001b[38;2;248;248;242;48;2;39;40;34msplit\u001b[0m\u001b[38;2;248;248;242;48;2;39;40;34m(\u001b[0m\u001b[38;2;248;248;242;48;2;39;40;34m)\u001b[0m\u001b[38;2;248;248;242;48;2;39;40;34m)\u001b[0m\u001b[48;2;39;40;34m                                                                            \u001b[0m\u001b[48;2;39;40;34m \u001b[0m\n",
       "\u001b[48;2;39;40;34m \u001b[0m\u001b[38;2;248;248;242;48;2;39;40;34mprint\u001b[0m\u001b[38;2;248;248;242;48;2;39;40;34m(\u001b[0m\u001b[38;2;230;219;116;48;2;39;40;34mf\u001b[0m\u001b[38;2;230;219;116;48;2;39;40;34m\"\u001b[0m\u001b[38;2;230;219;116;48;2;39;40;34mWord count: \u001b[0m\u001b[38;2;230;219;116;48;2;39;40;34m{\u001b[0m\u001b[38;2;248;248;242;48;2;39;40;34mword_count\u001b[0m\u001b[38;2;230;219;116;48;2;39;40;34m}\u001b[0m\u001b[38;2;230;219;116;48;2;39;40;34m\"\u001b[0m\u001b[38;2;248;248;242;48;2;39;40;34m)\u001b[0m\u001b[48;2;39;40;34m                                                                               \u001b[0m\u001b[48;2;39;40;34m \u001b[0m\n",
       "\u001b[48;2;39;40;34m                                                                                                                   \u001b[0m\n"
      ]
     },
     "metadata": {},
     "output_type": "display_data"
    },
    {
     "name": "stdout",
     "output_type": "stream",
     "text": [
      "\u001b[32m---- Step 5.2 [using sub-agent name:qc-agent-us-west-2-241, id:3C2MWJKT0D/IZ9Y83APAP] ----\u001b[0m\n",
      "\u001b[33mTook 5.7s, using 2500 tokens (in: 2290, out: 210) to complete prior action, observe, orchestrate.\u001b[0m\n",
      "\u001b[34mLet me evaluate the updated post against the requirements:\n",
      "1. Description length: PASS (84 words, within 50-100 range)\n",
      "2. Header format: PASS (clear and descriptive, includes year)\n",
      "3. Required fields present: PASS (date added in both header and description)\n",
      "4. Technical specs: PASS (all required fields present with correct format)\n",
      "5. Location/Venue: PASS (properly specified)\n",
      "6. Video type: PASS (correctly categorized)\u001b[0m\n",
      "\u001b[36mFinal response:\n",
      "{\n",
      "    \"status\": \"PASS\",\n",
      "    \"review_notes\": {\n",
      "        \"description_length\": \"PASS - 84 words\",\n",
      "        \"required_fields\": \"PASS - all present\",\n",
      "        \"technical_specs\": \"PASS - correct format\",\n",
      "        \"metadata_format\": \"PASS\",\n",
      "        \"content_structure\": \"PASS\"\n",
      "    }\n",
      "}...\u001b[0m\n",
      "\u001b[35m\n",
      "----sub-agent QCAgent output text:\n",
      "{\n",
      "    \"status\": \"PASS\",\n",
      "    \"review_notes\": {\n",
      "        \"description_length\": \"PASS - 84 words\",\n",
      "        \"required_fields\": \"PASS - all present\",\n",
      "        \"technical_specs\": \"PASS - correct format\",\n",
      "        \"metadata_format\": \"PASS\",\n",
      "        \"content_structure\": \"PASS\"\n",
      "    }\n",
      "}...\n",
      "\u001b[0m\n",
      "\u001b[32m---- Step 6 ----\u001b[0m\n",
      "\u001b[33mTook 6.9s, using 4774 tokens (in: 4434, out: 340) to complete prior action, observe, orchestrate.\u001b[0m\n",
      "\u001b[34mThe post has now passed QC. Let me send the final compliant version to the user.\u001b[0m\n",
      "\u001b[36mFinal response:\n",
      "{\n",
      "    \"header\": \"McLaren Honda F1 Team Operations at 2024 Bahrain Grand Prix\",\n",
      "    \"description\": \"Comprehensive footage capturing McLaren Honda's Formula 1 operations during the Bahrain Grand Prix on March 2, 2024. The video showcases the team's orange racing car along with two drivers in white uni...\u001b[0m\n",
      "\u001b[33mAgent made a total of 11 LLM calls, using 29233 tokens (in: 26318, out: 2915), and took 86.3 total seconds\u001b[0m\n",
      "====================\n",
      "{\n",
      "    \"header\": \"McLaren Honda F1 Team Operations at 2024 Bahrain Grand Prix\",\n",
      "    \"description\": \"Comprehensive footage capturing McLaren Honda's Formula 1 operations during the Bahrain Grand Prix on March 2, 2024. The video showcases the team's orange racing car along with two drivers in white uniforms displaying Chandon branding. Multiple racing sequences feature the McLaren Honda car and other competitors, including detailed shots of high-speed track action. Behind-the-scenes content includes pit crew operations, control room activities, and circuit map analysis. Notable sponsor visibility includes Chandon, Johnnie Walker, Repsol, Kenwood, and Richard Mille throughout various segments of the footage.\",\n",
      "    \"video_type\": \"Sports\",\n",
      "    \"location\": \"Bahrain\",\n",
      "    \"venue\": \"Bahrain International Circuit\",\n",
      "    \"technical_specs\": {\n",
      "        \"resolution\": \"1280x720\",\n",
      "        \"frame_rate\": \"26.20\",\n",
      "        \"encoding\": \"h264\"\n",
      "    }\n",
      "}\n",
      "CPU times: user 73.6 ms, sys: 4.13 ms, total: 77.7 ms\n",
      "Wall time: 1min 26s\n"
     ]
    }
   ],
   "source": [
    "%%time\n",
    "session_id:str = str(uuid.uuid4())\n",
    "\n",
    "response = agents.invoke(\n",
    "    prompt,\n",
    "    media_ops_agent_id,\n",
    "    session_id=session_id,\n",
    "    enable_trace=True,\n",
    "    multi_agent_names=multi_agent_names,\n",
    "    session_state=session_state\n",
    ")\n",
    "print(\"====================\")\n",
    "print(response)"
   ]
  },
  {
   "cell_type": "markdown",
   "id": "b9507094-49c7-4259-9616-054a5beb0ee3",
   "metadata": {},
   "source": [
    "### Clean Up"
   ]
  },
  {
   "cell_type": "code",
   "execution_count": 219,
   "id": "f8aa50fc-2214-4155-b4a3-356733e808be",
   "metadata": {},
   "outputs": [
    {
     "name": "stdout",
     "output_type": "stream",
     "text": [
      "Deleting alias QM32XSH3RJ from agent 6ALET6EZQZ\n",
      "Deleting alias TSTALIASID from agent 6ALET6EZQZ\n"
     ]
    }
   ],
   "source": [
    "# agents.delete_agent(agent_name)"
   ]
  },
  {
   "cell_type": "code",
   "execution_count": 220,
   "id": "2654b70d-21ec-4e2b-b63b-98a0cfe75181",
   "metadata": {},
   "outputs": [
    {
     "name": "stdout",
     "output_type": "stream",
     "text": [
      "Data Source deleted successfully!\n",
      "Knowledge Base deleted successfully!\n",
      "OpenSource Serveless Index deleted successfully!\n",
      "OpenSource Collection Index deleted successfully!\n",
      "OpenSource Serveless access policy deleted successfully!\n",
      "OpenSource Serveless network policy deleted successfully!\n",
      "OpenSource Serveless encryption policy deleted successfully!\n",
      "Knowledge Base S3 bucket deleted successfully!\n",
      "Knowledge Base Roles and Policies deleted successfully!\n",
      "Resources deleted successfully!\n"
     ]
    }
   ],
   "source": [
    "# kb.delete_kb(knowledge_base_name)"
   ]
  },
  {
   "cell_type": "code",
   "execution_count": null,
   "id": "7ff8a219-192d-4798-849c-452924f51bd9",
   "metadata": {},
   "outputs": [],
   "source": []
  }
 ],
 "metadata": {
  "kernelspec": {
   "display_name": "Python 3 (ipykernel)",
   "language": "python",
   "name": "python3"
  },
  "language_info": {
   "codemirror_mode": {
    "name": "ipython",
    "version": 3
   },
   "file_extension": ".py",
   "mimetype": "text/x-python",
   "name": "python",
   "nbconvert_exporter": "python",
   "pygments_lexer": "ipython3",
   "version": "3.11.11"
  }
 },
 "nbformat": 4,
 "nbformat_minor": 5
}
