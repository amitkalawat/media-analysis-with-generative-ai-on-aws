{
 "cells": [
  {
   "cell_type": "markdown",
   "id": "inserted-a07d5c3b-8f7f-41c0-8aa8-c5c7e4e1c7e3",
   "metadata": {},
   "source": [
    "# Module 3: Bedrock Inline Agents with MCP Integration (45 minutes)\n",
    "\n",
    "## Overview\n",
    "In this module, we will rebuild the Film Agent using Bedrock Inline Agents, a lightweight framework that allows users to dynamically configure an agent at runtime, enabling rapid prototyping and debugging. To learning more visit [Configure an inline agent at runtime](https://docs.aws.amazon.com/bedrock/latest/userguide/agents-create-inline.html).Then we will explore building and integrating Model Context Protocol (MCP) with Bedrock Inline agents.\n",
    "\n",
    "---\n",
    "\n",
    "Amazon Bedrock Inline Agents provide a flexible way to create AI agents that can be configured at runtime. This approach offers several advantages:\n",
    "\n",
    "- **Dynamic Configuration**: Agents can be configured on-the-fly without redeployment\n",
    "- **Rapid Prototyping**: Quick iteration on agent capabilities and behavior\n",
    "- **Debugging**: Better visibility into agent execution and decision-making\n",
    "- **Tool Integration**: Easy integration with custom tools and external services\n",
    "\n",
    "MCP is a standardized integration framework designed for AI agents, enabling them to seamlessly connect and communicate with external tools, data sources, and services in real time. It acts as a universal connector-much like how USB-C standardizes device connectivity-MCP defines clear roles and message formats so that agents (as MCP Hosts) can discover, request, and interact with resources provided by MCP Servers, with MCP Clients facilitating the communication between them.\n",
    "\n",
    "<div class=\"alert-warning\">\n",
    "    <b>Warning:</b>\n",
    "    <p>\n",
    "    1) please make sure to run <b>00-prerequisites.ipynb</b> to properly setup all the packages.\n",
    "    </p>\n",
    "    <p>\n",
    "    2) Make sure you ran <b>module 2-file-agent-using-bedrock</b>to generate some resources need in this module like knowledge base and dynamoDB.\n",
    "    </p>\n",
    "</div>"
   ]
  },
  {
   "cell_type": "code",
   "execution_count": null,
   "id": "3fdf066b-c7a2-44f9-b344-f458283bab31",
   "metadata": {},
   "outputs": [],
   "source": [
    "from InlineAgent.knowledge_base import KnowledgeBasePlugin\n",
    "from InlineAgent.agent import InlineAgent\n",
    "from InlineAgent.action_group import ActionGroup\n",
    "import boto3\n",
    "import nest_asyncio\n",
    "\n",
    "## DynamoDB parameters\n",
    "boto3_session = boto3.Session()\n",
    "dynamodb_resource = boto3_session.resource('dynamodb')\n",
    "## Rekognition parameters\n",
    "rek_client = boto3_session.client('rekognition')"
   ]
  },
  {
   "cell_type": "markdown",
   "id": "f21f577d-be44-4054-bf2a-5f7cb4cfa9ff",
   "metadata": {},
   "source": [
    "## Creating Knowledge Base\n",
    "\n",
    "Knowledge bases are a key component of Bedrock Agents, allowing them to access and retrieve information from external data sources. In this section, we'll:\n",
    "\n",
    "1. Load the knowledge base configuration from previous modules\n",
    "2. Create a KnowledgeBasePlugin instance that connects to our existing knowledge base\n",
    "3. Configure vector search parameters to optimize retrieval performance\n",
    "\n",
    "The knowledge base contains information about films, directors, actors, and other movie-related data that our agent can use to answer user queries."
   ]
  },
  {
   "cell_type": "code",
   "execution_count": null,
   "id": "51077fcd-cca5-4310-8188-9540a0e24b7c",
   "metadata": {},
   "outputs": [],
   "source": [
    "%store -r knowledge_base_name\n",
    "%store -r kb_config\n",
    "%store -r agent_instruction\n",
    "%store -r agent_name"
   ]
  },
  {
   "cell_type": "code",
   "execution_count": null,
   "id": "2ec51d29-9397-422b-bf1d-bd4ae247190c",
   "metadata": {},
   "outputs": [],
   "source": [
    "film_kb = KnowledgeBasePlugin(\n",
    "    name=knowledge_base_name,\n",
    "    description=kb_config[\"kb_instruction\"],\n",
    "    additional_props={\n",
    "        \"retrievalConfiguration\": {\"vectorSearchConfiguration\": {\"numberOfResults\": 1}}\n",
    "    },\n",
    ")"
   ]
  },
  {
   "cell_type": "code",
   "execution_count": null,
   "id": "a6c6d295-d365-4654-8939-f993bb8706e0",
   "metadata": {},
   "outputs": [],
   "source": [
    "# Step 3: Define agent\n",
    "agent = InlineAgent(\n",
    "    foundation_model=\"us.anthropic.claude-3-5-sonnet-20241022-v2:0\",\n",
    "    instruction=agent_instruction,\n",
    "    knowledge_bases=[film_kb],\n",
    "    agent_name=f\"inline-{agent_name}\",\n",
    "    user_input=True,\n",
    ")"
   ]
  },
  {
   "cell_type": "code",
   "execution_count": null,
   "id": "436709d7-0969-4994-8d48-9781c36b9fc9",
   "metadata": {},
   "outputs": [],
   "source": [
    "# Step 4: Invoke agent\n",
    "result = await agent.invoke(input_text=\"which film is directored by Curtis Clark\",\n",
    "                            enable_trace=False\n",
    "                           )"
   ]
  },
  {
   "cell_type": "markdown",
   "id": "805c972c-a49b-4168-90cb-423718a32b9a",
   "metadata": {},
   "source": [
    "## Creating Action Group with Direct Function Integration\n",
    "\n",
    "Action Groups are logical groupings of tools that an agent can use to perform specific tasks. In this section, we'll create an action group that enables our agent to detect celebrities in videos using AWS Rekognition.\n",
    "\n",
    "The implementation follows these steps:\n",
    "\n",
    "1. Load configuration parameters for DynamoDB and S3 video path\n",
    "2. Implement helper functions for celebrity detection and DynamoDB queries\n",
    "3. Create a main `detect_key_figures` function that:\n",
    "   - Processes videos stored in S3\n",
    "   - Uses AWS Rekognition to identify celebrities\n",
    "   - Enriches detection results with cast information from DynamoDB\n",
    "4. Package the function into an ActionGroup that can be used by our agent\n",
    "\n",
    "This approach directly integrates the function with the agent, allowing for seamless tool invocation."
   ]
  },
  {
   "cell_type": "code",
   "execution_count": null,
   "id": "68c1d12c-f08f-4791-96b0-04fca4008ee5",
   "metadata": {},
   "outputs": [],
   "source": [
    "%store -r cast_table\n",
    "%store -r cast_pk\n",
    "%store -r film_video_s3_path"
   ]
  },
  {
   "cell_type": "code",
   "execution_count": null,
   "id": "d8ae1207-7f83-4c54-86e3-6b220cff3363",
   "metadata": {},
   "outputs": [],
   "source": [
    "import boto3\n",
    "from boto3.dynamodb.conditions import Key, Attr\n",
    "import time\n",
    "import json\n",
    "\n",
    "def get_cast_member(cast_id:str)->list:\n",
    "    \"\"\"\n",
    "    Look up people's cast role in a film video\n",
    "\n",
    "    Parameters:\n",
    "        cast_id: id number of the cast member\n",
    "\n",
    "    Returns:\n",
    "        list: a list of dictionaries with attributes about the cast member\n",
    "    \"\"\"\n",
    "    try:\n",
    "        table = dynamodb_resource.Table(cast_table)\n",
    "        key_expression = Key(cast_pk).eq(cast_id)\n",
    "        query_data = table.query(\n",
    "                KeyConditionExpression=key_expression\n",
    "            )\n",
    "        return json.dumps(query_data['Items'])\n",
    "    except Exception as e:\n",
    "        print(f'Error querying table: {cast_table}.')\n",
    "        print(str(e))"
   ]
  },
  {
   "cell_type": "code",
   "execution_count": null,
   "id": "98c9ff6d-b0fe-4f45-aa09-fdd7c14918eb",
   "metadata": {},
   "outputs": [],
   "source": [
    "# Step 2: Logically group tools together\n",
    "cast_member_action_group = ActionGroup(\n",
    "    name=\"CastMemberActionGroup\",\n",
    "    description=\"use this action group to lookup a person's role in a film\",\n",
    "    tools=[get_cast_member],\n",
    ")"
   ]
  },
  {
   "cell_type": "code",
   "execution_count": null,
   "id": "559c9e2a-2700-4b64-bb40-2bf1661de135",
   "metadata": {},
   "outputs": [],
   "source": [
    "# Step 3: Define agent\n",
    "agent = InlineAgent(\n",
    "    foundation_model=\"us.anthropic.claude-3-5-sonnet-20241022-v2:0\",\n",
    "    instruction=agent_instruction,\n",
    "    knowledge_bases=[film_kb],\n",
    "    agent_name=f\"inline-{agent_name}\",\n",
    "    action_groups=[cast_member_action_group],\n",
    "    user_input=True,\n",
    ")"
   ]
  },
  {
   "cell_type": "code",
   "execution_count": null,
   "id": "b0fadae6-43bc-492c-97aa-bc8abdbdeec7",
   "metadata": {},
   "outputs": [],
   "source": [
    "# Step 4: Invoke agent\n",
    "result = await agent.invoke(input_text=\"Can you tell me Kevin Kilner's role (id: 4kn3Xu8r) in th film `Meridian`?\",\n",
    "                            enable_trace=False\n",
    "                           )"
   ]
  },
  {
   "cell_type": "markdown",
   "id": "3837b936-f765-40f9-a010-d3bab0dd57dc",
   "metadata": {},
   "source": [
    "## Creating MCP Action Group\n",
    "\n",
    "Model Context Protocol (MCP) provides a standardized way for foundation models to interact with external tools and services. In this section, we'll implement the same celebrity detection functionality using MCP, which offers several advantages:\n",
    "\n",
    "1. **Decoupling**: The tool implementation is completely separate from the agent code\n",
    "2. **Scalability**: MCP servers can be deployed independently and scaled as needed\n",
    "3. **Reusability**: The same MCP tools can be used by multiple agents\n",
    "4. **Flexibility**: Tools can be implemented in any language that supports the MCP protocol\n",
    "\n",
    "We'll follow these steps:\n",
    "1. Create an MCP server that exposes the celebrity detection functionality\n",
    "2. Connect our agent to the MCP server using the MCP client\n",
    "3. Create an action group that uses the MCP tools\n",
    "4. Invoke the agent with the MCP-based action group\n",
    "\n",
    "This approach demonstrates how to extend agent capabilities through external services."
   ]
  },
  {
   "cell_type": "markdown",
   "id": "e0df5a31-6915-4c66-bc06-ea6413d4e7bc",
   "metadata": {},
   "source": [
    "### MCP Server Implementation\n",
    "\n",
    "Below is the implementation of our MCP server (`key_figures_mcp_server.py`). This script:\n",
    "\n",
    "1. Creates a FastMCP server that exposes the `detect_key_figures` tool\n",
    "2. Initializes AWS clients for Rekognition and DynamoDB\n",
    "3. Implements helper functions for celebrity detection and database queries\n",
    "4. Defines the main tool function with proper input/output schema\n",
    "5. Handles asynchronous processing using `asyncio.to_thread`\n",
    "\n",
    "The MCP server can be run as a standalone process and communicates with the agent through the MCP protocol. This separation of concerns allows for more modular and maintainable code."
   ]
  },
  {
   "cell_type": "code",
   "execution_count": null,
   "id": "c205960d-1645-4d51-9e7a-ef0a0ee71bf9",
   "metadata": {
    "scrolled": true
   },
   "outputs": [],
   "source": [
    "%pycat key_figures_mcp_server.py"
   ]
  },
  {
   "cell_type": "markdown",
   "id": "new-mcp-setup",
   "metadata": {},
   "source": [
    "### Setting Up MCP Client\n",
    "\n",
    "To connect our agent to the MCP server, we need to:\n",
    "\n",
    "1. Set up the MCP client configuration\n",
    "2. Pass AWS credentials to the MCP server\n",
    "3. Configure the communication channel between the agent and the server\n",
    "\n",
    "We'll use the `StdioServerParameters` class to launch the MCP server as a subprocess and communicate with it through standard input/output. This approach is ideal for development and testing scenarios."
   ]
  },
  {
   "cell_type": "code",
   "execution_count": null,
   "id": "22bea532-83d7-4b19-86bc-e91104056f29",
   "metadata": {},
   "outputs": [],
   "source": [
    "from mcp import StdioServerParameters\n",
    "from InlineAgent.tools import MCPStdio\n",
    "\n",
    "# Get SageMaker Execution Role Credential\n",
    "def get_credentials():\n",
    "    credentials = boto3_session.get_credentials()\n",
    "    frozen_creds = credentials.get_frozen_credentials()\n",
    "    region = boto3_session.region_name\n",
    "    \n",
    "    return {\n",
    "        \"AWS_ACCESS_KEY_ID\": frozen_creds.access_key,\n",
    "        \"AWS_SECRET_ACCESS_KEY\": frozen_creds.secret_key,\n",
    "        \"AWS_DEFAULT_REGION\": region\n",
    "    }"
   ]
  },
  {
   "cell_type": "markdown",
   "id": "inserted-527a6071-5b37-4e07-bb21-adbda260552e",
   "metadata": {},
   "source": [
    "### Running the Agent with MCP Integration\n",
    "\n",
    "Now we'll execute our agent with the MCP-based action group. The process involves:\n",
    "1. Starting the MCP server as a subprocess\n",
    "2. Creating an MCP client that connects to the server\n",
    "3. Creating an action group that uses the MCP client\n",
    "4. Configuring the agent with the MCP action group\n",
    "5. Invoking the agent with a query about celebrities in the video\n",
    "6. Properly cleaning up resources when done\n",
    "\n",
    "<div class=\"alert-warning\">\n",
    "    <b>Warning:</b> This MCP server may take up to 7 minutes to run. because of rekignition video API for celebrity detection.\n",
    "</div>"
   ]
  },
  {
   "cell_type": "code",
   "execution_count": null,
   "id": "527a6071-5b37-4e07-bb21-adbda260552e",
   "metadata": {
    "scrolled": true
   },
   "outputs": [],
   "source": [
    "nest_asyncio.apply()\n",
    "\n",
    "# Step 1: Define MCP stdio parameters\n",
    "server_params = StdioServerParameters(\n",
    "    command=\"python\",\n",
    "    args=[\n",
    "        \"key_figures_mcp_server.py\",\n",
    "    ],\n",
    "    env={\"CAST_TABLE\": cast_table, \"CAST_PK\":cast_pk, **get_credentials()},\n",
    ")\n",
    "\n",
    "async def run_agent():\n",
    "    \n",
    "    key_figure_mcp_client = await MCPStdio.create(server_params=server_params)\n",
    "\n",
    "    try:\n",
    "        key_figure_mcp_action_group = ActionGroup(\n",
    "            name=\"KeyFiguresMCPActGroup\",\n",
    "            description=\"This is action group to identify key figures and look up cast members and their role from the video\",\n",
    "            mcp_clients=[key_figure_mcp_client],\n",
    "        )\n",
    "\n",
    "        await InlineAgent(\n",
    "            foundation_model=\"us.anthropic.claude-3-5-sonnet-20241022-v2:0\",\n",
    "            instruction=agent_instruction,\n",
    "            knowledge_bases=[film_kb],\n",
    "            agent_name=f\"inline-{agent_name}\",\n",
    "            action_groups=[key_figure_mcp_action_group],\n",
    "            user_input=True,\n",
    "        ).invoke(\n",
    "            input_text=f\"Who are the celebrities in this video: {film_video_s3_path}\"\n",
    "        )\n",
    "\n",
    "    finally:\n",
    "        await key_figure_mcp_client.cleanup()\n",
    "\n",
    "# For Jupyter notebook execution\n",
    "await run_agent()"
   ]
  },
  {
   "cell_type": "markdown",
   "id": "inserted-d3d5a716-49bf-463c-a94d-6d2f41b06ca8",
   "metadata": {},
   "source": [
    "## Conclusion\n",
    "\n",
    "In this notebook, we've demonstrated two approaches for integrating tools with Amazon Bedrock Inline Agents:\n",
    "\n",
    "1. **Direct Function Integration**: We implemented celebrity detection directly in the notebook and packaged it as an action group. This approach is simpler and works well for lightweight tools.\n",
    "2. **MCP Integration**: We implemented the same functionality as an MCP server and connected it to our agent. This approach provides better separation of concerns and allows for more complex tool implementations.\n",
    "\n",
    "Both approaches successfully detected celebrities in the video and enriched the results with cast information from DynamoDB. The agent was able to use these tools to provide meaningful responses to user queries.\n",
    "\n",
    "Key takeaways:\n",
    "\n",
    "- Bedrock Inline Agents provide a flexible framework for building AI agents\n",
    "- Action groups allow for logical grouping of related tools\n",
    "- MCP enables clean separation between agent logic and tool implementation\n",
    "- Knowledge bases enhance agent capabilities with external information\n",
    "- Observability features help track agent performance and behavior\n",
    "\n",
    "These patterns can be extended to build more complex agents with diverse capabilities across various domains."
   ]
  }
 ],
 "metadata": {
  "kernelspec": {
   "display_name": ".venv",
   "language": "python",
   "name": "python3"
  },
  "language_info": {
   "codemirror_mode": {
    "name": "ipython",
    "version": 3
   },
   "file_extension": ".py",
   "mimetype": "text/x-python",
   "name": "python",
   "nbconvert_exporter": "python",
   "pygments_lexer": "ipython3",
   "version": "3.13.3"
  }
 },
 "nbformat": 4,
 "nbformat_minor": 5
}
