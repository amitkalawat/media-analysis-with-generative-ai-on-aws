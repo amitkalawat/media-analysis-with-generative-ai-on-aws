{
 "cells": [
  {
   "cell_type": "code",
   "execution_count": 103,
   "id": "70144883",
   "metadata": {},
   "outputs": [],
   "source": [
    "from strands import Agent, tool\n",
    "from strands_tools import use_llm, memory\n",
    "import boto3\n",
    "import json_repair\n",
    "import json\n",
    "import sagemaker\n",
    "from strands.models import BedrockModel\n",
    "\n",
    "\n",
    "boto_session = boto3.session.Session()\n",
    "sess = sagemaker.Session(boto_session=boto_session)\n",
    "\n",
    "# Initialize bedrock agent runtime\n",
    "bedrock_agent_runtime = boto_session.client(\"bedrock-agent-runtime\")\n",
    "\n",
    "# Define knowledge base parameters\n",
    "knowledge_base_name = \"compliance-kb\"\n",
    "knowledge_base_description = \"knowledge base contain guideline requirements and output schema for different type of video posts\"\n",
    "new_bucket = f\"{knowledge_base_name}-{sess.boto_region_name}\"\n",
    "# Bedrock\n",
    "bedrock_model = BedrockModel(\n",
    "  model_id=\"us.anthropic.claude-3-5-sonnet-20241022-v2:0\",\n",
    "  temperature=0.1,\n",
    ")\n"
   ]
  },
  {
   "cell_type": "code",
   "execution_count": 10,
   "id": "628585bc",
   "metadata": {},
   "outputs": [],
   "source": [
    "import sys\n",
    "sys.path.insert(0, '..')\n",
    "\n",
    "from helper.knowledge_base_helper import (\n",
    "    KnowledgeBasesForAmazonBedrock\n",
    ")\n",
    "\n",
    "kb = KnowledgeBasesForAmazonBedrock()"
   ]
  },
  {
   "cell_type": "markdown",
   "id": "0de89ae2",
   "metadata": {},
   "source": [
    "Build a knowledge base"
   ]
  },
  {
   "cell_type": "code",
   "execution_count": 11,
   "id": "84cd4f44",
   "metadata": {},
   "outputs": [
    {
     "name": "stdout",
     "output_type": "stream",
     "text": [
      "Knowledge Base compliance-kb already exists.\n",
      "Retrieved Knowledge Base Id: L933KIHBDY\n",
      "Retrieved Data Source Id: UCXUDJMRMW\n",
      "Knowledge Base ID: L933KIHBDY\n",
      "Data Source ID: UCXUDJMRMW\n",
      "CPU times: user 20.8 ms, sys: 4.18 ms, total: 24.9 ms\n",
      "Wall time: 609 ms\n"
     ]
    }
   ],
   "source": [
    "%%time\n",
    "kb_id, ds_id = kb.create_or_retrieve_knowledge_base(\n",
    "    knowledge_base_name,\n",
    "    knowledge_base_description,\n",
    "    new_bucket\n",
    ")\n",
    "\n",
    "print(f\"Knowledge Base ID: {kb_id}\")\n",
    "print(f\"Data Source ID: {ds_id}\")"
   ]
  },
  {
   "cell_type": "code",
   "execution_count": 12,
   "id": "361a6af7",
   "metadata": {},
   "outputs": [
    {
     "name": "stdout",
     "output_type": "stream",
     "text": [
      "{ 'dataSourceId': 'UCXUDJMRMW',\n",
      "  'ingestionJobId': 'VE4QBEXZE4',\n",
      "  'knowledgeBaseId': 'L933KIHBDY',\n",
      "  'startedAt': datetime.datetime(2025, 5, 18, 13, 45, 45, 923221, tzinfo=tzutc()),\n",
      "  'statistics': { 'numberOfDocumentsDeleted': 0,\n",
      "                  'numberOfDocumentsFailed': 0,\n",
      "                  'numberOfDocumentsScanned': 0,\n",
      "                  'numberOfMetadataDocumentsModified': 0,\n",
      "                  'numberOfMetadataDocumentsScanned': 0,\n",
      "                  'numberOfModifiedDocumentsIndexed': 0,\n",
      "                  'numberOfNewDocumentsIndexed': 0},\n",
      "  'status': 'STARTING',\n",
      "  'updatedAt': datetime.datetime(2025, 5, 18, 13, 45, 45, 923221, tzinfo=tzutc())}\n",
      "{ 'dataSourceId': 'UCXUDJMRMW',\n",
      "  'ingestionJobId': 'VE4QBEXZE4',\n",
      "  'knowledgeBaseId': 'L933KIHBDY',\n",
      "  'startedAt': datetime.datetime(2025, 5, 18, 13, 45, 45, 923221, tzinfo=tzutc()),\n",
      "  'statistics': { 'numberOfDocumentsDeleted': 0,\n",
      "                  'numberOfDocumentsFailed': 0,\n",
      "                  'numberOfDocumentsScanned': 3,\n",
      "                  'numberOfMetadataDocumentsModified': 0,\n",
      "                  'numberOfMetadataDocumentsScanned': 3,\n",
      "                  'numberOfModifiedDocumentsIndexed': 0,\n",
      "                  'numberOfNewDocumentsIndexed': 0},\n",
      "  'status': 'COMPLETE',\n",
      "  'updatedAt': datetime.datetime(2025, 5, 18, 13, 45, 46, 908389, tzinfo=tzutc())}\n"
     ]
    }
   ],
   "source": [
    "standards_folder = \"standards\"\n",
    "\n",
    "!aws s3 sync {standards_folder} s3://{new_bucket}/\n",
    "\n",
    "# sync knowledge base\n",
    "kb.synchronize_data(kb_id, ds_id)"
   ]
  },
  {
   "cell_type": "markdown",
   "id": "2d1b7a36",
   "metadata": {},
   "source": [
    "### Compliance Analyzer"
   ]
  },
  {
   "cell_type": "code",
   "execution_count": 16,
   "id": "1bedc9d3",
   "metadata": {},
   "outputs": [
    {
     "name": "stdout",
     "output_type": "stream",
     "text": [
      "📈 Compliance anlayizer analyzes documentation...\n",
      "Let me search for relevant compliance documentation regarding social media file preparation.\n",
      "Tool #9: retreive_docs\n",
      "\n",
      "\n",
      "Based on the retrieved documentation, I'll provide the compliance requirements in JSON format:\n",
      "\n",
      "{\n",
      "    \"requirements\": [\n",
      "        \"Description must be less than 75 words\",\n",
      "        \"Description must follow Hook + Main Point + Call-to-action format\",\n",
      "        \"Must include film name, cast, and roles (for Films) or venue name, teams, and athletes (for Sports)\",\n",
      "        \"Must use casual tone\",\n",
      "        \"Must include 2-3 hashtags\",\n",
      "        \"Must include relevant @mentions\",\n",
      "        \"Emoji usage when applicable\"\n",
      "    ],\n",
      "    \"schema\": {\n",
      "        \"description\": \"[Insert Social Media Copy]\"\n",
      "    }\n",
      "}"
     ]
    }
   ],
   "source": [
    "@tool\n",
    "def compliance_analyzer(query: str) -> str:\n",
    "    \"\"\"Analyze compliance standards, and extract relevant insights from the docs\"\"\"\n",
    "    print(\"📄 Compliance anlayizer analyzes documentation...\")\n",
    "\n",
    "    @tool\n",
    "    def retreive_docs(query: str, max_results=1) -> str:\n",
    "        try:\n",
    "            # Call the retrieve API\n",
    "            response = bedrock_agent_runtime.retrieve(\n",
    "                knowledgeBaseId=kb_id,\n",
    "                retrievalQuery={\n",
    "                    'text': query\n",
    "                },\n",
    "                retrievalConfiguration={\n",
    "                    'vectorSearchConfiguration': {\n",
    "                        'numberOfResults': max_results\n",
    "                    }\n",
    "                }\n",
    "            )\n",
    "            \n",
    "            # Extract and return the retrieved results\n",
    "            return json.dumps(response.get('retrievalResults', []))\n",
    "        \n",
    "        except Exception as e:\n",
    "            print(f\"Error retrieving from knowledge base: {e}\")\n",
    "            return \"\"\n",
    "\n",
    "        \n",
    "    # System prompt for generating answers from retrieved information\n",
    "    ANSWER_SYSTEM_PROMPT = \"\"\"\n",
    "    You are a compliance documentation analyzer that identifies and analyzes relevant compliance document base on \n",
    "    the task. Upon receiving a task, you will locate the most appropriate compliance documents, summarize \n",
    "    the key compliance requirements, and extract the corresponding JSON structure as specified in the documentation. \n",
    "    You output will be JSON ONLY. The JSON only has a \"requriements\" attribute is a list of mandatory requirements and a \"schema\" \n",
    "    filed, which is the complete JSON example.\n",
    "    \"\"\"\n",
    "\n",
    "    agent = Agent(model=bedrock_model,\n",
    "                  tools=[retreive_docs],\n",
    "                  system_prompt=ANSWER_SYSTEM_PROMPT)\n",
    "\n",
    "    return  agent(query)\n",
    "\n",
    "result = compliance_analyzer(\"preparing this filem for social media post\")"
   ]
  },
  {
   "cell_type": "markdown",
   "id": "c366a39f",
   "metadata": {},
   "source": []
  },
  {
   "cell_type": "markdown",
   "id": "078d6643",
   "metadata": {},
   "source": [
    "### Synopsis Agent"
   ]
  },
  {
   "cell_type": "code",
   "execution_count": null,
   "id": "44b3c8ae",
   "metadata": {},
   "outputs": [],
   "source": [
    "@tool\n",
    "def synopsis_agent(query: str) -> str:\n",
    "    \"\"\"generate and enhace a factually correct and compliant video metadata based on the requirements, feedback, and expected output format.\"\"\"\n",
    "    print(\"✨ Synopsis agent creating ...\")\n",
    "\n",
    "    @tool\n",
    "    def create_metadata(video_analysis: str, additional_info: str, requirements: str, output: str) -> str:\n",
    "        \n",
    "        AGENT_SYSTEM_PROMPT = \"\"\"\n",
    "        You are a media operations specialist responsible for analyzing raw analysis of a video and additional\n",
    "        information about the video, the produce a compliant metadata following the requirements and output format.\n",
    "        \"\"\"\n",
    "        agent = Agent(model=bedrock_model, system_prompt=AGENT_SYSTEM_PROMPT)\n",
    "\n",
    "        prompt = \"\"\"\n",
    "            Here is the video analysis: \n",
    "            {video_analysis}\n",
    "            \n",
    "            Here is additional info about the video: \n",
    "            {additional_info}\n",
    "\n",
    "            Here is the requirements:\n",
    "            {requirements}\n",
    "\n",
    "            Please generate and output the metadata in following output format ONLY.\n",
    "            {output}\n",
    "        \"\"\".format(video_analysis=video_analysis, additional_info=additional_info, requirements=requirements, output=output)\n",
    "\n",
    "        return agent(prompt=prompt)\n",
    "    \n",
    "    @tool\n",
    "    def enhance_metadata(current_metadata: str, feedback: str, video_analysis:str, additional_info: str, requirements: str, output: str) -> str:\n",
    "        AGENT_SYSTEM_PROMPT = \"\"\"\n",
    "         You are a media operations specialist responsible for enhancing existing video metadata base on feedback. your are provided\n",
    "         with the original video analysis for reference, as well as the requirements and output format to follow. Finally output needs\n",
    "         to account for all the provided information.\n",
    "         \"\"\"\n",
    "         \n",
    "        agent = Agent(model=bedrock_model, system_prompt=AGENT_SYSTEM_PROMPT)\n",
    "\n",
    "        prompt = \"\"\"\n",
    "            Here is the current metadata: {current_metadata}\n",
    "            Here is the feedback: {feedback}\n",
    "            Here is the video analysis: {video_analysis}\n",
    "            Here is additional info about the video: {additional_info}\n",
    "            Here is the requirements: {requirements}\n",
    "            Please generate and output the metadata in following output format ONLY.\n",
    "            {output}\n",
    "        \"\"\".format(current_metadata=current_metadata, feedback=feedback, video_analysis=video_analysis, requirements=requirements, output=output)\n",
    "\n",
    "        return agent(prompt=prompt)\n",
    "    \n",
    "    # System prompt for generating answers from retrieved information\n",
    "    ANSWER_SYSTEM_PROMPT = \"\"\"\n",
    "    You are a media operations specialist, Your task is to generate or enhace a factually correct and compliant video metadata based on provided information.\n",
    "    \n",
    "    Core behavior:\n",
    "    1. You should always create the metadata based on available information, do not manufacture facts on your own. \n",
    "    2. You should always provide clear, direct answers and present information in a easy-to-understand manner.\n",
    "    3. Do not ask user for additioanl detail if you can not find it in the available information.\n",
    "    4. Output metadata ONLY, skip explanation.\n",
    "    \"\"\"\n",
    "\n",
    "    agent = Agent(model=bedrock_model,\n",
    "                  tools=[create_metadata, enhance_metadata],\n",
    "                  system_prompt=ANSWER_SYSTEM_PROMPT)\n",
    "\n",
    "    return agent(query)"
   ]
  },
  {
   "cell_type": "code",
   "execution_count": 64,
   "id": "5c9c9faf",
   "metadata": {},
   "outputs": [
    {
     "name": "stdout",
     "output_type": "stream",
     "text": [
      "📈 Synopsis agent creating ...\n",
      "\n",
      "Tool #143: create_metadata\n",
      "\n",
      "Tool #145: create_metadata\n",
      "\n",
      "Tool #147: create_metadata\n",
      "\n",
      "Tool #149: create_metadata\n",
      "{\n",
      "    \"description\": \"👻 Something spooky is happening at El Matador beach! Watch @KevinKilner as Captain Foster investigate mysterious disappearances in 'Meridian' (2016), featuring @ReidScott as Detective Sullivan and @ELevesque as the enigmatic woman in white. Don't miss this supernatural thriller! #Meridian #Supernatural\"\n",
      "}"
     ]
    },
    {
     "data": {
      "text/plain": [
       "AgentResult(stop_reason='end_turn', message={'role': 'assistant', 'content': []}, metrics=EventLoopMetrics(cycle_count=2, tool_metrics={'create_metadata': ToolMetrics(tool={'toolUseId': 'tooluse_Fn1tb9LXSS-4bOMWMZJQWQ', 'name': 'create_metadata', 'input': {'video_analysis': '{\\'visual_summary\\': \\'In a series of mysterious disappearances near El Matador beach, Captain Foster of the LAPD investigates the vanishing of Detective Sullivan and several other men. The cases share an eerie connection to a distinctive rock formation where the ocean meets the shore, described as resembling a mythic sea creature.\\n\\nThe investigation reveals that unlike previous incidents in the area, which were associated with mob activity under Mickey Cohen, these disappearances involve seemingly ordinary men - a school teacher, an insurance salesman, and a retiree. The only common thread among them is that they were all divorced, with minimal criminal history aside from one old DUI case.\\n\\nWhile some suggest suicide as an explanation, the absence of bodies and a credible witness account points to something more mysterious. The witness, described as a trustworthy \"Eagle Scout,\" reported a disturbing incident while walking his dog along the bluffs above El Matador. He observed a man peculiarly searching the large rock formation, apparently looking for something or someone. Suddenly, unprecedented weather conditions emerged - darkness fell rapidly, accompanied by thunder and lightning.\\n\\nWhen the witness looked back at the rock, the man had vanished. In his place stood a woman in a white dress with alabaster skin, described as beautiful but otherworldly, as if from another time and place. She was seen staring directly at the witness before he fled from the intensifying storm. This testimony, though initially dismissed as outlandish, has become a crucial element in understanding these unexplained disappearances.\\'}', 'additional_info': 'This clip is from the film \"Meridian\" (2016). The clip features Kevin Kilner as Captain Foster investigating mysterious disappearances near a beach, with Reid Scott as Detective Sullivan and Elyse Levesque as the mysterious woman.', 'requirements': '\"Description must be less than 75 words\",\\n\"Description must follow Hook + Main Point + Call-to-action format\",\\n\"Must include film name, cast, and roles (for Films) or venue name, teams, and athletes (for Sports)\",\\n\"Must use casual tone\",\\n\"Must include 2-3 hashtags\",\\n\"Must include relevant @mentions\",\\n\"Emoji usage when applicable\"', 'output': '{\\n    \"description\": \"👻 Something spooky is happening at El Matador beach! Watch @KevinKilner as Captain Foster investigate mysterious disappearances in \\'Meridian\\' (2016), featuring @ReidScott as Detective Sullivan and @ELevesque as the enigmatic woman in white. Don\\'t miss this supernatural thriller! #Meridian #Supernatural\"\\n}'}}, call_count=1, success_count=1, error_count=0, total_time=2.233366012573242)}, cycle_durations=[1.7024168968200684], traces=[<strands.telemetry.metrics.Trace object at 0x120876a30>, <strands.telemetry.metrics.Trace object at 0x34749f9d0>], accumulated_usage={'inputTokens': 5894, 'outputTokens': 106, 'totalTokens': 6000}, accumulated_metrics={'latencyMs': 20757}), state={})"
      ]
     },
     "execution_count": 64,
     "metadata": {},
     "output_type": "execute_result"
    }
   ],
   "source": [
    "test_input = \"\"\"\n",
    "Here is the raw video analysis:\n",
    "{'visual_summary': 'In a series of mysterious disappearances near El Matador beach, Captain Foster of the LAPD investigates the vanishing of Detective Sullivan and several other men. The cases share an eerie connection to a distinctive rock formation where the ocean meets the shore, described as resembling a mythic sea creature.\\n\\nThe investigation reveals that unlike previous incidents in the area, which were associated with mob activity under Mickey Cohen, these disappearances involve seemingly ordinary men - a school teacher, an insurance salesman, and a retiree. The only common thread among them is that they were all divorced, with minimal criminal history aside from one old DUI case.\\n\\nWhile some suggest suicide as an explanation, the absence of bodies and a credible witness account points to something more mysterious. The witness, described as a trustworthy \"Eagle Scout,\" reported a disturbing incident while walking his dog along the bluffs above El Matador. He observed a man peculiarly searching the large rock formation, apparently looking for something or someone. Suddenly, unprecedented weather conditions emerged - darkness fell rapidly, accompanied by thunder and lightning.\\n\\nWhen the witness looked back at the rock, the man had vanished. In his place stood a woman in a white dress with alabaster skin, described as beautiful but otherworldly, as if from another time and place. She was seen staring directly at the witness before he fled from the intensifying storm. This testimony, though initially dismissed as outlandish, has become a crucial element in understanding these unexplained disappearances.',\n",
    " 'audio_transcription': \"   [spk_0]: So these guys just disappeared. [spk_1]: Yeah, on that stretch of road right above El Matador. You know it. With the big rock, that's right,\\n\\n[spk_2]: yeah. You know, Mickey Cohen used to take his associates out there, get him a bond voyage.\\n\\n[spk_1]: Mob heads? No, not this time. One of these guys was a school teacher. Next guy, he sold insurance, and the last guy, he was retired. Any connection? Mm. I mean, I checked them all out. There's no criminal records, no association in any criminal organizations. One of the guys was arrested for drunk driving a long time ago. They were all divorced.\\n\\n[spk_2]: Well, in that case, maybe you don't want to go out there, boss.\\n\\n[spk_1]: What are you, a comedian? If that's the case, you sure don't want to go out there.\\n\\n[spk_2]: Yeah, look, I know what happened, all right? They go out to the rock, they take that long, cold, slow swim to\\n\\n[spk_1]: China. Suicide.\\n\\n[spk_2]: It's been known to happen out there.\\n\\n[spk_1]: Uh, not this time. What do you mean? Well, for one thing, there's no bodies, and Somebody was out there the day the last guy disappeared.\\n\\n[spk_2]: A witness,\\n\\n[spk_1]: yeah, a witness.\\n\\n[spk_2]: Why didn't you say that in the first place?\\n\\n[spk_1]: Because I thought the guy was nuts, what he said.\\n\\n[spk_2]: But now you believe him.\\n\\n[spk_1]: I had him checked out too. The guy's a goddamn Eagle Scout. So now, now I don't know what to believe. I know I don't want to believe him.\\n\\n[spk_2]: What did he say?\\n\\n[spk_1]: He said he was out there walking his dog along the bluffs above El Matador, right? And he looks down at the beach at that huge rock, you know, the one that's separated from the mainland right where the ocean meets the shore. His words looks like a, like a mythic sea creature, you know that one. Anyway, he looks down there and there's a guy who's on top of that rock, and he's thinking to himself, how the hell do you get up there? You gotta be a goddamn mountain climber. But more importantly, he says the guy's acting really funny. He's looking all over that rock like he's looking for something or someone. At that very moment, he says it got really, really dark, really fast, and bombs start going off in the air, thunder and lightning, weather like he'd never seen before coming from he didn't know where. When he looks back at the rock, the guy's gone. But there's a woman there. She's in a white dress, alabaster skin, his words, and he says she's staring right up at him. He sees her, she's beautiful. But like she's from some other time, some other place. He looks back at the weather cause it's getting worse and worse. He decides to hightail it out of there. And that was it. That was his story, right? [spk_1]: So now Now I need you to go up there and find that woman. [spk_0]: So these guys just disappear.\\n\\n[spk_1]: No, not this time. Somebody was out there the day the last guy disappeared. A witness, yeah, a witness. He said that he was up there walking his dog along those bluffs above El Matador, and there's a guy who's on top of that rock. He's just like looking all over the rock as if he's looking for someone or something. Then it gets dark all of a sudden, really fast. Like thunder and lightning from everywhere, all this weather. When he looks back at the rock, the guy's gone, but there's a woman there in a long white dress with alabaster skin. And she's staring right up at him, not moving. Now I don't know what to [spk_1]: I know I sure don't want to believe him.   [spk_3]: Yeah, dispatch. This is Captain Foster. I'm out here at the El Matador location. There's no sign of Detective Sullivan. Now what's this car. Listen, I'm gonna take a look around before you send anybody out here, so. Hang on a minute.\\n\\n[spk_4]: Captain Foster, [spk_4]: you come in please. Captain Foster I. LAPD, put your hands in the air. Put your hands up now. Hm    \",\n",
    " 'metadata': {'asset_id': '0',\n",
    "  'semantic_modality': 'VIDEO',\n",
    "  's3_bucket': 'sagemaker-us-west-2-376678947624',\n",
    "  's3_key': 'media-operations-agent-claude/NetflixMeridian.mp4',\n",
    "  'format': 'QuickTime / MOV',\n",
    "  'frame_rate': 29.97,\n",
    "  'codec': 'h264',\n",
    "  'duration_millis': 718918,\n",
    "  'frame_width': 1280,\n",
    "  'frame_height': 720}}\n",
    "\n",
    "Here is additional information found:\n",
    "This clip is from the film \"Meridian\" (2016). The clip features Kevin Kilner as Captain Foster investigating mysterious disappearances near a beach, with Reid Scott as Detective Sullivan and Elyse Levesque as the mysterious woman.\n",
    "\n",
    "Here is the requirements: \n",
    "  \"Description must be less than 75 words\",\n",
    "  \"Description must follow Hook + Main Point + Call-to-action format\",\n",
    "  \"Must include film name, cast, and roles (for Films) or venue name, teams, and athletes (for Sports)\",\n",
    "  \"Must use casual tone\",\n",
    "  \"Must include 2-3 hashtags\",\n",
    "  \"Must include relevant @mentions\",\n",
    "  \"Emoji usage when applicable\"\n",
    "\n",
    "Here is the output format:\n",
    "  {\n",
    "      \"description\": \"[Insert Social Media Copy]\"\n",
    "  }\n",
    "\"\"\"\n",
    "\n",
    "synopsis_agent(test_input)"
   ]
  },
  {
   "cell_type": "markdown",
   "id": "d8de793b",
   "metadata": {},
   "source": [
    "### QC Agent"
   ]
  },
  {
   "cell_type": "code",
   "execution_count": 71,
   "id": "e22b86e8",
   "metadata": {},
   "outputs": [],
   "source": [
    "@tool\n",
    "def qc_agent(query: str) -> str:\n",
    "    \"\"\"QC check video metadata against the requirements and expected output schema.\"\"\"\n",
    "    print(\"✅ QC agent reviewing...\")\n",
    "\n",
    "    @tool\n",
    "    def word_count(text: str) -> int:\n",
    "        \"\"\"Count words in text.\n",
    "\n",
    "        This docstring is used by the LLM to understand the tool's purpose.\n",
    "        \"\"\"      \n",
    "        return len(text.split())\n",
    "    \n",
    "    # System prompt for generating answers from retrieved information\n",
    "    ANSWER_SYSTEM_PROMPT = \"\"\"\n",
    "    You are a Quality Check (QC) Agent, You task is to conduct a thorough review of the video\n",
    "    metadata against requirements and expected output format. Report hard requirement violations as feedback.\n",
    "    \n",
    "    Core behavior:\n",
    "    1. You should always review base on available information, do not manufacture facts on your own. \n",
    "    2. You should always provide clear, direct answers and present information in a easy-to-understand manner.\n",
    "    3. Do not ask user for additioanl detail if you can not find it in the available information.\n",
    "    4. Only report hard requirement violations as feedback. If None, just say \"Pass\". Skip any explanation.\n",
    "    \"\"\"\n",
    "\n",
    "    agent = Agent(model=bedrock_model,\n",
    "                  tools=[word_count],\n",
    "                  system_prompt=ANSWER_SYSTEM_PROMPT)\n",
    "\n",
    "    return agent(query)"
   ]
  },
  {
   "cell_type": "code",
   "execution_count": 72,
   "id": "941977b6",
   "metadata": {},
   "outputs": [
    {
     "name": "stdout",
     "output_type": "stream",
     "text": [
      "✅ QC agent reviewing...\n",
      "Let me check the word count first and then review against all requirements.\n",
      "Tool #232: word_count\n",
      "\n",
      "\n",
      "Pass\n",
      "\n",
      "The metadata meets all requirements:\n",
      "1. Word count is 40 (under 75)\n",
      "2. Has Hook (spooky happening), Main Point (movie plot), and CTA (Don't miss)\n",
      "3. Includes film name (Meridian), cast (@KevinKilner, @ReidScott, @ELevesque) and roles (Captain Foster, Detective Sullivan, woman in white)\n",
      "4. Uses casual tone\n",
      "5. Has 2 hashtags (#Meridian #Supernatural)\n",
      "6. Includes 3 @mentions\n",
      "7. Uses emoji (👻)\n",
      "8. Follows correct output format"
     ]
    },
    {
     "data": {
      "text/plain": [
       "AgentResult(stop_reason='end_turn', message={'role': 'assistant', 'content': [{'text': \"\\n\\nPass\\n\\nThe metadata meets all requirements:\\n1. Word count is 40 (under 75)\\n2. Has Hook (spooky happening), Main Point (movie plot), and CTA (Don't miss)\\n3. Includes film name (Meridian), cast (@KevinKilner, @ReidScott, @ELevesque) and roles (Captain Foster, Detective Sullivan, woman in white)\\n4. Uses casual tone\\n5. Has 2 hashtags (#Meridian #Supernatural)\\n6. Includes 3 @mentions\\n7. Uses emoji (👻)\\n8. Follows correct output format\"}]}, metrics=EventLoopMetrics(cycle_count=2, tool_metrics={'word_count': ToolMetrics(tool={'toolUseId': 'tooluse_qPJz0uTgTh6xcZpc_8H0rQ', 'name': 'word_count', 'input': {'text': \"👻 Something spooky is happening at El Matador beach! Watch @KevinKilner as Captain Foster investigate mysterious disappearances in 'Meridian' (2016), featuring @ReidScott as Detective Sullivan and @ELevesque as the enigmatic woman in white. Don't miss this supernatural thriller! #Meridian #Supernatural\"}}, call_count=1, success_count=1, error_count=0, total_time=0.0003459453582763672)}, cycle_durations=[4.379025936126709], traces=[<strands.telemetry.metrics.Trace object at 0x3b9816350>, <strands.telemetry.metrics.Trace object at 0x3b9816d50>], accumulated_usage={'inputTokens': 1695, 'outputTokens': 206, 'totalTokens': 1901}, accumulated_metrics={'latencyMs': 7432}), state={})"
      ]
     },
     "execution_count": 72,
     "metadata": {},
     "output_type": "execute_result"
    }
   ],
   "source": [
    "test_input = \"\"\"\n",
    "Here is the metadata:\n",
    "{\n",
    "    \"description\": \"👻 Something spooky is happening at El Matador beach! Watch @KevinKilner as Captain Foster investigate mysterious disappearances in 'Meridian' (2016), featuring @ReidScott as Detective Sullivan and @ELevesque as the enigmatic woman in white. Don't miss this supernatural thriller! #Meridian #Supernatural\"\n",
    "}\n",
    "\n",
    "Here is the requirements:\n",
    "  \"Description must be less than 75 words\",\n",
    "  \"Description must follow Hook + Main Point + Call-to-action format\",\n",
    "  \"Must include film name, cast, and roles (for Films) or venue name, teams, and athletes (for Sports)\",\n",
    "  \"Must use casual tone\",\n",
    "  \"Must include 2-3 hashtags\",\n",
    "  \"Must include relevant @mentions\",\n",
    "  \"Emoji usage when applicable\" \n",
    "\n",
    "Here is the output format:\n",
    "  {\n",
    "      \"description\": \"[Insert Social Media Copy]\"\n",
    "  }\n",
    "\"\"\"\n",
    "\n",
    "qc_agent(test_input)"
   ]
  },
  {
   "cell_type": "markdown",
   "id": "4ce74d4e",
   "metadata": {},
   "source": [
    "### Supervisor Agent"
   ]
  },
  {
   "cell_type": "code",
   "execution_count": 76,
   "id": "f3fdaf25",
   "metadata": {},
   "outputs": [],
   "source": [
    "# Level 1 - Executive Coordinator\n",
    "COORDINATOR_SYSTEM_PROMPT = \"\"\"\n",
    "You are an executive coordinator who oversees complex analyses across multiple domains.\n",
    "For compliance questions, use compliance_analyzer tool.\n",
    "For metadata generataion and enhancement, use synopsis_agent tool.\n",
    "For quality check, use qc_agent tool.\n",
    "\n",
    "You process should be:\n",
    "1. analyze the raw video analysis and additional info to determine what type of video (e.g.: Film or Sports)\n",
    "2. get the compliance requirements and output format base on the user define task\n",
    "3. generate or enhacement video metadata base on the requirements and ouptut format.\n",
    "4. repeat step 3 until you pass the quality check.\n",
    "5. return the final metadata in the compliant JSON output format. Skip any explanation\n",
    "\"\"\""
   ]
  },
  {
   "cell_type": "code",
   "execution_count": 77,
   "id": "8ef944a4",
   "metadata": {},
   "outputs": [],
   "source": [
    "# Create the coordinator agent with all tools\n",
    "supervisor = Agent(\n",
    "    model=bedrock_model,\n",
    "    system_prompt=COORDINATOR_SYSTEM_PROMPT,\n",
    "    tools=[compliance_analyzer, synopsis_agent, qc_agent],\n",
    "    callback_handler=None\n",
    ")\n"
   ]
  },
  {
   "cell_type": "code",
   "execution_count": 110,
   "id": "33e5545d",
   "metadata": {},
   "outputs": [
    {
     "name": "stdout",
     "output_type": "stream",
     "text": [
      "📈 Synopsis agent creating ...\n",
      "\n",
      "Tool #307: create_metadata\n",
      "Meridian\n",
      "\n",
      "When a routine beach patrol turns into a supernatural enigma, Captain Foster (Kevin Kilner) finds himself drawn into a mysterious case at the scenic El Matador Beach. After discovering inexplicable phenomena along the shoreline, he partners with the determined Detective Sullivan (Reid Scott) to unravel a series of otherworldly events that defy explanation.\n",
      "\n",
      "Their investigation takes an unexpected turn when they encounter a enigmatic woman (Elyse Levesque) whose presence seems intrinsically linked to the beach's growing mysteries. As the boundaries between natural and supernatural blur, they must race against time to uncover the truth behind the forces at work on these haunting shores.\n",
      "\n",
      "Ready to dive into a supernatural mystery that will challenge everything you believe? Watch Meridian now and discover what lies beneath the surface of El Matador Beach.✅ QC agent reviewing...\n",
      "Let me check the word count requirements for the description.\n",
      "Tool #308: word_count\n",
      "\n",
      "\n",
      "Pass"
     ]
    },
    {
     "data": {
      "text/plain": [
       "{'title': \"Mysterious Disappearances Haunt El Matador Beach in 'Meridian'\",\n",
       " 'description': \"When a series of inexplicable disappearances plague the iconic El Matador Beach, LAPD Captain Foster (Kevin Kilner) finds himself drawn into a supernatural mystery that defies explanation. After his partner Detective Sullivan (Reid Scott) vanishes while investigating the case, Foster discovers an unsettling pattern connecting the missing men to a mysterious rock formation where the ocean meets the shore.\\n\\n    As the investigation deepens, a credible witness reports encountering an otherworldly woman (Elyse Levesque) in a white dress, whose ethereal presence may hold the key to the disappearances. With each new revelation, Captain Foster must confront the possibility that something beyond the natural world is at work on this stretch of California coastline.\\n\\n    Experience this gripping supernatural thriller that blends police procedural with otherworldly mystery. Stream 'Meridian' now and uncover the truth behind the haunting presence at El Matador Beach.\"}"
      ]
     },
     "execution_count": 110,
     "metadata": {},
     "output_type": "execute_result"
    }
   ],
   "source": [
    "task = \"company websit post\" # \"social media post\"\n",
    "test_input=\"\"\"\n",
    "The task is to create a compliant {TASK} for the following video\n",
    "\n",
    "Here is the raw video analysis:\n",
    "{'visual_summary': 'In a series of mysterious disappearances near El Matador beach, Captain Foster of the LAPD investigates the vanishing of Detective Sullivan and several other men. The cases share an eerie connection to a distinctive rock formation where the ocean meets the shore, described as resembling a mythic sea creature.\\n\\nThe investigation reveals that unlike previous incidents in the area, which were associated with mob activity under Mickey Cohen, these disappearances involve seemingly ordinary men - a school teacher, an insurance salesman, and a retiree. The only common thread among them is that they were all divorced, with minimal criminal history aside from one old DUI case.\\n\\nWhile some suggest suicide as an explanation, the absence of bodies and a credible witness account points to something more mysterious. The witness, described as a trustworthy \"Eagle Scout,\" reported a disturbing incident while walking his dog along the bluffs above El Matador. He observed a man peculiarly searching the large rock formation, apparently looking for something or someone. Suddenly, unprecedented weather conditions emerged - darkness fell rapidly, accompanied by thunder and lightning.\\n\\nWhen the witness looked back at the rock, the man had vanished. In his place stood a woman in a white dress with alabaster skin, described as beautiful but otherworldly, as if from another time and place. She was seen staring directly at the witness before he fled from the intensifying storm. This testimony, though initially dismissed as outlandish, has become a crucial element in understanding these unexplained disappearances.',\n",
    " 'audio_transcription': \"   [spk_0]: So these guys just disappeared. [spk_1]: Yeah, on that stretch of road right above El Matador. You know it. With the big rock, that's right,\\n\\n[spk_2]: yeah. You know, Mickey Cohen used to take his associates out there, get him a bond voyage.\\n\\n[spk_1]: Mob heads? No, not this time. One of these guys was a school teacher. Next guy, he sold insurance, and the last guy, he was retired. Any connection? Mm. I mean, I checked them all out. There's no criminal records, no association in any criminal organizations. One of the guys was arrested for drunk driving a long time ago. They were all divorced.\\n\\n[spk_2]: Well, in that case, maybe you don't want to go out there, boss.\\n\\n[spk_1]: What are you, a comedian? If that's the case, you sure don't want to go out there.\\n\\n[spk_2]: Yeah, look, I know what happened, all right? They go out to the rock, they take that long, cold, slow swim to\\n\\n[spk_1]: China. Suicide.\\n\\n[spk_2]: It's been known to happen out there.\\n\\n[spk_1]: Uh, not this time. What do you mean? Well, for one thing, there's no bodies, and Somebody was out there the day the last guy disappeared.\\n\\n[spk_2]: A witness,\\n\\n[spk_1]: yeah, a witness.\\n\\n[spk_2]: Why didn't you say that in the first place?\\n\\n[spk_1]: Because I thought the guy was nuts, what he said.\\n\\n[spk_2]: But now you believe him.\\n\\n[spk_1]: I had him checked out too. The guy's a goddamn Eagle Scout. So now, now I don't know what to believe. I know I don't want to believe him.\\n\\n[spk_2]: What did he say?\\n\\n[spk_1]: He said he was out there walking his dog along the bluffs above El Matador, right? And he looks down at the beach at that huge rock, you know, the one that's separated from the mainland right where the ocean meets the shore. His words looks like a, like a mythic sea creature, you know that one. Anyway, he looks down there and there's a guy who's on top of that rock, and he's thinking to himself, how the hell do you get up there? You gotta be a goddamn mountain climber. But more importantly, he says the guy's acting really funny. He's looking all over that rock like he's looking for something or someone. At that very moment, he says it got really, really dark, really fast, and bombs start going off in the air, thunder and lightning, weather like he'd never seen before coming from he didn't know where. When he looks back at the rock, the guy's gone. But there's a woman there. She's in a white dress, alabaster skin, his words, and he says she's staring right up at him. He sees her, she's beautiful. But like she's from some other time, some other place. He looks back at the weather cause it's getting worse and worse. He decides to hightail it out of there. And that was it. That was his story, right? [spk_1]: So now Now I need you to go up there and find that woman. [spk_0]: So these guys just disappear.\\n\\n[spk_1]: No, not this time. Somebody was out there the day the last guy disappeared. A witness, yeah, a witness. He said that he was up there walking his dog along those bluffs above El Matador, and there's a guy who's on top of that rock. He's just like looking all over the rock as if he's looking for someone or something. Then it gets dark all of a sudden, really fast. Like thunder and lightning from everywhere, all this weather. When he looks back at the rock, the guy's gone, but there's a woman there in a long white dress with alabaster skin. And she's staring right up at him, not moving. Now I don't know what to [spk_1]: I know I sure don't want to believe him.   [spk_3]: Yeah, dispatch. This is Captain Foster. I'm out here at the El Matador location. There's no sign of Detective Sullivan. Now what's this car. Listen, I'm gonna take a look around before you send anybody out here, so. Hang on a minute.\\n\\n[spk_4]: Captain Foster, [spk_4]: you come in please. Captain Foster I. LAPD, put your hands in the air. Put your hands up now. Hm    \",\n",
    " 'metadata': {'asset_id': '0',\n",
    "  'semantic_modality': 'VIDEO',\n",
    "  's3_bucket': 'sagemaker-us-west-2-376678947624',\n",
    "  's3_key': 'media-operations-agent-claude/NetflixMeridian.mp4',\n",
    "  'format': 'QuickTime / MOV',\n",
    "  'frame_rate': 29.97,\n",
    "  'codec': 'h264',\n",
    "  'duration_millis': 718918,\n",
    "  'frame_width': 1280,\n",
    "  'frame_height': 720}}\n",
    "\n",
    "Here is additional information found:\n",
    "This clip is from the film \"Meridian\" (2016). The clip features Kevin Kilner as Captain Foster investigating mysterious disappearances near a beach, with Reid Scott as Detective Sullivan and Elyse Levesque as the mysterious woman.\n",
    "\"\"\".replace(\"{TASK}\", task)\n",
    "output = supervisor(test_input)\n",
    "\n",
    "json_output = json_repair.loads(output.message['content'][0]['text'])\n",
    "json_output"
   ]
  },
  {
   "cell_type": "markdown",
   "id": "3a389110",
   "metadata": {},
   "source": [
    "### Clean Up"
   ]
  },
  {
   "cell_type": "code",
   "execution_count": 111,
   "id": "2bbcfc67",
   "metadata": {},
   "outputs": [
    {
     "name": "stdout",
     "output_type": "stream",
     "text": [
      "Data Source deleted successfully!\n",
      "Knowledge Base deleted successfully!\n",
      "'NoneType' object has no attribute 'indices'\n",
      "OpenSource Collection Index deleted successfully!\n",
      "OpenSource Serveless access policy deleted successfully!\n",
      "OpenSource Serveless network policy deleted successfully!\n",
      "OpenSource Serveless encryption policy deleted successfully!\n",
      "Knowledge Base S3 bucket deleted successfully!\n",
      "Knowledge Base Roles and Policies deleted successfully!\n",
      "Resources deleted successfully!\n"
     ]
    }
   ],
   "source": [
    "kb.delete_kb(knowledge_base_name)"
   ]
  },
  {
   "cell_type": "code",
   "execution_count": null,
   "id": "20be9742",
   "metadata": {},
   "outputs": [],
   "source": []
  }
 ],
 "metadata": {
  "kernelspec": {
   "display_name": ".venv",
   "language": "python",
   "name": "python3"
  },
  "language_info": {
   "codemirror_mode": {
    "name": "ipython",
    "version": 3
   },
   "file_extension": ".py",
   "mimetype": "text/x-python",
   "name": "python",
   "nbconvert_exporter": "python",
   "pygments_lexer": "ipython3",
   "version": "3.13.3"
  }
 },
 "nbformat": 4,
 "nbformat_minor": 5
}
