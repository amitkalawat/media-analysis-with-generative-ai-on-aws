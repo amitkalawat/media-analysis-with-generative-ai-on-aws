{
 "cells": [
  {
   "cell_type": "markdown",
   "metadata": {},
   "source": [
    "# Cleanup\n",
    "\n",
    "This notebook demonstrates how to clean up all the resources created in the previous set of notebooks."
   ]
  },
  {
   "cell_type": "code",
   "execution_count": null,
   "metadata": {
    "vscode": {
     "languageId": "plaintext"
    }
   },
   "outputs": [],
   "source": [
    "%store -r"
   ]
  },
  {
   "cell_type": "markdown",
   "metadata": {},
   "source": [
    "To delete an S3 bucket, it first needs to be empty. "
   ]
  },
  {
   "cell_type": "code",
   "execution_count": null,
   "metadata": {
    "vscode": {
     "languageId": "plaintext"
    }
   },
   "outputs": [],
   "source": [
    "bucket = session['bucket']\n",
    "# add code here to delete the objects from the bucket"
   ]
  },
  {
   "cell_type": "markdown",
   "metadata": {},
   "source": [
    "To delete a Space from a Sagemaker Studio Domain, all apps in the space need to be stopped.  \n",
    "\n",
    "1. Navigate to SageMaker Studio and open the Jupyter app\n",
    "2. Click on the `Stop` button next to the Space for the app."
   ]
  },
  {
   "cell_type": "markdown",
   "metadata": {},
   "source": [
    "Now that the S3 bucket and the space are in the correct state, you can navigate to your CloudFormation console and delete the CloudFormation stack that you deployed for this workshop."
   ]
  }
 ],
 "metadata": {
  "language_info": {
   "name": "python"
  }
 },
 "nbformat": 4,
 "nbformat_minor": 2
}
