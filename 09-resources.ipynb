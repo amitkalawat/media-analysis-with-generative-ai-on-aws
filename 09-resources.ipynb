{
 "cells": [
  {
   "cell_type": "markdown",
   "metadata": {
    "editable": true,
    "slideshow": {
     "slide_type": ""
    },
    "tags": []
   },
   "source": [
    "# Additional Resources\n",
    "\n",
    "## Media2Cloud\n",
    "\n",
    "- [Media2Cloud Solution Guidance](https://github.com/aws-solutions-library-samples/guidance-for-media2cloud-on-aws)\n",
    "\n",
    "- [Blog post: The next generation of media intelligence with Guidance for Media2Cloud on AWS version 4.0](https://aws.amazon.com/blogs/media/the-next-generation-of-media-intelligence-with-media2cloud-4-0/)\n",
    "\n",
    "## Contextual Advertising\n",
    "\n",
    "- This workflow is part of Media2Cloud V4\n",
    "- [Blog post: Media2Cloud on AWS Guidance: Scene and ad-break detection and contextual understanding for advertising using generative AI](https://aws.amazon.com/blogs/media/media2cloud-on-aws-guidance-scene-and-ad-break-detection-and-contextual-understanding-for-advertising-using-generative-ai/)\n",
    "\n",
    "## Video Summarization\n",
    "\n",
    "- [AWS Solution Library: Guidance for Video Summarization using Amazon SageMaker and AI Services](https://aws.amazon.com/solutions/guidance/video-summarization-using-amazon-sagemaker-and-ai-services/)\n",
    "- [Blog post: Video summarization with AWS artificial intelligence (AI) and machine learning (ML) services](https://aws.amazon.com/blogs/media/video-summarization-with-aws-artificial-intelligence-ai-and-machine-learning-ml-services/)\n",
    "- [AWS Samples project on GitHub](https://github.com/aws-samples/video-summarization-with-aws-ai-ml-services)\n",
    "\n",
    "## Semantic Video Search\n",
    "\n",
    "- [AWS Solution Library: Guidance for Semantic Video Search on AWS](https://aws.amazon.com/solutions/guidance/semantic-video-search-on-aws/)\n",
    "- [AWS Samples project on GitHub](https://github.com/aws-samples/video-semantic-search-with-aws-ai-ml-services/)\n",
    "- [Blog post: Create a multimodal assistant with advanced RAG and Amazon Bedrock](https://aws.amazon.com/blogs/machine-learning/create-a-multimodal-assistant-with-advanced-rag-and-amazon-bedrock/)\n",
    "\n",
    "## Video Understanding with Generative AI on AWS (this workshop)\n",
    "\n",
    "- [AWS Samples on GitHub](https://github.com/aws-samples/media-analysis-with-generative-ai-on-aws)\n"
   ]
  },
  {
   "cell_type": "markdown",
   "metadata": {
    "editable": true,
    "slideshow": {
     "slide_type": ""
    },
    "tags": []
   },
   "source": [
    "# What's Next?\n",
    "\n",
    "If you are running this workshop in your own account, make sure to follow the instructions in the [Cleanup](10-cleanup.ipynb) lab to clean up resources that were created during this workshop."
   ]
  },
  {
   "cell_type": "code",
   "execution_count": null,
   "metadata": {
    "editable": true,
    "slideshow": {
     "slide_type": ""
    },
    "tags": []
   },
   "outputs": [],
   "source": []
  }
 ],
 "metadata": {
  "kernelspec": {
   "display_name": "Python 3 (ipykernel)",
   "language": "python",
   "name": "python3"
  },
  "language_info": {
   "codemirror_mode": {
    "name": "ipython",
    "version": 3
   },
   "file_extension": ".py",
   "mimetype": "text/x-python",
   "name": "python",
   "nbconvert_exporter": "python",
   "pygments_lexer": "ipython3",
   "version": "3.11.10"
  }
 },
 "nbformat": 4,
 "nbformat_minor": 4
}
