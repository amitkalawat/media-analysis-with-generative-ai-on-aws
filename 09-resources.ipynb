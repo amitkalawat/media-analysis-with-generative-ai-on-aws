{
 "cells": [
  {
   "cell_type": "markdown",
   "metadata": {},
   "source": [
    "# References for further learning\n",
    "\n",
    "* [Media2Cloud Solution V4 Solution Guidance on GitHub](https://github.com/aws-solutions-library-samples/guidance-for-media2cloud-on-aws)\n",
    "* [Rekognition Video Segmentation API code sample](https://github.com/aws-samples/amazon-rekognition-code-samples/blob/main/rekognition-apis/6-video-segment-detection.ipynb)\n",
    "* [Amazon Bedrock Workshop](https://github.com/aws-samples/amazon-bedrock-workshop)\n"
   ]
  },
  {
   "cell_type": "markdown",
   "metadata": {},
   "source": []
  },
  {
   "cell_type": "code",
   "execution_count": null,
   "metadata": {},
   "outputs": [],
   "source": []
  }
 ],
 "metadata": {
  "language_info": {
   "name": "python"
  }
 },
 "nbformat": 4,
 "nbformat_minor": 2
}
